{
 "cells": [
  {
   "cell_type": "markdown",
   "id": "8cf98a9a-76b0-4cd4-9278-dd5337874791",
   "metadata": {},
   "source": [
    "# Métricas de Regresión"
   ]
  },
  {
   "cell_type": "markdown",
   "id": "facd0224-6e1d-4595-936c-c85b4de435ae",
   "metadata": {},
   "source": [
    "En el presente notebook, se analizarán distintas métricas que nor sirven para medir el nivel de rendimiento y funcionamiento de modelos de regresión. Recordemos que los algoritmos de regresión (como la regresión lineal) son aquellos que, básicamente, en función de una serie de valores o variables independientes (pueden ser una o más), nos permiten predecir un valor o variable objetivo, también conocida como variable dependiente.\n",
    "\n",
    "La diferencia entre en valor predicho por nuestro modelo y el valor real es lo que se conoce como **error o residuo**."
   ]
  },
  {
   "cell_type": "markdown",
   "id": "3364aa8d-ef6a-4713-95fd-0c27e7185355",
   "metadata": {},
   "source": [
    "![Metricas para regresion](./img/metrica_regresion1.png)"
   ]
  },
  {
   "cell_type": "markdown",
   "id": "a01aac95-e5e3-435e-a2f9-a997959a7715",
   "metadata": {},
   "source": [
    "## Error Absoluto Máximo (M)"
   ]
  },
  {
   "cell_type": "markdown",
   "id": "864cfd1c-81b6-4ca0-88e0-b1649f8527d1",
   "metadata": {},
   "source": [
    "El **Error Absoluto Máximo (MAE)** es una métrica que mide la diferencia entre las predicciones de un modelo y los valores reales, pero de forma que considera el valor más grande entre todas las diferencias absolutas.\n",
    "\n",
    "La fórmula para el **Error Absoluto Máximo (Maximal Absolute Error)** es:\n",
    "\n",
    "$E_{\\text{max}} = \\max \\left( |y_i - \\hat{y}_i| \\right)$\n",
    "\n",
    "donde:\n",
    "\n",
    "- $y_i$ es el valor real (o verdadero) de la \\(i\\)-ésima observación.\n",
    "- $\\hat{y}_i$ es el valor predicho por el modelo para la \\(i\\)-ésima observación.\n",
    "- $\\max$ representa el valor máximo entre todas las diferencias absolutas $ |y_i - \\hat{y}_i| $.\n",
    "\n",
    "\n",
    "El **Error Absoluto Máximo (E_max)** nos da el valor de la mayor discrepancia entre las predicciones del modelo y los valores reales. Este valor es útil para identificar la peor predicción en un conjunto de datos.\n"
   ]
  },
  {
   "cell_type": "code",
   "execution_count": 1,
   "id": "c028f532-cd77-48ae-80fa-c9c3d6672997",
   "metadata": {},
   "outputs": [],
   "source": [
    "from sklearn.metrics import max_error"
   ]
  },
  {
   "cell_type": "code",
   "execution_count": 2,
   "id": "52b11b02-093c-48fe-bfe7-580c7e6d88e0",
   "metadata": {},
   "outputs": [
    {
     "data": {
      "text/plain": [
       "10"
      ]
     },
     "execution_count": 2,
     "metadata": {},
     "output_type": "execute_result"
    }
   ],
   "source": [
    "y_verdadero = [1, 2, 3, 4, 5]\n",
    "y_predicho = [1, 2, 3, 4, -5]\n",
    "max_error(y_verdadero, y_predicho)"
   ]
  },
  {
   "cell_type": "markdown",
   "id": "5b5e1420-ec37-4268-ac0b-e09a3fdb8888",
   "metadata": {},
   "source": [
    "En este caso, claramente vemos que la diferencia mayor radica en el -5 predicho con respecto al 5 real: $|5 - (-5)| = 10$.\n",
    "\n",
    "Esto en un caso práctico nos serviría para evaluar cuál es el error máximo que puede tener un modelo y saber si este no supera un cierto umbral detemrinado."
   ]
  },
  {
   "cell_type": "markdown",
   "id": "b4d1a368-0508-46f2-9868-896a63facf6f",
   "metadata": {},
   "source": [
    "## Error Absoluto Medio (Absolute Mean Error MAE)"
   ]
  },
  {
   "cell_type": "markdown",
   "id": "039953dd-4674-4387-b31b-d4d4943195ba",
   "metadata": {},
   "source": [
    "El **Error Absoluto Medio (MAE)** es una métrica que mide la media de las diferencias absolutas entre las predicciones y los valores reales. \n",
    "\n",
    "La fórmula para el **Error Absoluto Medio (MAE)** es:\n",
    "\n",
    "$MAE = \\frac{1}{n} \\sum_{i=1}^{n} |y_i - \\hat{y}_i|$\n",
    "\n",
    "donde:\n",
    "\n",
    "- $n$ es el número total de observaciones.\n",
    "- $y_i$ es el valor real (o verdadero) de la \\(i\\)-ésima observación.\n",
    "- $\\hat{y}_i$ es el valor predicho por el modelo para la \\(i\\)-ésima observación.\n",
    "- $|y_i - \\hat{y}_i|$ es la diferencia absoluta entre el valor real y el valor predicho para cada observación.\n",
    "\n",
    "El **Error Absoluto Medio (MAE)** calcula el promedio de las diferencias absolutas entre las predicciones y los valores reales. Esta métrica es fácil de interpretar y no se ve afectada por los valores atípicos de manera tan fuerte como el **Error Cuadrático Medio (MSE)**, aunque no proporciona información sobre la magnitud de los errores en comparación con el **Error Cuadrático Medio**."
   ]
  },
  {
   "cell_type": "code",
   "execution_count": 3,
   "id": "cc96ae42-7ad9-4712-994c-cbccab9ed750",
   "metadata": {},
   "outputs": [],
   "source": [
    "from sklearn.metrics import mean_absolute_error"
   ]
  },
  {
   "cell_type": "code",
   "execution_count": 5,
   "id": "b225bebd-778a-4400-bdb9-cb6ddf622f65",
   "metadata": {},
   "outputs": [
    {
     "data": {
      "text/plain": [
       "2.0"
      ]
     },
     "execution_count": 5,
     "metadata": {},
     "output_type": "execute_result"
    }
   ],
   "source": [
    "y_verdadero = [1, 2, 3, 4, 5]\n",
    "y_predicho = [1, 2, 3, 4, -5]\n",
    "mean_absolute_error(y_verdadero, y_predicho)"
   ]
  },
  {
   "cell_type": "markdown",
   "id": "efa3979c-2126-40d4-8590-60516067e091",
   "metadata": {},
   "source": [
    "## Error Cuadrático Medio (Mean Squared Error MSE)"
   ]
  },
  {
   "cell_type": "markdown",
   "id": "9ed66213-ebb4-4e55-a9a9-9c40dd0a0c86",
   "metadata": {},
   "source": [
    "El **Error Cuadrático Medio (MSE)** es una métrica que mide el promedio de los errores al cuadrar las diferencias entre las predicciones y los valores reales. Es uno de los más ampliamente utilizados en la evaluación de modelos de regresión.\n",
    "\n",
    "La fórmula para el **Error Cuadrático Medio (MSE)** es:\n",
    "\n",
    "$MSE = \\frac{1}{n} \\sum_{i=1}^{n} (y_i - \\hat{y}_i)^2$\n",
    "\n",
    "donde:\n",
    "\n",
    "- $n$ es el número total de observaciones.\n",
    "- $y_i$ es el valor real (o verdadero) de la \\(i\\)-ésima observación.\n",
    "- $\\hat{y}_i$ es el valor predicho por el modelo para la \\(i\\)-ésima observación.\n",
    "- $(y_i - \\hat{y}_i)^2$ es la diferencia al cuadrado entre el valor real y el valor predicho para cada observación.\n",
    "\n",
    "El **Error Cuadrático Medio (MSE)** mide la media de los errores cuadrados, lo que significa que penaliza más fuertemente los errores grandes debido al efecto del cuadrado. Esta métrica es útil cuando queremos minimizar las grandes discrepancias entre las predicciones y los valores reales. Sin embargo, su sensibilidad a los valores atípicos puede hacer que el MSE sea más alto cuando haya grandes errores en las predicciones.\n"
   ]
  },
  {
   "cell_type": "code",
   "execution_count": 6,
   "id": "c33d0118-0266-467b-a5a9-4275f7a57922",
   "metadata": {},
   "outputs": [],
   "source": [
    "from sklearn.metrics import mean_squared_error"
   ]
  },
  {
   "cell_type": "code",
   "execution_count": 7,
   "id": "45dc5987-a591-4ca6-a9b6-24a1f83a8fd1",
   "metadata": {},
   "outputs": [
    {
     "data": {
      "text/plain": [
       "20.0"
      ]
     },
     "execution_count": 7,
     "metadata": {},
     "output_type": "execute_result"
    }
   ],
   "source": [
    "y_verdadero = [1, 2, 3, 4, 5]\n",
    "y_predicho = [1, 2, 3, 4, -5]\n",
    "mean_squared_error(y_verdadero, y_predicho)"
   ]
  },
  {
   "cell_type": "markdown",
   "id": "543df0e7-4ffd-4832-9758-2fd53493b80c",
   "metadata": {},
   "source": [
    "## Suma de los Cuadrados de los residuos (RSS)"
   ]
  },
  {
   "cell_type": "markdown",
   "id": "6205aed8-95ab-4d90-812c-8e3faedbf652",
   "metadata": {},
   "source": [
    "La **Suma de los Cuadrados de los Residuos** (RSS) mide la cantidad total de error en un modelo de regresión. Es la suma de los cuadrados de las diferencias entre los valores reales y las predicciones del modelo. \n",
    "\n",
    "La fórmula para la **Suma de los Cuadrados de los Residuos** (RSS) es:\n",
    "\n",
    "$RSS = \\sum_{i=1}^{n} (y_i - \\hat{y}_i)^2$\n",
    "\n",
    "donde:\n",
    "\n",
    "- $n$ es el número total de observaciones.\n",
    "- $y_i$ es el valor real (o verdadero) de la \\(i\\)-ésima observación.\n",
    "- $\\hat{y}_i$ es el valor predicho por el modelo para la \\(i\\)-ésima observación.\n",
    "- $(y_i - \\hat{y}_i)^2$ es el cuadrado de la diferencia entre el valor real y el valor predicho para la $i$-ésima observación.\n",
    "\n",
    "La **Suma de los Cuadrados de los Residuos (RSS)** nos da una medida de la cantidad total de error (o discrepancia) entre los valores observados y los valores predichos por el modelo. Un RSS más pequeño indica que el modelo ha hecho predicciones más cercanas a los valores reales.\n",
    "\n",
    "Es una de las métricas fundamentales en la evaluación de modelos de regresión, ya que ayuda a entender cuánto \"desajuste\" existe entre las predicciones y los valores reales."
   ]
  },
  {
   "cell_type": "markdown",
   "id": "69c159fe-4d80-4371-af99-ea22a6ec36b1",
   "metadata": {},
   "source": [
    "`scikit-learn` no provee una función directa para aplicar esta métrica, pero se puede calcular aplicando el error cuadrático medio y luego multiplicando ese resultado por la cantidad de observaciones, ya que básicamente la suma de los residuos al cuadrado es como el error cuadrático medio pero sin sacar el promedio (es decir, sin dividir por el número de observaciones)."
   ]
  },
  {
   "cell_type": "code",
   "execution_count": 8,
   "id": "e0a0a670-bedd-46b4-8775-4725bbddb9c3",
   "metadata": {},
   "outputs": [
    {
     "data": {
      "text/plain": [
       "100.0"
      ]
     },
     "execution_count": 8,
     "metadata": {},
     "output_type": "execute_result"
    }
   ],
   "source": [
    "y_verdadero = [1, 2, 3, 4, 5]\n",
    "y_predicho = [1, 2, 3, 4, -5]\n",
    "mean_squared_error(y_verdadero, y_predicho) * len(y_verdadero)"
   ]
  },
  {
   "cell_type": "markdown",
   "id": "3c775aa5-a814-48f6-b694-fc0ab5207c8b",
   "metadata": {},
   "source": [
    "## Raíz Cuadrada del Error Cuadrático Medio (RMSE)"
   ]
  },
  {
   "cell_type": "markdown",
   "id": "30f130b0-9e8e-45b9-856c-c2d1c8d42dbd",
   "metadata": {},
   "source": [
    "La **Raíz Cuadrada del Error Cuadrático Medio (RMSE)** es una métrica que mide la desviación estándar de los errores de predicción. Es una versión más interpretable del **Error Cuadrático Medio (MSE)** porque está en las mismas unidades que las observaciones originales, a diferencia del MSE, que tiene unidades al cuadrado.\n",
    "\n",
    "La fórmula para la **Raíz Cuadrada del Error Cuadrático Medio (RMSE)** es:\n",
    "\n",
    "$RMSE = \\sqrt{\\frac{1}{n} \\sum_{i=1}^{n} (y_i - \\hat{y}_i)^2}$\n",
    "\n",
    "donde:\n",
    "\n",
    "- $n$ es el número total de observaciones.\n",
    "- $y_i$ es el valor real (o verdadero) de la \\(i\\)-ésima observación.\n",
    "- $\\hat{y}_i$ es el valor predicho por el modelo para la \\(i\\)-ésima observación.\n",
    "- $(y_i - \\hat{y}_i)^2$ es el cuadrado de la diferencia entre el valor real y el valor predicho para la $i$-ésima observación.\n",
    "\n",
    "El **RMSE** proporciona una medida de cuánto se desvían en promedio las predicciones del modelo de los valores reales. Es útil porque, a diferencia del MSE, tiene las mismas unidades que los datos originales, lo que hace que sea más fácil de interpretar. Sin embargo, al igual que el MSE, penaliza fuertemente los errores grandes debido a la operación de elevar al cuadrado.\n",
    "\n",
    "### Propiedades:\n",
    "- **Interpretabilidad**: Al estar en las mismas unidades que los datos originales, es más fácil de interpretar que el MSE.\n",
    "- **Sensibilidad a errores grandes**: Al igual que el MSE, el RMSE es muy sensible a los valores atípicos o errores grandes, ya que estos afectan significativamente el valor del error cuadrático."
   ]
  },
  {
   "cell_type": "code",
   "execution_count": 11,
   "id": "9d624c1b-3f07-41a7-9941-8ccbeae01b93",
   "metadata": {},
   "outputs": [],
   "source": [
    "from sklearn.metrics import root_mean_squared_error"
   ]
  },
  {
   "cell_type": "code",
   "execution_count": 12,
   "id": "1655270d-d7a5-4255-a864-02e4bbea9ff3",
   "metadata": {},
   "outputs": [
    {
     "data": {
      "text/plain": [
       "4.47213595499958"
      ]
     },
     "execution_count": 12,
     "metadata": {},
     "output_type": "execute_result"
    }
   ],
   "source": [
    "y_verdadero = [1, 2, 3, 4, 5]\n",
    "y_predicho = [1, 2, 3, 4, -5]\n",
    "root_mean_squared_error(y_verdadero, y_predicho)"
   ]
  },
  {
   "cell_type": "markdown",
   "id": "0166eab1-ea1d-4387-9df4-ac6c56b2ab9a",
   "metadata": {},
   "source": [
    "## $R^2$ (Coeficiente de Determinación)"
   ]
  },
  {
   "cell_type": "markdown",
   "id": "1c7f4e94-989d-4d33-a3c1-2964db3e2267",
   "metadata": {},
   "source": [
    "El **Coeficiente de Determinación ($R^2$)** es una métrica que indica qué tan bien las predicciones de un modelo se ajustan a los datos reales. Representa la proporción de la variabilidad de la variable dependiente que puede ser explicada por el modelo.\n",
    "\n",
    "La fórmula para el **R²** es:\n",
    "\n",
    "$R^2 = 1 - \\frac{\\sum_{i=1}^{n} (y_i - \\hat{y}_i)^2}{\\sum_{i=1}^{n} (y_i - \\bar{y})^2}$\n",
    "\n",
    "donde:\n",
    "\n",
    "- $n$ es el número total de observaciones.\n",
    "- $y_i$ es el valor real (o verdadero) de la \\(i\\)-ésima observación.\n",
    "- $\\hat{y}_i$ es el valor predicho por el modelo para la \\(i\\)-ésima observación.\n",
    "- $\\bar{y}$ es la media de los valores reales $( \\bar{y} = \\frac{1}{n} \\sum_{i=1}^{n} y_i $).\n",
    "- $(y_i - \\hat{y}_i)^2$ es la suma de los errores cuadráticos (residuos).\n",
    "- $(y_i - \\bar{y})^2$ es la suma de los cuadrados totales, que mide la variabilidad de los valores reales respecto a su media.\n",
    "\n",
    "El **R²** mide la proporción de la variabilidad total de los datos que es explicada por el modelo. Su valor está entre 0 y 1:\n",
    "\n",
    "- **$R^2 = 1$** indica que el modelo explica perfectamente toda la variabilidad de los datos.\n",
    "- **$R^2 = 0$** indica que el modelo no explica ninguna variabilidad de los datos, y su rendimiento es equivalente al de una media constante.\n",
    "- **Valores negativos** de **$R^2$** pueden ocurrir cuando el modelo se desempeña peor que un modelo que simplemente predice la media de las observaciones.\n",
    "\n",
    "### Propiedades:\n",
    "- **Interpretabilidad**: Un **R²** más alto indica un mejor ajuste del modelo a los datos.\n",
    "- **Limitaciones**: Aunque un **R²** alto indica un buen ajuste, no siempre garantiza un buen modelo, especialmente si se ajusta demasiado a los datos (sobreajuste). Por lo tanto, se deben considerar otras métricas complementarias, como el **RMSE** o el **AIC** (Criterio de Información de Akaike).\n",
    "- **Utilidad en modelos lineales**: es importante tener en cuenta que la métrica del $R^2$ se debe utilizar para evaluar el rendimiento ÚNICAMENTE de modelos **lineales**.\n"
   ]
  },
  {
   "cell_type": "code",
   "execution_count": 13,
   "id": "b908b569-fe26-4df1-b5f1-4463719159e3",
   "metadata": {},
   "outputs": [],
   "source": [
    "from sklearn.metrics import r2_score"
   ]
  },
  {
   "cell_type": "code",
   "execution_count": 14,
   "id": "f4609866-e622-4279-b509-c8af413e32e5",
   "metadata": {},
   "outputs": [
    {
     "data": {
      "text/plain": [
       "-9.0"
      ]
     },
     "execution_count": 14,
     "metadata": {},
     "output_type": "execute_result"
    }
   ],
   "source": [
    "y_verdadero = [1, 2, 3, 4, 5]\n",
    "y_predicho = [1, 2, 3, 4, -5]\n",
    "r2_score(y_verdadero, y_predicho)"
   ]
  },
  {
   "cell_type": "code",
   "execution_count": 15,
   "id": "e5ce4ecf-0483-4b1b-8d89-a0d379427246",
   "metadata": {},
   "outputs": [
    {
     "data": {
      "text/plain": [
       "0.9"
      ]
     },
     "execution_count": 15,
     "metadata": {},
     "output_type": "execute_result"
    }
   ],
   "source": [
    "y_verdadero = [1, 2, 3, 4, 5]\n",
    "y_predicho = [1, 2, 3, 4, 4]\n",
    "r2_score(y_verdadero, y_predicho)"
   ]
  },
  {
   "cell_type": "code",
   "execution_count": 16,
   "id": "84a87459-757c-4e9c-ac8a-9980907012e8",
   "metadata": {},
   "outputs": [
    {
     "data": {
      "text/plain": [
       "1.0"
      ]
     },
     "execution_count": 16,
     "metadata": {},
     "output_type": "execute_result"
    }
   ],
   "source": [
    "y_verdadero = [1, 2, 3, 4, 5]\n",
    "y_predicho = [1, 2, 3, 4, 5]\n",
    "r2_score(y_verdadero, y_predicho)"
   ]
  },
  {
   "cell_type": "code",
   "execution_count": null,
   "id": "a8cb0149-03c7-483c-9310-1eafae89cdb8",
   "metadata": {},
   "outputs": [],
   "source": []
  }
 ],
 "metadata": {
  "kernelspec": {
   "display_name": "Python 3 (ipykernel)",
   "language": "python",
   "name": "python3"
  },
  "language_info": {
   "codemirror_mode": {
    "name": "ipython",
    "version": 3
   },
   "file_extension": ".py",
   "mimetype": "text/x-python",
   "name": "python",
   "nbconvert_exporter": "python",
   "pygments_lexer": "ipython3",
   "version": "3.12.0"
  }
 },
 "nbformat": 4,
 "nbformat_minor": 5
}
