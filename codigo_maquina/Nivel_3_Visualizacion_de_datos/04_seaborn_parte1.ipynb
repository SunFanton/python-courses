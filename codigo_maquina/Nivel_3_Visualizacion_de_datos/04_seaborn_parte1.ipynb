{
 "cells": [
  {
   "cell_type": "markdown",
   "id": "a3d43c01-a9a3-4382-8d02-b752ccb25e78",
   "metadata": {},
   "source": [
    "# Visualización con Seaborn"
   ]
  },
  {
   "cell_type": "markdown",
   "id": "19c991cc-7181-4817-a8af-e27e7fae39c7",
   "metadata": {},
   "source": [
    "## Gráficas de relación (línea y dispersión)"
   ]
  },
  {
   "cell_type": "markdown",
   "id": "a55e5f17-61ea-4e9b-a664-887583d8b15c",
   "metadata": {},
   "source": [
    "```seabron``` es una librería de Python que, al igual que ```matplotlib``` nos permite realizar gráficas para visualizar nuestros datos. En particular, ```seaborn``` presenta tres tipos de gráficas:\n",
    "* Relacional\n",
    "* Distribuciones\n",
    "* Categórica\n",
    "\n",
    "Es importante resaltar que ```seaborn``` es una especialziación de ```matplotlib```, razón por la cual al momento de utilizar dicha librería, dependemos no solo de su módulo en sí, sino también de ```matplotlib```, de allí que en el *import* se deben importar ambos.\n",
    "\n",
    "![seaborn1](./seaborn1.png)"
   ]
  },
  {
   "cell_type": "markdown",
   "id": "8f28063b-f554-4afa-8d96-a010bd85f816",
   "metadata": {},
   "source": [
    "En este notebook en particular, veremos ejemplos de gráficos de tipo relacionales, usando gráficos de línea y dispersión. Tomaremos un caso de análisis de la población de 3 especies de pingüinos cuyos datos, en cada observación, representarán la especie, la isla, la longitud del pico, la profundidad del pico, la longitud de la aleta, la masa y el sexo. Esto forma parte de los datos de muestra y prueba con los que ```seaborn``` cuenta por defecto."
   ]
  },
  {
   "cell_type": "code",
   "execution_count": 14,
   "id": "34e93f69-1da1-4228-8613-539fce958c3d",
   "metadata": {},
   "outputs": [],
   "source": [
    "import matplotlib.pyplot as plt\n",
    "import seaborn as sns"
   ]
  },
  {
   "cell_type": "code",
   "execution_count": null,
   "id": "42f85155-9e94-45e3-94e1-7b6477f4ca12",
   "metadata": {},
   "outputs": [],
   "source": []
  }
 ],
 "metadata": {
  "kernelspec": {
   "display_name": "Python 3 (ipykernel)",
   "language": "python",
   "name": "python3"
  },
  "language_info": {
   "codemirror_mode": {
    "name": "ipython",
    "version": 3
   },
   "file_extension": ".py",
   "mimetype": "text/x-python",
   "name": "python",
   "nbconvert_exporter": "python",
   "pygments_lexer": "ipython3",
   "version": "3.12.0"
  }
 },
 "nbformat": 4,
 "nbformat_minor": 5
}
