{
 "cells": [
  {
   "cell_type": "markdown",
   "id": "7d676dfb-cea6-427e-9877-c183603ba7dd",
   "metadata": {},
   "source": [
    "# Área bajo la curva ROC"
   ]
  },
  {
   "cell_type": "markdown",
   "id": "db3b8da7-24fe-4228-8195-a37ca21a3c92",
   "metadata": {},
   "source": [
    "El área bajo la curva ROC es una métrica que nos permite establecer qué tan bien funciona un algoritmo de clasificación binaria de machine learning.\n",
    "\n",
    "A continuación, agrego texto aportado por `ChatGPT`:"
   ]
  },
  {
   "cell_type": "markdown",
   "id": "cdcc18a8-cc7c-4ad8-8aa6-e24e18f810c0",
   "metadata": {},
   "source": [
    "# Análisis de la Curva ROC y AUC en un Modelo de Clasificación Binaria\n",
    "\n",
    "## ¿Qué es la curva ROC?\n",
    "\n",
    "La **curva ROC** (Receiver Operating Characteristic) es una representación gráfica del rendimiento de un modelo de clasificación binaria. Muestra la relación entre dos métricas clave:\n",
    "\n",
    "- **Tasa de Verdaderos Positivos (TPR)**: También conocida como sensibilidad o recall, es la proporción de positivos verdaderos que el modelo ha clasificado correctamente.\n",
    "\n",
    "$TPR = \\frac{TP}{TP + FN}$\n",
    "\n",
    "  donde:\n",
    "  - $TP$ = Verdaderos positivos (ejemplos correctamente clasificados como positivos)\n",
    "  - $FN$ = Falsos negativos (ejemplos que son realmente positivos pero clasificados como negativos)\n",
    "\n",
    "- **Tasa de Falsos Positivos (FPR)**: Es la proporción de negativos que el modelo ha clasificado incorrectamente como positivos.\n",
    "\n",
    "$FPR = \\frac{FP}{FP + TN}$\n",
    "\n",
    "donde:\n",
    "  - $FP$ = Falsos positivos (ejemplos que son realmente negativos pero clasificados como positivos)\n",
    "  - $TN$ = Verdaderos negativos (ejemplos correctamente clasificados como negativos)\n",
    "\n",
    "## ¿Qué es el AUC?\n",
    "\n",
    "El **AUC** (Área Bajo la Curva) es una métrica que resume el rendimiento de un modelo. Representa el área bajo la curva ROC y tiene un valor entre 0 y 1:\n",
    "\n",
    "- Un **AUC cercano a 1** indica que el modelo tiene un buen rendimiento y puede diferenciar entre las clases de manera eficaz.\n",
    "- Un **AUC de 0.5** indica un modelo que no tiene capacidad discriminatoria, lo que significa que el modelo no hace nada mejor que un clasificador aleatorio.\n",
    "- Un **AUC cercano a 0** indica que el modelo está clasificando incorrectamente la mayoría de las instancias, de forma contraria a lo que se espera."
   ]
  },
  {
   "cell_type": "markdown",
   "id": "96f31e41-a5ac-4b74-8dc5-7c09be2b957f",
   "metadata": {},
   "source": [
    "## Ejemplo concreto"
   ]
  },
  {
   "cell_type": "markdown",
   "id": "30194a0c-b0f3-4ace-bebb-9c899f335dc4",
   "metadata": {},
   "source": [
    "Ahora bien, la pregunta es si el área bajo la curva ROC es la métrica que nos indica el buen (o mal) rendimiento de un algoritmo de clasificación binaria, y la curva ROC es una curva gráfica que nos indica la relación entre la tasa de verdaderos positivos y la tasa de falsos positivos, ¿cómo se genera la curva ROC?\n",
    "\n",
    "Para responder esta pregunta, partamos de un ejemplo de un algoritmo de clasificación binaria (no importa de qué tipo, si es regresión logística, etc). Tomemos el caso de un algoritmo que clasifica a las personas según si son portadoras de una enfermedad (caso positivo, color rojo), o si están sanas (caso negativo, color azul)."
   ]
  },
  {
   "cell_type": "markdown",
   "id": "fafccd8d-ba86-4194-a08a-8ae93653d2aa",
   "metadata": {},
   "source": [
    "![Curva Roc 1](./img/curva_roc2.png)"
   ]
  },
  {
   "cell_type": "markdown",
   "id": "2636418c-01a6-407b-94da-c2ae341e3d98",
   "metadata": {},
   "source": [
    "Ahora, teniendo en cuenta las fórmulas, de la TPR y FPR, imaginemos que tenemos un gráfico tipo scatter los puntos de las distintas observaciones, y cada observación representa un caso de una persona que está o enferma (punto rojo) o sana (punto azul).\n",
    "\n",
    "Para ir construyendo la curva ROC iremos usando las fórmulas en función de distintos umbrales (que sería en la línea punteada en naranja abajo). \n",
    "Lo que esté por encima de la línea punteada, los consideraremos como casos predichos como personas enfermas, y entre ellas podrá haber personas que realmente estén enfermas (verdadero positivo), o personas que fueron tomadas como enfermas pero en realidad están sanas (falso positivo). \n",
    "Lo que esté por debajo de la línea punteada del umbral, los consideraremos como casos predichos como personas sanas, y entre ellas podrá haber personas que realmente estén sanas (verdaderos negativos), o personas que fueron tomadas como sanas pero en realidad están enfermas (falso negativo).\n",
    "\n",
    "De acuerdo a la cantidad de verdaderos positivos, falsos negativos, etc que vayamos hallando en cada umbral, se irán haciendo los cálculos. Para cada umbral se hallará una tasa de verdaderos positivos y una tasa de falsos positivos, y esos valores representarán un punto en el gráfico donde se irá armando la curva ROC. Siendo la tasa de falsos positivos como si fuera el eje x y la tasa de verdaderos positivos como si fuera el eje y."
   ]
  },
  {
   "cell_type": "markdown",
   "id": "daf3792d-183e-41f7-8dc8-4c4b8b77fc14",
   "metadata": {},
   "source": [
    "![Curva Roc 1](./img/curva_roc4.png)"
   ]
  },
  {
   "cell_type": "markdown",
   "id": "8f17e888-cf34-45cb-99c8-ac2dec01f20e",
   "metadata": {},
   "source": [
    "Empecemos con un umbral de 0.0.\n",
    "\n",
    "Nosotros tenemos en el ejemplo que realmente existen 4 casos de personas enfermas y 4 casos de personas sanas.\n",
    "\n",
    "Con un umbral de 0.0 en donde todo lo que está por encima del umbral se debe considerar como persona enferma, tenemos entonces 4 casos de verdadedos positivos (personas que están enfermas realmente) y 4 casos de falsos positivos (personas que están sanas y fueron consideradas enfermas).\n",
    "\n",
    "Los cálculos nos da una tasa de verdaderos positivos de 1, y una tasa de falsos positivos de 1 y ese punto lo marcamos para la curva ROC:"
   ]
  },
  {
   "cell_type": "markdown",
   "id": "cc2c7200-eec6-4513-ac8c-2b54b86d23a9",
   "metadata": {},
   "source": [
    "![Curva Roc 1](./img/curva_roc5.png)"
   ]
  },
  {
   "cell_type": "markdown",
   "id": "19bbe4ea-b2ed-47fe-8f9e-9cd3c439e47d",
   "metadata": {},
   "source": [
    "Ahora hacemos lo mismo que antes, pero con un umbral de 1.0:"
   ]
  },
  {
   "cell_type": "markdown",
   "id": "c6761df7-a975-4835-9d34-49714b6a8633",
   "metadata": {},
   "source": [
    "![Curva Roc 1](./img/curva_roc6.png)"
   ]
  },
  {
   "cell_type": "markdown",
   "id": "8cb64577-a9f3-48aa-9aff-243e032b7772",
   "metadata": {},
   "source": [
    "Umbral de 0.3:"
   ]
  },
  {
   "cell_type": "markdown",
   "id": "e1a4cc4b-beb1-4e8f-8959-60eca2510731",
   "metadata": {},
   "source": [
    "![Curva Roc 1](./img/curva_roc7.png)"
   ]
  },
  {
   "cell_type": "markdown",
   "id": "15ad4a0a-3fe2-4a31-96f0-2c9456dabda3",
   "metadata": {},
   "source": [
    "Umbral de 0.7:"
   ]
  },
  {
   "cell_type": "markdown",
   "id": "df10961b-fa20-47d7-8cca-d00d8982a410",
   "metadata": {},
   "source": [
    "![Curva Roc 1](./img/curva_roc8.png)"
   ]
  },
  {
   "cell_type": "markdown",
   "id": "2be3935b-1d8f-40d0-ba0c-bd1e454764e7",
   "metadata": {},
   "source": [
    "Finalmente, una vez que ya trabajamos con nuestro umbrales y tenemos los puntos, los unimos para formar gráficamente la curva ROC:"
   ]
  },
  {
   "cell_type": "markdown",
   "id": "ec2b30fb-5529-403b-b199-95591e803bc3",
   "metadata": {},
   "source": [
    "![Curva Roc 1](./img/curva_roc9.png)"
   ]
  },
  {
   "cell_type": "markdown",
   "id": "35e945bf-9414-434c-87ed-680519ce7e1b",
   "metadata": {},
   "source": [
    "Una vez que tenemos la curva, debemos calcular su área bajo la curva par aobtener la métrica respecto al rendimiento de nuestro algoritmo clasificador.\n",
    "\n",
    "Una área bajo la curva más cercano a 1 tendrá un mejor rendimiento. Un valor de 0.5 indicará que se trata de un algoritmo clasificador aleatorio. Y un valor cercano a 0 implicará una métrica peor, probablemente representando que el algoritmo clasifica al revés de lo que debería."
   ]
  },
  {
   "cell_type": "markdown",
   "id": "53b08b0e-b808-4f27-a8bc-d443bf9232d8",
   "metadata": {},
   "source": [
    "![Curva Roc 1](./img/curva_roc10.png)"
   ]
  },
  {
   "cell_type": "markdown",
   "id": "70c2b4d0-cd57-435d-a2d2-326d132dcb76",
   "metadata": {},
   "source": [
    "![Curva Roc 1](./img/curva_roc11.png)"
   ]
  },
  {
   "cell_type": "markdown",
   "id": "dc2117af-4b86-4de8-b6ea-6f7ac87070ad",
   "metadata": {},
   "source": [
    "![Curva Roc 1](./img/curva_roc12.png)"
   ]
  },
  {
   "cell_type": "markdown",
   "id": "c82e9700-aaea-46f3-9090-ebee2c25ae16",
   "metadata": {},
   "source": [
    "## Ejemplo simple en Python"
   ]
  },
  {
   "cell_type": "code",
   "execution_count": 1,
   "id": "dcfea163-4ff9-4f4a-b969-b5df7b921f7d",
   "metadata": {},
   "outputs": [
    {
     "name": "stdout",
     "output_type": "stream",
     "text": [
      "Umbrales utilizados: [inf 0.9 0.6 0. ]\n",
      "AUC: 1.00\n"
     ]
    },
    {
     "data": {
      "image/png": "[encoded data removed]",
      "text/plain": [
       "<Figure size 800x600 with 1 Axes>"
      ]
     },
     "metadata": {},
     "output_type": "display_data"
    }
   ],
   "source": [
    "import numpy as np\n",
    "from sklearn.metrics import roc_curve, auc\n",
    "import matplotlib.pyplot as plt\n",
    "\n",
    "# Etiquetas reales (0 = negativo, 1 = positivo)\n",
    "y_true = np.array([1, 1, 1, 1, 0, 0, 0, 0, 0, 0])\n",
    "\n",
    "# Probabilidades predichas por el modelo (valores entre 0 y 1)\n",
    "y_scores = np.array([0.9, 0.8, 0.7, 0.6, 0.5, 0.4, 0.3, 0.2, 0.1, 0.0])\n",
    "\n",
    "# Calcular las tasas de verdaderos positivos (TPR) y falsos positivos (FPR)\n",
    "fpr, tpr, thresholds = roc_curve(y_true, y_scores)\n",
    "\n",
    "# Imprimir los umbrales utilizados\n",
    "print(\"Umbrales utilizados:\", thresholds)\n",
    "\n",
    "# Calcular el AUC (Área bajo la curva)\n",
    "roc_auc = auc(fpr, tpr)\n",
    "print(f\"AUC: {roc_auc:.2f}\")\n",
    "\n",
    "# Graficar la curva ROC\n",
    "plt.figure(figsize=(8, 6))\n",
    "plt.plot(fpr, tpr, color='darkorange', lw=2, label=f'ROC curve (AUC = {roc_auc:.2f})')\n",
    "plt.plot([0, 1], [0, 1], color='navy', lw=2, linestyle='--')\n",
    "plt.xlabel('FPR (Tasa de Falsos Positivos)')\n",
    "plt.ylabel('TPR (Tasa de Verdaderos Positivos)')\n",
    "plt.title('Curva ROC')\n",
    "plt.legend(loc=\"lower right\")\n",
    "plt.show()"
   ]
  },
  {
   "cell_type": "code",
   "execution_count": null,
   "id": "14252d35-7185-4ac2-afcf-460828b6dc83",
   "metadata": {},
   "outputs": [],
   "source": []
  }
 ],
 "metadata": {
  "kernelspec": {
   "display_name": "Python 3 (ipykernel)",
   "language": "python",
   "name": "python3"
  },
  "language_info": {
   "codemirror_mode": {
    "name": "ipython",
    "version": 3
   },
   "file_extension": ".py",
   "mimetype": "text/x-python",
   "name": "python",
   "nbconvert_exporter": "python",
   "pygments_lexer": "ipython3",
   "version": "3.12.0"
  }
 },
 "nbformat": 4,
 "nbformat_minor": 5
}
