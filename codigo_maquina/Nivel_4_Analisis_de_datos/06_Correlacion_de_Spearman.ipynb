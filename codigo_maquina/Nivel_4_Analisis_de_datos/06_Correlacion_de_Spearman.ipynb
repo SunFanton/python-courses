{
 "cells": [
  {
   "cell_type": "markdown",
   "id": "412a6e6e-d7bf-4e87-a6a4-25b15286ee59",
   "metadata": {},
   "source": [
    "# Correlación de Spearman"
   ]
  },
  {
   "cell_type": "markdown",
   "id": "ec03b0e7-be05-457c-b26a-036e353f5be8",
   "metadata": {},
   "source": [
    "## Teoría y Fórmula"
   ]
  },
  {
   "cell_type": "markdown",
   "id": "fc42301b-8687-4b14-aad1-7cceb968be8b",
   "metadata": {},
   "source": [
    "Aclaración: parte de la siguiente explicación teórica ha sido obtenida con la ayuda de ChatGPT + el material aportado por el contenido del canal de Yotube de [Código Máquina - Correlación de Spearman](https://www.youtube.com/watch?v=lzF6NggCSdY)."
   ]
  },
  {
   "cell_type": "markdown",
   "id": "1e1d510f-4b03-49f1-86fa-afdf109a7f20",
   "metadata": {},
   "source": [
    "El coeficiente de correlación de *Spearman* es una medida no paramétrica de la relación entre dos variables. Se utiliza para evaluar si existe una relación monotónica (es decir, si a medida que una variable aumenta, la otra también tiende a aumentar o disminuir) entre dos conjuntos de datos. A diferencia del coeficiente de correlación de Pearson, que mide la relación lineal, Spearman se enfoca en las clasificaciones (rangos) de los datos, no en sus valores absolutos.\n",
    "\n",
    "Cálculo del coeficiente de Spearman:\n",
    "* Asignar rangos a cada valor de los dos conjuntos de datos (si hay empates, se les asigna el rango promedio).\n",
    "* Calcular la diferencia entre los rangos correspondientes de cada par de datos.\n",
    "* Elevar al cuadrado esas diferencias.\n",
    "* Sumar los cuadrados de las diferencias.\n",
    "* Usar la fórmula del coeficiente de correlación de Spearman:"
   ]
  },
  {
   "cell_type": "markdown",
   "id": "a80914db-16bf-447c-83c3-532df0bdf11a",
   "metadata": {},
   "source": [
    "![Fórmula](./img/spearman1.png)"
   ]
  },
  {
   "cell_type": "markdown",
   "id": "7c3a317a-311e-4796-bf51-9c7f17c45bf3",
   "metadata": {},
   "source": [
    "## Ejemplo"
   ]
  },
  {
   "cell_type": "markdown",
   "id": "05edce9b-a588-44cb-be6e-baf060eaf389",
   "metadata": {},
   "source": [
    "### ¿Cómo se asignan los rangos?\n",
    "\n",
    "En primer lugar, antes de pasar a un ejemplo completo concreto, es importante entender cómo se asignan los rangos de los cuales se hablaron más arriba.\n",
    "\n",
    "- **Para los valores más bajos**: El valor más bajo de una variable recibe el **rango 1**.\n",
    "- **Para los valores más altos**: El valor más alto recibe el **rango más alto**.\n",
    "  \n",
    "Por lo tanto, **los rangos no se asignan de mayor a menor**, sino de **menor a mayor**.\n",
    "\n",
    "### Ejemplo con aclaración:\n",
    "\n",
    "Imagina que tienes una lista de 5 valores, los cuales deben estar ordenados de menor a mayor:\n",
    "\n",
    "| Estudiante | Puntuación (X) |\n",
    "|------------|----------------|\n",
    "| A          | 60             |\n",
    "| B          | 70             |\n",
    "| C          | 80             |\n",
    "| D          | 90             |\n",
    "| E          | 100            |\n",
    "\n",
    "Los rangos se asignan como sigue, ordenando de menor a mayor:\n",
    "\n",
    "| Estudiante | Puntuación (X) | Rango de X |\n",
    "|------------|----------------|------------|\n",
    "| A          | 60             | 1          |\n",
    "| B          | 70             | 2          |\n",
    "| C          | 80             | 3          |\n",
    "| D          | 90             | 4          |\n",
    "| E          | 100            | 5          |\n",
    "\n",
    "### ¿Y si hay empates?\n",
    "\n",
    "Si dos estudiantes tienen el mismo valor, les damos **el rango promedio** de las posiciones que ocuparían si no hubiera empate. \n",
    "\n",
    "Ejemplo:\n",
    "\n",
    "| Estudiante | Puntuación (X) |\n",
    "|------------|----------------|\n",
    "| A          | 60             |\n",
    "| B          | 70             |\n",
    "| C          | 70             |\n",
    "| D          | 90             |\n",
    "| E          | 100            |\n",
    "\n",
    "1. Ordenamos de menor a mayor:\n",
    "   - \\(60, 70, 70, 90, 100\\)\n",
    "\n",
    "2. Asignamos los rangos:\n",
    "   - El **valor 60** recibe el rango **1**.\n",
    "   - El **valor 70** aparece dos veces, por lo que el rango que les asignamos es el promedio entre **2 (porque el primer 70 ocuparía la posición 2) y 3 (porque el segundo 70 ocuparía la posición 3)**, que es\n",
    "   $\\frac{2+3}{2} = 2.5$.\n",
    "   - El **valor 90** recibe el rango **4**.\n",
    "   - El **valor 100** recibe el rango **5**.\n",
    "\n",
    "| Estudiante | Puntuación (X) | Rango de X |\n",
    "|------------|----------------|------------|\n",
    "| A          | 60             | 1          |\n",
    "| B          | 70             | 2.5        |\n",
    "| C          | 70             | 2.5        |\n",
    "| D          | 90             | 4          |\n",
    "| E          | 100            | 5          |\n",
    "\n",
    "### Resumen:\n",
    "- Los **rangos se asignan de menor a mayor**. \n",
    "- En caso de **empates**, se asigna el **rango promedio** de las posiciones ocupadas por los valores idénticos.\n"
   ]
  },
  {
   "cell_type": "markdown",
   "id": "6b3e4979-d172-426a-a454-07f32b64762a",
   "metadata": {},
   "source": [
    "### Ejemplo de Cálculo del Coeficiente de Correlación de Spearman\n",
    "\n",
    "Imagina que tenemos los siguientes datos desordenados de dos variables: el número de **horas de estudio** (X) y las **calificaciones obtenidas** (Y) por cinco estudiantes.\n",
    "\n",
    "| Estudiante | Horas de estudio (X) | Calificación (Y) |\n",
    "|------------|----------------------|------------------|\n",
    "| A          | 6                    | 75               |\n",
    "| B          | 2                    | 80               |\n",
    "| C          | 8                    | 65               |\n",
    "| D          | 4                    | 85               |\n",
    "| E          | 10                   | 90               |\n",
    "\n",
    "#### Paso 1: Ordenar los datos\n",
    "\n",
    "Primero, ordenamos los datos de ambas variables de menor a mayor y asignamos los **rangos** correspondientes.\n",
    "\n",
    "##### Orden de **Horas de Estudio** (X):\n",
    "\n",
    "| Estudiante | Horas de estudio (X) | Rango de X |\n",
    "|------------|----------------------|------------|\n",
    "| B          | 2                    | 1          |\n",
    "| D          | 4                    | 2          |\n",
    "| A          | 6                    | 3          |\n",
    "| C          | 8                    | 4          |\n",
    "| E          | 10                   | 5          |\n",
    "\n",
    "##### Orden de **Calificaciones** (Y):\n",
    "\n",
    "| Estudiante | Calificación (Y) | Rango de Y |\n",
    "|------------|------------------|------------|\n",
    "| C          | 65               | 1          |\n",
    "| A          | 75               | 2          |\n",
    "| B          | 80               | 3          |\n",
    "| D          | 85               | 4          |\n",
    "| E          | 90               | 5          |\n",
    "\n",
    "#### Paso 2: Calcular las diferencias de los rangos (d) y sus cuadrados (d²)\n",
    "\n",
    "Ahora, calculamos la diferencia entre los rangos de X y Y para cada estudiante, y luego elevamos esa diferencia al cuadrado.\n",
    "\n",
    "| Estudiante | Rango de X | Rango de Y | Diferencia de rangos (d) | d²  |\n",
    "|------------|------------|------------|-------------------------|-----|\n",
    "| B          | 1          | 3          | -2  es decir (1-3)      | 4   |\n",
    "| D          | 2          | 4          | -2  es decir (2-4)      | 4   |\n",
    "| A          | 3          | 2          | 1   es decir (3-2)      | 1   |\n",
    "| C          | 4          | 1          | 3   es decir (4-1)      | 9   |\n",
    "| E          | 5          | 5          | 0   es decir (5-5)      | 0   |\n",
    "\n",
    "**Suma de los cuadrados de las diferencias (∑d²):**\n",
    "\n",
    "La fórmula de la suma de los cuadrados de las diferencias de rangos ($\\sum d_i^2$) es:\n",
    "\n",
    "$sum_{i=1}^{n} d_i^2 = 4 + 4 + 1 + 9 + 0 = 18$\n",
    "\n",
    "#### Paso 3: Aplicar la fórmula de Spearman\n",
    "\n",
    "La fórmula para calcular el coeficiente de Spearman ($\\rho$) es:\n",
    "\n",
    "$rho = 1 - \\frac{6 \\sum d_i^2}{n(n^2 - 1)}$\n",
    "\n",
    "Donde:\n",
    "- $n$ es el número de pares de datos (en este caso, $n = 5$).\n",
    "- $\\sum d_i^2$ es la suma de los cuadrados de las diferencias de rangos.\n",
    "\n",
    "Sustituyendo los valores:\n",
    "\n",
    "$rho = 1 - \\frac{6 \\times 18}{5(5^2 - 1)} = 1 - \\frac{108}{5(24)} = 1 - \\frac{108}{120} = 1 - 0.9 = 0.1$\n",
    "\n",
    "#### Paso 4: Interpretación del resultado\n",
    "\n",
    "El coeficiente de correlación de Spearman es **0.1**, lo que indica una **relación débil y positiva** entre las horas de estudio y las calificaciones. Aunque hay una ligera tendencia de que conforme aumentan las horas de estudio, también lo hacen las calificaciones, la relación es muy débil.\n",
    "\n",
    "---\n",
    "\n",
    "### Resumen:\n",
    "\n",
    "- Los **rangos** se asignan de menor a mayor.\n",
    "- Se calculan las **diferencias de rangos** ($d$) y sus cuadrados ($d^2$).\n",
    "- El coeficiente de Spearman (\\(\\rho\\)) se calcula usando la fórmula:  \n",
    "$rho = 1 - \\frac{6 \\sum d_i^2}{n(n^2 - 1)}$\n",
    "- En este caso, el **coeficiente es 0.1**, lo que sugiere que existe una **relación débil** entre las dos variables.\n"
   ]
  },
  {
   "cell_type": "markdown",
   "id": "0b996bd3-e8ef-4a69-ad8b-748e62873aeb",
   "metadata": {},
   "source": [
    "## Ejemplo en Python"
   ]
  },
  {
   "cell_type": "code",
   "execution_count": 12,
   "id": "8525a804-498c-44bc-ad94-d0610c08470c",
   "metadata": {},
   "outputs": [],
   "source": [
    "from scipy import stats\n",
    "import seaborn as sns\n",
    "import numpy as np\n",
    "import pandas as pd"
   ]
  },
  {
   "cell_type": "code",
   "execution_count": 11,
   "id": "c4ef3392-9641-481c-bb15-434d08338ab5",
   "metadata": {},
   "outputs": [
    {
     "name": "stdout",
     "output_type": "stream",
     "text": [
      "SignificanceResult(statistic=0.09999999999999999, pvalue=0.8728885715695383)\n",
      "0.09999999999999999\n"
     ]
    }
   ],
   "source": [
    "# siguiendo el ejemplo de arriba:\n",
    "horas = np.array([6, 2, 8, 4, 10])\n",
    "calificaciones = np.array([75, 80, 65, 85, 90])\n",
    "print(stats.spearmanr(horas, calificaciones))\n",
    "print(stats.spearmanr(horas, calificaciones)[0])"
   ]
  },
  {
   "cell_type": "code",
   "execution_count": 13,
   "id": "69070d40-1d97-4594-9e7b-0a7716dad750",
   "metadata": {},
   "outputs": [
    {
     "data": {
      "text/html": [
       "<div>\n",
       "<style scoped>\n",
       "    .dataframe tbody tr th:only-of-type {\n",
       "        vertical-align: middle;\n",
       "    }\n",
       "\n",
       "    .dataframe tbody tr th {\n",
       "        vertical-align: top;\n",
       "    }\n",
       "\n",
       "    .dataframe thead th {\n",
       "        text-align: right;\n",
       "    }\n",
       "</style>\n",
       "<table border=\"1\" class=\"dataframe\">\n",
       "  <thead>\n",
       "    <tr style=\"text-align: right;\">\n",
       "      <th></th>\n",
       "      <th>horas</th>\n",
       "      <th>calificaciones</th>\n",
       "    </tr>\n",
       "  </thead>\n",
       "  <tbody>\n",
       "    <tr>\n",
       "      <th>A</th>\n",
       "      <td>6</td>\n",
       "      <td>75</td>\n",
       "    </tr>\n",
       "    <tr>\n",
       "      <th>B</th>\n",
       "      <td>2</td>\n",
       "      <td>80</td>\n",
       "    </tr>\n",
       "    <tr>\n",
       "      <th>C</th>\n",
       "      <td>8</td>\n",
       "      <td>65</td>\n",
       "    </tr>\n",
       "    <tr>\n",
       "      <th>D</th>\n",
       "      <td>4</td>\n",
       "      <td>85</td>\n",
       "    </tr>\n",
       "    <tr>\n",
       "      <th>E</th>\n",
       "      <td>10</td>\n",
       "      <td>90</td>\n",
       "    </tr>\n",
       "  </tbody>\n",
       "</table>\n",
       "</div>"
      ],
      "text/plain": [
       "   horas  calificaciones\n",
       "A      6              75\n",
       "B      2              80\n",
       "C      8              65\n",
       "D      4              85\n",
       "E     10              90"
      ]
     },
     "execution_count": 13,
     "metadata": {},
     "output_type": "execute_result"
    }
   ],
   "source": [
    "df = pd.DataFrame({\"horas\": horas, \"calificaciones\": calificaciones}, index=['A', 'B', 'C', 'D', 'E'])\n",
    "df"
   ]
  },
  {
   "cell_type": "code",
   "execution_count": 14,
   "id": "bc0f18a7-967f-419c-9ff7-04a6dfad09a8",
   "metadata": {},
   "outputs": [
    {
     "data": {
      "text/html": [
       "<div>\n",
       "<style scoped>\n",
       "    .dataframe tbody tr th:only-of-type {\n",
       "        vertical-align: middle;\n",
       "    }\n",
       "\n",
       "    .dataframe tbody tr th {\n",
       "        vertical-align: top;\n",
       "    }\n",
       "\n",
       "    .dataframe thead th {\n",
       "        text-align: right;\n",
       "    }\n",
       "</style>\n",
       "<table border=\"1\" class=\"dataframe\">\n",
       "  <thead>\n",
       "    <tr style=\"text-align: right;\">\n",
       "      <th></th>\n",
       "      <th>horas</th>\n",
       "      <th>calificaciones</th>\n",
       "    </tr>\n",
       "  </thead>\n",
       "  <tbody>\n",
       "    <tr>\n",
       "      <th>horas</th>\n",
       "      <td>1.0</td>\n",
       "      <td>0.1</td>\n",
       "    </tr>\n",
       "    <tr>\n",
       "      <th>calificaciones</th>\n",
       "      <td>0.1</td>\n",
       "      <td>1.0</td>\n",
       "    </tr>\n",
       "  </tbody>\n",
       "</table>\n",
       "</div>"
      ],
      "text/plain": [
       "                horas  calificaciones\n",
       "horas             1.0             0.1\n",
       "calificaciones    0.1             1.0"
      ]
     },
     "execution_count": 14,
     "metadata": {},
     "output_type": "execute_result"
    }
   ],
   "source": [
    "df.corr(method='spearman')"
   ]
  },
  {
   "cell_type": "markdown",
   "id": "4b9ccaee-6b9c-4092-9ba6-0533508b3346",
   "metadata": {},
   "source": [
    "## Diferencia gráfica y visual entre correlación de Pearson y Spearman"
   ]
  },
  {
   "cell_type": "markdown",
   "id": "d45c2f70-508e-4e43-8afc-e4168544fe6b",
   "metadata": {},
   "source": [
    "![Pearson y Spearman](./img/spearman2.png)"
   ]
  },
  {
   "cell_type": "markdown",
   "id": "fa6501bb-d580-4032-a44a-6b700cd02acb",
   "metadata": {},
   "source": [
    "![Pearson y Spearman](./img/spearman3.png)"
   ]
  },
  {
   "cell_type": "markdown",
   "id": "540adc3c-d698-46a7-805c-3df9de65730f",
   "metadata": {},
   "source": [
    "![Pearson y Spearman](./img/spearman4.png)"
   ]
  },
  {
   "cell_type": "markdown",
   "id": "87ad5cb8-d2e7-4591-9e7b-cf0b941efa08",
   "metadata": {},
   "source": [
    "![Pearson y Spearman](./img/spearman5.png)"
   ]
  },
  {
   "cell_type": "markdown",
   "id": "2705d41f-56e9-4262-bbdb-8cf7e3e7e1cf",
   "metadata": {},
   "source": [
    "![Pearson y Spearman](./img/spearman6.png)"
   ]
  },
  {
   "cell_type": "markdown",
   "id": "f9b4bdef-6c13-482b-bd29-d71d142cf0ca",
   "metadata": {},
   "source": [
    "![Pearson y Spearman](./img/spearman7.png)"
   ]
  },
  {
   "cell_type": "markdown",
   "id": "d19047cb-5419-4518-89ca-f2c6597c7565",
   "metadata": {},
   "source": [
    "![Pearson y Spearman](./img/spearman8.png)"
   ]
  },
  {
   "cell_type": "markdown",
   "id": "58628755-e418-4482-9670-9fd92777e461",
   "metadata": {},
   "source": [
    "![Pearson y Spearman](./img/spearman10.png)"
   ]
  },
  {
   "cell_type": "markdown",
   "id": "6a51917c-0d96-4c96-abf8-00d8c7baf521",
   "metadata": {},
   "source": [
    "![Pearson y Spearman](./img/spearman11.png)"
   ]
  },
  {
   "cell_type": "markdown",
   "id": "2efb9425-7fe0-412a-95cb-5fe6de02d525",
   "metadata": {},
   "source": [
    "![Pearson y Spearman](./img/spearman12.png)"
   ]
  },
  {
   "cell_type": "markdown",
   "id": "ddc76e68-4179-4073-8285-7a19b090913d",
   "metadata": {},
   "source": [
    "![Pearson y Spearman](./img/spearman13.png)"
   ]
  },
  {
   "cell_type": "code",
   "execution_count": null,
   "id": "293ed16d-6cc1-4d4b-af9b-cdf3a4fe39f8",
   "metadata": {},
   "outputs": [],
   "source": []
  }
 ],
 "metadata": {
  "kernelspec": {
   "display_name": "Python 3 (ipykernel)",
   "language": "python",
   "name": "python3"
  },
  "language_info": {
   "codemirror_mode": {
    "name": "ipython",
    "version": 3
   },
   "file_extension": ".py",
   "mimetype": "text/x-python",
   "name": "python",
   "nbconvert_exporter": "python",
   "pygments_lexer": "ipython3",
   "version": "3.12.0"
  }
 },
 "nbformat": 4,
 "nbformat_minor": 5
}
