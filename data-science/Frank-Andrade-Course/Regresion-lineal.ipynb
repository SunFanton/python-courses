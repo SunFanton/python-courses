{
 "cells": [
  {
   "cell_type": "markdown",
   "id": "7d3f58fa-fa2b-45d6-9c32-dceea73ce84c",
   "metadata": {},
   "source": [
    "# Regresión lineal"
   ]
  },
  {
   "cell_type": "markdown",
   "id": "a0f7cbff-c477-4285-b8fa-74031676f9a6",
   "metadata": {},
   "source": [
    "<p style=\"text-align: justify; font-size: 1.1rem\">La regresión lineal es un algoritmo básico de Machine Learning que nos permite crear un modelo, en base a ciertos datos, para poder realziar predicciones. Para obtener más información detallada de la regresión lineal, se puede revisar la carpeta \"maths-for-AI\", y dentro de ella las clases de Vectores y Matrices.</p>"
   ]
  },
  {
   "cell_type": "markdown",
   "id": "f33a723b-62e9-434d-9e4f-6494dc370863",
   "metadata": {},
   "source": [
    "<div style=\"text-align: justify; font-size: 1.1rem\">\n",
    "\n",
    "El código ejercitado aquí corresponde casi en su totalidad (excepto la parte de \"Regresión lineal usando fórmula\") al curso de data science de Frank Andrade de Youtube, como así también las capturas de pantalla sintéticas de la regresión lineal.\n",
    "\n",
    "Link al curso: <a href=\"https://www.youtube.com/watch?v=zAIWnwqHGok\" target=\"_blank\">Curso Data Science - Frank Andrade</a>\n",
    "</div>"
   ]
  },
  {
   "cell_type": "markdown",
   "id": "3b9545ee-213a-47c4-a349-33ffb1c87557",
   "metadata": {},
   "source": [
    "![image1](./images/image14.png)"
   ]
  },
  {
   "cell_type": "markdown",
   "id": "2fa5527c-440d-4303-89a9-bb9d2b6fa727",
   "metadata": {},
   "source": [
    "![image2](./images/image15.png)"
   ]
  },
  {
   "cell_type": "markdown",
   "id": "d6eecaaf-48f1-4a7d-aed2-06b236cdd798",
   "metadata": {},
   "source": [
    "<p style=\"text-align: justify; font-size: 1.1rem\">Para este ejemplo, en el que usaremos unos datos que importaremos con pandas, practicaremos ambos tipos de regresión lineal: simple (1 variable indep y 1 variable dep), y múltiple (más de 1 variable indep y 1 variable dep). Además, usaremos como ejemplo distintas libreías y herramientas.</p>"
   ]
  },
  {
   "cell_type": "code",
   "execution_count": 63,
   "id": "7f0f80c4-9f18-4fc9-b035-e3ddb27cec43",
   "metadata": {},
   "outputs": [],
   "source": [
    "import numpy as np\n",
    "from numpy import linalg as LA\n",
    "import pandas as pd\n",
    "import matplotlib.pyplot as plt\n",
    "import seaborn as sns"
   ]
  },
  {
   "cell_type": "markdown",
   "id": "2b66469b-1676-4866-a04b-e92b72f18b09",
   "metadata": {},
   "source": [
    "<div style=\"text-align: justify; font-size: 1.1rem\">\n",
    "\n",
    "Los datos del siguiente dataset representan:\n",
    "* Rooms: cant de habitaciones de la casa <br>\n",
    "* Distance: distancia respecto a los centros <br>\n",
    "* Value: valor de la casa en miles de dolares <br>\n",
    "<br>\n",
    "\n",
    "Para la regresión lineal simple, utilizaremos:\n",
    "* Rooms - variable independiente <br>\n",
    "* Value - variable dependiente <br>\n",
    "<br>\n",
    "\n",
    "Para la regresión lineal múltiple, usaremos:\n",
    "* Rooms - variable independiente 1 <br>\n",
    "* Distance - variable independiente 2 <br>\n",
    "* Value - variable dependiente\n",
    "</div>"
   ]
  },
  {
   "cell_type": "code",
   "execution_count": 5,
   "id": "21f137e4-9304-42fd-ab18-ee9ea316d60a",
   "metadata": {},
   "outputs": [
    {
     "data": {
      "text/html": [
       "<div>\n",
       "<style scoped>\n",
       "    .dataframe tbody tr th:only-of-type {\n",
       "        vertical-align: middle;\n",
       "    }\n",
       "\n",
       "    .dataframe tbody tr th {\n",
       "        vertical-align: top;\n",
       "    }\n",
       "\n",
       "    .dataframe thead th {\n",
       "        text-align: right;\n",
       "    }\n",
       "</style>\n",
       "<table border=\"1\" class=\"dataframe\">\n",
       "  <thead>\n",
       "    <tr style=\"text-align: right;\">\n",
       "      <th></th>\n",
       "      <th>Rooms</th>\n",
       "      <th>Distance</th>\n",
       "      <th>Value</th>\n",
       "    </tr>\n",
       "  </thead>\n",
       "  <tbody>\n",
       "    <tr>\n",
       "      <th>0</th>\n",
       "      <td>6.575</td>\n",
       "      <td>4.0900</td>\n",
       "      <td>24.0</td>\n",
       "    </tr>\n",
       "    <tr>\n",
       "      <th>1</th>\n",
       "      <td>6.421</td>\n",
       "      <td>4.9671</td>\n",
       "      <td>21.6</td>\n",
       "    </tr>\n",
       "    <tr>\n",
       "      <th>2</th>\n",
       "      <td>7.185</td>\n",
       "      <td>4.9671</td>\n",
       "      <td>34.7</td>\n",
       "    </tr>\n",
       "    <tr>\n",
       "      <th>3</th>\n",
       "      <td>6.998</td>\n",
       "      <td>6.0622</td>\n",
       "      <td>33.4</td>\n",
       "    </tr>\n",
       "    <tr>\n",
       "      <th>4</th>\n",
       "      <td>7.147</td>\n",
       "      <td>6.0622</td>\n",
       "      <td>36.2</td>\n",
       "    </tr>\n",
       "    <tr>\n",
       "      <th>...</th>\n",
       "      <td>...</td>\n",
       "      <td>...</td>\n",
       "      <td>...</td>\n",
       "    </tr>\n",
       "    <tr>\n",
       "      <th>501</th>\n",
       "      <td>6.593</td>\n",
       "      <td>2.4786</td>\n",
       "      <td>22.4</td>\n",
       "    </tr>\n",
       "    <tr>\n",
       "      <th>502</th>\n",
       "      <td>6.120</td>\n",
       "      <td>2.2875</td>\n",
       "      <td>20.6</td>\n",
       "    </tr>\n",
       "    <tr>\n",
       "      <th>503</th>\n",
       "      <td>6.976</td>\n",
       "      <td>2.1675</td>\n",
       "      <td>23.9</td>\n",
       "    </tr>\n",
       "    <tr>\n",
       "      <th>504</th>\n",
       "      <td>6.794</td>\n",
       "      <td>2.3889</td>\n",
       "      <td>22.0</td>\n",
       "    </tr>\n",
       "    <tr>\n",
       "      <th>505</th>\n",
       "      <td>6.030</td>\n",
       "      <td>2.5050</td>\n",
       "      <td>11.9</td>\n",
       "    </tr>\n",
       "  </tbody>\n",
       "</table>\n",
       "<p>506 rows × 3 columns</p>\n",
       "</div>"
      ],
      "text/plain": [
       "     Rooms  Distance  Value\n",
       "0    6.575    4.0900   24.0\n",
       "1    6.421    4.9671   21.6\n",
       "2    7.185    4.9671   34.7\n",
       "3    6.998    6.0622   33.4\n",
       "4    7.147    6.0622   36.2\n",
       "..     ...       ...    ...\n",
       "501  6.593    2.4786   22.4\n",
       "502  6.120    2.2875   20.6\n",
       "503  6.976    2.1675   23.9\n",
       "504  6.794    2.3889   22.0\n",
       "505  6.030    2.5050   11.9\n",
       "\n",
       "[506 rows x 3 columns]"
      ]
     },
     "execution_count": 5,
     "metadata": {},
     "output_type": "execute_result"
    }
   ],
   "source": [
    "df_boston = pd.read_csv(\"./datasets/Boston House Prices.csv\")\n",
    "df_boston"
   ]
  },
  {
   "cell_type": "markdown",
   "id": "bc9e1209-3c9c-4d6e-9e9b-396c270ba9a2",
   "metadata": {},
   "source": [
    "## Regresión lineal con Statsmodels"
   ]
  },
  {
   "cell_type": "code",
   "execution_count": 6,
   "id": "5e03c13d-7378-49d9-9e43-49121754f94d",
   "metadata": {},
   "outputs": [],
   "source": [
    "import statsmodels.api as sm"
   ]
  },
  {
   "cell_type": "markdown",
   "id": "2fc6dd66-edd2-48ca-bf06-5d611c65aa69",
   "metadata": {},
   "source": [
    "### Regresión Lineal Simple"
   ]
  },
  {
   "cell_type": "code",
   "execution_count": 8,
   "id": "c9c8fd99-6adf-46b9-859c-aff201bd2484",
   "metadata": {},
   "outputs": [],
   "source": [
    "# definir las variables dependientes e independientes\n",
    "y = df_boston[\"Value\"]\n",
    "x = df_boston[\"Rooms\"]"
   ]
  },
  {
   "cell_type": "code",
   "execution_count": 10,
   "id": "82c9c7f5-5295-4cbe-8a25-88558ae2c219",
   "metadata": {},
   "outputs": [
    {
     "data": {
      "text/plain": [
       "<Axes: xlabel='Rooms', ylabel='Value'>"
      ]
     },
     "execution_count": 10,
     "metadata": {},
     "output_type": "execute_result"
    },
    {
     "data": {
      "image/png": "[encoded data removed]",
      "text/plain": [
       "<Figure size 640x480 with 1 Axes>"
      ]
     },
     "metadata": {},
     "output_type": "display_data"
    }
   ],
   "source": [
    "# explorar el dataset (por medio de un grafico realizado con pandas)\n",
    "df_boston.plot(kind=\"scatter\", x=\"Rooms\", y =\"Value\")"
   ]
  },
  {
   "cell_type": "code",
   "execution_count": 11,
   "id": "1d61fa89-300f-4fff-866f-19cfb6e4ac29",
   "metadata": {},
   "outputs": [
    {
     "name": "stdout",
     "output_type": "stream",
     "text": [
      "     const  Rooms\n",
      "0      1.0  6.575\n",
      "1      1.0  6.421\n",
      "2      1.0  7.185\n",
      "3      1.0  6.998\n",
      "4      1.0  7.147\n",
      "..     ...    ...\n",
      "501    1.0  6.593\n",
      "502    1.0  6.120\n",
      "503    1.0  6.976\n",
      "504    1.0  6.794\n",
      "505    1.0  6.030\n",
      "\n",
      "[506 rows x 2 columns]\n",
      "<statsmodels.regression.linear_model.RegressionResultsWrapper object at 0x111f82030>\n"
     ]
    }
   ],
   "source": [
    "# crear la regresión: agregar constante (b0 u ordenada al origen de la ecuacion) y ajustar modelo\n",
    "x = sm.add_constant(x) # a la serie que incluye los valores de la variable indep, statsmodels le agrega una columna de unos\n",
    "print(x)\n",
    "\n",
    "# se ajusta y obtiene el modelo, es decir, se consigue el modelo con los minimos cuadrados ordinarios (para que el error sea el menor posible)\n",
    "lm = sm.OLS(y, x).fit()\n",
    "print(lm)"
   ]
  },
  {
   "cell_type": "code",
   "execution_count": 12,
   "id": "ecb85184-d4a0-4d86-9851-724ba006bfa6",
   "metadata": {},
   "outputs": [
    {
     "data": {
      "text/plain": [
       "0      25.175746\n",
       "1      23.774021\n",
       "2      30.728032\n",
       "3      29.025938\n",
       "4      30.382152\n",
       "         ...    \n",
       "501    25.339584\n",
       "502    21.034286\n",
       "503    28.825691\n",
       "504    27.169108\n",
       "505    20.215096\n",
       "Length: 506, dtype: float64"
      ]
     },
     "execution_count": 12,
     "metadata": {},
     "output_type": "execute_result"
    }
   ],
   "source": [
    "lm.predict(x) # con esto, predeciriamos el valor de las casas a partir de valores de la variable indep"
   ]
  },
  {
   "cell_type": "code",
   "execution_count": 13,
   "id": "3b06460d-5460-42e3-aea0-60c3df04e18c",
   "metadata": {},
   "outputs": [
    {
     "data": {
      "text/html": [
       "<table class=\"simpletable\">\n",
       "<caption>OLS Regression Results</caption>\n",
       "<tr>\n",
       "  <th>Dep. Variable:</th>          <td>Value</td>      <th>  R-squared:         </th> <td>   0.484</td>\n",
       "</tr>\n",
       "<tr>\n",
       "  <th>Model:</th>                   <td>OLS</td>       <th>  Adj. R-squared:    </th> <td>   0.483</td>\n",
       "</tr>\n",
       "<tr>\n",
       "  <th>Method:</th>             <td>Least Squares</td>  <th>  F-statistic:       </th> <td>   471.8</td>\n",
       "</tr>\n",
       "<tr>\n",
       "  <th>Date:</th>             <td>Sun, 18 Feb 2024</td> <th>  Prob (F-statistic):</th> <td>2.49e-74</td>\n",
       "</tr>\n",
       "<tr>\n",
       "  <th>Time:</th>                 <td>16:40:08</td>     <th>  Log-Likelihood:    </th> <td> -1673.1</td>\n",
       "</tr>\n",
       "<tr>\n",
       "  <th>No. Observations:</th>      <td>   506</td>      <th>  AIC:               </th> <td>   3350.</td>\n",
       "</tr>\n",
       "<tr>\n",
       "  <th>Df Residuals:</th>          <td>   504</td>      <th>  BIC:               </th> <td>   3359.</td>\n",
       "</tr>\n",
       "<tr>\n",
       "  <th>Df Model:</th>              <td>     1</td>      <th>                     </th>     <td> </td>   \n",
       "</tr>\n",
       "<tr>\n",
       "  <th>Covariance Type:</th>      <td>nonrobust</td>    <th>                     </th>     <td> </td>   \n",
       "</tr>\n",
       "</table>\n",
       "<table class=\"simpletable\">\n",
       "<tr>\n",
       "    <td></td>       <th>coef</th>     <th>std err</th>      <th>t</th>      <th>P>|t|</th>  <th>[0.025</th>    <th>0.975]</th>  \n",
       "</tr>\n",
       "<tr>\n",
       "  <th>const</th> <td>  -34.6706</td> <td>    2.650</td> <td>  -13.084</td> <td> 0.000</td> <td>  -39.877</td> <td>  -29.465</td>\n",
       "</tr>\n",
       "<tr>\n",
       "  <th>Rooms</th> <td>    9.1021</td> <td>    0.419</td> <td>   21.722</td> <td> 0.000</td> <td>    8.279</td> <td>    9.925</td>\n",
       "</tr>\n",
       "</table>\n",
       "<table class=\"simpletable\">\n",
       "<tr>\n",
       "  <th>Omnibus:</th>       <td>102.585</td> <th>  Durbin-Watson:     </th> <td>   0.684</td> \n",
       "</tr>\n",
       "<tr>\n",
       "  <th>Prob(Omnibus):</th> <td> 0.000</td>  <th>  Jarque-Bera (JB):  </th> <td> 612.449</td> \n",
       "</tr>\n",
       "<tr>\n",
       "  <th>Skew:</th>          <td> 0.726</td>  <th>  Prob(JB):          </th> <td>1.02e-133</td>\n",
       "</tr>\n",
       "<tr>\n",
       "  <th>Kurtosis:</th>      <td> 8.190</td>  <th>  Cond. No.          </th> <td>    58.4</td> \n",
       "</tr>\n",
       "</table><br/><br/>Notes:<br/>[1] Standard Errors assume that the covariance matrix of the errors is correctly specified."
      ],
      "text/latex": [
       "\\begin{center}\n",
       "\\begin{tabular}{lclc}\n",
       "\\toprule\n",
       "\\textbf{Dep. Variable:}    &      Value       & \\textbf{  R-squared:         } &     0.484   \\\\\n",
       "\\textbf{Model:}            &       OLS        & \\textbf{  Adj. R-squared:    } &     0.483   \\\\\n",
       "\\textbf{Method:}           &  Least Squares   & \\textbf{  F-statistic:       } &     471.8   \\\\\n",
       "\\textbf{Date:}             & Sun, 18 Feb 2024 & \\textbf{  Prob (F-statistic):} &  2.49e-74   \\\\\n",
       "\\textbf{Time:}             &     16:40:08     & \\textbf{  Log-Likelihood:    } &   -1673.1   \\\\\n",
       "\\textbf{No. Observations:} &         506      & \\textbf{  AIC:               } &     3350.   \\\\\n",
       "\\textbf{Df Residuals:}     &         504      & \\textbf{  BIC:               } &     3359.   \\\\\n",
       "\\textbf{Df Model:}         &           1      & \\textbf{                     } &             \\\\\n",
       "\\textbf{Covariance Type:}  &    nonrobust     & \\textbf{                     } &             \\\\\n",
       "\\bottomrule\n",
       "\\end{tabular}\n",
       "\\begin{tabular}{lcccccc}\n",
       "               & \\textbf{coef} & \\textbf{std err} & \\textbf{t} & \\textbf{P$> |$t$|$} & \\textbf{[0.025} & \\textbf{0.975]}  \\\\\n",
       "\\midrule\n",
       "\\textbf{const} &     -34.6706  &        2.650     &   -13.084  &         0.000        &      -39.877    &      -29.465     \\\\\n",
       "\\textbf{Rooms} &       9.1021  &        0.419     &    21.722  &         0.000        &        8.279    &        9.925     \\\\\n",
       "\\bottomrule\n",
       "\\end{tabular}\n",
       "\\begin{tabular}{lclc}\n",
       "\\textbf{Omnibus:}       & 102.585 & \\textbf{  Durbin-Watson:     } &     0.684  \\\\\n",
       "\\textbf{Prob(Omnibus):} &   0.000 & \\textbf{  Jarque-Bera (JB):  } &   612.449  \\\\\n",
       "\\textbf{Skew:}          &   0.726 & \\textbf{  Prob(JB):          } & 1.02e-133  \\\\\n",
       "\\textbf{Kurtosis:}      &   8.190 & \\textbf{  Cond. No.          } &      58.4  \\\\\n",
       "\\bottomrule\n",
       "\\end{tabular}\n",
       "%\\caption{OLS Regression Results}\n",
       "\\end{center}\n",
       "\n",
       "Notes: \\newline\n",
       " [1] Standard Errors assume that the covariance matrix of the errors is correctly specified."
      ],
      "text/plain": [
       "<class 'statsmodels.iolib.summary.Summary'>\n",
       "\"\"\"\n",
       "                            OLS Regression Results                            \n",
       "==============================================================================\n",
       "Dep. Variable:                  Value   R-squared:                       0.484\n",
       "Model:                            OLS   Adj. R-squared:                  0.483\n",
       "Method:                 Least Squares   F-statistic:                     471.8\n",
       "Date:                Sun, 18 Feb 2024   Prob (F-statistic):           2.49e-74\n",
       "Time:                        16:40:08   Log-Likelihood:                -1673.1\n",
       "No. Observations:                 506   AIC:                             3350.\n",
       "Df Residuals:                     504   BIC:                             3359.\n",
       "Df Model:                           1                                         \n",
       "Covariance Type:            nonrobust                                         \n",
       "==============================================================================\n",
       "                 coef    std err          t      P>|t|      [0.025      0.975]\n",
       "------------------------------------------------------------------------------\n",
       "const        -34.6706      2.650    -13.084      0.000     -39.877     -29.465\n",
       "Rooms          9.1021      0.419     21.722      0.000       8.279       9.925\n",
       "==============================================================================\n",
       "Omnibus:                      102.585   Durbin-Watson:                   0.684\n",
       "Prob(Omnibus):                  0.000   Jarque-Bera (JB):              612.449\n",
       "Skew:                           0.726   Prob(JB):                    1.02e-133\n",
       "Kurtosis:                       8.190   Cond. No.                         58.4\n",
       "==============================================================================\n",
       "\n",
       "Notes:\n",
       "[1] Standard Errors assume that the covariance matrix of the errors is correctly specified.\n",
       "\"\"\""
      ]
     },
     "execution_count": 13,
     "metadata": {},
     "output_type": "execute_result"
    }
   ],
   "source": [
    "# tabla de regresion (para saber que tan bien predice nuestro modelo)\n",
    "lm.summary()"
   ]
  },
  {
   "cell_type": "markdown",
   "id": "edefc900-a98a-4692-9f5c-fc51e26eae94",
   "metadata": {},
   "source": [
    "<div style=\"text-align: justify; font-size: 1.1rem;\">\n",
    "\n",
    "Análisis de algunos valores importantes de la **Tabla de Regresión**\n",
    "\n",
    "Primera tabla:\n",
    "* Dep. Variable: representa cuál es nuestra variable dependiente (en el caso de nuestro dataset, es la columna \"Value\")\n",
    "* Method: método utilzado para generar el modelo, en este caso el de los mínimos cuadrados\n",
    "* R - squared: cuanto más cercano está a 1 este valor, mejor predice nuestro modelo\n",
    "\n",
    "Segunda tabla:\n",
    "* const (coef): valor de nuestra constante b0 de la ecuación lineal\n",
    "* Rooms (coef): valor del coeficiente de x de la ecuación lineal\n",
    "\n",
    "Estos dos últimos valores son los que necesitaremos para generar la ecuación lineal de la regresión lineal simple\n",
    "</div>"
   ]
  },
  {
   "cell_type": "code",
   "execution_count": 19,
   "id": "812aa3cc-79b2-406c-b5e4-530629471482",
   "metadata": {},
   "outputs": [
    {
     "name": "stdout",
     "output_type": "stream",
     "text": [
      "const   -34.670621\n",
      "Rooms     9.102109\n",
      "dtype: float64\n",
      "<class 'pandas.core.series.Series'>\n"
     ]
    }
   ],
   "source": [
    "# Ecuacion de la regresion lineal\n",
    "# Coef Rooms (a): 9.1021\n",
    "# Coef Constante (b): -34.6706\n",
    "\n",
    "# Ecuacion lineal: y = ax + b\n",
    "\n",
    "print(lm.params)\n",
    "print(type(lm.params))\n",
    "b = lm.params.iloc[0]\n",
    "a = lm.params.iloc[1]\n",
    "\n",
    "y_pred = a * x[\"Rooms\"] + b"
   ]
  },
  {
   "cell_type": "code",
   "execution_count": 33,
   "id": "e0fe9f91-4c86-46f9-aa85-e52fcd03c9f4",
   "metadata": {},
   "outputs": [
    {
     "data": {
      "image/png": "[encoded data removed]",
      "text/plain": [
       "<Figure size 600x400 with 1 Axes>"
      ]
     },
     "metadata": {},
     "output_type": "display_data"
    }
   ],
   "source": [
    "# Grafica de la regresion lineal\n",
    "\n",
    "# graficar los puntos\n",
    "plt.figure(figsize=(6, 4), tight_layout=True)\n",
    "sns.scatterplot(x=x[\"Rooms\"], y=y) # nube de puntos de las observaciones reales\n",
    "\n",
    "# graficar la linea de nuestra prediccion\n",
    "sns.lineplot(x=x[\"Rooms\"], y=y_pred, color=\"red\")\n",
    "\n",
    "# axis\n",
    "plt.xlim(0)\n",
    "plt.ylim(0)\n",
    "plt.savefig(\"simple_linear_regression\")\n",
    "plt.show()"
   ]
  },
  {
   "cell_type": "markdown",
   "id": "8b4065dc-3cc0-4c36-af20-767c7d078bdf",
   "metadata": {},
   "source": [
    "### Regresión Lineal Múltiple"
   ]
  },
  {
   "cell_type": "code",
   "execution_count": 22,
   "id": "39598f29-ded3-47b4-be17-c2d623cc2e21",
   "metadata": {},
   "outputs": [
    {
     "data": {
      "text/html": [
       "<div>\n",
       "<style scoped>\n",
       "    .dataframe tbody tr th:only-of-type {\n",
       "        vertical-align: middle;\n",
       "    }\n",
       "\n",
       "    .dataframe tbody tr th {\n",
       "        vertical-align: top;\n",
       "    }\n",
       "\n",
       "    .dataframe thead th {\n",
       "        text-align: right;\n",
       "    }\n",
       "</style>\n",
       "<table border=\"1\" class=\"dataframe\">\n",
       "  <thead>\n",
       "    <tr style=\"text-align: right;\">\n",
       "      <th></th>\n",
       "      <th>Rooms</th>\n",
       "      <th>Distance</th>\n",
       "      <th>Value</th>\n",
       "    </tr>\n",
       "  </thead>\n",
       "  <tbody>\n",
       "    <tr>\n",
       "      <th>0</th>\n",
       "      <td>6.575</td>\n",
       "      <td>4.0900</td>\n",
       "      <td>24.0</td>\n",
       "    </tr>\n",
       "    <tr>\n",
       "      <th>1</th>\n",
       "      <td>6.421</td>\n",
       "      <td>4.9671</td>\n",
       "      <td>21.6</td>\n",
       "    </tr>\n",
       "    <tr>\n",
       "      <th>2</th>\n",
       "      <td>7.185</td>\n",
       "      <td>4.9671</td>\n",
       "      <td>34.7</td>\n",
       "    </tr>\n",
       "    <tr>\n",
       "      <th>3</th>\n",
       "      <td>6.998</td>\n",
       "      <td>6.0622</td>\n",
       "      <td>33.4</td>\n",
       "    </tr>\n",
       "    <tr>\n",
       "      <th>4</th>\n",
       "      <td>7.147</td>\n",
       "      <td>6.0622</td>\n",
       "      <td>36.2</td>\n",
       "    </tr>\n",
       "    <tr>\n",
       "      <th>...</th>\n",
       "      <td>...</td>\n",
       "      <td>...</td>\n",
       "      <td>...</td>\n",
       "    </tr>\n",
       "    <tr>\n",
       "      <th>501</th>\n",
       "      <td>6.593</td>\n",
       "      <td>2.4786</td>\n",
       "      <td>22.4</td>\n",
       "    </tr>\n",
       "    <tr>\n",
       "      <th>502</th>\n",
       "      <td>6.120</td>\n",
       "      <td>2.2875</td>\n",
       "      <td>20.6</td>\n",
       "    </tr>\n",
       "    <tr>\n",
       "      <th>503</th>\n",
       "      <td>6.976</td>\n",
       "      <td>2.1675</td>\n",
       "      <td>23.9</td>\n",
       "    </tr>\n",
       "    <tr>\n",
       "      <th>504</th>\n",
       "      <td>6.794</td>\n",
       "      <td>2.3889</td>\n",
       "      <td>22.0</td>\n",
       "    </tr>\n",
       "    <tr>\n",
       "      <th>505</th>\n",
       "      <td>6.030</td>\n",
       "      <td>2.5050</td>\n",
       "      <td>11.9</td>\n",
       "    </tr>\n",
       "  </tbody>\n",
       "</table>\n",
       "<p>506 rows × 3 columns</p>\n",
       "</div>"
      ],
      "text/plain": [
       "     Rooms  Distance  Value\n",
       "0    6.575    4.0900   24.0\n",
       "1    6.421    4.9671   21.6\n",
       "2    7.185    4.9671   34.7\n",
       "3    6.998    6.0622   33.4\n",
       "4    7.147    6.0622   36.2\n",
       "..     ...       ...    ...\n",
       "501  6.593    2.4786   22.4\n",
       "502  6.120    2.2875   20.6\n",
       "503  6.976    2.1675   23.9\n",
       "504  6.794    2.3889   22.0\n",
       "505  6.030    2.5050   11.9\n",
       "\n",
       "[506 rows x 3 columns]"
      ]
     },
     "execution_count": 22,
     "metadata": {},
     "output_type": "execute_result"
    }
   ],
   "source": [
    "df_boston"
   ]
  },
  {
   "cell_type": "code",
   "execution_count": 25,
   "id": "f91fdfb2-bd80-474a-a21f-87b1267f2dc7",
   "metadata": {},
   "outputs": [],
   "source": [
    "# Definir las variables dependientes e independientes\n",
    "y = df_boston[\"Value\"]\n",
    "X = df_boston[[\"Rooms\", \"Distance\"]]"
   ]
  },
  {
   "cell_type": "code",
   "execution_count": 27,
   "id": "51c1e0f2-b822-4c08-b6e1-e0afb50648b9",
   "metadata": {},
   "outputs": [
    {
     "name": "stdout",
     "output_type": "stream",
     "text": [
      "     const  Rooms  Distance\n",
      "0      1.0  6.575    4.0900\n",
      "1      1.0  6.421    4.9671\n",
      "2      1.0  7.185    4.9671\n",
      "3      1.0  6.998    6.0622\n",
      "4      1.0  7.147    6.0622\n",
      "..     ...    ...       ...\n",
      "501    1.0  6.593    2.4786\n",
      "502    1.0  6.120    2.2875\n",
      "503    1.0  6.976    2.1675\n",
      "504    1.0  6.794    2.3889\n",
      "505    1.0  6.030    2.5050\n",
      "\n",
      "[506 rows x 3 columns]\n"
     ]
    }
   ],
   "source": [
    "# crear la regresion: agregar constante y ajustar modelo\n",
    "X = sm.add_constant(X)\n",
    "print(X)\n",
    "\n",
    "multiple_lm = sm.OLS(y, X).fit()"
   ]
  },
  {
   "cell_type": "code",
   "execution_count": 36,
   "id": "cfd5010a-8d8c-4567-be0d-1f913aeba156",
   "metadata": {},
   "outputs": [
    {
     "data": {
      "text/plain": [
       "0      25.232623\n",
       "1      24.305975\n",
       "2      31.030253\n",
       "3      29.919727\n",
       "4      31.231138\n",
       "         ...    \n",
       "501    24.603318\n",
       "502    20.346831\n",
       "503    27.822178\n",
       "504    26.328552\n",
       "505    19.661029\n",
       "Length: 506, dtype: float64"
      ]
     },
     "execution_count": 36,
     "metadata": {},
     "output_type": "execute_result"
    }
   ],
   "source": [
    "multiple_lm.predict(X)"
   ]
  },
  {
   "cell_type": "code",
   "execution_count": 37,
   "id": "29b0b671-b643-467c-b8c9-63598c73da77",
   "metadata": {},
   "outputs": [
    {
     "data": {
      "text/html": [
       "<table class=\"simpletable\">\n",
       "<caption>OLS Regression Results</caption>\n",
       "<tr>\n",
       "  <th>Dep. Variable:</th>          <td>Value</td>      <th>  R-squared:         </th> <td>   0.496</td>\n",
       "</tr>\n",
       "<tr>\n",
       "  <th>Model:</th>                   <td>OLS</td>       <th>  Adj. R-squared:    </th> <td>   0.494</td>\n",
       "</tr>\n",
       "<tr>\n",
       "  <th>Method:</th>             <td>Least Squares</td>  <th>  F-statistic:       </th> <td>   247.0</td>\n",
       "</tr>\n",
       "<tr>\n",
       "  <th>Date:</th>             <td>Sun, 18 Feb 2024</td> <th>  Prob (F-statistic):</th> <td>1.84e-75</td>\n",
       "</tr>\n",
       "<tr>\n",
       "  <th>Time:</th>                 <td>17:17:58</td>     <th>  Log-Likelihood:    </th> <td> -1667.1</td>\n",
       "</tr>\n",
       "<tr>\n",
       "  <th>No. Observations:</th>      <td>   506</td>      <th>  AIC:               </th> <td>   3340.</td>\n",
       "</tr>\n",
       "<tr>\n",
       "  <th>Df Residuals:</th>          <td>   503</td>      <th>  BIC:               </th> <td>   3353.</td>\n",
       "</tr>\n",
       "<tr>\n",
       "  <th>Df Model:</th>              <td>     2</td>      <th>                     </th>     <td> </td>   \n",
       "</tr>\n",
       "<tr>\n",
       "  <th>Covariance Type:</th>      <td>nonrobust</td>    <th>                     </th>     <td> </td>   \n",
       "</tr>\n",
       "</table>\n",
       "<table class=\"simpletable\">\n",
       "<tr>\n",
       "      <td></td>        <th>coef</th>     <th>std err</th>      <th>t</th>      <th>P>|t|</th>  <th>[0.025</th>    <th>0.975]</th>  \n",
       "</tr>\n",
       "<tr>\n",
       "  <th>const</th>    <td>  -34.6361</td> <td>    2.621</td> <td>  -13.212</td> <td> 0.000</td> <td>  -39.786</td> <td>  -29.486</td>\n",
       "</tr>\n",
       "<tr>\n",
       "  <th>Rooms</th>    <td>    8.8014</td> <td>    0.424</td> <td>   20.780</td> <td> 0.000</td> <td>    7.969</td> <td>    9.634</td>\n",
       "</tr>\n",
       "<tr>\n",
       "  <th>Distance</th> <td>    0.4888</td> <td>    0.141</td> <td>    3.459</td> <td> 0.001</td> <td>    0.211</td> <td>    0.767</td>\n",
       "</tr>\n",
       "</table>\n",
       "<table class=\"simpletable\">\n",
       "<tr>\n",
       "  <th>Omnibus:</th>       <td>142.807</td> <th>  Durbin-Watson:     </th> <td>   0.684</td> \n",
       "</tr>\n",
       "<tr>\n",
       "  <th>Prob(Omnibus):</th> <td> 0.000</td>  <th>  Jarque-Bera (JB):  </th> <td> 844.520</td> \n",
       "</tr>\n",
       "<tr>\n",
       "  <th>Skew:</th>          <td> 1.090</td>  <th>  Prob(JB):          </th> <td>4.12e-184</td>\n",
       "</tr>\n",
       "<tr>\n",
       "  <th>Kurtosis:</th>      <td> 8.942</td>  <th>  Cond. No.          </th> <td>    68.7</td> \n",
       "</tr>\n",
       "</table><br/><br/>Notes:<br/>[1] Standard Errors assume that the covariance matrix of the errors is correctly specified."
      ],
      "text/latex": [
       "\\begin{center}\n",
       "\\begin{tabular}{lclc}\n",
       "\\toprule\n",
       "\\textbf{Dep. Variable:}    &      Value       & \\textbf{  R-squared:         } &     0.496   \\\\\n",
       "\\textbf{Model:}            &       OLS        & \\textbf{  Adj. R-squared:    } &     0.494   \\\\\n",
       "\\textbf{Method:}           &  Least Squares   & \\textbf{  F-statistic:       } &     247.0   \\\\\n",
       "\\textbf{Date:}             & Sun, 18 Feb 2024 & \\textbf{  Prob (F-statistic):} &  1.84e-75   \\\\\n",
       "\\textbf{Time:}             &     17:17:58     & \\textbf{  Log-Likelihood:    } &   -1667.1   \\\\\n",
       "\\textbf{No. Observations:} &         506      & \\textbf{  AIC:               } &     3340.   \\\\\n",
       "\\textbf{Df Residuals:}     &         503      & \\textbf{  BIC:               } &     3353.   \\\\\n",
       "\\textbf{Df Model:}         &           2      & \\textbf{                     } &             \\\\\n",
       "\\textbf{Covariance Type:}  &    nonrobust     & \\textbf{                     } &             \\\\\n",
       "\\bottomrule\n",
       "\\end{tabular}\n",
       "\\begin{tabular}{lcccccc}\n",
       "                  & \\textbf{coef} & \\textbf{std err} & \\textbf{t} & \\textbf{P$> |$t$|$} & \\textbf{[0.025} & \\textbf{0.975]}  \\\\\n",
       "\\midrule\n",
       "\\textbf{const}    &     -34.6361  &        2.621     &   -13.212  &         0.000        &      -39.786    &      -29.486     \\\\\n",
       "\\textbf{Rooms}    &       8.8014  &        0.424     &    20.780  &         0.000        &        7.969    &        9.634     \\\\\n",
       "\\textbf{Distance} &       0.4888  &        0.141     &     3.459  &         0.001        &        0.211    &        0.767     \\\\\n",
       "\\bottomrule\n",
       "\\end{tabular}\n",
       "\\begin{tabular}{lclc}\n",
       "\\textbf{Omnibus:}       & 142.807 & \\textbf{  Durbin-Watson:     } &     0.684  \\\\\n",
       "\\textbf{Prob(Omnibus):} &   0.000 & \\textbf{  Jarque-Bera (JB):  } &   844.520  \\\\\n",
       "\\textbf{Skew:}          &   1.090 & \\textbf{  Prob(JB):          } & 4.12e-184  \\\\\n",
       "\\textbf{Kurtosis:}      &   8.942 & \\textbf{  Cond. No.          } &      68.7  \\\\\n",
       "\\bottomrule\n",
       "\\end{tabular}\n",
       "%\\caption{OLS Regression Results}\n",
       "\\end{center}\n",
       "\n",
       "Notes: \\newline\n",
       " [1] Standard Errors assume that the covariance matrix of the errors is correctly specified."
      ],
      "text/plain": [
       "<class 'statsmodels.iolib.summary.Summary'>\n",
       "\"\"\"\n",
       "                            OLS Regression Results                            \n",
       "==============================================================================\n",
       "Dep. Variable:                  Value   R-squared:                       0.496\n",
       "Model:                            OLS   Adj. R-squared:                  0.494\n",
       "Method:                 Least Squares   F-statistic:                     247.0\n",
       "Date:                Sun, 18 Feb 2024   Prob (F-statistic):           1.84e-75\n",
       "Time:                        17:17:58   Log-Likelihood:                -1667.1\n",
       "No. Observations:                 506   AIC:                             3340.\n",
       "Df Residuals:                     503   BIC:                             3353.\n",
       "Df Model:                           2                                         \n",
       "Covariance Type:            nonrobust                                         \n",
       "==============================================================================\n",
       "                 coef    std err          t      P>|t|      [0.025      0.975]\n",
       "------------------------------------------------------------------------------\n",
       "const        -34.6361      2.621    -13.212      0.000     -39.786     -29.486\n",
       "Rooms          8.8014      0.424     20.780      0.000       7.969       9.634\n",
       "Distance       0.4888      0.141      3.459      0.001       0.211       0.767\n",
       "==============================================================================\n",
       "Omnibus:                      142.807   Durbin-Watson:                   0.684\n",
       "Prob(Omnibus):                  0.000   Jarque-Bera (JB):              844.520\n",
       "Skew:                           1.090   Prob(JB):                    4.12e-184\n",
       "Kurtosis:                       8.942   Cond. No.                         68.7\n",
       "==============================================================================\n",
       "\n",
       "Notes:\n",
       "[1] Standard Errors assume that the covariance matrix of the errors is correctly specified.\n",
       "\"\"\""
      ]
     },
     "execution_count": 37,
     "metadata": {},
     "output_type": "execute_result"
    }
   ],
   "source": [
    "multiple_lm.summary()"
   ]
  },
  {
   "cell_type": "code",
   "execution_count": 38,
   "id": "4ae02cec-2f1f-47c2-bf09-f37e4696d021",
   "metadata": {},
   "outputs": [
    {
     "name": "stdout",
     "output_type": "stream",
     "text": [
      "const      -34.636050\n",
      "Rooms        8.801412\n",
      "Distance     0.488849\n",
      "dtype: float64\n",
      "<class 'pandas.core.series.Series'>\n"
     ]
    }
   ],
   "source": [
    "# Ecuacion de la regresion lineal\n",
    "# Coef Rooms (a1): 8.8014\n",
    "# Coef Distance (a2): 0.4888 \t\n",
    "# Coef Constante (b): -34.6361\n",
    "\n",
    "# Ecuacion lineal: y = a1x1 + a2x2 + b\n",
    "\n",
    "print(multiple_lm.params)\n",
    "print(type(multiple_lm.params))\n",
    "\n",
    "b = multiple_lm.params.iloc[0]\n",
    "a1 = multiple_lm.params.iloc[1]\n",
    "a2 = multiple_lm.params.iloc[2]\n",
    "\n",
    "mult_y_pred = a1 * x[\"Rooms\"] + a2 * x[\"Distance\"] + b"
   ]
  },
  {
   "cell_type": "code",
   "execution_count": 39,
   "id": "cfb8ff51-7f6f-4224-b625-d9b563d07b96",
   "metadata": {},
   "outputs": [
    {
     "data": {
      "image/png": "[encoded data removed]",
      "text/plain": [
       "<Figure size 640x480 with 1 Axes>"
      ]
     },
     "metadata": {},
     "output_type": "display_data"
    }
   ],
   "source": [
    "# Grafica de la regresion lineal\n",
    "\n",
    "# graficar los puntos\n",
    "sns.scatterplot(x='Rooms', y='Value', data=df_boston, hue='Distance', palette='viridis')\n",
    "plt.title('Gráfico de dispersión con dos variables independientes')\n",
    "plt.show()"
   ]
  },
  {
   "cell_type": "code",
   "execution_count": 42,
   "id": "48c21ae3-8aaf-4c70-b515-c2be9375a5a2",
   "metadata": {},
   "outputs": [
    {
     "data": {
      "text/plain": [
       "[]"
      ]
     },
     "execution_count": 42,
     "metadata": {},
     "output_type": "execute_result"
    },
    {
     "data": {
      "image/png": "[encoded data removed]",
      "text/plain": [
       "<Figure size 640x480 with 1 Axes>"
      ]
     },
     "metadata": {},
     "output_type": "display_data"
    }
   ],
   "source": [
    "plt.plot(y, label=\"y_real\")\n",
    "plt.plot(mult_y_pred, label=\"y_prediccion\")\n",
    "plt.legend()\n",
    "plt.savefig(\"multiple_linear_regression\")\n",
    "plt.plot() "
   ]
  },
  {
   "cell_type": "markdown",
   "id": "b6cbbd93-295c-4b1b-a3c5-84b1218a24e9",
   "metadata": {},
   "source": [
    "## Regresión lineal con sklearn"
   ]
  },
  {
   "cell_type": "markdown",
   "id": "eec4dd08-c673-4393-813e-0ecf7337913f",
   "metadata": {},
   "source": [
    "<div style=\"text-align: justify; font-size: 1.1rem;\">\n",
    "\n",
    "scikitlearn es la librería estándar de Python para Machine Learning. Nos permite realizar regresiones lineales simples y múltiples.\n",
    "</div>"
   ]
  },
  {
   "cell_type": "code",
   "execution_count": 44,
   "id": "de959f9b-1b7f-4573-87a4-64f8f413e8fd",
   "metadata": {},
   "outputs": [],
   "source": [
    "from sklearn import linear_model"
   ]
  },
  {
   "cell_type": "markdown",
   "id": "c13cc764-c2f2-4fc3-8be9-947b5170aa93",
   "metadata": {},
   "source": [
    "### Regresión lineal múltiple"
   ]
  },
  {
   "cell_type": "code",
   "execution_count": 45,
   "id": "1b3814c7-c95f-4176-a5bf-6246f9f6008f",
   "metadata": {},
   "outputs": [],
   "source": [
    "# definir las variables dependientes e independientes\n",
    "y = df_boston[\"Value\"]\n",
    "X = df_boston[[\"Rooms\", \"Distance\"]]"
   ]
  },
  {
   "cell_type": "code",
   "execution_count": 47,
   "id": "575de599-65bb-4188-a704-e35c22adb4a2",
   "metadata": {},
   "outputs": [
    {
     "data": {
      "text/html": [
       "<style>#sk-container-id-1 {\n",
       "  /* Definition of color scheme common for light and dark mode */\n",
       "  --sklearn-color-text: black;\n",
       "  --sklearn-color-line: gray;\n",
       "  /* Definition of color scheme for unfitted estimators */\n",
       "  --sklearn-color-unfitted-level-0: #fff5e6;\n",
       "  --sklearn-color-unfitted-level-1: #f6e4d2;\n",
       "  --sklearn-color-unfitted-level-2: #ffe0b3;\n",
       "  --sklearn-color-unfitted-level-3: chocolate;\n",
       "  /* Definition of color scheme for fitted estimators */\n",
       "  --sklearn-color-fitted-level-0: #f0f8ff;\n",
       "  --sklearn-color-fitted-level-1: #d4ebff;\n",
       "  --sklearn-color-fitted-level-2: #b3dbfd;\n",
       "  --sklearn-color-fitted-level-3: cornflowerblue;\n",
       "\n",
       "  /* Specific color for light theme */\n",
       "  --sklearn-color-text-on-default-background: var(--sg-text-color, var(--theme-code-foreground, var(--jp-content-font-color1, black)));\n",
       "  --sklearn-color-background: var(--sg-background-color, var(--theme-background, var(--jp-layout-color0, white)));\n",
       "  --sklearn-color-border-box: var(--sg-text-color, var(--theme-code-foreground, var(--jp-content-font-color1, black)));\n",
       "  --sklearn-color-icon: #696969;\n",
       "\n",
       "  @media (prefers-color-scheme: dark) {\n",
       "    /* Redefinition of color scheme for dark theme */\n",
       "    --sklearn-color-text-on-default-background: var(--sg-text-color, var(--theme-code-foreground, var(--jp-content-font-color1, white)));\n",
       "    --sklearn-color-background: var(--sg-background-color, var(--theme-background, var(--jp-layout-color0, #111)));\n",
       "    --sklearn-color-border-box: var(--sg-text-color, var(--theme-code-foreground, var(--jp-content-font-color1, white)));\n",
       "    --sklearn-color-icon: #878787;\n",
       "  }\n",
       "}\n",
       "\n",
       "#sk-container-id-1 {\n",
       "  color: var(--sklearn-color-text);\n",
       "}\n",
       "\n",
       "#sk-container-id-1 pre {\n",
       "  padding: 0;\n",
       "}\n",
       "\n",
       "#sk-container-id-1 input.sk-hidden--visually {\n",
       "  border: 0;\n",
       "  clip: rect(1px 1px 1px 1px);\n",
       "  clip: rect(1px, 1px, 1px, 1px);\n",
       "  height: 1px;\n",
       "  margin: -1px;\n",
       "  overflow: hidden;\n",
       "  padding: 0;\n",
       "  position: absolute;\n",
       "  width: 1px;\n",
       "}\n",
       "\n",
       "#sk-container-id-1 div.sk-dashed-wrapped {\n",
       "  border: 1px dashed var(--sklearn-color-line);\n",
       "  margin: 0 0.4em 0.5em 0.4em;\n",
       "  box-sizing: border-box;\n",
       "  padding-bottom: 0.4em;\n",
       "  background-color: var(--sklearn-color-background);\n",
       "}\n",
       "\n",
       "#sk-container-id-1 div.sk-container {\n",
       "  /* jupyter's `normalize.less` sets `[hidden] { display: none; }`\n",
       "     but bootstrap.min.css set `[hidden] { display: none !important; }`\n",
       "     so we also need the `!important` here to be able to override the\n",
       "     default hidden behavior on the sphinx rendered scikit-learn.org.\n",
       "     See: https://github.com/scikit-learn/scikit-learn/issues/21755 */\n",
       "  display: inline-block !important;\n",
       "  position: relative;\n",
       "}\n",
       "\n",
       "#sk-container-id-1 div.sk-text-repr-fallback {\n",
       "  display: none;\n",
       "}\n",
       "\n",
       "div.sk-parallel-item,\n",
       "div.sk-serial,\n",
       "div.sk-item {\n",
       "  /* draw centered vertical line to link estimators */\n",
       "  background-image: linear-gradient(var(--sklearn-color-text-on-default-background), var(--sklearn-color-text-on-default-background));\n",
       "  background-size: 2px 100%;\n",
       "  background-repeat: no-repeat;\n",
       "  background-position: center center;\n",
       "}\n",
       "\n",
       "/* Parallel-specific style estimator block */\n",
       "\n",
       "#sk-container-id-1 div.sk-parallel-item::after {\n",
       "  content: \"\";\n",
       "  width: 100%;\n",
       "  border-bottom: 2px solid var(--sklearn-color-text-on-default-background);\n",
       "  flex-grow: 1;\n",
       "}\n",
       "\n",
       "#sk-container-id-1 div.sk-parallel {\n",
       "  display: flex;\n",
       "  align-items: stretch;\n",
       "  justify-content: center;\n",
       "  background-color: var(--sklearn-color-background);\n",
       "  position: relative;\n",
       "}\n",
       "\n",
       "#sk-container-id-1 div.sk-parallel-item {\n",
       "  display: flex;\n",
       "  flex-direction: column;\n",
       "}\n",
       "\n",
       "#sk-container-id-1 div.sk-parallel-item:first-child::after {\n",
       "  align-self: flex-end;\n",
       "  width: 50%;\n",
       "}\n",
       "\n",
       "#sk-container-id-1 div.sk-parallel-item:last-child::after {\n",
       "  align-self: flex-start;\n",
       "  width: 50%;\n",
       "}\n",
       "\n",
       "#sk-container-id-1 div.sk-parallel-item:only-child::after {\n",
       "  width: 0;\n",
       "}\n",
       "\n",
       "/* Serial-specific style estimator block */\n",
       "\n",
       "#sk-container-id-1 div.sk-serial {\n",
       "  display: flex;\n",
       "  flex-direction: column;\n",
       "  align-items: center;\n",
       "  background-color: var(--sklearn-color-background);\n",
       "  padding-right: 1em;\n",
       "  padding-left: 1em;\n",
       "}\n",
       "\n",
       "\n",
       "/* Toggleable style: style used for estimator/Pipeline/ColumnTransformer box that is\n",
       "clickable and can be expanded/collapsed.\n",
       "- Pipeline and ColumnTransformer use this feature and define the default style\n",
       "- Estimators will overwrite some part of the style using the `sk-estimator` class\n",
       "*/\n",
       "\n",
       "/* Pipeline and ColumnTransformer style (default) */\n",
       "\n",
       "#sk-container-id-1 div.sk-toggleable {\n",
       "  /* Default theme specific background. It is overwritten whether we have a\n",
       "  specific estimator or a Pipeline/ColumnTransformer */\n",
       "  background-color: var(--sklearn-color-background);\n",
       "}\n",
       "\n",
       "/* Toggleable label */\n",
       "#sk-container-id-1 label.sk-toggleable__label {\n",
       "  cursor: pointer;\n",
       "  display: block;\n",
       "  width: 100%;\n",
       "  margin-bottom: 0;\n",
       "  padding: 0.5em;\n",
       "  box-sizing: border-box;\n",
       "  text-align: center;\n",
       "}\n",
       "\n",
       "#sk-container-id-1 label.sk-toggleable__label-arrow:before {\n",
       "  /* Arrow on the left of the label */\n",
       "  content: \"▸\";\n",
       "  float: left;\n",
       "  margin-right: 0.25em;\n",
       "  color: var(--sklearn-color-icon);\n",
       "}\n",
       "\n",
       "#sk-container-id-1 label.sk-toggleable__label-arrow:hover:before {\n",
       "  color: var(--sklearn-color-text);\n",
       "}\n",
       "\n",
       "/* Toggleable content - dropdown */\n",
       "\n",
       "#sk-container-id-1 div.sk-toggleable__content {\n",
       "  max-height: 0;\n",
       "  max-width: 0;\n",
       "  overflow: hidden;\n",
       "  text-align: left;\n",
       "  /* unfitted */\n",
       "  background-color: var(--sklearn-color-unfitted-level-0);\n",
       "}\n",
       "\n",
       "#sk-container-id-1 div.sk-toggleable__content.fitted {\n",
       "  /* fitted */\n",
       "  background-color: var(--sklearn-color-fitted-level-0);\n",
       "}\n",
       "\n",
       "#sk-container-id-1 div.sk-toggleable__content pre {\n",
       "  margin: 0.2em;\n",
       "  border-radius: 0.25em;\n",
       "  color: var(--sklearn-color-text);\n",
       "  /* unfitted */\n",
       "  background-color: var(--sklearn-color-unfitted-level-0);\n",
       "}\n",
       "\n",
       "#sk-container-id-1 div.sk-toggleable__content.fitted pre {\n",
       "  /* unfitted */\n",
       "  background-color: var(--sklearn-color-fitted-level-0);\n",
       "}\n",
       "\n",
       "#sk-container-id-1 input.sk-toggleable__control:checked~div.sk-toggleable__content {\n",
       "  /* Expand drop-down */\n",
       "  max-height: 200px;\n",
       "  max-width: 100%;\n",
       "  overflow: auto;\n",
       "}\n",
       "\n",
       "#sk-container-id-1 input.sk-toggleable__control:checked~label.sk-toggleable__label-arrow:before {\n",
       "  content: \"▾\";\n",
       "}\n",
       "\n",
       "/* Pipeline/ColumnTransformer-specific style */\n",
       "\n",
       "#sk-container-id-1 div.sk-label input.sk-toggleable__control:checked~label.sk-toggleable__label {\n",
       "  color: var(--sklearn-color-text);\n",
       "  background-color: var(--sklearn-color-unfitted-level-2);\n",
       "}\n",
       "\n",
       "#sk-container-id-1 div.sk-label.fitted input.sk-toggleable__control:checked~label.sk-toggleable__label {\n",
       "  background-color: var(--sklearn-color-fitted-level-2);\n",
       "}\n",
       "\n",
       "/* Estimator-specific style */\n",
       "\n",
       "/* Colorize estimator box */\n",
       "#sk-container-id-1 div.sk-estimator input.sk-toggleable__control:checked~label.sk-toggleable__label {\n",
       "  /* unfitted */\n",
       "  background-color: var(--sklearn-color-unfitted-level-2);\n",
       "}\n",
       "\n",
       "#sk-container-id-1 div.sk-estimator.fitted input.sk-toggleable__control:checked~label.sk-toggleable__label {\n",
       "  /* fitted */\n",
       "  background-color: var(--sklearn-color-fitted-level-2);\n",
       "}\n",
       "\n",
       "#sk-container-id-1 div.sk-label label.sk-toggleable__label,\n",
       "#sk-container-id-1 div.sk-label label {\n",
       "  /* The background is the default theme color */\n",
       "  color: var(--sklearn-color-text-on-default-background);\n",
       "}\n",
       "\n",
       "/* On hover, darken the color of the background */\n",
       "#sk-container-id-1 div.sk-label:hover label.sk-toggleable__label {\n",
       "  color: var(--sklearn-color-text);\n",
       "  background-color: var(--sklearn-color-unfitted-level-2);\n",
       "}\n",
       "\n",
       "/* Label box, darken color on hover, fitted */\n",
       "#sk-container-id-1 div.sk-label.fitted:hover label.sk-toggleable__label.fitted {\n",
       "  color: var(--sklearn-color-text);\n",
       "  background-color: var(--sklearn-color-fitted-level-2);\n",
       "}\n",
       "\n",
       "/* Estimator label */\n",
       "\n",
       "#sk-container-id-1 div.sk-label label {\n",
       "  font-family: monospace;\n",
       "  font-weight: bold;\n",
       "  display: inline-block;\n",
       "  line-height: 1.2em;\n",
       "}\n",
       "\n",
       "#sk-container-id-1 div.sk-label-container {\n",
       "  text-align: center;\n",
       "}\n",
       "\n",
       "/* Estimator-specific */\n",
       "#sk-container-id-1 div.sk-estimator {\n",
       "  font-family: monospace;\n",
       "  border: 1px dotted var(--sklearn-color-border-box);\n",
       "  border-radius: 0.25em;\n",
       "  box-sizing: border-box;\n",
       "  margin-bottom: 0.5em;\n",
       "  /* unfitted */\n",
       "  background-color: var(--sklearn-color-unfitted-level-0);\n",
       "}\n",
       "\n",
       "#sk-container-id-1 div.sk-estimator.fitted {\n",
       "  /* fitted */\n",
       "  background-color: var(--sklearn-color-fitted-level-0);\n",
       "}\n",
       "\n",
       "/* on hover */\n",
       "#sk-container-id-1 div.sk-estimator:hover {\n",
       "  /* unfitted */\n",
       "  background-color: var(--sklearn-color-unfitted-level-2);\n",
       "}\n",
       "\n",
       "#sk-container-id-1 div.sk-estimator.fitted:hover {\n",
       "  /* fitted */\n",
       "  background-color: var(--sklearn-color-fitted-level-2);\n",
       "}\n",
       "\n",
       "/* Specification for estimator info (e.g. \"i\" and \"?\") */\n",
       "\n",
       "/* Common style for \"i\" and \"?\" */\n",
       "\n",
       ".sk-estimator-doc-link,\n",
       "a:link.sk-estimator-doc-link,\n",
       "a:visited.sk-estimator-doc-link {\n",
       "  float: right;\n",
       "  font-size: smaller;\n",
       "  line-height: 1em;\n",
       "  font-family: monospace;\n",
       "  background-color: var(--sklearn-color-background);\n",
       "  border-radius: 1em;\n",
       "  height: 1em;\n",
       "  width: 1em;\n",
       "  text-decoration: none !important;\n",
       "  margin-left: 1ex;\n",
       "  /* unfitted */\n",
       "  border: var(--sklearn-color-unfitted-level-1) 1pt solid;\n",
       "  color: var(--sklearn-color-unfitted-level-1);\n",
       "}\n",
       "\n",
       ".sk-estimator-doc-link.fitted,\n",
       "a:link.sk-estimator-doc-link.fitted,\n",
       "a:visited.sk-estimator-doc-link.fitted {\n",
       "  /* fitted */\n",
       "  border: var(--sklearn-color-fitted-level-1) 1pt solid;\n",
       "  color: var(--sklearn-color-fitted-level-1);\n",
       "}\n",
       "\n",
       "/* On hover */\n",
       "div.sk-estimator:hover .sk-estimator-doc-link:hover,\n",
       ".sk-estimator-doc-link:hover,\n",
       "div.sk-label-container:hover .sk-estimator-doc-link:hover,\n",
       ".sk-estimator-doc-link:hover {\n",
       "  /* unfitted */\n",
       "  background-color: var(--sklearn-color-unfitted-level-3);\n",
       "  color: var(--sklearn-color-background);\n",
       "  text-decoration: none;\n",
       "}\n",
       "\n",
       "div.sk-estimator.fitted:hover .sk-estimator-doc-link.fitted:hover,\n",
       ".sk-estimator-doc-link.fitted:hover,\n",
       "div.sk-label-container:hover .sk-estimator-doc-link.fitted:hover,\n",
       ".sk-estimator-doc-link.fitted:hover {\n",
       "  /* fitted */\n",
       "  background-color: var(--sklearn-color-fitted-level-3);\n",
       "  color: var(--sklearn-color-background);\n",
       "  text-decoration: none;\n",
       "}\n",
       "\n",
       "/* Span, style for the box shown on hovering the info icon */\n",
       ".sk-estimator-doc-link span {\n",
       "  display: none;\n",
       "  z-index: 9999;\n",
       "  position: relative;\n",
       "  font-weight: normal;\n",
       "  right: .2ex;\n",
       "  padding: .5ex;\n",
       "  margin: .5ex;\n",
       "  width: min-content;\n",
       "  min-width: 20ex;\n",
       "  max-width: 50ex;\n",
       "  color: var(--sklearn-color-text);\n",
       "  box-shadow: 2pt 2pt 4pt #999;\n",
       "  /* unfitted */\n",
       "  background: var(--sklearn-color-unfitted-level-0);\n",
       "  border: .5pt solid var(--sklearn-color-unfitted-level-3);\n",
       "}\n",
       "\n",
       ".sk-estimator-doc-link.fitted span {\n",
       "  /* fitted */\n",
       "  background: var(--sklearn-color-fitted-level-0);\n",
       "  border: var(--sklearn-color-fitted-level-3);\n",
       "}\n",
       "\n",
       ".sk-estimator-doc-link:hover span {\n",
       "  display: block;\n",
       "}\n",
       "\n",
       "/* \"?\"-specific style due to the `<a>` HTML tag */\n",
       "\n",
       "#sk-container-id-1 a.estimator_doc_link {\n",
       "  float: right;\n",
       "  font-size: 1rem;\n",
       "  line-height: 1em;\n",
       "  font-family: monospace;\n",
       "  background-color: var(--sklearn-color-background);\n",
       "  border-radius: 1rem;\n",
       "  height: 1rem;\n",
       "  width: 1rem;\n",
       "  text-decoration: none;\n",
       "  /* unfitted */\n",
       "  color: var(--sklearn-color-unfitted-level-1);\n",
       "  border: var(--sklearn-color-unfitted-level-1) 1pt solid;\n",
       "}\n",
       "\n",
       "#sk-container-id-1 a.estimator_doc_link.fitted {\n",
       "  /* fitted */\n",
       "  border: var(--sklearn-color-fitted-level-1) 1pt solid;\n",
       "  color: var(--sklearn-color-fitted-level-1);\n",
       "}\n",
       "\n",
       "/* On hover */\n",
       "#sk-container-id-1 a.estimator_doc_link:hover {\n",
       "  /* unfitted */\n",
       "  background-color: var(--sklearn-color-unfitted-level-3);\n",
       "  color: var(--sklearn-color-background);\n",
       "  text-decoration: none;\n",
       "}\n",
       "\n",
       "#sk-container-id-1 a.estimator_doc_link.fitted:hover {\n",
       "  /* fitted */\n",
       "  background-color: var(--sklearn-color-fitted-level-3);\n",
       "}\n",
       "</style><div id=\"sk-container-id-1\" class=\"sk-top-container\"><div class=\"sk-text-repr-fallback\"><pre>LinearRegression()</pre><b>In a Jupyter environment, please rerun this cell to show the HTML representation or trust the notebook. <br />On GitHub, the HTML representation is unable to render, please try loading this page with nbviewer.org.</b></div><div class=\"sk-container\" hidden><div class=\"sk-item\"><div class=\"sk-estimator fitted sk-toggleable\"><input class=\"sk-toggleable__control sk-hidden--visually\" id=\"sk-estimator-id-1\" type=\"checkbox\" checked><label for=\"sk-estimator-id-1\" class=\"sk-toggleable__label fitted sk-toggleable__label-arrow fitted\">&nbsp;&nbsp;LinearRegression<a class=\"sk-estimator-doc-link fitted\" rel=\"noreferrer\" target=\"_blank\" href=\"https://scikit-learn.org/1.4/modules/generated/sklearn.linear_model.LinearRegression.html\">?<span>Documentation for LinearRegression</span></a><span class=\"sk-estimator-doc-link fitted\">i<span>Fitted</span></span></label><div class=\"sk-toggleable__content fitted\"><pre>LinearRegression()</pre></div> </div></div></div></div>"
      ],
      "text/plain": [
       "LinearRegression()"
      ]
     },
     "execution_count": 47,
     "metadata": {},
     "output_type": "execute_result"
    }
   ],
   "source": [
    "# ajustar el modelo\n",
    "# no hace falta agregar la constante, ya que sckitlearn lo hace automaticamente)\n",
    "slm = linear_model.LinearRegression()\n",
    "slm.fit(X, y)"
   ]
  },
  {
   "cell_type": "code",
   "execution_count": 49,
   "id": "7f7652e6-a5d9-40c9-ad6e-928f02b03ffe",
   "metadata": {},
   "outputs": [
    {
     "data": {
      "text/plain": [
       "array([25.23262311, 24.30597474, 31.03025338, 29.9197274 , 31.23113776])"
      ]
     },
     "execution_count": 49,
     "metadata": {},
     "output_type": "execute_result"
    }
   ],
   "source": [
    "# predecir valores\n",
    "slm.predict(X)[:5]"
   ]
  },
  {
   "cell_type": "code",
   "execution_count": 50,
   "id": "8e5f9a96-2f43-4660-a642-219fd50bfa02",
   "metadata": {},
   "outputs": [
    {
     "data": {
      "text/plain": [
       "0.4955246476058477"
      ]
     },
     "execution_count": 50,
     "metadata": {},
     "output_type": "execute_result"
    }
   ],
   "source": [
    "# r-squared: score\n",
    "slm.score(X, y)"
   ]
  },
  {
   "cell_type": "code",
   "execution_count": 52,
   "id": "20e82b49-7a40-4940-b5af-abd8575d00e1",
   "metadata": {},
   "outputs": [
    {
     "data": {
      "text/plain": [
       "array([8.80141183, 0.48884854])"
      ]
     },
     "execution_count": 52,
     "metadata": {},
     "output_type": "execute_result"
    }
   ],
   "source": [
    "# coeficientes de cada variable independiente\n",
    "slm.coef_"
   ]
  },
  {
   "cell_type": "code",
   "execution_count": 54,
   "id": "0b9e747c-36dd-460c-9c10-24a30dbaa106",
   "metadata": {},
   "outputs": [
    {
     "data": {
      "text/plain": [
       "-34.636050175473315"
      ]
     },
     "execution_count": 54,
     "metadata": {},
     "output_type": "execute_result"
    }
   ],
   "source": [
    "# interceptor o constante b\n",
    "slm.intercept_"
   ]
  },
  {
   "cell_type": "markdown",
   "id": "feef16e0-3cb1-4dde-9d58-6d32c46ea66d",
   "metadata": {},
   "source": [
    "## Regresión lineal usando fórmula"
   ]
  },
  {
   "cell_type": "markdown",
   "id": "20928715-dbef-47a0-9bbc-6f081b62984c",
   "metadata": {},
   "source": [
    "<p style=\"text-align: justify; font-size: 1.1rem;\">Esta última parte es para comparar los resultados de la constante y los coeficientes usando las librerías con respecto a hacerlo de forma más \"manual\" usando las fórmulas</p>"
   ]
  },
  {
   "cell_type": "markdown",
   "id": "83526ba1-9035-4740-bdaa-b78a6722992a",
   "metadata": {
    "jp-MarkdownHeadingCollapsed": true
   },
   "source": [
    "### Regresión lineal simple"
   ]
  },
  {
   "cell_type": "code",
   "execution_count": 58,
   "id": "53177c95-aacd-4c06-a0f2-d373d3e47804",
   "metadata": {},
   "outputs": [
    {
     "name": "stdout",
     "output_type": "stream",
     "text": [
      "(506,)\n",
      "(506,)\n",
      "6.284634387351779\n"
     ]
    }
   ],
   "source": [
    "# definimos las variables dependientes e independientes\n",
    "x = df_boston[\"Rooms\"].to_numpy()\n",
    "print(x.shape)\n",
    "y = df_boston[\"Value\"].to_numpy()\n",
    "print(y.shape)"
   ]
  },
  {
   "cell_type": "code",
   "execution_count": 59,
   "id": "eedd1347-7322-422c-94f6-969c48c6fb41",
   "metadata": {},
   "outputs": [
    {
     "name": "stdout",
     "output_type": "stream",
     "text": [
      "9.10210898118031\n",
      "-34.67062077643857\n"
     ]
    }
   ],
   "source": [
    "# Ecuacion lineal: y = ax + b\n",
    "numerador = (x - x.mean()) @ (y - y.mean()) # se usa broadcasting\n",
    "denominador = (x - x.mean()) @ (x - x.mean())\n",
    "a = numerador / denominador\n",
    "print(a)\n",
    "b = y.mean() - a * x.mean()\n",
    "print(b)"
   ]
  },
  {
   "cell_type": "markdown",
   "id": "e17ca9aa-ef00-43e8-8956-48f982afefd2",
   "metadata": {},
   "source": [
    "### Regresión lineal múltiple"
   ]
  },
  {
   "cell_type": "code",
   "execution_count": 62,
   "id": "ea711791-5414-4602-87da-e8437f7e8560",
   "metadata": {},
   "outputs": [],
   "source": [
    "X = df_boston[[\"Rooms\", \"Distance\"]].to_numpy()\n",
    "y = df_boston[\"Value\"].to_numpy()"
   ]
  },
  {
   "cell_type": "code",
   "execution_count": 64,
   "id": "b9bc9ffe-a9be-43a6-b985-f5a7014394ca",
   "metadata": {},
   "outputs": [
    {
     "data": {
      "text/plain": [
       "array([3.35378618, 0.49596792])"
      ]
     },
     "execution_count": 64,
     "metadata": {},
     "output_type": "execute_result"
    }
   ],
   "source": [
    "rows,_ = X.shape # Obtengo las filas y columnas\n",
    "X = np.c_[ np.ones(rows), X ] \n",
    "\n",
    "coeficients_and_constant = LA.inv(X.T @ X) @ X.T @ y\n",
    "coeficients_and_constant"
   ]
  },
  {
   "cell_type": "markdown",
   "id": "bdfba880-3afe-49e4-b6c1-22cbd35bfd31",
   "metadata": {},
   "source": [
    "Vemos que llegamos a similares/iguales resultados con las tres alternativas"
   ]
  },
  {
   "cell_type": "code",
   "execution_count": null,
   "id": "3cf402de-d347-4ad1-b0ad-546d80f9a32e",
   "metadata": {},
   "outputs": [],
   "source": []
  }
 ],
 "metadata": {
  "kernelspec": {
   "display_name": "Python 3 (ipykernel)",
   "language": "python",
   "name": "python3"
  },
  "language_info": {
   "codemirror_mode": {
    "name": "ipython",
    "version": 3
   },
   "file_extension": ".py",
   "mimetype": "text/x-python",
   "name": "python",
   "nbconvert_exporter": "python",
   "pygments_lexer": "ipython3",
   "version": "3.12.0"
  }
 },
 "nbformat": 4,
 "nbformat_minor": 5
}
