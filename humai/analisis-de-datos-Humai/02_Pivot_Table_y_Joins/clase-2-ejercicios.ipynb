{
 "cells": [
  {
   "cell_type": "markdown",
   "metadata": {},
   "source": [
    "<a href=\"https://colab.research.google.com/github/institutohumai/cursos-python/blob/master/AnalisisDeDatos/2_Pivot_Table_y_Joins/clase-2-ejercicios.ipynb\"> <img src='https://colab.research.google.com/assets/colab-badge.svg' /> </a>\n",
    "<div align=\"center\"> Recordá abrir en una nueva pestaña </div>\n",
    "\n",
    "\n",
    "# Ejercicios Pandas II"
   ]
  },
  {
   "cell_type": "code",
   "execution_count": 62,
   "metadata": {},
   "outputs": [],
   "source": [
    "import pandas as pd\n",
    "import numpy as np\n",
    "import matplotlib\n",
    "import matplotlib.pyplot as plt\n",
    "\n",
    "plt.style.use('ggplot')\n",
    "%matplotlib inline"
   ]
  },
  {
   "cell_type": "markdown",
   "metadata": {},
   "source": [
    "## Parámetros y extracción de datos"
   ]
  },
  {
   "cell_type": "code",
   "execution_count": 63,
   "metadata": {},
   "outputs": [],
   "source": [
    "ESTIMACIONES_PATH = \"./data/estimaciones-agricolas-al-30-09-2019.csv\""
   ]
  },
  {
   "cell_type": "code",
   "execution_count": 64,
   "metadata": {},
   "outputs": [
    {
     "data": {
      "text/html": [
       "<div>\n",
       "<style scoped>\n",
       "    .dataframe tbody tr th:only-of-type {\n",
       "        vertical-align: middle;\n",
       "    }\n",
       "\n",
       "    .dataframe tbody tr th {\n",
       "        vertical-align: top;\n",
       "    }\n",
       "\n",
       "    .dataframe thead th {\n",
       "        text-align: right;\n",
       "    }\n",
       "</style>\n",
       "<table border=\"1\" class=\"dataframe\">\n",
       "  <thead>\n",
       "    <tr style=\"text-align: right;\">\n",
       "      <th></th>\n",
       "      <th>id_provincia</th>\n",
       "      <th>provincia</th>\n",
       "      <th>id_departamento</th>\n",
       "      <th>departamento</th>\n",
       "      <th>id_cultivo</th>\n",
       "      <th>cultivo</th>\n",
       "      <th>id_campaña</th>\n",
       "      <th>campaña</th>\n",
       "      <th>sup_sembrada</th>\n",
       "      <th>sup_cosechada</th>\n",
       "      <th>produccion</th>\n",
       "      <th>rendimiento</th>\n",
       "    </tr>\n",
       "  </thead>\n",
       "  <tbody>\n",
       "    <tr>\n",
       "      <th>0</th>\n",
       "      <td>06</td>\n",
       "      <td>Buenos Aires</td>\n",
       "      <td>854</td>\n",
       "      <td>25 de Mayo</td>\n",
       "      <td>1.0</td>\n",
       "      <td>Ajo</td>\n",
       "      <td>1</td>\n",
       "      <td>1969/1970</td>\n",
       "      <td>3</td>\n",
       "      <td>3</td>\n",
       "      <td>10</td>\n",
       "      <td>3333</td>\n",
       "    </tr>\n",
       "    <tr>\n",
       "      <th>1</th>\n",
       "      <td>06</td>\n",
       "      <td>Buenos Aires</td>\n",
       "      <td>014</td>\n",
       "      <td>Adolfo Gonzales Chaves</td>\n",
       "      <td>1.0</td>\n",
       "      <td>Ajo</td>\n",
       "      <td>1</td>\n",
       "      <td>1969/1970</td>\n",
       "      <td>15</td>\n",
       "      <td>15</td>\n",
       "      <td>82</td>\n",
       "      <td>5467</td>\n",
       "    </tr>\n",
       "    <tr>\n",
       "      <th>2</th>\n",
       "      <td>06</td>\n",
       "      <td>Buenos Aires</td>\n",
       "      <td>021</td>\n",
       "      <td>Alberti</td>\n",
       "      <td>1.0</td>\n",
       "      <td>Ajo</td>\n",
       "      <td>1</td>\n",
       "      <td>1969/1970</td>\n",
       "      <td>5</td>\n",
       "      <td>5</td>\n",
       "      <td>7</td>\n",
       "      <td>1400</td>\n",
       "    </tr>\n",
       "    <tr>\n",
       "      <th>3</th>\n",
       "      <td>06</td>\n",
       "      <td>Buenos Aires</td>\n",
       "      <td>028</td>\n",
       "      <td>Almirante Brown</td>\n",
       "      <td>1.0</td>\n",
       "      <td>Ajo</td>\n",
       "      <td>1</td>\n",
       "      <td>1969/1970</td>\n",
       "      <td>2</td>\n",
       "      <td>2</td>\n",
       "      <td>8</td>\n",
       "      <td>4000</td>\n",
       "    </tr>\n",
       "    <tr>\n",
       "      <th>4</th>\n",
       "      <td>06</td>\n",
       "      <td>Buenos Aires</td>\n",
       "      <td>077</td>\n",
       "      <td>Arrecifes</td>\n",
       "      <td>1.0</td>\n",
       "      <td>Ajo</td>\n",
       "      <td>1</td>\n",
       "      <td>1969/1970</td>\n",
       "      <td>6</td>\n",
       "      <td>6</td>\n",
       "      <td>15</td>\n",
       "      <td>2500</td>\n",
       "    </tr>\n",
       "  </tbody>\n",
       "</table>\n",
       "</div>"
      ],
      "text/plain": [
       "  id_provincia     provincia id_departamento            departamento  \\\n",
       "0           06  Buenos Aires             854              25 de Mayo   \n",
       "1           06  Buenos Aires             014  Adolfo Gonzales Chaves   \n",
       "2           06  Buenos Aires             021                 Alberti   \n",
       "3           06  Buenos Aires             028         Almirante Brown   \n",
       "4           06  Buenos Aires             077               Arrecifes   \n",
       "\n",
       "   id_cultivo cultivo  id_campaña    campaña  sup_sembrada sup_cosechada  \\\n",
       "0         1.0     Ajo           1  1969/1970             3             3   \n",
       "1         1.0     Ajo           1  1969/1970            15            15   \n",
       "2         1.0     Ajo           1  1969/1970             5             5   \n",
       "3         1.0     Ajo           1  1969/1970             2             2   \n",
       "4         1.0     Ajo           1  1969/1970             6             6   \n",
       "\n",
       "  produccion  rendimiento  \n",
       "0          10        3333  \n",
       "1          82        5467  \n",
       "2           7        1400  \n",
       "3           8        4000  \n",
       "4          15        2500  "
      ]
     },
     "execution_count": 64,
     "metadata": {},
     "output_type": "execute_result"
    }
   ],
   "source": [
    "converters = {\n",
    "    \"id_provincia\": lambda x: str(x).zfill(2),\n",
    "    \"id_departamento\": lambda x: str(x).zfill(3),\n",
    "}\n",
    "\n",
    "estimaciones = pd.read_csv(ESTIMACIONES_PATH, converters=converters, encoding='ISO-8859-1', low_memory=False)\n",
    "\n",
    "estimaciones.head()"
   ]
  },
  {
   "cell_type": "code",
   "execution_count": 65,
   "metadata": {},
   "outputs": [
    {
     "data": {
      "text/plain": [
       "(153889, 12)"
      ]
     },
     "execution_count": 65,
     "metadata": {},
     "output_type": "execute_result"
    }
   ],
   "source": [
    "estimaciones.shape"
   ]
  },
  {
   "cell_type": "code",
   "execution_count": 66,
   "metadata": {},
   "outputs": [
    {
     "data": {
      "text/plain": [
       "Index(['id_provincia', 'provincia', 'id_departamento', 'departamento',\n",
       "       'id_cultivo', 'cultivo', 'id_campaña', 'campaña', 'sup_sembrada',\n",
       "       'sup_cosechada', 'produccion ', 'rendimiento'],\n",
       "      dtype='object')"
      ]
     },
     "execution_count": 66,
     "metadata": {},
     "output_type": "execute_result"
    }
   ],
   "source": [
    "estimaciones.columns"
   ]
  },
  {
   "cell_type": "code",
   "execution_count": 67,
   "metadata": {},
   "outputs": [],
   "source": [
    "new_columns = {col: col.strip() for col in estimaciones.columns}\n",
    "\n",
    "# Renombrar las columnas del DataFrame\n",
    "estimaciones = estimaciones.rename(columns=new_columns)"
   ]
  },
  {
   "cell_type": "markdown",
   "metadata": {},
   "source": [
    "## Ejercicio 1 "
   ]
  },
  {
   "cell_type": "markdown",
   "metadata": {},
   "source": [
    "Explorar descriptivamente el dataset de estimaciones agrícolas (https://datos.gob.ar/dataset/agroindustria-agricultura---estimaciones-agricolas) usando los elementos aprendidos en la clase 2, respondiendo las siguientes preguntas o mostrando:\n",
    "\n",
    "* ¿Cuál es la producción total en toneladas estimada de todos los cultivos en la Argentina, cada año?\n",
    "* ¿Cómo se distribuye el rendimiento (kg por hectárea) estimado promedio del cultivo de soja entre los departamentos que la siembran? ¿Qué tipo de distribución probabilística tiene? ¿Cuál es (y en qué departamento está) el rendimiento mínimo, mediano y máximo? ¿Cuál es el rendimiento promedio? ¿Hay valores potencialmente anómalos?\n",
    "* ¿Cómo se distribuye la superficie sembrada de Papa? ¿Es una distribución probabilística similar a la de la soja? ¿El rendimiento en kg producidos por hectárea es similar entre los departamentos que la cultivan, se distribuye más o menos \"equitativamente\" que el de la soja? ¿Hay valores potencialmente anómalos?\n",
    "* Generá una tabla donde cada cultivo sea una columna, cada fila un año (una campaña) y los valores sean la producción total."
   ]
  },
  {
   "cell_type": "code",
   "execution_count": 68,
   "metadata": {},
   "outputs": [
    {
     "data": {
      "text/plain": [
       "array(['Ajo', 'Algodón', 'Alpiste', 'Arroz', 'Avena', 'Banana',\n",
       "       'Caña de azúcar', 'Cártamo', 'Cebada cervecera',\n",
       "       'Cebada forrajera', 'Cebolla total', 'Centeno', 'Girasol', 'Limón',\n",
       "       'Lino', 'Maíz', 'Mandarina', 'Maní', 'Mijo', 'Naranja',\n",
       "       'Papa total', 'Pomelo', 'Poroto seco', 'Soja total', 'Sorgo', 'Té',\n",
       "       'Trigo total', 'Tung', 'Yerba mate', 'Trigo candeal', 'Colza',\n",
       "       'Jojoba', 'Soja 1ra', 'Soja 2da', 'Cebada total', 'Poroto total',\n",
       "       'Arveja', 'Garbanzo', 'Lenteja', 'Poroto alubia', 'Poroto negro',\n",
       "       'Poroto otros'], dtype=object)"
      ]
     },
     "execution_count": 68,
     "metadata": {},
     "output_type": "execute_result"
    }
   ],
   "source": [
    "estimaciones[\"cultivo\"].unique()"
   ]
  },
  {
   "cell_type": "code",
   "execution_count": 69,
   "metadata": {},
   "outputs": [
    {
     "data": {
      "text/plain": [
       "array(['1969/1970', '1970/1971', '1971/1972', '1972/1973', '1973/1974',\n",
       "       '1974/1975', '1975/1976', '1976/1977', '1977/1978', '1978/1979',\n",
       "       '1979/1980', '1980/1981', '1981/1982', '1982/1983', '1983/1984',\n",
       "       '1984/1985', '1985/1986', '1986/1987', '1987/1988', '1988/1989',\n",
       "       '1989/1990', '1990/1991', '1991/1992', '1992/1993', '1993/1994',\n",
       "       '1994/1995', '1995/1996', '1996/1997', '1997/1998', '1998/1999',\n",
       "       '1999/2000', '2000/2001', '2001/2002', '2002/2003', '2003/2004',\n",
       "       '2004/2005', '2005/2006', '2006/2007', '2007/2008', '2008/2009',\n",
       "       '2009/2010', '2010/2011', '2011/2012', '2012/2013', '2013/2014',\n",
       "       '2014/2015', '2015/2016', '2016/2017', '2017/2018', '2018/2019',\n",
       "       '2019/2020', '2020/2021', '2021/2022', '2022/2023'], dtype=object)"
      ]
     },
     "execution_count": 69,
     "metadata": {},
     "output_type": "execute_result"
    }
   ],
   "source": [
    "estimaciones[\"campaña\"].unique()"
   ]
  },
  {
   "cell_type": "markdown",
   "metadata": {},
   "source": [
    "## Producción total anual"
   ]
  },
  {
   "cell_type": "code",
   "execution_count": 70,
   "metadata": {},
   "outputs": [],
   "source": [
    "estimaciones[[\"campania_inicio\",\"campania_fin\"]] = estimaciones.campaña.str.split(\"/\", n=1,expand=True)"
   ]
  },
  {
   "cell_type": "code",
   "execution_count": 71,
   "metadata": {},
   "outputs": [],
   "source": [
    "estimaciones[\"campania_inicio\"] = estimaciones[\"campania_inicio\"].astype(int)\n",
    "estimaciones[\"campania_fin\"] = estimaciones[\"campania_fin\"].astype(int)"
   ]
  },
  {
   "cell_type": "code",
   "execution_count": 73,
   "metadata": {},
   "outputs": [
    {
     "name": "stderr",
     "output_type": "stream",
     "text": [
      "/var/folders/ph/5sq6jlj161g1_2t838crnx6c0000gp/T/ipykernel_568/789318932.py:2: FutureWarning: A value is trying to be set on a copy of a DataFrame or Series through chained assignment using an inplace method.\n",
      "The behavior will change in pandas 3.0. This inplace method will never work because the intermediate object on which we are setting values always behaves as a copy.\n",
      "\n",
      "For example, when doing 'df[col].method(value, inplace=True)', try using 'df.method({col: value}, inplace=True)' or df[col] = df[col].method(value) instead, to perform the operation inplace on the original object.\n",
      "\n",
      "\n",
      "  estimaciones[\"produccion\"].replace('SD', 0, inplace=True)\n"
     ]
    }
   ],
   "source": [
    "estimaciones[\"produccion\"] = estimaciones[\"produccion\"].fillna(0)\n",
    "estimaciones[\"produccion\"].replace('SD', 0, inplace=True)\n",
    "# pasamos los valores a millones\n",
    "estimaciones[\"produccion\"] = estimaciones.produccion.astype(int)"
   ]
  },
  {
   "cell_type": "code",
   "execution_count": 74,
   "metadata": {},
   "outputs": [
    {
     "data": {
      "text/html": [
       "<div>\n",
       "<style scoped>\n",
       "    .dataframe tbody tr th:only-of-type {\n",
       "        vertical-align: middle;\n",
       "    }\n",
       "\n",
       "    .dataframe tbody tr th {\n",
       "        vertical-align: top;\n",
       "    }\n",
       "\n",
       "    .dataframe thead th {\n",
       "        text-align: right;\n",
       "    }\n",
       "</style>\n",
       "<table border=\"1\" class=\"dataframe\">\n",
       "  <thead>\n",
       "    <tr style=\"text-align: right;\">\n",
       "      <th></th>\n",
       "      <th>produccion</th>\n",
       "    </tr>\n",
       "    <tr>\n",
       "      <th>campania_fin</th>\n",
       "      <th></th>\n",
       "    </tr>\n",
       "  </thead>\n",
       "  <tbody>\n",
       "    <tr>\n",
       "      <th>2019</th>\n",
       "      <td>203090043</td>\n",
       "    </tr>\n",
       "    <tr>\n",
       "      <th>2020</th>\n",
       "      <td>190846551</td>\n",
       "    </tr>\n",
       "    <tr>\n",
       "      <th>2021</th>\n",
       "      <td>187573928</td>\n",
       "    </tr>\n",
       "    <tr>\n",
       "      <th>2022</th>\n",
       "      <td>187668131</td>\n",
       "    </tr>\n",
       "    <tr>\n",
       "      <th>2023</th>\n",
       "      <td>120831981</td>\n",
       "    </tr>\n",
       "  </tbody>\n",
       "</table>\n",
       "</div>"
      ],
      "text/plain": [
       "              produccion\n",
       "campania_fin            \n",
       "2019           203090043\n",
       "2020           190846551\n",
       "2021           187573928\n",
       "2022           187668131\n",
       "2023           120831981"
      ]
     },
     "execution_count": 74,
     "metadata": {},
     "output_type": "execute_result"
    }
   ],
   "source": [
    "# 1) ¿Cuál es la producción total en toneladas estimada de todos los cultivos en la Argentina, cada año?\n",
    "prod_total_por_anio = estimaciones.pivot_table(\n",
    "    index=[\"campania_fin\"],\n",
    "    values=[\"produccion\"],\n",
    "    aggfunc=\"sum\"\n",
    ")\n",
    "\n",
    "prod_total_por_anio.sort_values(\"campania_fin\", ascending=False)\n",
    "prod_total_por_anio.tail()"
   ]
  },
  {
   "cell_type": "code",
   "execution_count": null,
   "metadata": {},
   "outputs": [],
   "source": []
  },
  {
   "cell_type": "code",
   "execution_count": null,
   "metadata": {},
   "outputs": [],
   "source": []
  },
  {
   "cell_type": "code",
   "execution_count": null,
   "metadata": {},
   "outputs": [],
   "source": []
  },
  {
   "cell_type": "code",
   "execution_count": null,
   "metadata": {},
   "outputs": [],
   "source": []
  },
  {
   "cell_type": "code",
   "execution_count": null,
   "metadata": {},
   "outputs": [],
   "source": []
  },
  {
   "cell_type": "code",
   "execution_count": null,
   "metadata": {},
   "outputs": [],
   "source": []
  },
  {
   "cell_type": "code",
   "execution_count": null,
   "metadata": {},
   "outputs": [],
   "source": []
  },
  {
   "cell_type": "code",
   "execution_count": null,
   "metadata": {},
   "outputs": [],
   "source": []
  },
  {
   "cell_type": "code",
   "execution_count": null,
   "metadata": {},
   "outputs": [],
   "source": []
  },
  {
   "cell_type": "code",
   "execution_count": null,
   "metadata": {},
   "outputs": [],
   "source": []
  },
  {
   "cell_type": "code",
   "execution_count": null,
   "metadata": {},
   "outputs": [],
   "source": []
  }
 ],
 "metadata": {
  "kernelspec": {
   "display_name": "Python 3 (ipykernel)",
   "language": "python",
   "name": "python3"
  },
  "language_info": {
   "codemirror_mode": {
    "name": "ipython",
    "version": 3
   },
   "file_extension": ".py",
   "mimetype": "text/x-python",
   "name": "python",
   "nbconvert_exporter": "python",
   "pygments_lexer": "ipython3",
   "version": "3.12.0"
  },
  "toc": {
   "base_numbering": 1,
   "nav_menu": {},
   "number_sections": true,
   "sideBar": true,
   "skip_h1_title": false,
   "title_cell": "Table of Contents",
   "title_sidebar": "Contents",
   "toc_cell": false,
   "toc_position": {},
   "toc_section_display": true,
   "toc_window_display": false
  }
 },
 "nbformat": 4,
 "nbformat_minor": 4
}
