{
 "cells": [
  {
   "cell_type": "markdown",
   "id": "64e568ea-f4da-4881-84d8-ecd1d43161a2",
   "metadata": {},
   "source": [
    "# Clustering vía Propagación de Afinidad"
   ]
  },
  {
   "cell_type": "markdown",
   "id": "1859c205-ccf8-4478-a88b-0a672931ed6e",
   "metadata": {},
   "source": [
    "## Propagación de afinidades (Affinity Propagation)\n",
    "\n",
    "La **propagación de afinidades** es un algoritmo de **clustering** que agrupa datos basándose en las similitudes entre ellos. A diferencia de otros métodos como el **k-means**, no necesitas especificar de antemano cuántos grupos deseas (aunque puedes influir en la cantidad ajustando ciertos parámetros).\n",
    "\n",
    "### ¿Cómo funciona?\n",
    "\n",
    "1. **Similitudes**: Cada punto en los datos \"evalúa\" qué tan parecido es a los demás. Esto se hace mediante una matriz de similitud, que puede basarse en cosas como la distancia euclidiana o correlación.\n",
    "\n",
    "2. **Mensajes de comunicación**: Los puntos intercambian dos tipos de mensajes:\n",
    "   - **Responsabilidad**: Un punto dice a otro qué tan adecuado sería para ser su \"ejemplo representativo\" (o centroide).\n",
    "   - **Disponibilidad**: Un punto evalúa si está dispuesto a ser el \"ejemplo representativo\" considerando las responsabilidades de los demás.\n",
    "\n",
    "3. **Elección de ejemplos representativos**: Mediante iteraciones, el algoritmo decide qué puntos se convierten en los \"ejemplos representativos\" o **exemplars**. Estos son los centros del cluster.\n",
    "\n",
    "4. **Asignación a clusters**: Cada punto se asocia al ejemplo representativo más cercano.\n",
    "\n",
    "### Ventajas\n",
    "\n",
    "- No requiere especificar el número de clusters.\n",
    "- Puede identificar clusters de formas y tamaños diferentes.\n",
    "- Es útil cuando tienes datos con relaciones claras de similitud.\n",
    "\n",
    "### Ejemplo visual\n",
    "\n",
    "Imagina que en una sala todos se preguntan mutuamente quién sería el mejor representante del grupo según ciertas afinidades (como gustos musicales). A través de esta comunicación, un grupo decide automáticamente quiénes serán los líderes y cómo se agruparán las personas alrededor de ellos. "
   ]
  },
  {
   "cell_type": "markdown",
   "id": "2b67f00a-f6c2-47ba-9f9e-4399a805178e",
   "metadata": {},
   "source": [
    "### Ejemplo técnico simple explicado\n",
    "\n",
    "Supongamos que tenemos **5 puntos**: $A, B, C, D, E$. Queremos agruparlos en clusters usando **propagación de afinidades**. Para ello, seguimos estos pasos:\n",
    "\n",
    "---\n",
    "\n",
    "#### **1. Calculamos similitudes entre puntos**\n",
    "\n",
    "La similitud mide qué tan parecidos son dos puntos. Por ejemplo, podríamos usar la distancia negativa (valores más grandes = más parecidos). \n",
    "\n",
    "Supongamos que la matriz de similitud es:\n",
    "\n",
    "$S =\n",
    "\\begin{bmatrix}\n",
    "-10 & -2 & -4 & -6 & -8 \\\\ \n",
    "-2  & -10 & -3 & -7 & -9 \\\\ \n",
    "-4  & -3  & -10 & -5 & -1 \\\\ \n",
    "-6  & -7  & -5  & -10 & -3 \\\\ \n",
    "-8  & -9  & -1  & -3  & -10 \\\\\n",
    "\\end{bmatrix}$\n",
    "\n",
    "Aquí:\n",
    "- $S(A, B) = -2$: El punto $A$ es muy parecido a $B$.\n",
    "- $S(A, E) = -8$: $A$ es menos parecido a $E$.\n",
    "\n",
    "---\n",
    "\n",
    "#### **2. Responsabilidad (\\(R\\))**\n",
    "\n",
    "Cada punto empieza a decidir cuál podría ser su representante. $R(A, B)$ mide qué tan bueno sería que $B$ sea representante de $A$. Se calcula comparando $S(A, B)$ con los demás.\n",
    "\n",
    "Por ejemplo:\n",
    "- Si $A$ evalúa a $B$ como representante, compara la similitud con $B$ ($S(A, B)$) frente a todos los demás puntos para quedarse con la diferencia más alta.\n",
    "\n",
    "---\n",
    "\n",
    "#### **3. Disponibilidad ($A$)**\n",
    "\n",
    "Ahora, $B$ decide si está dispuesto a ser representante. \\(B\\) suma los mensajes de otros puntos que creen que $B$ sería un buen representante.\n",
    "\n",
    "Por ejemplo:\n",
    "- Si muchos puntos quieren que $B$ sea su representante, \\(B\\) lo evalúa considerando si tiene capacidad para ser representante o si debería ceder.\n",
    "\n",
    "---\n",
    "\n",
    "#### **4. Iteraciones**\n",
    "\n",
    "Los puntos intercambian estos mensajes ($R$ y $A$) durante varias rondas hasta llegar a un consenso. Al final, los puntos con los valores más fuertes de $R + A$ se convierten en representantes.\n",
    "\n",
    "---\n",
    "\n",
    "#### **5. Resultado**\n",
    "\n",
    "Supongamos que el algoritmo decide que $B$ y $E$ son los representantes finales. Entonces:\n",
    "- $A$ y $C$ se agrupan con $B$.\n",
    "- $D$ se agrupa con $E$.\n",
    "\n",
    "El resultado final son **2 clusters**: $({A, B, C})$ y $({D, E})$.\n"
   ]
  },
  {
   "cell_type": "markdown",
   "id": "27ee7934-47a7-46de-9580-9b7aab41a4f8",
   "metadata": {},
   "source": [
    "## Ejemplo en Python"
   ]
  },
  {
   "cell_type": "markdown",
   "id": "a893212f-4bde-46df-a3e2-5e222e2f6976",
   "metadata": {},
   "source": [
    "### Affinity Propagation: Contexto y Datos"
   ]
  },
  {
   "cell_type": "code",
   "execution_count": 1,
   "id": "f130b7d2-b883-4fd1-99a7-d75db9da78b9",
   "metadata": {},
   "outputs": [],
   "source": [
    "import pandas as pd\n",
    "import numpy as np\n",
    "import matplotlib.pyplot as plt\n",
    "from sklearn.cluster import AffinityPropagation"
   ]
  },
  {
   "cell_type": "code",
   "execution_count": 6,
   "id": "54b081a5-22d8-4b6c-bd8a-2557539a6e54",
   "metadata": {},
   "outputs": [
    {
     "data": {
      "text/html": [
       "<div>\n",
       "<style scoped>\n",
       "    .dataframe tbody tr th:only-of-type {\n",
       "        vertical-align: middle;\n",
       "    }\n",
       "\n",
       "    .dataframe tbody tr th {\n",
       "        vertical-align: top;\n",
       "    }\n",
       "\n",
       "    .dataframe thead th {\n",
       "        text-align: right;\n",
       "    }\n",
       "</style>\n",
       "<table border=\"1\" class=\"dataframe\">\n",
       "  <thead>\n",
       "    <tr style=\"text-align: right;\">\n",
       "      <th></th>\n",
       "      <th>alan</th>\n",
       "      <th>alberto</th>\n",
       "      <th>alex</th>\n",
       "      <th>zelda</th>\n",
       "      <th>zoila</th>\n",
       "      <th>zulema</th>\n",
       "    </tr>\n",
       "  </thead>\n",
       "  <tbody>\n",
       "    <tr>\n",
       "      <th>ahorro</th>\n",
       "      <td>2</td>\n",
       "      <td>3</td>\n",
       "      <td>3</td>\n",
       "      <td>7</td>\n",
       "      <td>6</td>\n",
       "      <td>6</td>\n",
       "    </tr>\n",
       "    <tr>\n",
       "      <th>evaluacion</th>\n",
       "      <td>4</td>\n",
       "      <td>3</td>\n",
       "      <td>2</td>\n",
       "      <td>6</td>\n",
       "      <td>7</td>\n",
       "      <td>8</td>\n",
       "    </tr>\n",
       "  </tbody>\n",
       "</table>\n",
       "</div>"
      ],
      "text/plain": [
       "            alan  alberto  alex  zelda  zoila  zulema\n",
       "ahorro         2        3     3      7      6       6\n",
       "evaluacion     4        3     2      6      7       8"
      ]
     },
     "execution_count": 6,
     "metadata": {},
     "output_type": "execute_result"
    }
   ],
   "source": [
    "datos = {\"alan\" : [2, 4], # ahorro: $20.000, score o evaluacion crediticia: 4 (del 1 al 10)\n",
    "         \"alberto\" : [3, 3],\n",
    "         \"alex\" : [3, 2], \n",
    "         \"zelda\" : [7, 6], \n",
    "         \"zoila\" : [6, 7], \n",
    "         \"zulema\" : [6, 8]}\n",
    "\n",
    "personas = set(datos.keys())\n",
    "datos = pd.DataFrame(datos, index=[\"ahorro\", \"evaluacion\"])\n",
    "datos"
   ]
  },
  {
   "cell_type": "code",
   "execution_count": 7,
   "id": "9752d0f4-ca86-4f45-9322-29f8aa0ec65f",
   "metadata": {},
   "outputs": [
    {
     "data": {
      "text/html": [
       "<div>\n",
       "<style scoped>\n",
       "    .dataframe tbody tr th:only-of-type {\n",
       "        vertical-align: middle;\n",
       "    }\n",
       "\n",
       "    .dataframe tbody tr th {\n",
       "        vertical-align: top;\n",
       "    }\n",
       "\n",
       "    .dataframe thead th {\n",
       "        text-align: right;\n",
       "    }\n",
       "</style>\n",
       "<table border=\"1\" class=\"dataframe\">\n",
       "  <thead>\n",
       "    <tr style=\"text-align: right;\">\n",
       "      <th></th>\n",
       "      <th>ahorro</th>\n",
       "      <th>evaluacion</th>\n",
       "    </tr>\n",
       "  </thead>\n",
       "  <tbody>\n",
       "    <tr>\n",
       "      <th>alan</th>\n",
       "      <td>2</td>\n",
       "      <td>4</td>\n",
       "    </tr>\n",
       "    <tr>\n",
       "      <th>alberto</th>\n",
       "      <td>3</td>\n",
       "      <td>3</td>\n",
       "    </tr>\n",
       "    <tr>\n",
       "      <th>alex</th>\n",
       "      <td>3</td>\n",
       "      <td>2</td>\n",
       "    </tr>\n",
       "    <tr>\n",
       "      <th>zelda</th>\n",
       "      <td>7</td>\n",
       "      <td>6</td>\n",
       "    </tr>\n",
       "    <tr>\n",
       "      <th>zoila</th>\n",
       "      <td>6</td>\n",
       "      <td>7</td>\n",
       "    </tr>\n",
       "    <tr>\n",
       "      <th>zulema</th>\n",
       "      <td>6</td>\n",
       "      <td>8</td>\n",
       "    </tr>\n",
       "  </tbody>\n",
       "</table>\n",
       "</div>"
      ],
      "text/plain": [
       "         ahorro  evaluacion\n",
       "alan          2           4\n",
       "alberto       3           3\n",
       "alex          3           2\n",
       "zelda         7           6\n",
       "zoila         6           7\n",
       "zulema        6           8"
      ]
     },
     "execution_count": 7,
     "metadata": {},
     "output_type": "execute_result"
    }
   ],
   "source": [
    "datos.T"
   ]
  },
  {
   "cell_type": "markdown",
   "id": "094992b8-6931-4728-a0a5-8af2975b7816",
   "metadata": {},
   "source": [
    "### Visualización de Datos"
   ]
  },
  {
   "cell_type": "markdown",
   "id": "cd05270f-bce1-4033-a18f-7fe272808ddc",
   "metadata": {},
   "source": [
    "Aquí realizamos una representación visual de los datos, sabiendo de antemano los clúster que se formarán, simplemente para tener una idea de cómo quedarán dichos clústers antes de comenzar a armarlos."
   ]
  },
  {
   "cell_type": "code",
   "execution_count": 8,
   "id": "5b2d236c-fc70-4e57-8d78-33ac50b7050f",
   "metadata": {},
   "outputs": [
    {
     "data": {
      "image/png": "[encoded data removed]",
      "text/plain": [
       "<Figure size 700x700 with 1 Axes>"
      ]
     },
     "metadata": {},
     "output_type": "display_data"
    }
   ],
   "source": [
    "plt.figure(figsize=(7, 7))\n",
    "\n",
    "plt.title(\"Análisis crediticio\", fontsize=20)\n",
    "\n",
    "plt.scatter(\n",
    "    datos.T[0:3][\"ahorro\"],\n",
    "    datos.T[0:3][\"evaluacion\"],\n",
    "    marker=\"x\", s=150, color=\"red\",\n",
    "    linewidths=5, label=\"Nombres con A\"\n",
    ")\n",
    "\n",
    "plt.scatter(\n",
    "    datos.T[3:][\"ahorro\"],\n",
    "    datos.T[3:][\"evaluacion\"],\n",
    "    marker=\"o\", s=150, color=\"blue\",\n",
    "    linewidths=5, label=\"Nombres con Z\"\n",
    ")\n",
    "\n",
    "for i in range(len(datos.columns)):\n",
    "    plt.text(datos[datos.columns[i]][0]+0.3, \n",
    "             datos[datos.columns[i]][1]+0.3, \n",
    "             datos.columns[i].capitalize())\n",
    "    \n",
    "plt.xlabel(\"Ahorro\", fontsize=15)\n",
    "plt.ylabel(\"Evaluación Crediticia\", fontsize=15)\n",
    "plt.legend(bbox_to_anchor=(1.35, 0.15))\n",
    "plt.box(False)\n",
    "plt.xlim((0, 10.01))\n",
    "plt.ylim((0, 10.01))\n",
    "plt.grid()\n",
    "plt.show()"
   ]
  },
  {
   "cell_type": "markdown",
   "id": "a274da00-42a4-44c0-baca-528c5e8e434f",
   "metadata": {},
   "source": [
    "### Paso a Paso"
   ]
  },
  {
   "cell_type": "markdown",
   "id": "5d95efb7-344a-4f90-91fd-962783b8d2a4",
   "metadata": {},
   "source": [
    "#### Matrices para la Propagación de Afinidad:\n",
    "\n",
    "* $s$: similitud (entrada). Cada fila representa la similitud de un punto con respecto a sí mismo y a los demás puntos. Esta similitud se basa en la distancia euclidiana entre los puntos, pero expresada con un signo negativo adelante.\n",
    "* $r$: responsabilidad. Cada fila representa cómo es considerado un punto específico según el resto de los demás puntos para ser un EJEMPLAR.\n",
    "* $d$: disponibilidad. Cada fila representa cómo se considera a sí mismo un punto específico como EJEMPLAR para cada uno de los demás puntos.\n",
    "* $a$: asignaciones (salida)"
   ]
  },
  {
   "cell_type": "markdown",
   "id": "a14f9a17-50a7-4824-9a5f-c0c917460fc5",
   "metadata": {},
   "source": [
    "### Similitud entre dos puntos $i, k$"
   ]
  },
  {
   "cell_type": "markdown",
   "id": "8a49b6ee-c3d3-4920-b934-3d0a7cf4779c",
   "metadata": {},
   "source": [
    "#### Métrica: Distancia Euclidiana al cuadrado"
   ]
  },
  {
   "cell_type": "code",
   "execution_count": 13,
   "id": "e094518d-e991-4136-8c0e-87c677e08c4b",
   "metadata": {},
   "outputs": [
    {
     "data": {
      "text/html": [
       "<div>\n",
       "<style scoped>\n",
       "    .dataframe tbody tr th:only-of-type {\n",
       "        vertical-align: middle;\n",
       "    }\n",
       "\n",
       "    .dataframe tbody tr th {\n",
       "        vertical-align: top;\n",
       "    }\n",
       "\n",
       "    .dataframe thead th {\n",
       "        text-align: right;\n",
       "    }\n",
       "</style>\n",
       "<table border=\"1\" class=\"dataframe\">\n",
       "  <thead>\n",
       "    <tr style=\"text-align: right;\">\n",
       "      <th></th>\n",
       "      <th>alan</th>\n",
       "      <th>alberto</th>\n",
       "      <th>alex</th>\n",
       "      <th>zelda</th>\n",
       "      <th>zoila</th>\n",
       "      <th>zulema</th>\n",
       "    </tr>\n",
       "  </thead>\n",
       "  <tbody>\n",
       "    <tr>\n",
       "      <th>ahorro</th>\n",
       "      <td>2</td>\n",
       "      <td>3</td>\n",
       "      <td>3</td>\n",
       "      <td>7</td>\n",
       "      <td>6</td>\n",
       "      <td>6</td>\n",
       "    </tr>\n",
       "    <tr>\n",
       "      <th>evaluacion</th>\n",
       "      <td>4</td>\n",
       "      <td>3</td>\n",
       "      <td>2</td>\n",
       "      <td>6</td>\n",
       "      <td>7</td>\n",
       "      <td>8</td>\n",
       "    </tr>\n",
       "  </tbody>\n",
       "</table>\n",
       "</div>"
      ],
      "text/plain": [
       "            alan  alberto  alex  zelda  zoila  zulema\n",
       "ahorro         2        3     3      7      6       6\n",
       "evaluacion     4        3     2      6      7       8"
      ]
     },
     "execution_count": 13,
     "metadata": {},
     "output_type": "execute_result"
    }
   ],
   "source": [
    "datos"
   ]
  },
  {
   "cell_type": "code",
   "execution_count": 18,
   "id": "3c600dba-9815-4a9a-a7b8-147017c6e0e4",
   "metadata": {},
   "outputs": [
    {
     "data": {
      "text/plain": [
       "ahorro       -1\n",
       "evaluacion    1\n",
       "dtype: int64"
      ]
     },
     "execution_count": 18,
     "metadata": {},
     "output_type": "execute_result"
    }
   ],
   "source": [
    "datos[\"alan\"] - datos[\"alberto\"]"
   ]
  },
  {
   "cell_type": "code",
   "execution_count": 19,
   "id": "1339ea0c-b5a6-4d34-977f-4a920fd669c6",
   "metadata": {},
   "outputs": [
    {
     "data": {
      "text/plain": [
       "ahorro        1\n",
       "evaluacion    1\n",
       "dtype: int64"
      ]
     },
     "execution_count": 19,
     "metadata": {},
     "output_type": "execute_result"
    }
   ],
   "source": [
    "(datos[\"alan\"] - datos[\"alberto\"])**2"
   ]
  },
  {
   "cell_type": "code",
   "execution_count": 20,
   "id": "875cf990-1651-4641-afa8-96814624e58e",
   "metadata": {},
   "outputs": [
    {
     "data": {
      "text/plain": [
       "2"
      ]
     },
     "execution_count": 20,
     "metadata": {},
     "output_type": "execute_result"
    }
   ],
   "source": [
    "((datos[\"alan\"] - datos[\"alberto\"])**2).sum()"
   ]
  },
  {
   "cell_type": "code",
   "execution_count": 15,
   "id": "e247830f-9416-49f6-88e4-a66d0c6bd026",
   "metadata": {},
   "outputs": [
    {
     "name": "stdout",
     "output_type": "stream",
     "text": [
      "Distancia entre Alan y Alberto: -2\n",
      "Distancia entre Alan y Zulema: -32\n"
     ]
    }
   ],
   "source": [
    "print(\"Distancia entre Alan y Alberto:\",  -((datos[\"alan\"] - datos[\"alberto\"])**2).sum()  )\n",
    "print(\"Distancia entre Alan y Zulema:\", -((datos[\"alan\"] - datos[\"zulema\"])**2).sum()   )"
   ]
  },
  {
   "cell_type": "markdown",
   "id": "cbaae6ee-0d5f-4d51-b850-ebe159ef7821",
   "metadata": {},
   "source": [
    "* Alan y Alberto tienen menor diferencia\n",
    "* Alan y Zulema tienen mayor diferencia "
   ]
  },
  {
   "cell_type": "markdown",
   "id": "20fb91d4-aa66-4af0-bb73-33dac70d3cf7",
   "metadata": {},
   "source": [
    "#### Razón de la ausencia de la raíz cuadrada en la fórmula de similitud\n",
    "\n",
    "En la propagación de afinidad, la fórmula como ésta:\n",
    "\n",
    "```python\n",
    "-((datos[\"alan\"] - datos[\"alberto\"])**2).sum()\n",
    "```\n",
    "\n",
    "se refiere a una forma de calcular la **similitud** entre dos vectores, pero sin aplicar la raíz cuadrada, lo que podría parecer contradictorio con la distancia euclidiana estándar, que generalmente incluye la raíz cuadrada.\n",
    "\n",
    "##### 1. Minimización de cálculos\n",
    "\n",
    "La **distancia euclidiana** generalmente se calcula como:\n",
    "\n",
    "$d(\\mathbf{u}, \\mathbf{v}) = \\sqrt{\\sum_{i=1}^{n} (u_i - v_i)^2}$\n",
    "\n",
    "Sin embargo, en el contexto de muchos algoritmos de aprendizaje automático, **la raíz cuadrada no cambia el orden relativo de las distancias**. Esto se debe a que, al comparar distancias, si el orden de magnitudes se mantiene (es decir, quién es más cercano o más lejano), no es necesario calcular la raíz cuadrada. El resultado de la comparación sigue siendo válido sin la raíz cuadrada.\n",
    "\n",
    "##### 2. Similitud en lugar de distancia\n",
    "\n",
    "Muchas veces, en propagación de afinidad, se busca **similitud** en lugar de distancia. La fórmula usada calcula una **diferencia al cuadrado** de los elementos correspondientes de los vectores, lo que está relacionado con la **distancia al cuadrado**. Cuando se busca similitud, se suele querer una función que crezca más a medida que los vectores sean más similares. Entonces, en lugar de calcular la distancia euclidiana (que da un valor positivo y mayor a medida que la diferencia aumenta), se puede trabajar directamente con la **suma de los cuadrados** de las diferencias para simplificar las operaciones y preservar la estructura de comparación. Además, el signo negativo en la fórmula asegura que, al usar esta cantidad como afinidad o similitud, valores más cercanos (con menor diferencia) resulten en un valor mayor de similitud.\n",
    "\n",
    "##### 3. Escalabilidad\n",
    "\n",
    "En algunos algoritmos, se buscan fórmulas más simples y computacionalmente eficientes para obtener relaciones de afinidad o similitud, y el cálculo de la distancia sin la raíz cuadrada reduce los costos computacionales. \n",
    "\n",
    "Por ejemplo, si quieres una medida que te permita comparar dos vectores en términos de \"distancia\" o \"diferencia\", pero no te importa si la cantidad exacta varía con la raíz cuadrada, trabajar directamente con la **suma de los cuadrados de las diferencias** es una alternativa más eficiente y que conserva la calidad de la comparación."
   ]
  },
  {
   "cell_type": "markdown",
   "id": "64a8859e-a58d-4f27-8a21-29b7bb14f24e",
   "metadata": {},
   "source": [
    "### Creación de matriz de similitud para $i \\neq k$"
   ]
  },
  {
   "cell_type": "code",
   "execution_count": 22,
   "id": "da13dfd9-c135-4ccd-b044-7084200784e3",
   "metadata": {},
   "outputs": [
    {
     "data": {
      "text/html": [
       "<div>\n",
       "<style scoped>\n",
       "    .dataframe tbody tr th:only-of-type {\n",
       "        vertical-align: middle;\n",
       "    }\n",
       "\n",
       "    .dataframe tbody tr th {\n",
       "        vertical-align: top;\n",
       "    }\n",
       "\n",
       "    .dataframe thead th {\n",
       "        text-align: right;\n",
       "    }\n",
       "</style>\n",
       "<table border=\"1\" class=\"dataframe\">\n",
       "  <thead>\n",
       "    <tr style=\"text-align: right;\">\n",
       "      <th></th>\n",
       "      <th>alan</th>\n",
       "      <th>alberto</th>\n",
       "      <th>alex</th>\n",
       "      <th>zelda</th>\n",
       "      <th>zoila</th>\n",
       "      <th>zulema</th>\n",
       "    </tr>\n",
       "  </thead>\n",
       "  <tbody>\n",
       "    <tr>\n",
       "      <th>alan</th>\n",
       "      <td>0</td>\n",
       "      <td>-2</td>\n",
       "      <td>-5</td>\n",
       "      <td>-29</td>\n",
       "      <td>-25</td>\n",
       "      <td>-32</td>\n",
       "    </tr>\n",
       "    <tr>\n",
       "      <th>alberto</th>\n",
       "      <td>-2</td>\n",
       "      <td>0</td>\n",
       "      <td>-1</td>\n",
       "      <td>-25</td>\n",
       "      <td>-25</td>\n",
       "      <td>-34</td>\n",
       "    </tr>\n",
       "    <tr>\n",
       "      <th>alex</th>\n",
       "      <td>-5</td>\n",
       "      <td>-1</td>\n",
       "      <td>0</td>\n",
       "      <td>-32</td>\n",
       "      <td>-34</td>\n",
       "      <td>-45</td>\n",
       "    </tr>\n",
       "    <tr>\n",
       "      <th>zelda</th>\n",
       "      <td>-29</td>\n",
       "      <td>-25</td>\n",
       "      <td>-32</td>\n",
       "      <td>0</td>\n",
       "      <td>-2</td>\n",
       "      <td>-5</td>\n",
       "    </tr>\n",
       "    <tr>\n",
       "      <th>zoila</th>\n",
       "      <td>-25</td>\n",
       "      <td>-25</td>\n",
       "      <td>-34</td>\n",
       "      <td>-2</td>\n",
       "      <td>0</td>\n",
       "      <td>-1</td>\n",
       "    </tr>\n",
       "    <tr>\n",
       "      <th>zulema</th>\n",
       "      <td>-32</td>\n",
       "      <td>-34</td>\n",
       "      <td>-45</td>\n",
       "      <td>-5</td>\n",
       "      <td>-1</td>\n",
       "      <td>0</td>\n",
       "    </tr>\n",
       "  </tbody>\n",
       "</table>\n",
       "</div>"
      ],
      "text/plain": [
       "         alan  alberto  alex  zelda  zoila  zulema\n",
       "alan        0       -2    -5    -29    -25     -32\n",
       "alberto    -2        0    -1    -25    -25     -34\n",
       "alex       -5       -1     0    -32    -34     -45\n",
       "zelda     -29      -25   -32      0     -2      -5\n",
       "zoila     -25      -25   -34     -2      0      -1\n",
       "zulema    -32      -34   -45     -5     -1       0"
      ]
     },
     "execution_count": 22,
     "metadata": {},
     "output_type": "execute_result"
    }
   ],
   "source": [
    "s = pd.DataFrame(0, columns=datos.columns, index=datos.columns)\n",
    "\n",
    "for i in personas:\n",
    "    for k in personas:\n",
    "        s.loc[i, k] = -((datos[i] - datos[k])**2).sum()\n",
    "\n",
    "s"
   ]
  },
  {
   "cell_type": "markdown",
   "id": "2de55378-9ddb-4fa7-90db-654daa6cf212",
   "metadata": {},
   "source": [
    "### Preferencia a priori de cada punto como Ejemplar"
   ]
  },
  {
   "cell_type": "markdown",
   "id": "5c35533e-e6b1-478f-959e-1bfaff212fb2",
   "metadata": {},
   "source": [
    "Como no nos interesa en este caso establecer de antemano ningún punto como posible ejemplar a priori, en la diagonal llenamos los valores de cada uno con el valor de similitud mínima de la matriz, como indicando que ninguno tiene una relevancia sobre otro de antemano."
   ]
  },
  {
   "cell_type": "code",
   "execution_count": 23,
   "id": "4fe1738c-bc28-49fc-a069-3f1f6fbd91aa",
   "metadata": {},
   "outputs": [
    {
     "data": {
      "text/html": [
       "<div>\n",
       "<style scoped>\n",
       "    .dataframe tbody tr th:only-of-type {\n",
       "        vertical-align: middle;\n",
       "    }\n",
       "\n",
       "    .dataframe tbody tr th {\n",
       "        vertical-align: top;\n",
       "    }\n",
       "\n",
       "    .dataframe thead th {\n",
       "        text-align: right;\n",
       "    }\n",
       "</style>\n",
       "<table border=\"1\" class=\"dataframe\">\n",
       "  <thead>\n",
       "    <tr style=\"text-align: right;\">\n",
       "      <th></th>\n",
       "      <th>alan</th>\n",
       "      <th>alberto</th>\n",
       "      <th>alex</th>\n",
       "      <th>zelda</th>\n",
       "      <th>zoila</th>\n",
       "      <th>zulema</th>\n",
       "    </tr>\n",
       "  </thead>\n",
       "  <tbody>\n",
       "    <tr>\n",
       "      <th>alan</th>\n",
       "      <td>-45</td>\n",
       "      <td>-2</td>\n",
       "      <td>-5</td>\n",
       "      <td>-29</td>\n",
       "      <td>-25</td>\n",
       "      <td>-32</td>\n",
       "    </tr>\n",
       "    <tr>\n",
       "      <th>alberto</th>\n",
       "      <td>-2</td>\n",
       "      <td>-45</td>\n",
       "      <td>-1</td>\n",
       "      <td>-25</td>\n",
       "      <td>-25</td>\n",
       "      <td>-34</td>\n",
       "    </tr>\n",
       "    <tr>\n",
       "      <th>alex</th>\n",
       "      <td>-5</td>\n",
       "      <td>-1</td>\n",
       "      <td>-45</td>\n",
       "      <td>-32</td>\n",
       "      <td>-34</td>\n",
       "      <td>-45</td>\n",
       "    </tr>\n",
       "    <tr>\n",
       "      <th>zelda</th>\n",
       "      <td>-29</td>\n",
       "      <td>-25</td>\n",
       "      <td>-32</td>\n",
       "      <td>-45</td>\n",
       "      <td>-2</td>\n",
       "      <td>-5</td>\n",
       "    </tr>\n",
       "    <tr>\n",
       "      <th>zoila</th>\n",
       "      <td>-25</td>\n",
       "      <td>-25</td>\n",
       "      <td>-34</td>\n",
       "      <td>-2</td>\n",
       "      <td>-45</td>\n",
       "      <td>-1</td>\n",
       "    </tr>\n",
       "    <tr>\n",
       "      <th>zulema</th>\n",
       "      <td>-32</td>\n",
       "      <td>-34</td>\n",
       "      <td>-45</td>\n",
       "      <td>-5</td>\n",
       "      <td>-1</td>\n",
       "      <td>-45</td>\n",
       "    </tr>\n",
       "  </tbody>\n",
       "</table>\n",
       "</div>"
      ],
      "text/plain": [
       "         alan  alberto  alex  zelda  zoila  zulema\n",
       "alan      -45       -2    -5    -29    -25     -32\n",
       "alberto    -2      -45    -1    -25    -25     -34\n",
       "alex       -5       -1   -45    -32    -34     -45\n",
       "zelda     -29      -25   -32    -45     -2      -5\n",
       "zoila     -25      -25   -34     -2    -45      -1\n",
       "zulema    -32      -34   -45     -5     -1     -45"
      ]
     },
     "execution_count": 23,
     "metadata": {},
     "output_type": "execute_result"
    }
   ],
   "source": [
    "np.fill_diagonal(s.values, np.min(s.values))\n",
    "\n",
    "s"
   ]
  },
  {
   "cell_type": "markdown",
   "id": "514eaa6a-a496-4e87-91d5-c885c7fde67b",
   "metadata": {},
   "source": [
    "### Mensajes de Disponibilidad"
   ]
  },
  {
   "cell_type": "markdown",
   "id": "312b1a71-f9c3-4a11-81bb-c89c1c4e963c",
   "metadata": {},
   "source": [
    "#### Evidencia de qué tan adecuado es el emisor como Ejemplar"
   ]
  },
  {
   "cell_type": "code",
   "execution_count": 24,
   "id": "c3829c00-bef9-45cc-bd5b-04ab21ec2362",
   "metadata": {},
   "outputs": [
    {
     "data": {
      "text/html": [
       "<div>\n",
       "<style scoped>\n",
       "    .dataframe tbody tr th:only-of-type {\n",
       "        vertical-align: middle;\n",
       "    }\n",
       "\n",
       "    .dataframe tbody tr th {\n",
       "        vertical-align: top;\n",
       "    }\n",
       "\n",
       "    .dataframe thead th {\n",
       "        text-align: right;\n",
       "    }\n",
       "</style>\n",
       "<table border=\"1\" class=\"dataframe\">\n",
       "  <thead>\n",
       "    <tr style=\"text-align: right;\">\n",
       "      <th></th>\n",
       "      <th>alan</th>\n",
       "      <th>alberto</th>\n",
       "      <th>alex</th>\n",
       "      <th>zelda</th>\n",
       "      <th>zoila</th>\n",
       "      <th>zulema</th>\n",
       "    </tr>\n",
       "  </thead>\n",
       "  <tbody>\n",
       "    <tr>\n",
       "      <th>alan</th>\n",
       "      <td>0</td>\n",
       "      <td>0</td>\n",
       "      <td>0</td>\n",
       "      <td>0</td>\n",
       "      <td>0</td>\n",
       "      <td>0</td>\n",
       "    </tr>\n",
       "    <tr>\n",
       "      <th>alberto</th>\n",
       "      <td>0</td>\n",
       "      <td>0</td>\n",
       "      <td>0</td>\n",
       "      <td>0</td>\n",
       "      <td>0</td>\n",
       "      <td>0</td>\n",
       "    </tr>\n",
       "    <tr>\n",
       "      <th>alex</th>\n",
       "      <td>0</td>\n",
       "      <td>0</td>\n",
       "      <td>0</td>\n",
       "      <td>0</td>\n",
       "      <td>0</td>\n",
       "      <td>0</td>\n",
       "    </tr>\n",
       "    <tr>\n",
       "      <th>zelda</th>\n",
       "      <td>0</td>\n",
       "      <td>0</td>\n",
       "      <td>0</td>\n",
       "      <td>0</td>\n",
       "      <td>0</td>\n",
       "      <td>0</td>\n",
       "    </tr>\n",
       "    <tr>\n",
       "      <th>zoila</th>\n",
       "      <td>0</td>\n",
       "      <td>0</td>\n",
       "      <td>0</td>\n",
       "      <td>0</td>\n",
       "      <td>0</td>\n",
       "      <td>0</td>\n",
       "    </tr>\n",
       "    <tr>\n",
       "      <th>zulema</th>\n",
       "      <td>0</td>\n",
       "      <td>0</td>\n",
       "      <td>0</td>\n",
       "      <td>0</td>\n",
       "      <td>0</td>\n",
       "      <td>0</td>\n",
       "    </tr>\n",
       "  </tbody>\n",
       "</table>\n",
       "</div>"
      ],
      "text/plain": [
       "         alan  alberto  alex  zelda  zoila  zulema\n",
       "alan        0        0     0      0      0       0\n",
       "alberto     0        0     0      0      0       0\n",
       "alex        0        0     0      0      0       0\n",
       "zelda       0        0     0      0      0       0\n",
       "zoila       0        0     0      0      0       0\n",
       "zulema      0        0     0      0      0       0"
      ]
     },
     "execution_count": 24,
     "metadata": {},
     "output_type": "execute_result"
    }
   ],
   "source": [
    "# Matriz de Disponibilidad \n",
    "d = pd.DataFrame(0, columns=datos.columns, index=datos.columns)\n",
    "\n",
    "d # todos arrancan de cero porque por lo pronto no sabemos quien se considera como ejemplar"
   ]
  },
  {
   "cell_type": "markdown",
   "id": "c19ca822-2819-44ff-b678-2798e5ffca91",
   "metadata": {},
   "source": [
    "### Mensajes de Responsabilidad"
   ]
  },
  {
   "cell_type": "markdown",
   "id": "198b3b84-8378-44dc-882f-33daa9a430e9",
   "metadata": {},
   "source": [
    "#### Evidencia de qué tan adecuado es el receptor como Ejemplar"
   ]
  },
  {
   "cell_type": "code",
   "execution_count": 25,
   "id": "94d59a5b-8d87-428e-b316-83e3d1fb97e6",
   "metadata": {},
   "outputs": [
    {
     "data": {
      "text/html": [
       "<div>\n",
       "<style scoped>\n",
       "    .dataframe tbody tr th:only-of-type {\n",
       "        vertical-align: middle;\n",
       "    }\n",
       "\n",
       "    .dataframe tbody tr th {\n",
       "        vertical-align: top;\n",
       "    }\n",
       "\n",
       "    .dataframe thead th {\n",
       "        text-align: right;\n",
       "    }\n",
       "</style>\n",
       "<table border=\"1\" class=\"dataframe\">\n",
       "  <thead>\n",
       "    <tr style=\"text-align: right;\">\n",
       "      <th></th>\n",
       "      <th>alan</th>\n",
       "      <th>alberto</th>\n",
       "      <th>alex</th>\n",
       "      <th>zelda</th>\n",
       "      <th>zoila</th>\n",
       "      <th>zulema</th>\n",
       "    </tr>\n",
       "  </thead>\n",
       "  <tbody>\n",
       "    <tr>\n",
       "      <th>alan</th>\n",
       "      <td>-45</td>\n",
       "      <td>-2</td>\n",
       "      <td>-5</td>\n",
       "      <td>-29</td>\n",
       "      <td>-25</td>\n",
       "      <td>-32</td>\n",
       "    </tr>\n",
       "    <tr>\n",
       "      <th>alberto</th>\n",
       "      <td>-2</td>\n",
       "      <td>-45</td>\n",
       "      <td>-1</td>\n",
       "      <td>-25</td>\n",
       "      <td>-25</td>\n",
       "      <td>-34</td>\n",
       "    </tr>\n",
       "    <tr>\n",
       "      <th>alex</th>\n",
       "      <td>-5</td>\n",
       "      <td>-1</td>\n",
       "      <td>-45</td>\n",
       "      <td>-32</td>\n",
       "      <td>-34</td>\n",
       "      <td>-45</td>\n",
       "    </tr>\n",
       "    <tr>\n",
       "      <th>zelda</th>\n",
       "      <td>-29</td>\n",
       "      <td>-25</td>\n",
       "      <td>-32</td>\n",
       "      <td>-45</td>\n",
       "      <td>-2</td>\n",
       "      <td>-5</td>\n",
       "    </tr>\n",
       "    <tr>\n",
       "      <th>zoila</th>\n",
       "      <td>-25</td>\n",
       "      <td>-25</td>\n",
       "      <td>-34</td>\n",
       "      <td>-2</td>\n",
       "      <td>-45</td>\n",
       "      <td>-1</td>\n",
       "    </tr>\n",
       "    <tr>\n",
       "      <th>zulema</th>\n",
       "      <td>-32</td>\n",
       "      <td>-34</td>\n",
       "      <td>-45</td>\n",
       "      <td>-5</td>\n",
       "      <td>-1</td>\n",
       "      <td>-45</td>\n",
       "    </tr>\n",
       "  </tbody>\n",
       "</table>\n",
       "</div>"
      ],
      "text/plain": [
       "         alan  alberto  alex  zelda  zoila  zulema\n",
       "alan      -45       -2    -5    -29    -25     -32\n",
       "alberto    -2      -45    -1    -25    -25     -34\n",
       "alex       -5       -1   -45    -32    -34     -45\n",
       "zelda     -29      -25   -32    -45     -2      -5\n",
       "zoila     -25      -25   -34     -2    -45      -1\n",
       "zulema    -32      -34   -45     -5     -1     -45"
      ]
     },
     "execution_count": 25,
     "metadata": {},
     "output_type": "execute_result"
    }
   ],
   "source": [
    "# La responsabilidad se actualiza a partir de la similitud y la disponibilidad\n",
    "s"
   ]
  },
  {
   "cell_type": "code",
   "execution_count": 33,
   "id": "ee09e45f-34b1-4642-803b-7d999d5aa800",
   "metadata": {},
   "outputs": [
    {
     "name": "stdout",
     "output_type": "stream",
     "text": [
      "Qué tan adecuado es Alberto como EJEMPLAR para Alan: 3\n",
      "Qué tan adecuado es Zulema como EJEMPLAR para Alan: -30\n"
     ]
    }
   ],
   "source": [
    "# Responsabilidad [\"alan\", \"alberto\"]\n",
    "\n",
    "sim = s.loc[\"alan\", \"alberto\"]\n",
    "\n",
    "columnas_filtradas = [col for col in s.columns if col != \"alberto\"]\n",
    "sim_otros = s.loc[\"alan\", columnas_filtradas]\n",
    "\n",
    "disponibilidad_otros = d.loc[\"alan\", columnas_filtradas]\n",
    "\n",
    "adecuacion = sim - max(sim_otros + disponibilidad_otros) # FORMULA IMPORTANTE\n",
    "\n",
    "print(\"Qué tan adecuado es Alberto como EJEMPLAR para Alan:\", adecuacion)\n",
    "\n",
    "\n",
    "\n",
    "# Responsabilidad [\"alan\", \"zulema\"]\n",
    "\n",
    "sim = s.loc[\"alan\", \"zulema\"]\n",
    "\n",
    "columnas_filtradas = [col for col in s.columns if col != \"zulema\"]\n",
    "sim_otros = s.loc[\"alan\", columnas_filtradas]\n",
    "\n",
    "disponibilidad_otros = d.loc[\"alan\", columnas_filtradas]\n",
    "\n",
    "adecuacion = sim - max(sim_otros + disponibilidad_otros)\n",
    "\n",
    "print(\"Qué tan adecuado es Zulema como EJEMPLAR para Alan:\", adecuacion)"
   ]
  },
  {
   "cell_type": "code",
   "execution_count": null,
   "id": "d98cbf26-7ea6-4e98-a49c-3f467f2d7f95",
   "metadata": {},
   "outputs": [],
   "source": []
  }
 ],
 "metadata": {
  "kernelspec": {
   "display_name": "Python 3 (ipykernel)",
   "language": "python",
   "name": "python3"
  },
  "language_info": {
   "codemirror_mode": {
    "name": "ipython",
    "version": 3
   },
   "file_extension": ".py",
   "mimetype": "text/x-python",
   "name": "python",
   "nbconvert_exporter": "python",
   "pygments_lexer": "ipython3",
   "version": "3.8.8"
  }
 },
 "nbformat": 4,
 "nbformat_minor": 5
}
