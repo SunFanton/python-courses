{
 "cells": [
  {
   "cell_type": "markdown",
   "id": "7b0fa4fa-acfd-4e78-b6dc-4266d84d3f90",
   "metadata": {},
   "source": [
    "# Movie Recommendation System"
   ]
  },
  {
   "cell_type": "code",
   "execution_count": 1,
   "id": "047c2616-3b00-460e-a408-5bf82902bb1a",
   "metadata": {},
   "outputs": [],
   "source": [
    "import numpy as np\n",
    "import pandas as pd\n",
    "import difflib\n",
    "from sklearn.feature_extraction.text import TfidfVectorizer\n",
    "from sklearn.metrics.pairwise import cosine_similarity"
   ]
  },
  {
   "cell_type": "markdown",
   "id": "81d598e2-0239-4a95-9738-412d0bdec680",
   "metadata": {},
   "source": [
    "## Data Collection and Pre-processing"
   ]
  },
  {
   "cell_type": "code",
   "execution_count": 2,
   "id": "e2369d56-19b8-4510-8efa-267eaa4300e0",
   "metadata": {},
   "outputs": [
    {
     "data": {
      "text/html": [
       "<div>\n",
       "<style scoped>\n",
       "    .dataframe tbody tr th:only-of-type {\n",
       "        vertical-align: middle;\n",
       "    }\n",
       "\n",
       "    .dataframe tbody tr th {\n",
       "        vertical-align: top;\n",
       "    }\n",
       "\n",
       "    .dataframe thead th {\n",
       "        text-align: right;\n",
       "    }\n",
       "</style>\n",
       "<table border=\"1\" class=\"dataframe\">\n",
       "  <thead>\n",
       "    <tr style=\"text-align: right;\">\n",
       "      <th></th>\n",
       "      <th>index</th>\n",
       "      <th>budget</th>\n",
       "      <th>genres</th>\n",
       "      <th>homepage</th>\n",
       "      <th>id</th>\n",
       "      <th>keywords</th>\n",
       "      <th>original_language</th>\n",
       "      <th>original_title</th>\n",
       "      <th>overview</th>\n",
       "      <th>popularity</th>\n",
       "      <th>...</th>\n",
       "      <th>runtime</th>\n",
       "      <th>spoken_languages</th>\n",
       "      <th>status</th>\n",
       "      <th>tagline</th>\n",
       "      <th>title</th>\n",
       "      <th>vote_average</th>\n",
       "      <th>vote_count</th>\n",
       "      <th>cast</th>\n",
       "      <th>crew</th>\n",
       "      <th>director</th>\n",
       "    </tr>\n",
       "  </thead>\n",
       "  <tbody>\n",
       "    <tr>\n",
       "      <th>0</th>\n",
       "      <td>0</td>\n",
       "      <td>237000000</td>\n",
       "      <td>Action Adventure Fantasy Science Fiction</td>\n",
       "      <td>http://www.avatarmovie.com/</td>\n",
       "      <td>19995</td>\n",
       "      <td>culture clash future space war space colony so...</td>\n",
       "      <td>en</td>\n",
       "      <td>Avatar</td>\n",
       "      <td>In the 22nd century, a paraplegic Marine is di...</td>\n",
       "      <td>150.437577</td>\n",
       "      <td>...</td>\n",
       "      <td>162.0</td>\n",
       "      <td>[{\"iso_639_1\": \"en\", \"name\": \"English\"}, {\"iso...</td>\n",
       "      <td>Released</td>\n",
       "      <td>Enter the World of Pandora.</td>\n",
       "      <td>Avatar</td>\n",
       "      <td>7.2</td>\n",
       "      <td>11800</td>\n",
       "      <td>Sam Worthington Zoe Saldana Sigourney Weaver S...</td>\n",
       "      <td>[{'name': 'Stephen E. Rivkin', 'gender': 0, 'd...</td>\n",
       "      <td>James Cameron</td>\n",
       "    </tr>\n",
       "    <tr>\n",
       "      <th>1</th>\n",
       "      <td>1</td>\n",
       "      <td>300000000</td>\n",
       "      <td>Adventure Fantasy Action</td>\n",
       "      <td>http://disney.go.com/disneypictures/pirates/</td>\n",
       "      <td>285</td>\n",
       "      <td>ocean drug abuse exotic island east india trad...</td>\n",
       "      <td>en</td>\n",
       "      <td>Pirates of the Caribbean: At World's End</td>\n",
       "      <td>Captain Barbossa, long believed to be dead, ha...</td>\n",
       "      <td>139.082615</td>\n",
       "      <td>...</td>\n",
       "      <td>169.0</td>\n",
       "      <td>[{\"iso_639_1\": \"en\", \"name\": \"English\"}]</td>\n",
       "      <td>Released</td>\n",
       "      <td>At the end of the world, the adventure begins.</td>\n",
       "      <td>Pirates of the Caribbean: At World's End</td>\n",
       "      <td>6.9</td>\n",
       "      <td>4500</td>\n",
       "      <td>Johnny Depp Orlando Bloom Keira Knightley Stel...</td>\n",
       "      <td>[{'name': 'Dariusz Wolski', 'gender': 2, 'depa...</td>\n",
       "      <td>Gore Verbinski</td>\n",
       "    </tr>\n",
       "    <tr>\n",
       "      <th>2</th>\n",
       "      <td>2</td>\n",
       "      <td>245000000</td>\n",
       "      <td>Action Adventure Crime</td>\n",
       "      <td>http://www.sonypictures.com/movies/spectre/</td>\n",
       "      <td>206647</td>\n",
       "      <td>spy based on novel secret agent sequel mi6</td>\n",
       "      <td>en</td>\n",
       "      <td>Spectre</td>\n",
       "      <td>A cryptic message from Bond’s past sends him o...</td>\n",
       "      <td>107.376788</td>\n",
       "      <td>...</td>\n",
       "      <td>148.0</td>\n",
       "      <td>[{\"iso_639_1\": \"fr\", \"name\": \"Fran\\u00e7ais\"},...</td>\n",
       "      <td>Released</td>\n",
       "      <td>A Plan No One Escapes</td>\n",
       "      <td>Spectre</td>\n",
       "      <td>6.3</td>\n",
       "      <td>4466</td>\n",
       "      <td>Daniel Craig Christoph Waltz L\\u00e9a Seydoux ...</td>\n",
       "      <td>[{'name': 'Thomas Newman', 'gender': 2, 'depar...</td>\n",
       "      <td>Sam Mendes</td>\n",
       "    </tr>\n",
       "    <tr>\n",
       "      <th>3</th>\n",
       "      <td>3</td>\n",
       "      <td>250000000</td>\n",
       "      <td>Action Crime Drama Thriller</td>\n",
       "      <td>http://www.thedarkknightrises.com/</td>\n",
       "      <td>49026</td>\n",
       "      <td>dc comics crime fighter terrorist secret ident...</td>\n",
       "      <td>en</td>\n",
       "      <td>The Dark Knight Rises</td>\n",
       "      <td>Following the death of District Attorney Harve...</td>\n",
       "      <td>112.312950</td>\n",
       "      <td>...</td>\n",
       "      <td>165.0</td>\n",
       "      <td>[{\"iso_639_1\": \"en\", \"name\": \"English\"}]</td>\n",
       "      <td>Released</td>\n",
       "      <td>The Legend Ends</td>\n",
       "      <td>The Dark Knight Rises</td>\n",
       "      <td>7.6</td>\n",
       "      <td>9106</td>\n",
       "      <td>Christian Bale Michael Caine Gary Oldman Anne ...</td>\n",
       "      <td>[{'name': 'Hans Zimmer', 'gender': 2, 'departm...</td>\n",
       "      <td>Christopher Nolan</td>\n",
       "    </tr>\n",
       "    <tr>\n",
       "      <th>4</th>\n",
       "      <td>4</td>\n",
       "      <td>260000000</td>\n",
       "      <td>Action Adventure Science Fiction</td>\n",
       "      <td>http://movies.disney.com/john-carter</td>\n",
       "      <td>49529</td>\n",
       "      <td>based on novel mars medallion space travel pri...</td>\n",
       "      <td>en</td>\n",
       "      <td>John Carter</td>\n",
       "      <td>John Carter is a war-weary, former military ca...</td>\n",
       "      <td>43.926995</td>\n",
       "      <td>...</td>\n",
       "      <td>132.0</td>\n",
       "      <td>[{\"iso_639_1\": \"en\", \"name\": \"English\"}]</td>\n",
       "      <td>Released</td>\n",
       "      <td>Lost in our world, found in another.</td>\n",
       "      <td>John Carter</td>\n",
       "      <td>6.1</td>\n",
       "      <td>2124</td>\n",
       "      <td>Taylor Kitsch Lynn Collins Samantha Morton Wil...</td>\n",
       "      <td>[{'name': 'Andrew Stanton', 'gender': 2, 'depa...</td>\n",
       "      <td>Andrew Stanton</td>\n",
       "    </tr>\n",
       "  </tbody>\n",
       "</table>\n",
       "<p>5 rows × 24 columns</p>\n",
       "</div>"
      ],
      "text/plain": [
       "   index     budget                                    genres  \\\n",
       "0      0  237000000  Action Adventure Fantasy Science Fiction   \n",
       "1      1  300000000                  Adventure Fantasy Action   \n",
       "2      2  245000000                    Action Adventure Crime   \n",
       "3      3  250000000               Action Crime Drama Thriller   \n",
       "4      4  260000000          Action Adventure Science Fiction   \n",
       "\n",
       "                                       homepage      id  \\\n",
       "0                   http://www.avatarmovie.com/   19995   \n",
       "1  http://disney.go.com/disneypictures/pirates/     285   \n",
       "2   http://www.sonypictures.com/movies/spectre/  206647   \n",
       "3            http://www.thedarkknightrises.com/   49026   \n",
       "4          http://movies.disney.com/john-carter   49529   \n",
       "\n",
       "                                            keywords original_language  \\\n",
       "0  culture clash future space war space colony so...                en   \n",
       "1  ocean drug abuse exotic island east india trad...                en   \n",
       "2         spy based on novel secret agent sequel mi6                en   \n",
       "3  dc comics crime fighter terrorist secret ident...                en   \n",
       "4  based on novel mars medallion space travel pri...                en   \n",
       "\n",
       "                             original_title  \\\n",
       "0                                    Avatar   \n",
       "1  Pirates of the Caribbean: At World's End   \n",
       "2                                   Spectre   \n",
       "3                     The Dark Knight Rises   \n",
       "4                               John Carter   \n",
       "\n",
       "                                            overview  popularity  ... runtime  \\\n",
       "0  In the 22nd century, a paraplegic Marine is di...  150.437577  ...   162.0   \n",
       "1  Captain Barbossa, long believed to be dead, ha...  139.082615  ...   169.0   \n",
       "2  A cryptic message from Bond’s past sends him o...  107.376788  ...   148.0   \n",
       "3  Following the death of District Attorney Harve...  112.312950  ...   165.0   \n",
       "4  John Carter is a war-weary, former military ca...   43.926995  ...   132.0   \n",
       "\n",
       "                                    spoken_languages    status  \\\n",
       "0  [{\"iso_639_1\": \"en\", \"name\": \"English\"}, {\"iso...  Released   \n",
       "1           [{\"iso_639_1\": \"en\", \"name\": \"English\"}]  Released   \n",
       "2  [{\"iso_639_1\": \"fr\", \"name\": \"Fran\\u00e7ais\"},...  Released   \n",
       "3           [{\"iso_639_1\": \"en\", \"name\": \"English\"}]  Released   \n",
       "4           [{\"iso_639_1\": \"en\", \"name\": \"English\"}]  Released   \n",
       "\n",
       "                                          tagline  \\\n",
       "0                     Enter the World of Pandora.   \n",
       "1  At the end of the world, the adventure begins.   \n",
       "2                           A Plan No One Escapes   \n",
       "3                                 The Legend Ends   \n",
       "4            Lost in our world, found in another.   \n",
       "\n",
       "                                      title vote_average vote_count  \\\n",
       "0                                    Avatar          7.2      11800   \n",
       "1  Pirates of the Caribbean: At World's End          6.9       4500   \n",
       "2                                   Spectre          6.3       4466   \n",
       "3                     The Dark Knight Rises          7.6       9106   \n",
       "4                               John Carter          6.1       2124   \n",
       "\n",
       "                                                cast  \\\n",
       "0  Sam Worthington Zoe Saldana Sigourney Weaver S...   \n",
       "1  Johnny Depp Orlando Bloom Keira Knightley Stel...   \n",
       "2  Daniel Craig Christoph Waltz L\\u00e9a Seydoux ...   \n",
       "3  Christian Bale Michael Caine Gary Oldman Anne ...   \n",
       "4  Taylor Kitsch Lynn Collins Samantha Morton Wil...   \n",
       "\n",
       "                                                crew           director  \n",
       "0  [{'name': 'Stephen E. Rivkin', 'gender': 0, 'd...      James Cameron  \n",
       "1  [{'name': 'Dariusz Wolski', 'gender': 2, 'depa...     Gore Verbinski  \n",
       "2  [{'name': 'Thomas Newman', 'gender': 2, 'depar...         Sam Mendes  \n",
       "3  [{'name': 'Hans Zimmer', 'gender': 2, 'departm...  Christopher Nolan  \n",
       "4  [{'name': 'Andrew Stanton', 'gender': 2, 'depa...     Andrew Stanton  \n",
       "\n",
       "[5 rows x 24 columns]"
      ]
     },
     "execution_count": 2,
     "metadata": {},
     "output_type": "execute_result"
    }
   ],
   "source": [
    "movies_data = pd.read_csv(\"./data/movies.csv\")\n",
    "movies_data.head()"
   ]
  },
  {
   "cell_type": "code",
   "execution_count": 3,
   "id": "dc629631-2712-4a1c-9668-f966ef279c1a",
   "metadata": {},
   "outputs": [
    {
     "name": "stdout",
     "output_type": "stream",
     "text": [
      "<class 'pandas.core.frame.DataFrame'>\n",
      "RangeIndex: 4803 entries, 0 to 4802\n",
      "Data columns (total 24 columns):\n",
      " #   Column                Non-Null Count  Dtype  \n",
      "---  ------                --------------  -----  \n",
      " 0   index                 4803 non-null   int64  \n",
      " 1   budget                4803 non-null   int64  \n",
      " 2   genres                4775 non-null   object \n",
      " 3   homepage              1712 non-null   object \n",
      " 4   id                    4803 non-null   int64  \n",
      " 5   keywords              4391 non-null   object \n",
      " 6   original_language     4803 non-null   object \n",
      " 7   original_title        4803 non-null   object \n",
      " 8   overview              4800 non-null   object \n",
      " 9   popularity            4803 non-null   float64\n",
      " 10  production_companies  4803 non-null   object \n",
      " 11  production_countries  4803 non-null   object \n",
      " 12  release_date          4802 non-null   object \n",
      " 13  revenue               4803 non-null   int64  \n",
      " 14  runtime               4801 non-null   float64\n",
      " 15  spoken_languages      4803 non-null   object \n",
      " 16  status                4803 non-null   object \n",
      " 17  tagline               3959 non-null   object \n",
      " 18  title                 4803 non-null   object \n",
      " 19  vote_average          4803 non-null   float64\n",
      " 20  vote_count            4803 non-null   int64  \n",
      " 21  cast                  4760 non-null   object \n",
      " 22  crew                  4803 non-null   object \n",
      " 23  director              4773 non-null   object \n",
      "dtypes: float64(3), int64(5), object(16)\n",
      "memory usage: 900.7+ KB\n"
     ]
    }
   ],
   "source": [
    "movies_data.info()"
   ]
  },
  {
   "cell_type": "code",
   "execution_count": 4,
   "id": "748fab5c-c181-47fb-ba8a-4358b0fef462",
   "metadata": {},
   "outputs": [
    {
     "data": {
      "text/plain": [
       "(4803, 24)"
      ]
     },
     "execution_count": 4,
     "metadata": {},
     "output_type": "execute_result"
    }
   ],
   "source": [
    "movies_data.shape"
   ]
  },
  {
   "cell_type": "code",
   "execution_count": 5,
   "id": "4d8663a9-4e0c-44fd-ab7a-fe859d84d6cc",
   "metadata": {},
   "outputs": [
    {
     "name": "stdout",
     "output_type": "stream",
     "text": [
      "['genres', 'keywords', 'tagline', 'cast', 'director']\n"
     ]
    }
   ],
   "source": [
    "# selecting the relevant features for recommendation\n",
    "selected_features = [\"genres\", \"keywords\", \"tagline\", \"cast\", \"director\"]\n",
    "print(selected_features)"
   ]
  },
  {
   "cell_type": "code",
   "execution_count": 6,
   "id": "1cfd8bb4-a38b-4bb9-9f0d-d32e9a29f1dd",
   "metadata": {},
   "outputs": [
    {
     "name": "stdout",
     "output_type": "stream",
     "text": [
      "Caracteristica: genres\n",
      "Valores nulos: (28, 24)\n",
      "Caracteristica: keywords\n",
      "Valores nulos: (412, 24)\n",
      "Caracteristica: tagline\n",
      "Valores nulos: (844, 24)\n",
      "Caracteristica: cast\n",
      "Valores nulos: (43, 24)\n",
      "Caracteristica: director\n",
      "Valores nulos: (30, 24)\n"
     ]
    }
   ],
   "source": [
    "for feature in selected_features:\n",
    "    print(\"Caracteristica:\", feature)\n",
    "    print(\"Valores nulos:\", movies_data[movies_data[feature].isna()].shape)\n",
    "    #print(\"Cadenas vacias:\", movies_data[movies_data[feature] == \"\"].shape, \"\\n\")"
   ]
  },
  {
   "cell_type": "code",
   "execution_count": 7,
   "id": "87fdd7c9-2586-4a41-82b0-9d530c3f5264",
   "metadata": {},
   "outputs": [],
   "source": [
    "# replacing the missing or null values on string features\n",
    "for feature in selected_features:\n",
    "    movies_data[feature] = movies_data[feature].fillna(\"\")"
   ]
  },
  {
   "cell_type": "code",
   "execution_count": 8,
   "id": "20739fc4-162d-4a0e-98f0-d2c3327ca894",
   "metadata": {},
   "outputs": [
    {
     "name": "stdout",
     "output_type": "stream",
     "text": [
      "Caracteristica: genres\n",
      "Valores nulos: (0, 24)\n",
      "Caracteristica: keywords\n",
      "Valores nulos: (0, 24)\n",
      "Caracteristica: tagline\n",
      "Valores nulos: (0, 24)\n",
      "Caracteristica: cast\n",
      "Valores nulos: (0, 24)\n",
      "Caracteristica: director\n",
      "Valores nulos: (0, 24)\n"
     ]
    }
   ],
   "source": [
    "for feature in selected_features:\n",
    "    print(\"Caracteristica:\", feature)\n",
    "    print(\"Valores nulos:\", movies_data[movies_data[feature].isna()].shape)"
   ]
  },
  {
   "cell_type": "code",
   "execution_count": 9,
   "id": "34fae547-1aeb-4d87-9a2f-6446e497aa78",
   "metadata": {},
   "outputs": [
    {
     "data": {
      "text/plain": [
       "0       Action Adventure Fantasy Science Fiction cultu...\n",
       "1       Adventure Fantasy Action ocean drug abuse exot...\n",
       "2       Action Adventure Crime spy based on novel secr...\n",
       "3       Action Crime Drama Thriller dc comics crime fi...\n",
       "4       Action Adventure Science Fiction based on nove...\n",
       "                              ...                        \n",
       "4798    Action Crime Thriller united states\\u2013mexic...\n",
       "4799    Comedy Romance  A newlywed couple's honeymoon ...\n",
       "4800    Comedy Drama Romance TV Movie date love at fir...\n",
       "4801      A New Yorker in Shanghai Daniel Henney Eliza...\n",
       "4802    Documentary obsession camcorder crush dream gi...\n",
       "Length: 4803, dtype: object"
      ]
     },
     "execution_count": 9,
     "metadata": {},
     "output_type": "execute_result"
    }
   ],
   "source": [
    "# combining all selected features\n",
    "combined_features = movies_data[selected_features].agg(\" \".join, axis=1)\n",
    "combined_features"
   ]
  },
  {
   "cell_type": "code",
   "execution_count": 10,
   "id": "77098c47-22df-40d2-baa4-2ab4c7a3049a",
   "metadata": {},
   "outputs": [],
   "source": [
    "# converting combined features (vector of text) to numerical values (numerical vector representation)\n",
    "vectorizer = TfidfVectorizer(lowercase=True, min_df=1, stop_words='english')"
   ]
  },
  {
   "cell_type": "code",
   "execution_count": 11,
   "id": "09e2eae8-7342-47e3-8d2d-957d026d5f64",
   "metadata": {},
   "outputs": [],
   "source": [
    "feature_vector = vectorizer.fit_transform(combined_features)"
   ]
  },
  {
   "cell_type": "code",
   "execution_count": 12,
   "id": "6903b8f0-0edb-46d6-bd38-e4b9f83924b2",
   "metadata": {},
   "outputs": [
    {
     "name": "stdout",
     "output_type": "stream",
     "text": [
      "  (0, 2387)\t0.17387762611499494\n",
      "  (0, 7649)\t0.11355691458889829\n",
      "  (0, 12866)\t0.19553338573938647\n",
      "  (0, 10114)\t0.16165931117025054\n",
      "  (0, 8649)\t0.22860674889222501\n",
      "  (0, 14432)\t0.1525185407602397\n",
      "  (0, 16454)\t0.19975784468313598\n",
      "  (0, 13897)\t0.2073363856597466\n",
      "  (0, 13161)\t0.21920124762693652\n",
      "  (0, 17051)\t0.20332801528845756\n",
      "  (0, 16774)\t0.23801225015751357\n",
      "  (0, 13191)\t0.15121581535902417\n",
      "  (0, 11351)\t0.2739303704041666\n",
      "  (0, 16765)\t0.12906888267705946\n",
      "  (0, 4882)\t0.2418630583829073\n",
      "  (0, 14101)\t0.21535043940154278\n",
      "  (0, 3177)\t0.25126855964819583\n",
      "  (0, 16375)\t0.1263324200909883\n",
      "  (0, 14202)\t0.3418956777020543\n",
      "  (0, 5754)\t0.16577485025092195\n",
      "  (0, 3018)\t0.22356693392633634\n",
      "  (0, 3627)\t0.21535043940154278\n",
      "  (0, 5366)\t0.10433355352725562\n",
      "  (0, 13440)\t0.10433355352725562\n",
      "  (0, 5204)\t0.11182749749508697\n",
      "  :\t:\n",
      "  (4801, 13017)\t0.29414364992580866\n",
      "  (4801, 13672)\t0.28404411818176767\n",
      "  (4801, 17027)\t0.29414364992580866\n",
      "  (4801, 4774)\t0.2518762905014918\n",
      "  (4801, 397)\t0.18067495553272095\n",
      "  (4801, 6846)\t0.29414364992580866\n",
      "  (4801, 11510)\t0.21970846282121584\n",
      "  (4801, 10803)\t0.13763097140614916\n",
      "  (4801, 3745)\t0.3406904318523904\n",
      "  (4802, 6903)\t0.5700048226105303\n",
      "  (4802, 5297)\t0.22969114490410403\n",
      "  (4802, 3604)\t0.262512960498006\n",
      "  (4802, 2380)\t0.24002350969074696\n",
      "  (4802, 4552)\t0.24002350969074696\n",
      "  (4802, 6332)\t0.21753405888348784\n",
      "  (4802, 4318)\t0.1538239182675544\n",
      "  (4802, 12831)\t0.1696476532191718\n",
      "  (4802, 1289)\t0.1960747079005741\n",
      "  (4802, 4473)\t0.19504460807622875\n",
      "  (4802, 3387)\t0.21753405888348784\n",
      "  (4802, 6072)\t0.18056463596934083\n",
      "  (4802, 4917)\t0.16078053641367315\n",
      "  (4802, 2087)\t0.3099656128577656\n",
      "  (4802, 4463)\t0.16784466610624255\n",
      "  (4802, 11026)\t0.17867407682173203\n"
     ]
    }
   ],
   "source": [
    "print(feature_vector)"
   ]
  },
  {
   "cell_type": "markdown",
   "id": "752403ed-0414-4188-a57d-c225af854fac",
   "metadata": {},
   "source": [
    "## Cosine similarity"
   ]
  },
  {
   "cell_type": "markdown",
   "id": "642a7c4e-60a5-4847-8932-000f50ffe865",
   "metadata": {},
   "source": [
    "La función `cosine_similarity` se utiliza para medir la similitud entre dos vectores, generalmente en el contexto de análisis de texto o aprendizaje automático. Su objetivo es calcular el coseno del ángulo entre los vectores, lo que proporciona una medida de cuán similares son en términos de dirección, independientemente de su magnitud.\n",
    "\n",
    "### Rango de valores:\n",
    "- **1**: Los vectores son idénticos (en cuanto a dirección).\n",
    "- **0**: No tienen similitud (son ortogonales, es decir, no tienen ninguna relación).\n",
    "- **-1**: Los vectores son opuestos.\n",
    "\n",
    "### Fórmula matemática\n",
    "\n",
    "La fórmula de la similitud del coseno es la siguiente:\n",
    "\n",
    "$\\text{cosine similarity} = \\frac{A \\cdot B}{\\|A\\| \\|B\\|}$\n",
    "\n",
    "Donde:\n",
    "- $A \\cdot B$ es el producto punto entre los dos vectores.\n",
    "- $\\|A\\|$ y $\\|B\\|$ son las normas (longitudes) de los vectores $A$ y $B$, respectivamente.\n",
    "\n",
    "### Usos comunes\n",
    "En la práctica, esta función se usa mucho en el procesamiento de lenguaje natural (PLN) para comparar la similitud entre:\n",
    "- **Documentos**.\n",
    "- **Palabras** representadas por vectores, como cuando se utiliza *TF-IDF* o *Word2Vec*.\n",
    "\n",
    "La función nos devolverá una matriz cuadrada donde:\n",
    "* Nro de filas: será el número de filas del vector que se está evaluando\n",
    "* Nro de columnas: será el mismo número de filas ya que originalmente el vector tiene $n$ filas x 1 columna, y lo que hará es evaluar el valor de cada fila contra el resto de las filas. Entonces en la matriz nos quedaría, por ejemplo, en la primer fila el coseno del valor de a fila 0 por el de la fila 1, fila 2, fila 3, y asi sucesivamente para cada columna de cada fila de la matriz."
   ]
  },
  {
   "cell_type": "code",
   "execution_count": 13,
   "id": "9ea64be6-ad15-4396-b08c-19ea54b69e49",
   "metadata": {},
   "outputs": [
    {
     "data": {
      "text/plain": [
       "array([[1.        , 0.04720973, 0.03891121, ..., 0.        , 0.        ,\n",
       "        0.        ],\n",
       "       [0.04720973, 1.        , 0.021542  , ..., 0.01267122, 0.        ,\n",
       "        0.        ],\n",
       "       [0.03891121, 0.021542  , 1.        , ..., 0.        , 0.05626942,\n",
       "        0.        ],\n",
       "       ...,\n",
       "       [0.        , 0.01267122, 0.        , ..., 1.        , 0.        ,\n",
       "        0.02730605],\n",
       "       [0.        , 0.        , 0.05626942, ..., 0.        , 1.        ,\n",
       "        0.        ],\n",
       "       [0.        , 0.        , 0.        , ..., 0.02730605, 0.        ,\n",
       "        1.        ]])"
      ]
     },
     "execution_count": 13,
     "metadata": {},
     "output_type": "execute_result"
    }
   ],
   "source": [
    "similarity = cosine_similarity(feature_vector)\n",
    "similarity"
   ]
  },
  {
   "cell_type": "code",
   "execution_count": 14,
   "id": "5e39db30-3015-4b95-bfaf-c14c59da4cb7",
   "metadata": {},
   "outputs": [
    {
     "data": {
      "text/plain": [
       "(4803, 4803)"
      ]
     },
     "execution_count": 14,
     "metadata": {},
     "output_type": "execute_result"
    }
   ],
   "source": [
    "similarity.shape"
   ]
  },
  {
   "cell_type": "code",
   "execution_count": 18,
   "id": "2df83378-9d5d-43d3-b694-711e875865e9",
   "metadata": {},
   "outputs": [],
   "source": [
    "movie_name = \"iron man\""
   ]
  },
  {
   "cell_type": "code",
   "execution_count": 20,
   "id": "a7e45e92-7089-4b03-9cab-7a979a34e2a8",
   "metadata": {},
   "outputs": [
    {
     "data": {
      "text/plain": [
       "['Avatar',\n",
       " \"Pirates of the Caribbean: At World's End\",\n",
       " 'Spectre',\n",
       " 'The Dark Knight Rises',\n",
       " 'John Carter']"
      ]
     },
     "execution_count": 20,
     "metadata": {},
     "output_type": "execute_result"
    }
   ],
   "source": [
    "# creating a list with all the movies names\n",
    "all_movies_names_list = movies_data[\"title\"].tolist()\n",
    "all_movies_names_list[0:5]"
   ]
  },
  {
   "cell_type": "code",
   "execution_count": 21,
   "id": "83574509-d386-42e9-91e7-1e6b8d069d49",
   "metadata": {},
   "outputs": [
    {
     "data": {
      "text/plain": [
       "['Iron Man', 'Iron Man 3', 'Iron Man 2']"
      ]
     },
     "execution_count": 21,
     "metadata": {},
     "output_type": "execute_result"
    }
   ],
   "source": [
    "# finding the close match for the movie name given by the user\n",
    "find_close_match = difflib.get_close_matches(movie_name, all_movies_names_list)\n",
    "find_close_match"
   ]
  },
  {
   "cell_type": "code",
   "execution_count": 22,
   "id": "da1c8bd7-e5df-4474-b808-f4d409297156",
   "metadata": {},
   "outputs": [
    {
     "data": {
      "text/plain": [
       "'Iron Man'"
      ]
     },
     "execution_count": 22,
     "metadata": {},
     "output_type": "execute_result"
    }
   ],
   "source": [
    "close_match = find_close_match[0] if len(find_close_match) > 0 else \"N/A\"\n",
    "close_match"
   ]
  },
  {
   "cell_type": "code",
   "execution_count": 29,
   "id": "7d4db7ea-92ec-44ec-a86a-e0d5dff42ea3",
   "metadata": {},
   "outputs": [
    {
     "data": {
      "text/plain": [
       "68"
      ]
     },
     "execution_count": 29,
     "metadata": {},
     "output_type": "execute_result"
    }
   ],
   "source": [
    "# finding the index of the movie with that title\n",
    "movie_index = movies_data[movies_data[\"title\"] == close_match][\"index\"].values[0]\n",
    "movie_index"
   ]
  },
  {
   "cell_type": "markdown",
   "id": "6ca4814c-2286-4235-870e-26f9e7627c2d",
   "metadata": {},
   "source": [
    "La línea de código:\n",
    "\n",
    "`list(enumerate(similarity[movie_index]))`\n",
    "\n",
    "realiza lo siguiente paso a paso:\n",
    "\n",
    "* `similarity[movie_index]`:\n",
    "`similarity` probablemente es una estructura de datos como una lista o un array (como un array de NumPy o un DataFrame de Pandas) que contiene similitudes entre elementos (en este caso, películas).\n",
    "\n",
    "* `movie_index` es un índice, es decir, un número que indica qué fila o entrada del objeto similarity estamos seleccionando. Esto devuelve una fila o un conjunto de valores que representa las similitudes de una película (indizada por movie_index) con respecto a otras películas.\n",
    "\n",
    "* `enumerate(similarity[movie_index])`: `enumerate` es una función de Python que toma una iterable (en este caso, el valor de similarity[movie_index], que podría ser una lista o un array) y devuelve un objeto que produce tuplas en la forma (índice, valor), donde:\n",
    "    - El índice es la posición del elemento dentro de la iterable (en este caso, la posición de la película que nos servirá para hallarla en el dataset original y ofrecer la sugerencia o recomendación al usuario).\n",
    "    - El valor es el valor en esa posición, que en este caso podría ser la similitud entre la película en movie_index y otra película.\n",
    "\n",
    "Entonces, `enumerate(similarity[movie_index])` genera un iterador que da tuplas (índice, similitud) para cada valor en la fila de similitudes de la película.\n",
    "\n",
    "* `list(enumerate(similarity[movie_index]))`:\n",
    "Finalmente, la función `list()` convierte ese iterador de tuplas en una lista. Esto te da una lista donde cada elemento es una tupla con el índice de la película y su similitud con la película en movie_index."
   ]
  },
  {
   "cell_type": "code",
   "execution_count": 51,
   "id": "62d7f2b9-ef6b-4784-a566-73464f09d4ba",
   "metadata": {},
   "outputs": [
    {
     "data": {
      "text/plain": [
       "[(0, 0.034461890474908635),\n",
       " (1, 0.05844029953654316),\n",
       " (2, 0.01434810236042448),\n",
       " (3, 0.006617219324502558),\n",
       " (4, 0.036501767008759664)]"
      ]
     },
     "execution_count": 51,
     "metadata": {},
     "output_type": "execute_result"
    }
   ],
   "source": [
    "# getting a list of similar movies\n",
    "similarity_score = list(enumerate(similarity[movie_index]))\n",
    "similarity_score[0:5]"
   ]
  },
  {
   "cell_type": "code",
   "execution_count": 35,
   "id": "6196336d-a106-4933-b381-08a89bec222f",
   "metadata": {},
   "outputs": [
    {
     "data": {
      "text/plain": [
       "4803"
      ]
     },
     "execution_count": 35,
     "metadata": {},
     "output_type": "execute_result"
    }
   ],
   "source": [
    "len(similarity_score)"
   ]
  },
  {
   "cell_type": "code",
   "execution_count": 38,
   "id": "9a97a270-5614-4a44-be0e-de9c88d58236",
   "metadata": {},
   "outputs": [
    {
     "data": {
      "text/plain": [
       "[(68, 1.0000000000000002),\n",
       " (79, 0.4434783547506395),\n",
       " (31, 0.3331597801593984),\n",
       " (7, 0.24824053933095896),\n",
       " (16, 0.2356619118451075)]"
      ]
     },
     "execution_count": 38,
     "metadata": {},
     "output_type": "execute_result"
    }
   ],
   "source": [
    "# sorting the movies based on their similarity score\n",
    "# es decir, ordeno de mayor a menor los valores de similitud \n",
    "# para tener en primer lugar aquellos con similitud mas cercana a la pelicula que busco\n",
    "sorted_similar_movies = sorted(similarity_score, key= lambda x: x[1], reverse=True)\n",
    "sorted_similar_movies[0:5]"
   ]
  },
  {
   "cell_type": "code",
   "execution_count": 50,
   "id": "4acdc6c9-cc65-42bd-b9ca-3743cc1aa8ad",
   "metadata": {},
   "outputs": [
    {
     "name": "stdout",
     "output_type": "stream",
     "text": [
      "*** Suggested movies for you ***\n",
      "\n",
      "Iron Man\n",
      "Iron Man 2\n",
      "Iron Man 3\n",
      "Avengers: Age of Ultron\n",
      "The Avengers\n",
      "Captain America: Civil War\n",
      "Captain America: The Winter Soldier\n",
      "Ant-Man\n",
      "X-Men\n",
      "Made\n"
     ]
    }
   ],
   "source": [
    "max_movies_recommendations = 10\n",
    "\n",
    "print(\"*** Suggested movies for you ***\\n\")\n",
    "for idx, cosine in sorted_similar_movies[0:max_movies_recommendations]:\n",
    "    movie = movies_data[movies_data[\"index\"] == idx][\"title\"].values[0]\n",
    "    print(movie)"
   ]
  },
  {
   "cell_type": "markdown",
   "id": "4f948a08-06d0-4686-afc3-68432a53da0b",
   "metadata": {},
   "source": [
    "## Movie Recommendation System Resume"
   ]
  },
  {
   "cell_type": "code",
   "execution_count": 57,
   "id": "3635b2a3-66f2-4361-b437-9885c32c5f90",
   "metadata": {},
   "outputs": [
    {
     "name": "stdout",
     "output_type": "stream",
     "text": [
      "['Wrath of the Titans', 'Clash of the Titans', 'George of the Jungle']\n",
      "*** Suggested movies for you ***\n",
      "\n",
      "Wrath of the Titans\n",
      "Clash of the Titans\n",
      "Hands of Stone\n",
      "The Legend of Hercules\n",
      "Guten Tag, Ramón\n",
      "Joy\n",
      "Percy Jackson & the Olympians: The Lightning Thief\n",
      "Deliver Us from Evil\n",
      "Domino\n",
      "Schindler's List\n"
     ]
    }
   ],
   "source": [
    "movie_name = \"lord of the rings\"\n",
    "\n",
    "all_movies_names_list = movies_data[\"title\"].tolist()\n",
    "\n",
    "find_close_match = difflib.get_close_matches(movie_name, all_movies_names_list)\n",
    "\n",
    "close_match = find_close_match[0] if len(find_close_match) > 0 else \"N/A\"\n",
    "\n",
    "movie_index = movies_data[movies_data[\"title\"] == close_match][\"index\"].values[0]\n",
    "\n",
    "similarity_score = list(enumerate(similarity[movie_index]))\n",
    "\n",
    "sorted_similar_movies = sorted(similarity_score, key= lambda x: x[1], reverse=True)\n",
    "\n",
    "max_movies_recommendations = 10\n",
    "\n",
    "#print(find_close_match)\n",
    "\n",
    "print(\"*** Suggested movies for you ***\\n\")\n",
    "for idx, cosine in sorted_similar_movies[0:max_movies_recommendations]:\n",
    "    movie = movies_data[movies_data[\"index\"] == idx][\"title\"].values[0]\n",
    "    print(movie)"
   ]
  },
  {
   "cell_type": "code",
   "execution_count": 59,
   "id": "b111972d-fdf4-4dbb-bf09-3a74c42d2ca1",
   "metadata": {},
   "outputs": [],
   "source": [
    "# Guardamos la matriz de similitudes para uso posterior con API\n",
    "\n",
    "np.save('movies_similarity_matrix.npy', similarity)"
   ]
  },
  {
   "cell_type": "code",
   "execution_count": null,
   "id": "e622a1f0-e088-4f8c-817b-6d4728124d9c",
   "metadata": {},
   "outputs": [],
   "source": []
  }
 ],
 "metadata": {
  "kernelspec": {
   "display_name": "Python 3 (ipykernel)",
   "language": "python",
   "name": "python3"
  },
  "language_info": {
   "codemirror_mode": {
    "name": "ipython",
    "version": 3
   },
   "file_extension": ".py",
   "mimetype": "text/x-python",
   "name": "python",
   "nbconvert_exporter": "python",
   "pygments_lexer": "ipython3",
   "version": "3.8.8"
  }
 },
 "nbformat": 4,
 "nbformat_minor": 5
}
