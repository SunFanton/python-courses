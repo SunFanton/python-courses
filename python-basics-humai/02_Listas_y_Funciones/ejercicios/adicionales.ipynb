{
 "cells": [
  {
   "cell_type": "markdown",
   "metadata": {},
   "source": [
    "<a href=\"https://colab.research.google.com/github/institutohumai/cursos-python/blob/master/Introduccion/2_Listas_Y_Funciones/ejercicio/adicionales.ipynb\"> <img src='https://colab.research.google.com/assets/colab-badge.svg' /> </a>\n",
    "<div align=\"center\"> Recordá abrir en una nueva pestaña </div>"
   ]
  },
  {
   "cell_type": "markdown",
   "metadata": {},
   "source": [
    "# Ejercicios Adicionales II\n",
    "\n",
    "Estos ejercicios tienen un nivel de dificultad un poco mas elevado. Cada ejercicio tiene una función de test para chequear si lo que hicieron esta bien. "
   ]
  },
  {
   "cell_type": "code",
   "execution_count": 1,
   "metadata": {},
   "outputs": [
    {
     "name": "stdout",
     "output_type": "stream",
     "text": [
      "/bin/bash: wget: command not found\n",
      "Archive:  test_intro_clase2.zip\n",
      "  inflating: README.txt              \n",
      "   creating: test/\n",
      "  inflating: test/borges1.txt        \n",
      "  inflating: test/borges1_encriptado_6.txt  \n",
      "  inflating: test/borges1_encriptado_6_cap.txt  \n",
      "  inflating: test/borges2.txt        \n",
      "  inflating: test/borges2_encriptado_11.txt  \n",
      "  inflating: test/borges2_encriptado_11_cap.txt  \n",
      "  inflating: test.py                 \n"
     ]
    }
   ],
   "source": [
    "!wget ./test_intro_clase2.zip\n",
    "!unzip test_intro_clase2.zip"
   ]
  },
  {
   "cell_type": "code",
   "execution_count": 1,
   "metadata": {},
   "outputs": [],
   "source": [
    "from test import *"
   ]
  },
  {
   "cell_type": "markdown",
   "metadata": {},
   "source": [
    "### Juego de espías (Fácil)\n",
    "El espía Ramsay debe codificar los mensajes que le mandan otros espías sobre la cantidad de tropas que tiene el enemigo en distintos cuarteles. Para esto, otro espía le manda una tira de números con un pequeño truco. Esta tira de números estan separados por `-`, pero para que no sea tan fácil saber que esta informando, la cantidad de tropas esta levemente escondida y también esta escondido el número del cuartel. El cuartel estará escondido en el último lugar de la tira y para obtener la cantidad de tropas aproximadas se deben sumar todos los números que son divisibles por el número del cuartel de la tira. Crear una función que reciba el string de la tira de números y devuelva la cantidad de tropas que hay en el cuartel enemigo como una tupla. Adicionalmente, podria imprimir un mensaje con la información requerida.\n",
    "\n",
    "Ej:\n",
    "```Python\n",
    "INPUT:\n",
    "tira_numeros = '29-32-1-5-65-12345-0-12-2'\n",
    "OUTPUT: \n",
    "(2, 44)\n",
    "    \"En el cuartel número 2 hay 44 soldados\"\n",
    "```"
   ]
  },
  {
   "cell_type": "code",
   "execution_count": 2,
   "metadata": {},
   "outputs": [],
   "source": [
    "# Corre para ver si tu código esta bien\n",
    "def informe_espia(tira_numeros):\n",
    "    lista = tira_numeros.split(\"-\")\n",
    "    cuartel = int(lista.pop())\n",
    "    lista = [int(num) for num in lista]\n",
    "    informe = sum([num for num in lista if num % cuartel == 0])\n",
    "    return (cuartel,informe)"
   ]
  },
  {
   "cell_type": "code",
   "execution_count": 3,
   "metadata": {},
   "outputs": [
    {
     "name": "stdout",
     "output_type": "stream",
     "text": [
      "Salio todo piola\n"
     ]
    }
   ],
   "source": [
    "test1(informe_espia)"
   ]
  },
  {
   "cell_type": "markdown",
   "metadata": {},
   "source": [
    "***\n",
    "### Codificador César (Intermedio)\n",
    "Una de las formas mas antiguas de crear un código encriptado es lo que se conoce como el encriptado César <https://es.wikipedia.org/wiki/Cifrado_C%C3%A9sar>. En este tipo de encriptado lo que se hace es \"girar\" el abecedario una determinada cantidad de pasos según una clave numérica (ver ejemplo). Crear una función que lea un string dentro de un txt en la misma ruta que esta notebook, tome una clave y devuelva el string encriptado con la clave César en minúsculas(asumir que el texto esta en castellano).\n",
    "\n",
    "Ej: Clave = 2\n",
    "\n",
    "| Letra   | Letra encriptada |\n",
    "| ------------- |:-------------:| \n",
    "| A | C | \n",
    "| B | D |\n",
    "| C | E |\n",
    "| ... | ... |\n",
    "| Y | A |\n",
    "| Z | B |\n",
    "\n",
    "```Python\n",
    "INPUT:\n",
    "'mi_archivo.txt' (\"Hola estudiante\"), clave = 1\n",
    "OUTPUT:\n",
    "\"Jqnc guvwfkcovg\"\n",
    "```\n",
    "\n",
    "*AYUDA*\n",
    "\n",
    "El método `mi_lista.index(elemento)` búsca el `elemento` en la lista `mi_lista` y devuelve la posición del elemento si lo encontró. Si no lo encontró devuelve un `ValueError`."
   ]
  },
  {
   "cell_type": "code",
   "execution_count": 12,
   "metadata": {},
   "outputs": [],
   "source": [
    "def codificador_cesar(mensaje_path, clave):\n",
    "    # Un ayudin\n",
    "    abecedario = 'abcdefghijklmnñopqrstuvwxyz'\n",
    "    # Ahora hagan su magia (ojo con las mayúsculas)\n",
    "    cifrado = \"\"\n",
    "    with open(mensaje_path, 'r') as f:\n",
    "        contenido = f.read()\n",
    "    for letra in contenido:\n",
    "        if letra.lower() in abecedario:\n",
    "            index = abecedario.index(letra.lower())\n",
    "            cifrado += abecedario[(index + clave) % len(abecedario)]\n",
    "        else:\n",
    "            cifrado += letra\n",
    "    return cifrado"
   ]
  },
  {
   "cell_type": "code",
   "execution_count": 13,
   "metadata": {},
   "outputs": [
    {
     "name": "stdout",
     "output_type": "stream",
     "text": [
      "¡Mensaje encriptado correctamente! Son hackers.\n"
     ]
    }
   ],
   "source": [
    "# Corre para ver si tu código esta bien\n",
    "test2(codificador_cesar)"
   ]
  },
  {
   "cell_type": "code",
   "execution_count": 16,
   "metadata": {},
   "outputs": [],
   "source": [
    "def codificador_cesar_mayus(mensaje_path, clave):\n",
    "    # Un ayudin\n",
    "    abecedario = 'abcdefghijklmnñopqrstuvwxyz'\n",
    "    # Ahora hagan su magia (ojo con las mayúsculas)\n",
    "    cifrado = \"\"\n",
    "    with open(mensaje_path, 'r') as f:\n",
    "        contenido = f.read()\n",
    "    for letra in contenido:\n",
    "        if letra.lower() in abecedario:\n",
    "            index = abecedario.index(letra.lower())\n",
    "            letra_cifrada = abecedario[(index + clave) % len(abecedario)]\n",
    "            cifrado += letra_cifrada.upper() if letra.isupper() else letra_cifrada\n",
    "        else:\n",
    "            cifrado += letra\n",
    "    return cifrado"
   ]
  },
  {
   "cell_type": "code",
   "execution_count": 18,
   "metadata": {},
   "outputs": [
    {
     "name": "stdout",
     "output_type": "stream",
     "text": [
      "¡Mensaje encriptado correctamente! Son hackers.\n"
     ]
    }
   ],
   "source": [
    "test2_mayusculas(codificador_cesar_mayus)"
   ]
  },
  {
   "cell_type": "markdown",
   "metadata": {},
   "source": [
    "**OPCIONALES** \n",
    "\n",
    "- Hacer que la función guarde la salida como un archivo de texto.\n",
    "- Podemos encriptar respetando mayúsculas. Adaptar la función para que lo haga. Se puede usar la funcion test2_mayusculas para probarla. Sugerencia: Mirar el método `isupper()` para los strings.\n",
    "- Adaptar la función anterior pero para desencriptar, una función que cree una lista con todas las posibles rotaciones del texto."
   ]
  },
  {
   "cell_type": "markdown",
   "metadata": {},
   "source": [
    "***\n",
    "### La calesita (Rompecoco) \n",
    "El señor Jacinto es dueño de una antigua calesita con animalitos que no funciona hace varios años y quiere volver a ponerla en funcionamiento. Para eso va a probarla prendiendola y viendo cuanto rota segun la cantidad de movimientos. \n",
    "\n",
    "Crear una función que reciba una lista de strings (con la primera en mayúscula) con los animales que componen la calesita, una cantidad de ciclos(n_ciclos) y devuelva la misma lista pero rotada hacia la derecha esa cantidad de movimientos, donde un movimiento es cambiar todos los animales una posición hacia la derecha:\n",
    "\n",
    "Ej:\n",
    "``` Python\n",
    "INPUT:\n",
    "['Unicornio','Oso','Jirafa', 'Pato', 'Elefante'], movimiento = 1\n",
    "OUTPUT:\n",
    "['Elefante', 'Unicornio', 'Oso', 'Jirafa', 'Pato']\n",
    "```"
   ]
  },
  {
   "cell_type": "code",
   "execution_count": 30,
   "metadata": {},
   "outputs": [],
   "source": [
    "def probar_calesita(calesita, n_movimientos):\n",
    "    # Proba la calesita\n",
    "    calesita_girada = list(range(len(calesita)))\n",
    "    for n in calesita:\n",
    "        index = calesita.index(n)\n",
    "        new_index = (index + n_movimientos) % len(calesita)\n",
    "        calesita_girada[new_index] = n\n",
    "    return calesita_girada"
   ]
  },
  {
   "cell_type": "code",
   "execution_count": 31,
   "metadata": {},
   "outputs": [
    {
     "name": "stdout",
     "output_type": "stream",
     "text": [
      "¡La calesita anda!\n"
     ]
    }
   ],
   "source": [
    "# Corre para ver si tu código esta bien\n",
    "test3(probar_calesita)"
   ]
  },
  {
   "cell_type": "markdown",
   "metadata": {},
   "source": [
    "Cuando prueba la calesita se da cuenta que es muy lenta. Debe sacar uno de los animales para que pueda funcionar correctamente. Para eso los manda a pesar y le dicen cual es el que hay que sacar para que funcione perfectamente.\n",
    "\n",
    "Modificar la función anterior para que reciba un string, que es un animal en MAYÚSCULAS (animal_quitar) para sacar y pruebe la función nuevamente.\n",
    "\n",
    "Ej:\n",
    "```Python\n",
    "INPUT:\n",
    "['Unicornio','Oso','Jirafa', 'Pato', 'Elefante'], animal_quitar = 'JIRAFA', movimientos = 1\n",
    "OUTPUT:\n",
    "['Elefante', 'Unicornio', 'Oso', 'Pato']\n",
    "```"
   ]
  },
  {
   "cell_type": "code",
   "execution_count": 35,
   "metadata": {},
   "outputs": [],
   "source": [
    "def probar_calesita_arreglada(calesita, n_mov, animal_quitar):\n",
    "    # Arregla la calesita\n",
    "    calesita_arreglada = probar_calesita(calesita, n_mov)\n",
    "    animal_quitar = animal_quitar.title()\n",
    "    index = calesita_arreglada.index(animal_quitar)\n",
    "    calesita_arreglada.pop(index)\n",
    "    return calesita_arreglada"
   ]
  },
  {
   "cell_type": "code",
   "execution_count": 36,
   "metadata": {},
   "outputs": [
    {
     "ename": "AssertionError",
     "evalue": "error con rotar 11 veces la calesita: ['Gatito', 'Ornitorrinco', 'Vaca', 'Elefante', 'Pato']",
     "output_type": "error",
     "traceback": [
      "\u001b[0;31m---------------------------------------------------------------------------\u001b[0m",
      "\u001b[0;31mAssertionError\u001b[0m                            Traceback (most recent call last)",
      "Cell \u001b[0;32mIn[36], line 2\u001b[0m\n\u001b[1;32m      1\u001b[0m \u001b[38;5;66;03m# Corre para ver si tu código esta bien\u001b[39;00m\n\u001b[0;32m----> 2\u001b[0m \u001b[43mtest4\u001b[49m\u001b[43m(\u001b[49m\u001b[43mprobar_calesita_arreglada\u001b[49m\u001b[43m)\u001b[49m\n",
      "File \u001b[0;32m~/Desktop/REP/python-courses/ptthon-basics-humai/02_Listas_y_Funciones/ejercicios/test.py:56\u001b[0m, in \u001b[0;36mtest4\u001b[0;34m(mi_funcion)\u001b[0m\n\u001b[1;32m     54\u001b[0m rotacion1_2 \u001b[38;5;241m=\u001b[39m \u001b[38;5;241m3\u001b[39m\n\u001b[1;32m     55\u001b[0m rotacion1_3 \u001b[38;5;241m=\u001b[39m \u001b[38;5;241m0\u001b[39m\n\u001b[0;32m---> 56\u001b[0m \u001b[38;5;28;01massert\u001b[39;00m mi_funcion(caso_1, rotacion1_1, \u001b[38;5;124m'\u001b[39m\u001b[38;5;124mGatito\u001b[39m\u001b[38;5;124m'\u001b[39m) \u001b[38;5;241m==\u001b[39m [\u001b[38;5;124m'\u001b[39m\u001b[38;5;124mVaca\u001b[39m\u001b[38;5;124m'\u001b[39m, \u001b[38;5;124m'\u001b[39m\u001b[38;5;124mElefante\u001b[39m\u001b[38;5;124m'\u001b[39m, \u001b[38;5;124m'\u001b[39m\u001b[38;5;124mPato\u001b[39m\u001b[38;5;124m'\u001b[39m, \u001b[38;5;124m'\u001b[39m\u001b[38;5;124mOrnitorrinco\u001b[39m\u001b[38;5;124m'\u001b[39m], \u001b[38;5;124mf\u001b[39m\u001b[38;5;124m\"\u001b[39m\u001b[38;5;124merror con rotar \u001b[39m\u001b[38;5;132;01m{\u001b[39;00mrotacion1_1\u001b[38;5;132;01m}\u001b[39;00m\u001b[38;5;124m veces la calesita: \u001b[39m\u001b[38;5;132;01m{\u001b[39;00mcaso_1\u001b[38;5;132;01m}\u001b[39;00m\u001b[38;5;124m\"\u001b[39m\n\u001b[1;32m     57\u001b[0m \u001b[38;5;28;01massert\u001b[39;00m mi_funcion(caso_1, rotacion1_2, \u001b[38;5;124m'\u001b[39m\u001b[38;5;124mPato\u001b[39m\u001b[38;5;124m'\u001b[39m) \u001b[38;5;241m==\u001b[39m [\u001b[38;5;124m'\u001b[39m\u001b[38;5;124mOrnitorrinco\u001b[39m\u001b[38;5;124m'\u001b[39m, \u001b[38;5;124m'\u001b[39m\u001b[38;5;124mVaca\u001b[39m\u001b[38;5;124m'\u001b[39m, \u001b[38;5;124m'\u001b[39m\u001b[38;5;124mElefante\u001b[39m\u001b[38;5;124m'\u001b[39m, \u001b[38;5;124m'\u001b[39m\u001b[38;5;124mGatito\u001b[39m\u001b[38;5;124m'\u001b[39m], \u001b[38;5;124mf\u001b[39m\u001b[38;5;124m\"\u001b[39m\u001b[38;5;124merror con rotar \u001b[39m\u001b[38;5;132;01m{\u001b[39;00mrotacion1_2\u001b[38;5;132;01m}\u001b[39;00m\u001b[38;5;124m veces la calesita: \u001b[39m\u001b[38;5;132;01m{\u001b[39;00mcaso_1\u001b[38;5;132;01m}\u001b[39;00m\u001b[38;5;124m\"\u001b[39m\n\u001b[1;32m     58\u001b[0m \u001b[38;5;28;01massert\u001b[39;00m mi_funcion(caso_1, rotacion1_3, \u001b[38;5;124m'\u001b[39m\u001b[38;5;124mVaca\u001b[39m\u001b[38;5;124m'\u001b[39m) \u001b[38;5;241m==\u001b[39m [\u001b[38;5;124m'\u001b[39m\u001b[38;5;124mGatito\u001b[39m\u001b[38;5;124m'\u001b[39m,\u001b[38;5;124m'\u001b[39m\u001b[38;5;124mOrnitorrinco\u001b[39m\u001b[38;5;124m'\u001b[39m,\u001b[38;5;124m'\u001b[39m\u001b[38;5;124mElefante\u001b[39m\u001b[38;5;124m'\u001b[39m,\u001b[38;5;124m'\u001b[39m\u001b[38;5;124mPato\u001b[39m\u001b[38;5;124m'\u001b[39m], \u001b[38;5;124mf\u001b[39m\u001b[38;5;124m\"\u001b[39m\u001b[38;5;124merror con rotar \u001b[39m\u001b[38;5;132;01m{\u001b[39;00mrotacion1_3\u001b[38;5;132;01m}\u001b[39;00m\u001b[38;5;124m veces la calesita: \u001b[39m\u001b[38;5;132;01m{\u001b[39;00mcaso_1\u001b[38;5;132;01m}\u001b[39;00m\u001b[38;5;124m\"\u001b[39m\n",
      "\u001b[0;31mAssertionError\u001b[0m: error con rotar 11 veces la calesita: ['Gatito', 'Ornitorrinco', 'Vaca', 'Elefante', 'Pato']"
     ]
    }
   ],
   "source": [
    "# Corre para ver si tu código esta bien\n",
    "test4(probar_calesita_arreglada)"
   ]
  },
  {
   "cell_type": "code",
   "execution_count": null,
   "metadata": {},
   "outputs": [],
   "source": []
  }
 ],
 "metadata": {
  "kernelspec": {
   "display_name": "Python 3 (ipykernel)",
   "language": "python",
   "name": "python3"
  },
  "language_info": {
   "codemirror_mode": {
    "name": "ipython",
    "version": 3
   },
   "file_extension": ".py",
   "mimetype": "text/x-python",
   "name": "python",
   "nbconvert_exporter": "python",
   "pygments_lexer": "ipython3",
   "version": "3.12.0"
  }
 },
 "nbformat": 4,
 "nbformat_minor": 4
}
