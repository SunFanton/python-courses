{
 "cells": [
  {
   "cell_type": "markdown",
   "id": "7178b687-a5a4-4f3a-af15-ba53e373fdd5",
   "metadata": {},
   "source": [
    "# Funciones"
   ]
  },
  {
   "cell_type": "markdown",
   "id": "f4a9327a-d005-4aab-aa24-47fbf04db544",
   "metadata": {},
   "source": [
    "<p style=\"text-align: jsutify; font-size: 1.1rem\">El presente notebook actúa como una recopilación de material extra relacionado al tema <b>Funciones</b> cuyo contenido principal se encuentra en el archivo <i>funciones_intro_calculo_humai.ipynb</i></p>"
   ]
  },
  {
   "cell_type": "markdown",
   "id": "5b4a2c72-2684-4c18-9079-04cbd30a9e55",
   "metadata": {},
   "source": [
    "## Derivadas"
   ]
  },
  {
   "cell_type": "markdown",
   "id": "e4af80bf-181f-49a3-b7e1-11b398843856",
   "metadata": {},
   "source": [
    "### Links"
   ]
  },
  {
   "cell_type": "markdown",
   "id": "bbb0d21d-7beb-4d81-a710-baf9a9c1b92a",
   "metadata": {},
   "source": [
    "<div style=\"text-align: jsutify; font-size: 1.1rem\">\n",
    "\n",
    "Las derivadas nos permiten, de alguna manera, analizar el comportamiento que tiene una función en particular según los valores de entrada que reciba. Es decir, cómo va cambiando de acuerdo a dichos valores.\n",
    "\n",
    "A continuación, el link de una lista de reproducción de Youtube del canal Matemáticas profe Alex con todos los contenidos relacionados a las derivadas:\n",
    "\n",
    "<a href=\"https://www.youtube.com/playlist?list=PLeySRPnY35dG2UQ35tPsaVMYkQhc8Vp__\" target=\"_blank\">Lista reproducción Derivadas</a>\n",
    "\n",
    "Por otro lado, de esa misma lista, se adjuntan links de ciertos tópicos útiles:\n",
    "\n",
    "<a href=\"https://www.youtube.com/watch?v=uK4-s0ojHFg&list=PLeySRPnY35dG2UQ35tPsaVMYkQhc8Vp__\" target=\"_blank\">Concepto básico de la derivada</a>\n",
    "\n",
    "<a href=\"https://www.youtube.com/watch?v=pMYdSjgzrys&list=PLeySRPnY35dG2UQ35tPsaVMYkQhc8Vp__&index=2\" target=\"_blank\">Derivadas usando la definción</a>\n",
    "\n",
    "El siguiente tema es de GRAN IMPORTANCIA en Machine Learning y Deep Learning. Tener en cuenta que los máximos y mínimos de una función se encuentran en aquellos puntos donde la derivada toma valor cero (la pendiente de la recta tangente es igual a cero):\n",
    "\n",
    "<a href=\"https://www.youtube.com/watch?v=ppI4NKTScxw&list=PLeySRPnY35dG2UQ35tPsaVMYkQhc8Vp__&index=61\" target=\"_blank\">Máximos y mínimos de una función</a>\n",
    "\n",
    "<a href=\"https://www.youtube.com/watch?v=m_5-WS9Nd68&list=PLeySRPnY35dG2UQ35tPsaVMYkQhc8Vp__&index=21\" target=\"_blank\">Regla de la cadena Ejemplo 1</a>\n",
    "\n",
    "<a href=\"https://www.youtube.com/watch?v=sMct2JvYDlE&list=PLeySRPnY35dG2UQ35tPsaVMYkQhc8Vp__&index=49\" target=\"_blank\">Derivadas de Orden Superior</a>\n",
    "\n",
    "<hr>\n",
    "\n",
    "Derivadas Parciales\n",
    "\n",
    "<a href=\"https://www.youtube.com/watch?v=RdxXv3lFjls&list=PLeySRPnY35dEzFH6hn4bDJRPNbnVuevtS&index=1\" target=\"_blank\">Derivadas Parciales - Introducción</a>\n",
    "\n",
    "<a href=\"https://es.khanacademy.org/math/multivariable-calculus/multivariable-derivatives/partial-derivative-and-gradient-articles/a/the-gradient\" target=\"_blank\">Vector Gradiente - Definición Khan Academy</a>\n",
    "\n",
    "<a href=\"https://www.youtube.com/watch?v=Vnbi1S7x6Qg\" target=\"_blank\">Vector Gradiente (derivadas parciales)</a>\n",
    "\n",
    "<a href=\"https://www.youtube.com/watch?v=OSsH0YOh5oM\" target=\"_blank\">Matriz Jacobiana</a>\n",
    "\n",
    "<a href=\"https://www.youtube.com/watch?v=H3aGBaFgdpk\" target=\"_blank\">Matriz Hessiana</a>\n",
    "\n",
    "<hr>\n",
    "\n",
    "Integrales (pequeña introducción)\n",
    "\n",
    "Tener en cuenta que, para el caso de Machine Learning, lo que más nos interesará son las derivadas. Las integrales suelen aplciarse y resolverse más en lo relacionado al tema de probabilidad (tema que se encontrará en clases siguientes).\n",
    "\n",
    "<a href=\"https://www.youtube.com/watch?v=H3aGBaFgdpk\" target=\"_blank\">Teorema Fundamental del Cálculo</a>\n",
    "\n",
    "</div>"
   ]
  },
  {
   "cell_type": "code",
   "execution_count": 1,
   "id": "2db377b5-5a69-4bd0-a52e-fcb475e05b4c",
   "metadata": {},
   "outputs": [],
   "source": [
    "import numpy as np"
   ]
  },
  {
   "cell_type": "code",
   "execution_count": null,
   "id": "6cd59666-9bb5-4dce-9e69-142d0cb1a839",
   "metadata": {},
   "outputs": [],
   "source": [
    "v = np.array"
   ]
  },
  {
   "cell_type": "markdown",
   "id": "4d806d52-64d4-43d8-8f3a-13949040bcf0",
   "metadata": {},
   "source": [
    "### Apuntes varios"
   ]
  },
  {
   "cell_type": "markdown",
   "id": "5ebe8264-c278-4cb2-a35a-fe40fab95d31",
   "metadata": {},
   "source": [
    "![Funciones 1](./images/Funciones-parte1.png)"
   ]
  },
  {
   "cell_type": "markdown",
   "id": "441ac6f3-4d76-4b9f-9f94-c9e0f8c0dff2",
   "metadata": {},
   "source": [
    "![Funciones 1](./images/Funciones-parte1.png)"
   ]
  }
 ],
 "metadata": {
  "kernelspec": {
   "display_name": "Python 3 (ipykernel)",
   "language": "python",
   "name": "python3"
  },
  "language_info": {
   "codemirror_mode": {
    "name": "ipython",
    "version": 3
   },
   "file_extension": ".py",
   "mimetype": "text/x-python",
   "name": "python",
   "nbconvert_exporter": "python",
   "pygments_lexer": "ipython3",
   "version": "3.12.0"
  }
 },
 "nbformat": 4,
 "nbformat_minor": 5
}
