{
 "cells": [
  {
   "cell_type": "markdown",
   "source": [
    "# Medidas de dispersión: rango, varianza, desviación estándar y rango intercuartílico"
   ],
   "metadata": {}
  },
  {
   "cell_type": "markdown",
   "source": [
    "Las medidas de dispersión son aquellas que nos permiten determinar, como su nombre lo indica, qué tan dispersos se encuentran los valores de nuestros datos. Es decir, teniendo un promedio, qué tan alejados están o no del promedio los valores de la muestra.\n",
    "\n",
    "En este ejemplo, vamos a ver un caso de un atleta que levanta diferentes pesos en distintas ocasiones, para analizar qué tan dispersos (alejados o no del promedio) se encuentran esos pesos levantados, expresados en kilogramos.\n",
    "\n",
    "Como vemos, tenemos dos muestras:\n",
    "- La muestra A presenta una baja dispersión, ya que los pesos son similares entre sí y están cercanos al promedio.\n",
    "- La muestra B presenta una alta dispersión, ya que los pesos son más variados, y hay valores que están muy alejados del promedio."
   ],
   "metadata": {}
  },
  {
   "cell_type": "markdown",
   "source": [
    "![Ejemplo](./img/dispersion1.png)"
   ],
   "metadata": {}
  },
  {
   "cell_type": "markdown",
   "source": [
    "## Rango"
   ],
   "metadata": {}
  },
  {
   "cell_type": "markdown",
   "source": [
    "Una medida de dispersión es el rango, que básicamente consiste en tomar el valor máximo de la muestra y el valor mínimo y restarlos para que qué tan alejados están uno del otro."
   ],
   "metadata": {}
  },
  {
   "cell_type": "markdown",
   "source": [
    "Rango de la muestra A"
   ],
   "metadata": {}
  },
  {
   "cell_type": "markdown",
   "source": [
    "![Rango](./img/dispersion2.png)"
   ],
   "metadata": {}
  },
  {
   "cell_type": "markdown",
   "source": [
    "Rango de la muestra B"
   ],
   "metadata": {}
  },
  {
   "cell_type": "markdown",
   "source": [
    "![Rango](./img/dispersion3.png)"
   ],
   "metadata": {}
  },
  {
   "cell_type": "markdown",
   "source": [
    "## Varianza"
   ],
   "metadata": {}
  },
  {
   "cell_type": "markdown",
   "source": [
    "La varianza consiste en averiguar, en primer lugar, el promedio de la muestra. Una vez obtenido ese valor, realizamos la sumatoria de la resta entre ese promedio y cada valor, elevando dicha resta al cuadrado. \n",
    "La resta entre el promedio y cada valor es para saber qué tan alejado está justamente ese valor del promedio. Eso se eleva al cuadrado para evitar obtener valores negativos como resultado de la resta, ya que tengamos en cuenta que los valores que estén por encima del promedio al hacer promedio - valor eso nos dará un número negativo. El cuadrado nos evita justamente ese problema.\n",
    "\n",
    "Una vez hcha la sumatoria, dividimos el resultado de la mismo por el tamaño de la población."
   ],
   "metadata": {}
  },
  {
   "cell_type": "markdown",
   "source": [
    "![Varianza 1](./img/dispersion4.png)"
   ],
   "metadata": {}
  },
  {
   "cell_type": "markdown",
   "source": [
    "![Varianza 2](./img/dispersion5.png)"
   ],
   "metadata": {}
  },
  {
   "cell_type": "markdown",
   "source": [
    "![Varianza 3](./img/dispersion6.png)"
   ],
   "metadata": {}
  },
  {
   "cell_type": "markdown",
   "source": [
    "Esto es lo que se conoce como *varianza poblacional*. Pero teniendo en cuenta que nosotros solo estamos trajando con una muestra, es decir, una fracción de la población total, ya que sería muy difícil recolectar todos los datos del mundo, estaríamos trabajando con lo que se conoce como *varianza muestral*. En cuanto a los cálculos, la única diferencia que presenta es que la sumatoria final en lugar de dividirse por el tamaño de la población, se divide por el tamaño de la población - 1, relacionado con el margen de error que podemos llegar a tener."
   ],
   "metadata": {}
  },
  {
   "cell_type": "markdown",
   "source": [
    "![Varianza 4](./img/dispersion7.png)"
   ],
   "metadata": {}
  },
  {
   "cell_type": "markdown",
   "source": [
    "## Desviación estándar"
   ],
   "metadata": {}
  },
  {
   "cell_type": "markdown",
   "source": [
    "La desviación estándar está muy relacionada a la varianza ya que se obtiene de la raíz cuadrada del valor de la varianza. Teniendo en cuenta que para calcular la varianza estamos, en la parte de la sumatoria, elevando al cuadrado cada resta entre el promedio y un valor de la muestra, al elevar el cuadrado si bien estamos evitando el problema de los números negativos, al mismo tiempo estamos obteniendo unidades que pueden resultar extrañas para nuestro análisis. \n",
    "En nuestro ejemplo, si estamos trabajando con kilogramos, al elevar el cuadrado estamos entonces trabajando con kilogramos al cuadrado, lo cual es bastante raro.\n",
    "La desviación entonces surge como solución a esta otra problemática."
   ],
   "metadata": {}
  },
  {
   "cell_type": "markdown",
   "source": [
    "![Desviación estándar](./img/dispersion8.png)"
   ],
   "metadata": {}
  },
  {
   "cell_type": "markdown",
   "source": [
    "## Rango intercuartílico"
   ],
   "metadata": {}
  },
  {
   "cell_type": "markdown",
   "source": [
    "Finalmente, el rango intercuartílico es otra medida de dispersión, relacionada con los cuantiles y específicamente con los cuartiles. El mismo se calcula según se muestra en las siguientes imágenes:"
   ],
   "metadata": {}
  },
  {
   "cell_type": "markdown",
   "source": [
    "![Rango intercuartílico 1](./img/dispersion9.png)"
   ],
   "metadata": {}
  },
  {
   "cell_type": "markdown",
   "source": [
    "![Rango intercuartílico 2](./img/dispersion10.png)"
   ],
   "metadata": {}
  },
  {
   "cell_type": "markdown",
   "source": [
    "## Medidas de dispersión con Numpy"
   ],
   "metadata": {}
  },
  {
   "cell_type": "code",
   "execution_count": 1,
   "source": [
    "import numpy as np"
   ],
   "outputs": [],
   "metadata": {}
  },
  {
   "cell_type": "code",
   "execution_count": 6,
   "source": [
    "# Contexto: levantamiento de pesas\n",
    "pesos = [5, 15, 25, 35, 40, 55, 80, 90, 170]\n",
    "\n",
    "print(\"Rango:\", np.max(pesos) - np.min(pesos))\n",
    "\n",
    "print(\"Varianza poblacional:\", np.var(pesos))\n",
    "print(\"Varianza muestral:\", np.var(pesos, ddof=1))\n",
    "\n",
    "print(\"Desviación estándar poblacional:\", np.std(pesos))\n",
    "print(\"Desviación estándar muestral:\", np.std(pesos, ddof=1))\n",
    "\n",
    "# Cálculo del rango intercuartílico\n",
    "q1 = np.percentile(pesos, 25)\n",
    "q3 = np.percentile(pesos, 75)\n",
    "# otra forma de obtener los cuartiles que necesitamos:\n",
    "#q1, q3 = np.quantile(pesos, [1/4, 3/4])\n",
    "#print(q1)\n",
    "#print(q3)\n",
    "\n",
    "print(\"Rango intercuartílico:\", q3 - q1)"
   ],
   "outputs": [
    {
     "output_type": "stream",
     "name": "stdout",
     "text": [
      "Rango: 165\n",
      "Varianza poblacional: 2295.0617283950614\n",
      "Varianza muestral: 2581.9444444444443\n",
      "Desviación estándar poblacional: 47.90680252735577\n",
      "Desviación estándar muestral: 50.812837398087154\n",
      "Rango intercuartílico: 55.0\n"
     ]
    }
   ],
   "metadata": {}
  }
 ],
 "metadata": {
  "orig_nbformat": 4,
  "language_info": {
   "name": "python",
   "version": "3.12.0",
   "mimetype": "text/x-python",
   "codemirror_mode": {
    "name": "ipython",
    "version": 3
   },
   "pygments_lexer": "ipython3",
   "nbconvert_exporter": "python",
   "file_extension": ".py"
  },
  "kernelspec": {
   "name": "python3",
   "display_name": "Python 3.12.0 64-bit"
  },
  "interpreter": {
   "hash": "aee8b7b246df8f9039afb4144a1f6fd8d2ca17a180786b69acc140d282b71a49"
  }
 },
 "nbformat": 4,
 "nbformat_minor": 2
}