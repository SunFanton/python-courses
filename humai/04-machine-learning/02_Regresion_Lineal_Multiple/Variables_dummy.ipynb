{
 "cells": [
  {
   "cell_type": "markdown",
   "source": [
    "# Variables Dummy: qué son y su uso con variables categóricas"
   ],
   "metadata": {}
  },
  {
   "cell_type": "markdown",
   "source": [
    "Texto brindado por `ChatGPT`:"
   ],
   "metadata": {}
  },
  {
   "cell_type": "markdown",
   "source": [
    "## Multicolinealidad y Variables Dummy\n",
    "\n",
    "### ¿Qué es la multicolinealidad?\n",
    "\n",
    "La **multicolinealidad** ocurre cuando dos o más variables independientes están **altamente correlacionadas** entre sí. Esto significa que una variable puede predecir a la otra sin ningún error. Este problema es común en modelos de regresión y puede afectar la precisión y estabilidad del modelo.\n",
    "\n",
    "#### Relación lineal perfecta\n",
    "\n",
    "Una **relación lineal perfecta** entre dos variables significa que una puede ser predicha a partir de la otra con exactitud. En términos simples, si tienes una variable $X$, puedes calcular la otra variable $Y$ sin error con una fórmula lineal como:\n",
    "\n",
    "$Y = a \\cdot X + b$\n",
    "\n",
    "Cuando las variables están correlacionadas perfectamente, no es necesario mantener ambas, ya que una ya te da toda la información que necesitas sobre la otra.\n",
    "\n",
    "## ¿Cómo se relaciona la multicolinealidad con las variables dummy?\n",
    "\n",
    "Las variables **dummy** son una forma de representar variables categóricas. Cuando transformas una variable categórica en varias columnas binarias (0 o 1), puedes introducir multicolinealidad si no manejas adecuadamente las variables.\n",
    "\n",
    "### Ejemplo de transformación a dummy\n",
    "\n",
    "Supón que tienes una variable categórica llamada **\"Color\"** con tres categorías: **Rojo**, **Azul**, y **Verde**. Si la transformas en variables dummy, obtienes algo como esto:\n",
    "\n",
    "| Color   | Color_Rojo | Color_Azul | Color_Verde |\n",
    "|---------|------------|------------|-------------|\n",
    "| Rojo    | 1          | 0          | 0           |\n",
    "| Azul    | 0          | 1          | 0           |\n",
    "| Verde   | 0          | 0          | 1           |\n",
    "| Rojo    | 1          | 0          | 0           |\n",
    "| Azul    | 0          | 1          | 0           |\n",
    "\n",
    "En este caso, se han creado tres columnas dummy (una para cada categoría). \n",
    "\n",
    "### ¿Por qué suman 1 en cada fila?\n",
    "\n",
    "Este es un punto clave. En cada fila, solo **una** de las columnas dummy puede ser 1, porque cada fila representa un color único. Si sabes que **`Color_Rojo = 1`**, sabes que **`Color_Azul = 0`** y **`Color_Verde = 0`**, y viceversa.\n",
    "\n",
    "El hecho de que sumen 1 en cada fila es una propiedad inherente de las variables dummy para representar categorías mutuamente excluyentes. Este es el punto donde puede surgir la multicolinealidad.\n",
    "\n",
    "### La relación lineal perfecta entre las columnas dummy\n",
    "\n",
    "Cuando las columnas dummy suman 1, existe una relación determinista entre ellas. Es decir, **si conoces el valor de una columna**, puedes deducir el valor de las otras. Este comportamiento genera **relación lineal perfecta**, lo que lleva a la multicolinealidad.\n",
    "\n",
    "#### Ejemplo matemático simple\n",
    "\n",
    "Imagina que tienes las columnas **`Color_Rojo`** y **`Color_Azul`**:\n",
    "\n",
    "\\[\n",
    "Color\\_Rojo + Color\\_Azul + Color\\_Verde = 1\n",
    "\\]\n",
    "\n",
    "Si sabes el valor de una columna dummy, puedes determinar exactamente el valor de las otras dos:\n",
    "\n",
    "- Si **`Color_Rojo = 1`**, entonces **`Color_Azul = 0`** y **`Color_Verde = 0`**.\n",
    "- Si **`Color_Azul = 1`**, entonces **`Color_Rojo = 0`** y **`Color_Verde = 0`**.\n",
    "- Si **`Color_Verde = 1`**, entonces **`Color_Rojo = 0`** y **`Color_Azul = 0`**.\n",
    "\n",
    "Esto implica que las columnas **`Color_Rojo`**, **`Color_Azul`**, y **`Color_Verde`** están **altamente correlacionadas** entre sí.\n",
    "\n",
    "## ¿Por qué esto es un problema?\n",
    "\n",
    "Si dejas todas las columnas dummy en tu modelo de regresión, el modelo **no podrá estimar correctamente el impacto de cada categoría** porque hay **información redundante**, y las variables independientes resultan no ser tan independientes entre sí, por el hecho de que una se puede inferir de la/s otra/s. \n",
    "\n",
    "### Impacto de la multicolinealidad:\n",
    "1. **Inestabilidad en los coeficientes**: Los coeficientes de las variables correlacionadas pueden ser **inestables**, lo que dificulta la interpretación.\n",
    "2. **Sobreajuste (overfitting)**: El modelo podría ajustarse demasiado a los datos de entrenamiento y no generalizar bien a nuevos datos.\n",
    "3. **Dificultad en la interpretación**: Es complicado entender el impacto de cada variable, porque las variables están **diciendo lo mismo**.\n",
    "\n",
    "## Solución a la multicolinealidad con variables dummy\n",
    "\n",
    "La forma estándar de evitar la multicolinealidad al usar variables dummy es **eliminar una de las columnas dummy**. Al hacer esto, el modelo ya no tendrá redundancia y podrá estimar correctamente el impacto de las otras variables.\n",
    "\n",
    "Básicamente se debe aplicar que para $N$ categorías, debe haber $N - 1$ variables dummy binarias para evitar este problema de la multicolinealidad."
   ],
   "metadata": {}
  },
  {
   "cell_type": "markdown",
   "source": [
    "## Ejemplo con Python"
   ],
   "metadata": {}
  },
  {
   "cell_type": "markdown",
   "source": [
    "Imagina que tienes un DataFrame `df` con una columna categórica **\"Color\"**. Vamos a convertirla en variables dummy y eliminar la primera columna para evitar la trampa dummy:"
   ],
   "metadata": {}
  },
  {
   "cell_type": "markdown",
   "source": [
    "### Usando `pandas`"
   ],
   "metadata": {}
  },
  {
   "cell_type": "code",
   "execution_count": 2,
   "source": [
    "import pandas as pd\n",
    "\n",
    "# DataFrame de ejemplo\n",
    "df = pd.DataFrame({\n",
    "    'Color': ['Rojo', 'Azul', 'Verde', 'Rojo', 'Azul']\n",
    "})\n",
    "\n",
    "# Crear variables dummy, eliminando la primera columna (trampa dummy)\n",
    "df_dummies = pd.get_dummies(df['Color'], drop_first=True)\n",
    "\n",
    "print(df_dummies)"
   ],
   "outputs": [
    {
     "output_type": "stream",
     "name": "stdout",
     "text": [
      "    Rojo  Verde\n",
      "0   True  False\n",
      "1  False  False\n",
      "2  False   True\n",
      "3   True  False\n",
      "4  False  False\n"
     ]
    },
    {
     "output_type": "stream",
     "name": "stderr",
     "text": [
      "/var/folders/ph/5sq6jlj161g1_2t838crnx6c0000gp/T/ipykernel_1944/3021754319.py:1: DeprecationWarning: \n",
      "Pyarrow will become a required dependency of pandas in the next major release of pandas (pandas 3.0),\n",
      "(to allow more performant data types, such as the Arrow string type, and better interoperability with other libraries)\n",
      "but was not found to be installed on your system.\n",
      "If this would cause problems for you,\n",
      "please provide us feedback at https://github.com/pandas-dev/pandas/issues/54466\n",
      "        \n",
      "  import pandas as pd\n"
     ]
    }
   ],
   "metadata": {}
  },
  {
   "cell_type": "markdown",
   "source": [
    "### Usando `sklearn`"
   ],
   "metadata": {}
  },
  {
   "cell_type": "code",
   "execution_count": 1,
   "source": [
    "from sklearn.preprocessing import OneHotEncoder\n",
    "import numpy as np\n",
    "\n",
    "# Supongamos que tenemos los mismos datos\n",
    "data = np.array(['Rojo', 'Azul', 'Verde', 'Rojo', 'Azul']).reshape(-1, 1)\n",
    "\n",
    "# Inicializar el codificador\n",
    "encoder = OneHotEncoder(drop='first')\n",
    "\n",
    "# Ajustar y transformar los datos\n",
    "encoded_data = encoder.fit_transform(data).toarray()\n",
    "\n",
    "print(encoded_data)\n"
   ],
   "outputs": [
    {
     "output_type": "stream",
     "name": "stdout",
     "text": [
      "[[1. 0.]\n",
      " [0. 0.]\n",
      " [0. 1.]\n",
      " [1. 0.]\n",
      " [0. 0.]]\n"
     ]
    }
   ],
   "metadata": {}
  }
 ],
 "metadata": {
  "orig_nbformat": 4,
  "language_info": {
   "name": "python",
   "version": "3.12.0",
   "mimetype": "text/x-python",
   "codemirror_mode": {
    "name": "ipython",
    "version": 3
   },
   "pygments_lexer": "ipython3",
   "nbconvert_exporter": "python",
   "file_extension": ".py"
  },
  "kernelspec": {
   "name": "python3",
   "display_name": "Python 3.12.0 64-bit"
  },
  "interpreter": {
   "hash": "aee8b7b246df8f9039afb4144a1f6fd8d2ca17a180786b69acc140d282b71a49"
  }
 },
 "nbformat": 4,
 "nbformat_minor": 2
}