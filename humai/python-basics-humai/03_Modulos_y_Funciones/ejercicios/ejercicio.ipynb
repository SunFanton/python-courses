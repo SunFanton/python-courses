{
 "cells": [
  {
   "cell_type": "markdown",
   "metadata": {
    "id": "u6Q5T7k22WuZ"
   },
   "source": [
    "<a href=\"https://colab.research.google.com/github/institutohumai/cursos-python/blob/master/Introduccion/3_Modulos_Funciones/ejercicio/ejercicio.ipynb\"> <img src='https://colab.research.google.com/assets/colab-badge.svg' /> </a>\n",
    "<div align=\"center\"> Recordá abrir en una nueva pestaña </div>"
   ]
  },
  {
   "cell_type": "markdown",
   "metadata": {
    "id": "WxAL6VsU2Wuo"
   },
   "source": [
    "# Ejercicios III"
   ]
  },
  {
   "cell_type": "markdown",
   "metadata": {
    "id": "y4fgNZK42Wuq"
   },
   "source": [
    "## Factoriales\n",
    "\n",
    "El factorial de un número natural es la multiplicación de todos los números anteriores hasta llegar a 1. Por ejemplo el factorial de 5 es igual a $5* 4* 3* 2* 1$, es decir, 120.\n",
    "\n",
    "Igual que con la serie Fibonacci, hay dos formas de resolver este problema: una con un loop for y la otra utilizando funciones recursivas.  Recuerden que cada función recursiva tiene que tener una condición terminal.\n",
    "En el caso de Fibonacci, la condición terminal es que fibo(1) = 1. \n",
    "\n",
    "En el caso de factorial, la condición terminal será factorial(1) = 1 \n",
    "\n",
    "Escriban ahora las dos versiones posibles de la función factorial(x). "
   ]
  },
  {
   "cell_type": "code",
   "execution_count": 5,
   "metadata": {
    "id": "AI0nQ8vL2Wux"
   },
   "outputs": [],
   "source": [
    "# Solución recursiva. \n",
    "def factorial_recursivo(num):\n",
    "    if num == 1 or num == 0:\n",
    "        return 1\n",
    "    else:\n",
    "        return num * factorial_recursivo(num-1)"
   ]
  },
  {
   "cell_type": "code",
   "execution_count": 2,
   "metadata": {
    "id": "WsRV3pZU2Wu3"
   },
   "outputs": [],
   "source": [
    "# Solución iterativa. \n",
    "def factorial_iterativo(num):\n",
    "    resul = 1\n",
    "    for i in range(1, num+1):\n",
    "        resul *= i\n",
    "    return resul"
   ]
  },
  {
   "cell_type": "code",
   "execution_count": 3,
   "metadata": {},
   "outputs": [
    {
     "data": {
      "text/plain": [
       "120"
      ]
     },
     "execution_count": 3,
     "metadata": {},
     "output_type": "execute_result"
    }
   ],
   "source": [
    "factorial_iterativo(5)"
   ]
  },
  {
   "cell_type": "code",
   "execution_count": 6,
   "metadata": {},
   "outputs": [
    {
     "data": {
      "text/plain": [
       "120"
      ]
     },
     "execution_count": 6,
     "metadata": {},
     "output_type": "execute_result"
    }
   ],
   "source": [
    "factorial_recursivo(5)"
   ]
  },
  {
   "cell_type": "code",
   "execution_count": 7,
   "metadata": {},
   "outputs": [
    {
     "name": "stdout",
     "output_type": "stream",
     "text": [
      "356 ns ± 5.27 ns per loop (mean ± std. dev. of 7 runs, 1,000,000 loops each)\n"
     ]
    }
   ],
   "source": [
    "%timeit factorial_iterativo(5)"
   ]
  },
  {
   "cell_type": "code",
   "execution_count": 8,
   "metadata": {},
   "outputs": [
    {
     "name": "stdout",
     "output_type": "stream",
     "text": [
      "469 ns ± 4.68 ns per loop (mean ± std. dev. of 7 runs, 1,000,000 loops each)\n"
     ]
    }
   ],
   "source": [
    "%timeit factorial_recursivo(5)"
   ]
  },
  {
   "cell_type": "markdown",
   "metadata": {
    "id": "_RnUbcaR2Wu4"
   },
   "source": [
    "Ahora construyan un módulo que se llame \"operaciones\" con cualquiera de las dos versiones de la función y luego invoquen a la función factorial del módulo."
   ]
  },
  {
   "cell_type": "code",
   "execution_count": 10,
   "metadata": {
    "id": "amURxY7Q2Wu5"
   },
   "outputs": [],
   "source": [
    "# Escriban el archivo operaciones.py\n",
    "import inspect\n",
    "\n",
    "codigo_recursivo = inspect.getsource(factorial_recursivo)\n",
    "codigo_iterativo = inspect.getsource(factorial_iterativo)\n",
    "\n",
    "with open(\"mis_operaciones.py\", \"w\") as archivo:\n",
    "    archivo.write(codigo_recursivo)\n",
    "    archivo.write(codigo_iterativo)"
   ]
  },
  {
   "cell_type": "code",
   "execution_count": 11,
   "metadata": {
    "id": "MjA4BPw92Wu6"
   },
   "outputs": [],
   "source": [
    "# Importen operaciones\n",
    "import mis_operaciones"
   ]
  },
  {
   "cell_type": "code",
   "execution_count": 12,
   "metadata": {
    "id": "ltadgg2C2Wu9"
   },
   "outputs": [
    {
     "data": {
      "text/plain": [
       "6"
      ]
     },
     "execution_count": 12,
     "metadata": {},
     "output_type": "execute_result"
    }
   ],
   "source": [
    "# Invoquen con cualquier valor a operaciones.factorial()\n",
    "mis_operaciones.factorial_recursivo(3)"
   ]
  },
  {
   "cell_type": "markdown",
   "metadata": {
    "id": "uyHeMHAwJ1Ro"
   },
   "source": [
    "Módulos de búsqueda. Ahora crea un paquete (carpeta con varios módulos) donde haya al menos dos algorítmos de búsqueda vistos que funcionen sobre listas de número. \n",
    "Extra: que la busqueda permita diccionarios"
   ]
  },
  {
   "cell_type": "code",
   "execution_count": null,
   "metadata": {
    "id": "XRBF8JHLKFvS"
   },
   "outputs": [],
   "source": []
  }
 ],
 "metadata": {
  "colab": {
   "name": "ejercicio.ipynb",
   "provenance": []
  },
  "kernelspec": {
   "display_name": "Python 3 (ipykernel)",
   "language": "python",
   "name": "python3"
  },
  "language_info": {
   "codemirror_mode": {
    "name": "ipython",
    "version": 3
   },
   "file_extension": ".py",
   "mimetype": "text/x-python",
   "name": "python",
   "nbconvert_exporter": "python",
   "pygments_lexer": "ipython3",
   "version": "3.12.0"
  }
 },
 "nbformat": 4,
 "nbformat_minor": 4
}
