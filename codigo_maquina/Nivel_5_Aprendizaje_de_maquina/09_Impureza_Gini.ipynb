{
 "cells": [
  {
   "cell_type": "markdown",
   "id": "0531c233-6c7b-4d4d-bbb3-d60d76d5e023",
   "metadata": {},
   "source": [
    "# Impureza GINI"
   ]
  },
  {
   "cell_type": "markdown",
   "id": "1a099cc4-3fe7-4062-9d89-5324101b3dcd",
   "metadata": {},
   "source": [
    "De manera informal, se puede definir la **impureza GINI** como la probabilidad de que una característica (columna) clasifique incorrectamente una observación, posiblemente por no ser la más conveniente o porque no aporta información para clasificar.\n",
    "\n",
    "De manera más formal, comparto la siguiente definición obtenida con `ChatGPT`:\n",
    "\n",
    "La **impureza de Gini** es una medida utilizada en la construcción de árboles de decisión para evaluar la pureza de un nodo, es decir, qué tan mezcladas están las clases en ese nodo. Cuanto más pura sea la distribución de las clases en un nodo (es decir, cuanto más pertenezcan todas las observaciones a una misma clase), menor será la impureza de Gini.\n",
    "\n",
    "## Fórmula\n",
    "La impureza de Gini para un nodo \\( t \\) se calcula como:\n",
    "\n",
    "$Gini(t) = 1 - \\sum_{i=1}^{n} p_i^2$\n",
    "\n",
    "Donde:\n",
    "- $ p_i $: Proporción de observaciones pertenecientes a la clase \\( i \\) en el nodo \\( t \\).\n",
    "- $ n $: Número total de clases.\n",
    "\n",
    "## Interpretación\n",
    "- Si todas las observaciones en un nodo pertenecen a una sola clase (pura), la impureza de Gini será **0**.\n",
    "- Si las observaciones están distribuidas uniformemente entre las clases, la impureza de Gini será **máxima**, tendiendo a $\\frac{n-1}{n}$.\n",
    "\n",
    "## Ejemplo\n",
    "Supongamos que un nodo tiene 100 observaciones, y estas están distribuidas en dos clases:\n",
    "- Clase A: 80 observaciones $( p_A = 0.8 $)\n",
    "- Clase B: 20 observaciones $( p_B = 0.2 $)\n",
    "\n",
    "La impureza de Gini sería:\n",
    "\n",
    "$Gini = 1 - (0.8^2 + 0.2^2) = 1 - (0.64 + 0.04) = 1 - 0.68 = 0.32$\n",
    "\n",
    "## Uso en Árboles de Decisión\n",
    "La impureza de Gini se utiliza para decidir dónde dividir un nodo. Se selecciona el punto de división que minimice la impureza promedio ponderada de los nodos resultantes. Esto ayuda a construir un árbol más eficiente al separar las clases de forma efectiva.\n"
   ]
  },
  {
   "cell_type": "markdown",
   "id": "fc91d7a5-6e1f-4138-bc65-d528c478c7c2",
   "metadata": {},
   "source": [
    "## Ejemplo con Python"
   ]
  },
  {
   "cell_type": "code",
   "execution_count": 3,
   "id": "98277137-8a1b-45cf-bec8-a2e0b306b12f",
   "metadata": {},
   "outputs": [],
   "source": [
    "import pandas as pd\n",
    "\n",
    "# Ejemplo de juegos de baloncesto, cada observacion es el rendimiento de u jugador\n",
    "\n",
    "puntos_partido = pd.Series([\"alto\", \"bajo\", \"alto\", \"alto\", \"alto\",\n",
    "                            \"alto\", \"bajo\", \"alto\", \"alto\", \"bajo\"])\n",
    "\n",
    "minutos_partido = pd.Series([\"alto\", \"alto\", \"bajo\", \"bajo\", \"bajo\",\n",
    "                             \"alto\", \"bajo\", \"bajo\", \"bajo\", \"alto\"])\n",
    "\n",
    "rebotes_partido = pd.Series([\"alto\", \"bajo\", \"bajo\", \"alto\", \"bajo\",\n",
    "                             \"alto\", \"bajo\", \"alto\", \"bajo\", \"alto\"])\n",
    "\n",
    "asistencias_partido = pd.Series([\"bajo\", \"bajo\", \"bajo\", \"bajo\", \"bajo\",\n",
    "                                 \"bajo\", \"bajo\", \"bajo\", \"bajo\", \"bajo\"])\n",
    "\n",
    "# 1: Veterano (carrera de cinco años o más)\n",
    "clase = pd.Series([1, 0, 0, 1, 0, 1, 0, 1, 0, 1])\n",
    "\n",
    "datos = pd.DataFrame({\"puntos\": puntos_partido,\n",
    "                      \"minutos\": minutos_partido,\n",
    "                      \"asistencias\": asistencias_partido,\n",
    "                      \"rebotes\": rebotes_partido,                      \n",
    "                      \"clase\": clase})"
   ]
  },
  {
   "cell_type": "markdown",
   "id": "0a437c73-2e87-4eac-bdbb-a31338b570f4",
   "metadata": {},
   "source": [
    "### Interpretación de Impureza GINI"
   ]
  },
  {
   "cell_type": "markdown",
   "id": "440b8617-4bbd-46e8-a13b-868fffb86dbc",
   "metadata": {},
   "source": [
    "Aquí abajo lo más importante a observar son los resultados del valor de cada impureza para cada característica potencial que podemos utilizar para clasificar a un jugador como veterano o no. \n",
    "Por ejemplo, la característica \"rebotes\" tiene un impureza del 0.0, la más baja y eso nos está indicando que es una característica adecuada para actuar como clasificador. En cambio, la característica \"asistencias\" tiene una impureza alta de 0.5, lo que indica que no nos estaría aportando suficiente información a la hora de clasificar a un jugador."
   ]
  },
  {
   "cell_type": "code",
   "execution_count": 2,
   "id": "33b75777-a6cf-4fcc-955f-9844bdd3d017",
   "metadata": {},
   "outputs": [
    {
     "name": "stdout",
     "output_type": "stream",
     "text": [
      "puntos -> impureza: 0.4762\n",
      "minutos -> impureza: 0.4167\n",
      "asistencias -> impureza: 0.5000\n",
      "rebotes -> impureza: 0.0000\n"
     ]
    },
    {
     "data": {
      "text/html": [
       "<div>\n",
       "<style scoped>\n",
       "    .dataframe tbody tr th:only-of-type {\n",
       "        vertical-align: middle;\n",
       "    }\n",
       "\n",
       "    .dataframe tbody tr th {\n",
       "        vertical-align: top;\n",
       "    }\n",
       "\n",
       "    .dataframe thead th {\n",
       "        text-align: right;\n",
       "    }\n",
       "</style>\n",
       "<table border=\"1\" class=\"dataframe\">\n",
       "  <thead>\n",
       "    <tr style=\"text-align: right;\">\n",
       "      <th></th>\n",
       "      <th>puntos</th>\n",
       "      <th>minutos</th>\n",
       "      <th>asistencias</th>\n",
       "      <th>rebotes</th>\n",
       "      <th>clase</th>\n",
       "    </tr>\n",
       "  </thead>\n",
       "  <tbody>\n",
       "    <tr>\n",
       "      <th>0</th>\n",
       "      <td>alto</td>\n",
       "      <td>alto</td>\n",
       "      <td>bajo</td>\n",
       "      <td>alto</td>\n",
       "      <td>1</td>\n",
       "    </tr>\n",
       "    <tr>\n",
       "      <th>1</th>\n",
       "      <td>bajo</td>\n",
       "      <td>alto</td>\n",
       "      <td>bajo</td>\n",
       "      <td>bajo</td>\n",
       "      <td>0</td>\n",
       "    </tr>\n",
       "    <tr>\n",
       "      <th>2</th>\n",
       "      <td>alto</td>\n",
       "      <td>bajo</td>\n",
       "      <td>bajo</td>\n",
       "      <td>bajo</td>\n",
       "      <td>0</td>\n",
       "    </tr>\n",
       "    <tr>\n",
       "      <th>3</th>\n",
       "      <td>alto</td>\n",
       "      <td>bajo</td>\n",
       "      <td>bajo</td>\n",
       "      <td>alto</td>\n",
       "      <td>1</td>\n",
       "    </tr>\n",
       "    <tr>\n",
       "      <th>4</th>\n",
       "      <td>alto</td>\n",
       "      <td>bajo</td>\n",
       "      <td>bajo</td>\n",
       "      <td>bajo</td>\n",
       "      <td>0</td>\n",
       "    </tr>\n",
       "    <tr>\n",
       "      <th>5</th>\n",
       "      <td>alto</td>\n",
       "      <td>alto</td>\n",
       "      <td>bajo</td>\n",
       "      <td>alto</td>\n",
       "      <td>1</td>\n",
       "    </tr>\n",
       "    <tr>\n",
       "      <th>6</th>\n",
       "      <td>bajo</td>\n",
       "      <td>bajo</td>\n",
       "      <td>bajo</td>\n",
       "      <td>bajo</td>\n",
       "      <td>0</td>\n",
       "    </tr>\n",
       "    <tr>\n",
       "      <th>7</th>\n",
       "      <td>alto</td>\n",
       "      <td>bajo</td>\n",
       "      <td>bajo</td>\n",
       "      <td>alto</td>\n",
       "      <td>1</td>\n",
       "    </tr>\n",
       "    <tr>\n",
       "      <th>8</th>\n",
       "      <td>alto</td>\n",
       "      <td>bajo</td>\n",
       "      <td>bajo</td>\n",
       "      <td>bajo</td>\n",
       "      <td>0</td>\n",
       "    </tr>\n",
       "    <tr>\n",
       "      <th>9</th>\n",
       "      <td>bajo</td>\n",
       "      <td>alto</td>\n",
       "      <td>bajo</td>\n",
       "      <td>alto</td>\n",
       "      <td>1</td>\n",
       "    </tr>\n",
       "  </tbody>\n",
       "</table>\n",
       "</div>"
      ],
      "text/plain": [
       "  puntos minutos asistencias rebotes  clase\n",
       "0   alto    alto        bajo    alto      1\n",
       "1   bajo    alto        bajo    bajo      0\n",
       "2   alto    bajo        bajo    bajo      0\n",
       "3   alto    bajo        bajo    alto      1\n",
       "4   alto    bajo        bajo    bajo      0\n",
       "5   alto    alto        bajo    alto      1\n",
       "6   bajo    bajo        bajo    bajo      0\n",
       "7   alto    bajo        bajo    alto      1\n",
       "8   alto    bajo        bajo    bajo      0\n",
       "9   bajo    alto        bajo    alto      1"
      ]
     },
     "execution_count": 2,
     "metadata": {},
     "output_type": "execute_result"
    }
   ],
   "source": [
    "def impureza_gini(caracteristica, clase, datos):\n",
    "    \"\"\"str, str, DataFrame -> float\"\"\"    \n",
    "    atributo_clase = datos.groupby([caracteristica, clase])[clase].count()\n",
    "    atributo = datos.groupby([caracteristica])[clase].count()\n",
    "    procesados = pd.merge(atributo_clase, atributo, on=[caracteristica], \n",
    "                          suffixes=('_individual', '_total')) \n",
    "    procesados[\"combinacion\"] = (procesados[clase+\"_individual\"]/\n",
    "                                 procesados[clase+\"_total\"])**2\n",
    "    gini_combinacion = 1 - procesados.groupby([caracteristica, clase+\"_total\"])[\"combinacion\"].sum()\n",
    "    gini_pesado = (gini_combinacion * atributo) / atributo.sum() \n",
    "    return gini_pesado.sum()\n",
    "\n",
    "\n",
    "print(\"puntos -> impureza: %0.4f\" % impureza_gini(\"puntos\", \"clase\", datos))\n",
    "print(\"minutos -> impureza: %0.4f\" % impureza_gini(\"minutos\", \"clase\", datos))\n",
    "print(\"asistencias -> impureza: %0.4f\" % impureza_gini(\"asistencias\", \"clase\", datos))\n",
    "print(\"rebotes -> impureza: %0.4f\" % impureza_gini(\"rebotes\", \"clase\", datos)) \n",
    "\n",
    "datos"
   ]
  },
  {
   "cell_type": "markdown",
   "id": "7c9dc5b0-223f-46df-bafd-38a284719a67",
   "metadata": {},
   "source": [
    "### Impureza del atributo 'puntos'"
   ]
  },
  {
   "cell_type": "markdown",
   "id": "2445480d-ba8e-4ce9-8fb1-c18cccec34a0",
   "metadata": {},
   "source": [
    "Aquí se desglosará paso a paso las líneas de la función `impureza_gini` utilizada arriba, para el caso del atributo \"puntos\".\n",
    "\n",
    "En esta parte en particular, se realizan un par de agrupamientos y merge para obtener luego las probabilidades de que un jugador sea veterano o no en función del total de puntos 'altos' y puntos 'bajos'.\n",
    "\n",
    "Ej, si tenemos en total 7 jugadores con puntos 'altos', cuántos de esos jugadores son veteranos y cuántos novatos (en términos de probabilidad)."
   ]
  },
  {
   "cell_type": "code",
   "execution_count": 4,
   "id": "8d39774c-2d56-4e1c-af6f-518930cf4c6f",
   "metadata": {},
   "outputs": [
    {
     "name": "stdout",
     "output_type": "stream",
     "text": [
      "\n",
      "\n",
      "JUGADORES POR PUNTOS Y CLASE\n",
      "\n",
      " puntos  clase\n",
      "alto    0        3\n",
      "        1        4\n",
      "bajo    0        2\n",
      "        1        1\n",
      "Name: clase, dtype: int64\n",
      "\n",
      "\n",
      "JUGADORES POR PUNTOS\n",
      "\n",
      " puntos\n",
      "alto    7\n",
      "bajo    3\n",
      "Name: clase, dtype: int64\n",
      "\n",
      "\n",
      "UNION\n",
      "\n",
      "         clase_indivual  clase_total\n",
      "puntos                             \n",
      "alto                 3            7\n",
      "alto                 4            7\n",
      "bajo                 2            3\n",
      "bajo                 1            3\n"
     ]
    }
   ],
   "source": [
    "# Cuántos jugadores por categoría de puntos y por clase (novato o veterano)\n",
    "puntos_y_clase = datos.groupby([\"puntos\", \"clase\"])[\"clase\"].count()\n",
    "\n",
    "print(\"\\n\\nJUGADORES POR PUNTOS Y CLASE\\n\\n\", puntos_y_clase)\n",
    "\n",
    "# Cuántos jugadores por categoría de puntos \n",
    "puntos = datos.groupby([\"puntos\"])[\"clase\"].count()\n",
    "\n",
    "print(\"\\n\\nJUGADORES POR PUNTOS\\n\\n\", puntos)\n",
    "\n",
    "# Unir ambas series de datos para procesamiento posterior \n",
    "jugadores = pd.merge(\n",
    "    puntos_y_clase,\n",
    "    puntos,\n",
    "    on=[\"puntos\"], \n",
    "    suffixes=('_indivual', '_total')) \n",
    "\n",
    "print(\"\\n\\nUNION\\n\\n\", jugadores)"
   ]
  },
  {
   "cell_type": "markdown",
   "id": "f7972da0-04df-436c-bd29-88c194fdccd8",
   "metadata": {},
   "source": [
    "### Cálculo de la impureza GINI para 'puntos'"
   ]
  },
  {
   "cell_type": "markdown",
   "id": "6d8acd06-28a7-495a-8e7e-1ad421ceb03c",
   "metadata": {},
   "source": [
    "Recordando la fórmula vista más arriba de la impureza de GINI:\n",
    "\n",
    "$Gini(t) = 1 - \\sum_{i=1}^{n} p_i^2$"
   ]
  },
  {
   "cell_type": "code",
   "execution_count": 7,
   "id": "3fc1b80c-212f-4cec-a673-591053d85954",
   "metadata": {},
   "outputs": [
    {
     "name": "stdout",
     "output_type": "stream",
     "text": [
      "        clase_indivual  clase_total  combinaciones\n",
      "puntos                                            \n",
      "alto                 3            7       0.183673\n",
      "alto                 4            7       0.326531\n",
      "bajo                 2            3       0.444444\n",
      "bajo                 1            3       0.111111\n",
      "\n",
      "\n",
      " puntos  clase_total\n",
      "alto    7              0.489796\n",
      "bajo    3              0.444444\n",
      "Name: combinaciones, dtype: float64\n",
      "\n",
      "\n",
      " puntos  clase_total\n",
      "alto    7              0.342857\n",
      "bajo    3              0.133333\n",
      "dtype: float64\n",
      "\n",
      " 0.4761904761904763\n"
     ]
    }
   ],
   "source": [
    "# Probabilidad para cada categoría de puntos con respecto a la clase\n",
    "jugadores[\"combinaciones\"] = (jugadores[\"clase_indivual\"]/jugadores[\"clase_total\"])**2\n",
    "print(jugadores)\n",
    "\n",
    "# Impureza gini para cada combinación\n",
    "gini_por_combinacion = 1 - jugadores.groupby([\"puntos\", \"clase_total\"])[\"combinaciones\"].sum()\n",
    "print(\"\\n\\n\",gini_por_combinacion)\n",
    "\n",
    "# Impureza gini para cada combinación con pesos (ya que no se deben considerar equivalente una impureza \n",
    "# aportada por los 7 individuos con puntos altos vs los 3 individuos con puntos bajos\n",
    "gini_con_peso_por_combinacion = (gini_por_combinacion * puntos) / puntos.sum() \n",
    "print(\"\\n\\n\", gini_con_peso_por_combinacion)\n",
    "print(\"\\n\", gini_con_peso_por_combinacion.sum())"
   ]
  },
  {
   "cell_type": "code",
   "execution_count": null,
   "id": "a41184ce-041e-46c6-8677-8809fbb31bd5",
   "metadata": {},
   "outputs": [],
   "source": []
  }
 ],
 "metadata": {
  "kernelspec": {
   "display_name": "Python 3 (ipykernel)",
   "language": "python",
   "name": "python3"
  },
  "language_info": {
   "codemirror_mode": {
    "name": "ipython",
    "version": 3
   },
   "file_extension": ".py",
   "mimetype": "text/x-python",
   "name": "python",
   "nbconvert_exporter": "python",
   "pygments_lexer": "ipython3",
   "version": "3.12.0"
  }
 },
 "nbformat": 4,
 "nbformat_minor": 5
}
