{
 "cells": [
  {
   "cell_type": "markdown",
   "id": "1597eb18-4f5e-461c-84a6-5d5402201b8b",
   "metadata": {},
   "source": [
    "# Estadística Descriptiva vs Estadística Inferencial"
   ]
  },
  {
   "cell_type": "markdown",
   "id": "32bb426a-1503-49eb-ba21-b8c3bd1c4939",
   "metadata": {},
   "source": [
    "El presente notebook solo fue confeccionado de manera simple para fines didácticos solo con un pequeño resumente teórico y visual extraído de ChatGPT y del canal de Youtube de [Código Máquina](https://www.youtube.com/watch?v=lRcPa9i7p9E)."
   ]
  },
  {
   "cell_type": "markdown",
   "id": "d5d644a5-5d89-4726-ad93-1d537c33d0a2",
   "metadata": {},
   "source": [
    "![Estadistica descriptiva e inferencial](./img/est_descriptiva_inferencial1.png)"
   ]
  },
  {
   "cell_type": "markdown",
   "id": "9672c048-1489-45db-842f-4b90300f29cb",
   "metadata": {},
   "source": [
    "### Diferencia entre Estadística Descriptiva y Estadística Inferencial\n",
    "\n",
    "La **estadística descriptiva** y la **estadística inferencial** son dos ramas fundamentales de la estadística, pero tienen propósitos y enfoques distintos. A continuación te explico las diferencias clave entre ambas:\n",
    "\n",
    "---\n",
    "\n",
    "### 1. **Estadística Descriptiva**\n",
    "\n",
    "La **estadística descriptiva** se encarga de **organizar, resumir y presentar** los datos de manera que sean comprensibles. Su principal objetivo es **describir** las características de un conjunto de datos sin hacer generalizaciones más allá de los datos mismos.\n",
    "\n",
    "#### Funciones clave de la estadística descriptiva:\n",
    "- **Organización de datos**: Agrupar los datos en tablas, gráficos, etc.\n",
    "- **Resúmenes numéricos**: Calcular medidas como la **media**, la **mediana**, la **moda**, el **rango**, la **desviación estándar**, etc.\n",
    "- **Visualización de datos**: Crear gráficos como histogramas, diagramas de caja, gráficos de barras, etc.\n",
    "\n",
    "#### Ejemplos de técnicas descriptivas:\n",
    "- **Promedio** (media) de los salarios en una empresa.\n",
    "- **Desviación estándar** de los puntajes en un examen.\n",
    "- **Histograma** que muestra la distribución de edades de un grupo de personas.\n",
    "- **Tabla de frecuencias** que muestra cuántas veces ocurre cada valor en un conjunto de datos.\n",
    "\n",
    "#### Ejemplo:\n",
    "Supongamos que tienes los puntajes de 10 estudiantes en un examen:\n",
    "\n",
    "\\[ 85, 90, 78, 92, 88, 76, 95, 89, 84, 91 \\]\n",
    "\n",
    "La estadística descriptiva podría consistir en calcular el **promedio** de esos puntajes y presentar un **histograma** que muestre la distribución de las calificaciones.\n",
    "\n",
    "---\n",
    "\n",
    "### 2. **Estadística Inferencial**\n",
    "\n",
    "La **estadística inferencial** se ocupa de **hacer inferencias** o **generalizaciones** sobre una población a partir de una muestra de datos. A diferencia de la estadística descriptiva, la inferencial **no se limita a describir los datos**, sino que utiliza los datos muestrales para hacer **conclusiones o predicciones** sobre una población más grande.\n",
    "\n",
    "Trabaja sobre una muestra y no sobre el total de la población, es decir, el total de los datos, ya que por ejemplo, supongamos que necesitamos analizar la altura promedio de todas las personas del mundo. Eso sería muy costoso, entonces se decide trabajar solo sobre una muestra para hacer generalizaciones y predicciones para toda la población en base a dicha muestra más pequeña.\n",
    "Es importante resaltar que la muestra debe ser variada y aleatoria para evitar sesgos que nos lleven a desarrollar inferencias y predicciones erróneas.\n",
    "\n",
    "#### Funciones clave de la estadística inferencial:\n",
    "- **Estimar parámetros de la población**: Usar la muestra para estimar parámetros como la **media poblacional** o la **proporción poblacional**.\n",
    "- **Pruebas de hipótesis**: Evaluar afirmaciones o hipótesis sobre una población (por ejemplo, probar si un nuevo tratamiento es más efectivo que el actual).\n",
    "- **Predicción y modelado**: Usar los datos para hacer predicciones sobre eventos futuros o comportamientos desconocidos.\n",
    "- **Intervalos de confianza**: Establecer un rango de valores dentro del cual probablemente se encuentra el valor verdadero de un parámetro poblacional.\n",
    "\n",
    "#### Ejemplos de técnicas inferenciales:\n",
    "- **Estimación de parámetros**: Estimar la media de una población basándose en la media de una muestra.\n",
    "- **Prueba de hipótesis**: Realizar una prueba para ver si el promedio de los salarios de los empleados de una empresa es mayor que una cantidad específica.\n",
    "- **Intervalo de confianza**: Estimar el rango en el que se encuentra la media de una población, por ejemplo, el intervalo de confianza del 95% para el promedio de las calificaciones de un examen.\n",
    "\n",
    "#### Ejemplo:\n",
    "Supongamos que tienes una muestra de 100 estudiantes de una universidad y quieres estimar la media del puntaje en un examen para toda la población de estudiantes de esa universidad (digamos, 10,000 estudiantes). Utilizarías **estadística inferencial** para hacer esa estimación y calcular un **intervalo de confianza**.\n",
    "\n",
    "---\n",
    "\n",
    "### **Diferencias Clave entre Estadística Descriptiva y Estadística Inferencial**\n",
    "\n",
    "| **Aspecto**                          | **Estadística Descriptiva**                               | **Estadística Inferencial**                            |\n",
    "|--------------------------------------|----------------------------------------------------------|-------------------------------------------------------|\n",
    "| **Objetivo**                         | Describir y resumir los datos observados.                 | Hacer generalizaciones o predicciones sobre una población. |\n",
    "| **Uso de los datos**                 | Trabaja solo con los datos de una muestra o población específica. | Usa una muestra para hacer inferencias sobre una población. |\n",
    "| **Técnicas comunes**                 | Media, mediana, moda, desviación estándar, tablas de frecuencia, gráficos. | Estimación de parámetros, pruebas de hipótesis, intervalos de confianza, regresión. |\n",
    "| **Generalización**                   | No se hacen generalizaciones, solo descripciones.         | Se hacen generalizaciones sobre una población basándose en una muestra. |\n",
    "| **Ejemplo de aplicación**            | Calcular el promedio de ventas de una tienda durante un mes. | Estimar el promedio de ventas de todas las tiendas de una cadena a partir de una muestra. |\n",
    "\n",
    "---\n",
    "\n",
    "### **Resumen:**\n",
    "\n",
    "- **Estadística Descriptiva**: Describe y resume datos específicos, sin hacer inferencias más allá de esos datos.\n",
    "- **Estadística Inferencial**: Utiliza una muestra de datos para hacer generalizaciones o predicciones sobre una población más grande.\n",
    "\n",
    "Ambas ramas son complementarias. Primero se suelen realizar análisis descriptivos para entender los datos, y luego se pueden aplicar técnicas inferenciales para hacer predicciones o generalizaciones.\n",
    "\n",
    "---\n",
    "\n"
   ]
  },
  {
   "cell_type": "markdown",
   "id": "8dc58cb2-a3f8-4af0-bf29-63b40f7f9bf9",
   "metadata": {},
   "source": [
    "![Estadistica descriptiva e inferencial](./img/est_descriptiva_inferencial2.png)"
   ]
  },
  {
   "cell_type": "markdown",
   "id": "2f0f3c19-8565-4376-ba84-030474da0772",
   "metadata": {},
   "source": [
    "Las librerías de `Python`que se utilizan muy especialmente para estadística inferencial son `SciPy` y `statsmodels`."
   ]
  },
  {
   "cell_type": "markdown",
   "id": "e00da924-ab0a-48d1-bc97-9ffcef46bea6",
   "metadata": {},
   "source": [
    "![Estadistica descriptiva e inferencial](./img/est_descriptiva_inferencial3.png)"
   ]
  },
  {
   "cell_type": "code",
   "execution_count": null,
   "id": "6bcacbad-318b-4890-a9d6-f37147b17d01",
   "metadata": {},
   "outputs": [],
   "source": []
  }
 ],
 "metadata": {
  "kernelspec": {
   "display_name": "Python 3 (ipykernel)",
   "language": "python",
   "name": "python3"
  },
  "language_info": {
   "codemirror_mode": {
    "name": "ipython",
    "version": 3
   },
   "file_extension": ".py",
   "mimetype": "text/x-python",
   "name": "python",
   "nbconvert_exporter": "python",
   "pygments_lexer": "ipython3",
   "version": "3.12.0"
  }
 },
 "nbformat": 4,
 "nbformat_minor": 5
}
