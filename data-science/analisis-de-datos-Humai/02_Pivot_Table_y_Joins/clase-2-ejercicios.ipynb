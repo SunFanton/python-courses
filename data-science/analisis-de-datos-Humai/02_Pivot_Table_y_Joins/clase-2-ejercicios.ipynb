{
 "cells": [
  {
   "cell_type": "markdown",
   "metadata": {},
   "source": [
    "<a href=\"https://colab.research.google.com/github/institutohumai/cursos-python/blob/master/AnalisisDeDatos/2_Pivot_Table_y_Joins/clase-2-ejercicios.ipynb\"> <img src='https://colab.research.google.com/assets/colab-badge.svg' /> </a>\n",
    "<div align=\"center\"> Recordá abrir en una nueva pestaña </div>\n",
    "\n",
    "\n",
    "# Ejercicios Pandas II"
   ]
  },
  {
   "cell_type": "code",
   "execution_count": 1,
   "metadata": {},
   "outputs": [
    {
     "name": "stderr",
     "output_type": "stream",
     "text": [
      "/var/folders/ph/5sq6jlj161g1_2t838crnx6c0000gp/T/ipykernel_733/3238781833.py:1: DeprecationWarning: \n",
      "Pyarrow will become a required dependency of pandas in the next major release of pandas (pandas 3.0),\n",
      "(to allow more performant data types, such as the Arrow string type, and better interoperability with other libraries)\n",
      "but was not found to be installed on your system.\n",
      "If this would cause problems for you,\n",
      "please provide us feedback at https://github.com/pandas-dev/pandas/issues/54466\n",
      "        \n",
      "  import pandas as pd\n"
     ]
    }
   ],
   "source": [
    "import pandas as pd\n",
    "import numpy as np\n",
    "import matplotlib\n",
    "import matplotlib.pyplot as plt\n",
    "\n",
    "plt.style.use('ggplot')\n",
    "%matplotlib inline"
   ]
  },
  {
   "cell_type": "markdown",
   "metadata": {},
   "source": [
    "## Parámetros y extracción de datos"
   ]
  },
  {
   "cell_type": "code",
   "execution_count": 6,
   "metadata": {},
   "outputs": [],
   "source": [
    "ESTIMACIONES_PATH = \"./data/estimaciones-agricolas-al-30-09-2019.csv\""
   ]
  },
  {
   "cell_type": "code",
   "execution_count": 11,
   "metadata": {},
   "outputs": [
    {
     "data": {
      "text/html": [
       "<div>\n",
       "<style scoped>\n",
       "    .dataframe tbody tr th:only-of-type {\n",
       "        vertical-align: middle;\n",
       "    }\n",
       "\n",
       "    .dataframe tbody tr th {\n",
       "        vertical-align: top;\n",
       "    }\n",
       "\n",
       "    .dataframe thead th {\n",
       "        text-align: right;\n",
       "    }\n",
       "</style>\n",
       "<table border=\"1\" class=\"dataframe\">\n",
       "  <thead>\n",
       "    <tr style=\"text-align: right;\">\n",
       "      <th></th>\n",
       "      <th>id_provincia</th>\n",
       "      <th>provincia</th>\n",
       "      <th>id_departamento</th>\n",
       "      <th>departamento</th>\n",
       "      <th>id_cultivo</th>\n",
       "      <th>cultivo</th>\n",
       "      <th>id_campaña</th>\n",
       "      <th>campaña</th>\n",
       "      <th>sup_sembrada</th>\n",
       "      <th>sup_cosechada</th>\n",
       "      <th>produccion</th>\n",
       "      <th>rendimiento</th>\n",
       "    </tr>\n",
       "  </thead>\n",
       "  <tbody>\n",
       "    <tr>\n",
       "      <th>0</th>\n",
       "      <td>06</td>\n",
       "      <td>Buenos Aires</td>\n",
       "      <td>854</td>\n",
       "      <td>25 de Mayo</td>\n",
       "      <td>1.0</td>\n",
       "      <td>Ajo</td>\n",
       "      <td>1</td>\n",
       "      <td>1969/1970</td>\n",
       "      <td>3</td>\n",
       "      <td>3</td>\n",
       "      <td>10</td>\n",
       "      <td>3333</td>\n",
       "    </tr>\n",
       "    <tr>\n",
       "      <th>1</th>\n",
       "      <td>06</td>\n",
       "      <td>Buenos Aires</td>\n",
       "      <td>014</td>\n",
       "      <td>Adolfo Gonzales Chaves</td>\n",
       "      <td>1.0</td>\n",
       "      <td>Ajo</td>\n",
       "      <td>1</td>\n",
       "      <td>1969/1970</td>\n",
       "      <td>15</td>\n",
       "      <td>15</td>\n",
       "      <td>82</td>\n",
       "      <td>5467</td>\n",
       "    </tr>\n",
       "    <tr>\n",
       "      <th>2</th>\n",
       "      <td>06</td>\n",
       "      <td>Buenos Aires</td>\n",
       "      <td>021</td>\n",
       "      <td>Alberti</td>\n",
       "      <td>1.0</td>\n",
       "      <td>Ajo</td>\n",
       "      <td>1</td>\n",
       "      <td>1969/1970</td>\n",
       "      <td>5</td>\n",
       "      <td>5</td>\n",
       "      <td>7</td>\n",
       "      <td>1400</td>\n",
       "    </tr>\n",
       "    <tr>\n",
       "      <th>3</th>\n",
       "      <td>06</td>\n",
       "      <td>Buenos Aires</td>\n",
       "      <td>028</td>\n",
       "      <td>Almirante Brown</td>\n",
       "      <td>1.0</td>\n",
       "      <td>Ajo</td>\n",
       "      <td>1</td>\n",
       "      <td>1969/1970</td>\n",
       "      <td>2</td>\n",
       "      <td>2</td>\n",
       "      <td>8</td>\n",
       "      <td>4000</td>\n",
       "    </tr>\n",
       "    <tr>\n",
       "      <th>4</th>\n",
       "      <td>06</td>\n",
       "      <td>Buenos Aires</td>\n",
       "      <td>077</td>\n",
       "      <td>Arrecifes</td>\n",
       "      <td>1.0</td>\n",
       "      <td>Ajo</td>\n",
       "      <td>1</td>\n",
       "      <td>1969/1970</td>\n",
       "      <td>6</td>\n",
       "      <td>6</td>\n",
       "      <td>15</td>\n",
       "      <td>2500</td>\n",
       "    </tr>\n",
       "  </tbody>\n",
       "</table>\n",
       "</div>"
      ],
      "text/plain": [
       "  id_provincia     provincia id_departamento            departamento  \\\n",
       "0           06  Buenos Aires             854              25 de Mayo   \n",
       "1           06  Buenos Aires             014  Adolfo Gonzales Chaves   \n",
       "2           06  Buenos Aires             021                 Alberti   \n",
       "3           06  Buenos Aires             028         Almirante Brown   \n",
       "4           06  Buenos Aires             077               Arrecifes   \n",
       "\n",
       "   id_cultivo cultivo  id_campaña    campaña  sup_sembrada sup_cosechada  \\\n",
       "0         1.0     Ajo           1  1969/1970             3             3   \n",
       "1         1.0     Ajo           1  1969/1970            15            15   \n",
       "2         1.0     Ajo           1  1969/1970             5             5   \n",
       "3         1.0     Ajo           1  1969/1970             2             2   \n",
       "4         1.0     Ajo           1  1969/1970             6             6   \n",
       "\n",
       "  produccion  rendimiento  \n",
       "0          10        3333  \n",
       "1          82        5467  \n",
       "2           7        1400  \n",
       "3           8        4000  \n",
       "4          15        2500  "
      ]
     },
     "execution_count": 11,
     "metadata": {},
     "output_type": "execute_result"
    }
   ],
   "source": [
    "converters = {\n",
    "    \"id_provincia\": lambda x: str(x).zfill(2),\n",
    "    \"id_departamento\": lambda x: str(x).zfill(3),\n",
    "}\n",
    "\n",
    "estimaciones = pd.read_csv(ESTIMACIONES_PATH, converters=converters, encoding='ISO-8859-1', low_memory=False)\n",
    "\n",
    "estimaciones.head()"
   ]
  },
  {
   "cell_type": "code",
   "execution_count": 12,
   "metadata": {},
   "outputs": [
    {
     "data": {
      "text/plain": [
       "(153889, 12)"
      ]
     },
     "execution_count": 12,
     "metadata": {},
     "output_type": "execute_result"
    }
   ],
   "source": [
    "estimaciones.shape"
   ]
  },
  {
   "cell_type": "markdown",
   "metadata": {},
   "source": [
    "## Ejercicio 1 "
   ]
  },
  {
   "cell_type": "markdown",
   "metadata": {},
   "source": [
    "Explorar descriptivamente el dataset de estimaciones agrícolas (https://datos.gob.ar/dataset/agroindustria-agricultura---estimaciones-agricolas) usando los elementos aprendidos en la clase 2, respondiendo las siguientes preguntas o mostrando:\n",
    "\n",
    "* ¿Cuál es la producción total en toneladas estimada de todos los cultivos en la Argentina, cada año?\n",
    "* ¿Cómo se distribuye el rendimiento (kg por hectárea) estimado promedio del cultivo de soja entre los departamentos que la siembran? ¿Qué tipo de distribución probabilística tiene? ¿Cuál es (y en qué departamento está) el rendimiento mínimo, mediano y máximo? ¿Cuál es el rendimiento promedio? ¿Hay valores potencialmente anómalos?\n",
    "* ¿Cómo se distribuye la superficie sembrada de Papa? ¿Es una distribución probabilística similar a la de la soja? ¿El rendimiento en kg producidos por hectárea es similar entre los departamentos que la cultivan, se distribuye más o menos \"equitativamente\" que el de la soja? ¿Hay valores potencialmente anómalos?\n",
    "* Generá una tabla donde cada cultivo sea una columna, cada fila un año (una campaña) y los valores sean la producción total."
   ]
  },
  {
   "cell_type": "code",
   "execution_count": null,
   "metadata": {},
   "outputs": [],
   "source": []
  },
  {
   "cell_type": "code",
   "execution_count": null,
   "metadata": {},
   "outputs": [],
   "source": []
  },
  {
   "cell_type": "code",
   "execution_count": null,
   "metadata": {},
   "outputs": [],
   "source": []
  },
  {
   "cell_type": "code",
   "execution_count": null,
   "metadata": {},
   "outputs": [],
   "source": []
  },
  {
   "cell_type": "code",
   "execution_count": null,
   "metadata": {},
   "outputs": [],
   "source": []
  },
  {
   "cell_type": "code",
   "execution_count": null,
   "metadata": {},
   "outputs": [],
   "source": []
  },
  {
   "cell_type": "code",
   "execution_count": null,
   "metadata": {},
   "outputs": [],
   "source": []
  },
  {
   "cell_type": "code",
   "execution_count": null,
   "metadata": {},
   "outputs": [],
   "source": []
  },
  {
   "cell_type": "code",
   "execution_count": null,
   "metadata": {},
   "outputs": [],
   "source": []
  },
  {
   "cell_type": "code",
   "execution_count": null,
   "metadata": {},
   "outputs": [],
   "source": []
  },
  {
   "cell_type": "code",
   "execution_count": null,
   "metadata": {},
   "outputs": [],
   "source": []
  },
  {
   "cell_type": "code",
   "execution_count": null,
   "metadata": {},
   "outputs": [],
   "source": []
  }
 ],
 "metadata": {
  "kernelspec": {
   "display_name": "Python 3 (ipykernel)",
   "language": "python",
   "name": "python3"
  },
  "language_info": {
   "codemirror_mode": {
    "name": "ipython",
    "version": 3
   },
   "file_extension": ".py",
   "mimetype": "text/x-python",
   "name": "python",
   "nbconvert_exporter": "python",
   "pygments_lexer": "ipython3",
   "version": "3.12.0"
  },
  "toc": {
   "base_numbering": 1,
   "nav_menu": {},
   "number_sections": true,
   "sideBar": true,
   "skip_h1_title": false,
   "title_cell": "Table of Contents",
   "title_sidebar": "Contents",
   "toc_cell": false,
   "toc_position": {},
   "toc_section_display": true,
   "toc_window_display": false
  }
 },
 "nbformat": 4,
 "nbformat_minor": 4
}
