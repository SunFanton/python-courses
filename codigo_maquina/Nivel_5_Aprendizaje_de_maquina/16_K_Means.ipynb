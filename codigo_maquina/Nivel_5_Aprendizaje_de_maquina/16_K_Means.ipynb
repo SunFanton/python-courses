{
 "cells": [
  {
   "cell_type": "markdown",
   "id": "33bce011-927d-4ff8-8354-ab34ac808449",
   "metadata": {},
   "source": [
    "# K-Means (K-Medias)"
   ]
  },
  {
   "cell_type": "markdown",
   "id": "da977ec9-85ac-4c2d-9fdc-a3679a0cfc7d",
   "metadata": {},
   "source": [
    "## Un poco de teoría..."
   ]
  },
  {
   "cell_type": "markdown",
   "id": "33308630-629c-43ac-b02b-7c8cad3717d2",
   "metadata": {},
   "source": [
    "### Aprendizaje Automático No Supervisado\n",
    "\n",
    "El aprendizaje automático no supervisado es un enfoque en el que se utilizan algoritmos para analizar datos sin etiquetas, buscando patrones y estructuras en los datos. Es decir, en este tipo de aprendizaje ya no se provee al modelo de los datos de entrada con sus salidas correspondientes (que serían las etiquetas), sino simplemente los datos de entrada.\n",
    "\n",
    "Uno de los modelos más comunes en este tipo de aprendizaje es el **algoritmo K-means**, que agrupa datos en k clusters (grupos) basándose en sus características, minimizando la distancia entre los puntos dentro de cada grupo.\n",
    "\n",
    "### Definición\n",
    "\n",
    "El aprendizaje automático no supervisado es un tipo de aprendizaje en el que los algoritmos analizan datos sin etiquetas. A diferencia del aprendizaje supervisado, donde se utilizan datos etiquetados para entrenar modelos, en el aprendizaje no supervisado el objetivo es descubrir patrones y relaciones en los datos sin intervención humana.\n",
    "\n",
    "### Objetivos\n",
    "\n",
    "- Identificar patrones ocultos en los datos.\n",
    "- Agrupar instancias similares.\n",
    "- Detectar anomalías.\n",
    "- Realizar análisis exploratorios.\n",
    "\n",
    "### Aplicaciones\n",
    "\n",
    "- Segmentación de clientes.\n",
    "- Organización de grandes volúmenes de datos.\n",
    "- Creación de sistemas de recomendación.\n",
    "\n",
    "---\n",
    "\n",
    "### Modelo K-means\n",
    "\n",
    "#### Definición\n",
    "\n",
    "K-means es un algoritmo de agrupamiento que divide un conjunto de datos en k grupos o clusters. Los datos se agrupan de tal manera que los puntos en el mismo clúster son más similares entre sí que los puntos en otros clusters.\n",
    "\n",
    "#### Funcionamiento\n",
    "\n",
    "1. **Inicialización**: Se seleccionan k centroides aleatorios del conjunto de datos.\n",
    "2. **Asignación**: Cada punto de datos se asigna al clúster cuyo centroide está más cercano.\n",
    "3. **Actualización**: Se recalculan los centroides de cada clúster como la media de todos los puntos asignados a ese clúster.\n",
    "4. **Iteración**: Los pasos de asignación y actualización se repiten hasta que los centroides no cambian significativamente o se alcanza un número máximo de iteraciones.\n",
    "\n",
    "#### Criterio de Optimización\n",
    "\n",
    "El algoritmo minimiza la suma de las distancias cuadráticas entre cada punto y el centroide de su clúster, buscando la mejor agrupación posible.\n",
    "\n",
    "#### Elección de k\n",
    "\n",
    "Para determinar el número óptimo de clusters (k), se pueden utilizar métodos como el \"método del codo\", que analiza la suma de errores cuadrados (SSE) para diferentes valores de k y busca el punto donde la disminución de SSE se vuelve menos pronunciada.\n",
    "\n",
    "#### Ventajas\n",
    "\n",
    "- Sencillo y fácil de implementar.\n",
    "- Rápido en comparación con otros algoritmos de agrupamiento.\n",
    "\n",
    "#### Limitaciones\n",
    "\n",
    "- Sensible a la elección inicial de los centroides.\n",
    "- Dificultad para detectar clusters no esféricos.\n",
    "- Requiere que se especifique el número de clusters de antemano."
   ]
  },
  {
   "cell_type": "markdown",
   "id": "b15c17b6-01cd-440a-a288-418c4d67be33",
   "metadata": {},
   "source": [
    "## Ejemplo visual paso a paso de formación de clusters"
   ]
  },
  {
   "cell_type": "markdown",
   "id": "951857b3-4419-4f99-81ba-3a694ce69c96",
   "metadata": {},
   "source": [
    "Para este ejemplo, el cual se continuará analizando en el código en `python` de más abajo, tomaremos el caso de un conjunto de datos de clientes que realizan un cierto número de usos a su tarjeta de crédito en función de los fondos de que disponen."
   ]
  },
  {
   "cell_type": "markdown",
   "id": "cc15bafb-4ef6-4ce3-821b-8bc7d7c6aa33",
   "metadata": {},
   "source": [
    "1. Primero, tenemos los datos dispersos:"
   ]
  },
  {
   "cell_type": "markdown",
   "id": "26593745-a8bc-4dc3-978b-e2fe6fb9fea1",
   "metadata": {},
   "source": [
    "![K_means](./img/k_means1.png)"
   ]
  },
  {
   "cell_type": "markdown",
   "id": "2f346028-aef7-41b3-84ff-af3369c15b31",
   "metadata": {},
   "source": [
    "2. Posteriormente, establecemos la ubicación de los centroides, cuya cantidad coincidirá con la cantidad de clusters o grupos, la cual en gran medida dependerá del contexto y requerimientos de negocio.\n",
    "\n",
    "Una vez ubicados los centroides, comienza la primer iteración. La misma consistirá en evaluar la distancia de cada punto de los datos respecto a los centroides (en este caso, respecto los 3 centroides). El centroide más cercano en distancia al punto será el cluster al que corresponderá el dato.\n",
    "\n",
    "La distancia por lo general se calcula mediante la fórmula de la norma euclidiana de un vector."
   ]
  },
  {
   "cell_type": "markdown",
   "id": "64248129-c9ff-4007-a2e6-665b94ec4eb9",
   "metadata": {},
   "source": [
    "![K_means](./img/k_means2.png)"
   ]
  },
  {
   "cell_type": "markdown",
   "id": "5ee04174-a223-4fe5-b78d-8a80397006e0",
   "metadata": {},
   "source": [
    "![K_means](./img/k_means3.png)"
   ]
  },
  {
   "cell_type": "markdown",
   "id": "c79686f0-3942-45a0-b0ff-a1df883ac846",
   "metadata": {},
   "source": [
    "3. Una vez finalizada la primer iteración, habiendo analizado todos los puntos, tendremos la primera visualización de cómo se van agrupando los datos."
   ]
  },
  {
   "cell_type": "markdown",
   "id": "c907ef9d-61a6-4110-9eed-c29c6384a04c",
   "metadata": {},
   "source": [
    "![K_means](./img/k_means4.png)"
   ]
  },
  {
   "cell_type": "markdown",
   "id": "f480a272-b795-4359-852d-2b5849305b32",
   "metadata": {},
   "source": [
    "4. Es momento de comenzar una nueva iteración. Para ello se debe cambiar la ubicación de los centroides.\n",
    "La nueva ubicación consistirá en un promedio de los datos para cada cluster.\n",
    "\n",
    "Por ejemplo, el centroide del grupo amarillo tomará su nueva posición en el eje $x$ tomando el promedio de los valores del saldo en cuenta de ahorros de todos los puntos de dicho grupo. Lo mismo para su posición en el eje $y$ tomando el promedio de las veces que se usó la tarjeta de crédito de todos los puntos de dicho grupo."
   ]
  },
  {
   "cell_type": "markdown",
   "id": "c7f88403-96dd-4d8e-a463-5f6a742e07e1",
   "metadata": {},
   "source": [
    "![K_means](./img/k_means5.png)"
   ]
  },
  {
   "cell_type": "markdown",
   "id": "8b0218a0-ad54-4d9a-8d33-58c9c2b5afa9",
   "metadata": {},
   "source": [
    "5. Hecho esto, se iniciará la iteración nuevamente repitiendo el paso de la evaluación de la distancia de cada punto respecto a cada centroide."
   ]
  },
  {
   "cell_type": "markdown",
   "id": "1633f5f0-9dad-4856-bb5c-616c0a1cf57c",
   "metadata": {},
   "source": [
    "![K_means](./img/k_means6.png)"
   ]
  },
  {
   "cell_type": "markdown",
   "id": "ecf4235c-c17e-442e-a8de-faed8cf0e2a8",
   "metadata": {},
   "source": [
    "6. Estos pasos se repetirán hasta un cierto número de iteraciones establecido o bien hasta que ya no se detecten nuevos cambios."
   ]
  },
  {
   "cell_type": "markdown",
   "id": "c06fe70e-2a26-4d98-be94-846e544d29b4",
   "metadata": {},
   "source": [
    "![K_means](./img/k_means7.png)"
   ]
  },
  {
   "cell_type": "markdown",
   "id": "a4db8bc9-b4f3-48f4-a508-34404cc94652",
   "metadata": {},
   "source": [
    "## Ejemplo en Python"
   ]
  },
  {
   "cell_type": "code",
   "execution_count": 1,
   "id": "f4a92de0-4c2a-461f-bd3c-1023674cd713",
   "metadata": {},
   "outputs": [],
   "source": [
    "import pandas as pd\n",
    "import matplotlib.pyplot as plt\n",
    "from sklearn.preprocessing import MinMaxScaler\n",
    "from sklearn.cluster import KMeans"
   ]
  },
  {
   "cell_type": "code",
   "execution_count": 2,
   "id": "12ab06fa-8dd1-43b6-9a00-60da9cb92c9a",
   "metadata": {},
   "outputs": [
    {
     "data": {
      "text/plain": [
       "array([[50000,    25],\n",
       "       [45000,    20],\n",
       "       [48000,    16],\n",
       "       [43500,    23],\n",
       "       [47000,    25],\n",
       "       [52000,    18],\n",
       "       [20000,    23],\n",
       "       [26000,    22],\n",
       "       [25000,    24],\n",
       "       [23000,    21],\n",
       "       [21400,    27],\n",
       "       [18000,    18],\n",
       "       [ 8000,     8],\n",
       "       [12000,     3],\n",
       "       [ 6000,     6],\n",
       "       [14500,     4],\n",
       "       [12600,     9],\n",
       "       [ 7000,     3]])"
      ]
     },
     "execution_count": 2,
     "metadata": {},
     "output_type": "execute_result"
    }
   ],
   "source": [
    "clientes = pd.DataFrame({\"saldo\" : [50000, 45000, 48000, 43500, 47000, 52000, \n",
    "                                    20000, 26000, 25000, 23000, 21400, 18000,\n",
    "                                    8000, 12000, 6000, 14500, 12600, 7000],\n",
    "                         \n",
    "                         \"transacciones\": [25, 20, 16, 23, 25, 18,\n",
    "                                           23, 22, 24, 21, 27, 18,\n",
    "                                           8, 3, 6, 4, 9, 3]})\n",
    "clientes.values"
   ]
  },
  {
   "cell_type": "markdown",
   "id": "fed2c5e5-5f3c-49eb-b42c-fea67a8308d4",
   "metadata": {},
   "source": [
    "Se hace necesario preprocesar nuestros datos (en este caso escalándolos) porque el modelo de K-Means es muy susceptible a las diferencias en las escalas."
   ]
  },
  {
   "cell_type": "code",
   "execution_count": 5,
   "id": "aa9b2f87-3825-4db8-bfb5-e3a690dd3688",
   "metadata": {},
   "outputs": [
    {
     "data": {
      "text/html": [
       "<div>\n",
       "<style scoped>\n",
       "    .dataframe tbody tr th:only-of-type {\n",
       "        vertical-align: middle;\n",
       "    }\n",
       "\n",
       "    .dataframe tbody tr th {\n",
       "        vertical-align: top;\n",
       "    }\n",
       "\n",
       "    .dataframe thead th {\n",
       "        text-align: right;\n",
       "    }\n",
       "</style>\n",
       "<table border=\"1\" class=\"dataframe\">\n",
       "  <thead>\n",
       "    <tr style=\"text-align: right;\">\n",
       "      <th></th>\n",
       "      <th>saldo</th>\n",
       "      <th>transacciones</th>\n",
       "    </tr>\n",
       "  </thead>\n",
       "  <tbody>\n",
       "    <tr>\n",
       "      <th>0</th>\n",
       "      <td>0.956522</td>\n",
       "      <td>0.916667</td>\n",
       "    </tr>\n",
       "    <tr>\n",
       "      <th>1</th>\n",
       "      <td>0.847826</td>\n",
       "      <td>0.708333</td>\n",
       "    </tr>\n",
       "    <tr>\n",
       "      <th>2</th>\n",
       "      <td>0.913043</td>\n",
       "      <td>0.541667</td>\n",
       "    </tr>\n",
       "    <tr>\n",
       "      <th>3</th>\n",
       "      <td>0.815217</td>\n",
       "      <td>0.833333</td>\n",
       "    </tr>\n",
       "    <tr>\n",
       "      <th>4</th>\n",
       "      <td>0.891304</td>\n",
       "      <td>0.916667</td>\n",
       "    </tr>\n",
       "  </tbody>\n",
       "</table>\n",
       "</div>"
      ],
      "text/plain": [
       "      saldo  transacciones\n",
       "0  0.956522       0.916667\n",
       "1  0.847826       0.708333\n",
       "2  0.913043       0.541667\n",
       "3  0.815217       0.833333\n",
       "4  0.891304       0.916667"
      ]
     },
     "execution_count": 5,
     "metadata": {},
     "output_type": "execute_result"
    }
   ],
   "source": [
    "escalador = MinMaxScaler().fit(clientes.values)\n",
    "clientes = pd.DataFrame(escalador.transform(clientes.values),\n",
    "                        columns=[\"saldo\", \"transacciones\"])\n",
    "clientes.head()"
   ]
  },
  {
   "cell_type": "code",
   "execution_count": 25,
   "id": "104292d4-6315-40e9-9d74-5da394f76d32",
   "metadata": {},
   "outputs": [
    {
     "name": "stdout",
     "output_type": "stream",
     "text": [
      "Clusters: [1 1 1 1 1 1 2 2 2 2 2 2 0 0 0 0 0 0] \n",
      "\n",
      "      saldo  transacciones  cluster\n",
      "0  0.956522       0.916667        1\n",
      "1  0.847826       0.708333        1\n",
      "2  0.913043       0.541667        1\n",
      "3  0.815217       0.833333        1\n",
      "4  0.891304       0.916667        1 \n",
      "\n",
      "Ubicacion centroides: [[0.08731884 0.10416667]\n",
      " [0.90398551 0.75694444]\n",
      " [0.35289855 0.8125    ]] \n",
      "\n",
      "0.333496880032206 \n",
      "\n"
     ]
    },
    {
     "data": {
      "image/png": "[encoded data removed]",
      "text/plain": [
       "<Figure size 600x500 with 1 Axes>"
      ]
     },
     "metadata": {},
     "output_type": "display_data"
    }
   ],
   "source": [
    "kmeans = KMeans(n_clusters=3, n_init='auto').fit(clientes.values)\n",
    "print(\"Clusters:\", kmeans.labels_, \"\\n\") # nos devuelve el arreglo con los clusters a los que pertenece cada dato\n",
    "clientes[\"cluster\"] = kmeans.labels_\n",
    "print(clientes.head(), \"\\n\")\n",
    "print(\"Ubicacion centroides:\", kmeans.cluster_centers_, \"\\n\") # nos indican donde se ubican los centroides\n",
    "print(kmeans.inertia_, \"\\n\")\n",
    "\n",
    "# Instrucciones para graficar los clusters \n",
    "\n",
    "plt.figure(figsize=(6, 5), dpi=100)\n",
    "\n",
    "colores = [\"red\", \"blue\", \"orange\", \"black\", \"purple\", \"pink\", \"brown\"]\n",
    "\n",
    "for cluster in range(kmeans.n_clusters):\n",
    "    plt.scatter(clientes[clientes[\"cluster\"] == cluster][\"saldo\"],\n",
    "                clientes[clientes[\"cluster\"] == cluster][\"transacciones\"],\n",
    "                marker=\"o\", s=180, color=colores[cluster], alpha=0.5)\n",
    "    \n",
    "    plt.scatter(kmeans.cluster_centers_[cluster][0], \n",
    "                kmeans.cluster_centers_[cluster][1], \n",
    "                marker=\"P\", s=280, color=colores[cluster])\n",
    "\n",
    "plt.title(\"Clientes\", fontsize=20)\n",
    "plt.xlabel(\"Saldo en cuenta de ahorros (pesos)\", fontsize=15)\n",
    "plt.ylabel(\"Veces que usó tarjeta de crédito\", fontsize=15)\n",
    "plt.text(1.15, 0.2, \"K = %i\" % kmeans.n_clusters, fontsize=25)\n",
    "plt.text(1.15, 0, \"Inercia = %0.2f\" % kmeans.inertia_, fontsize=25)\n",
    "plt.xlim(-0.1, 1.1)\n",
    "plt.ylim(-0.1, 1.1)    \n",
    "plt.show()\n",
    "\n",
    "del clientes[\"cluster\"] "
   ]
  },
  {
   "cell_type": "markdown",
   "id": "b2b8d2e5-f51c-4b0a-87fa-08da3dafb7ca",
   "metadata": {},
   "source": [
    "Nótese, si probamos con distintos números de clusters, cómo el valor de la inercia va cambiando. La inercia nos indica qué tan \"pegados\" están los valores de las observaciones a su respectivo centroide. Cuanto menor es la inercia quiere decir que más pegados están y el cluster está \"mejor\" confeccionado, ya que el agrupamiento está compuesto por valores bien cercanos entre sí.\n",
    "\n",
    "A un número de clusters mayor, menor inercia.\n",
    "\n",
    "A un número de cluster menor, mayor inercia.\n",
    "\n",
    "Sin embargo, en líneas generales, un modelo de K-Means más óptimo es aquel que posee menor número de clusters y menor inercia."
   ]
  },
  {
   "cell_type": "markdown",
   "id": "2d1c927f-f47a-418b-9760-109e8fe1a495",
   "metadata": {},
   "source": [
    "### Cálculo del número de Clusters (K)"
   ]
  },
  {
   "cell_type": "markdown",
   "id": "110c7730-0ded-450e-8d73-586a89b44635",
   "metadata": {},
   "source": [
    "#### Método del codo"
   ]
  },
  {
   "cell_type": "code",
   "execution_count": 24,
   "id": "b5a79026-b682-4509-a7ad-c919485414c7",
   "metadata": {},
   "outputs": [
    {
     "data": {
      "image/png": "[encoded data removed]",
      "text/plain": [
       "<Figure size 600x500 with 1 Axes>"
      ]
     },
     "metadata": {},
     "output_type": "display_data"
    }
   ],
   "source": [
    "inercias = []\n",
    "for k in range(2, 10):\n",
    "    kmeans = KMeans(n_clusters=k, n_init='auto').fit(clientes.values)    \n",
    "    inercias.append(kmeans.inertia_)\n",
    "\n",
    "plt.figure(figsize=(6, 5), dpi=100)\n",
    "plt.scatter(range(2, 10), inercias, marker=\"o\", s=180, color=\"purple\")\n",
    "plt.xlabel(\"Número de Clusters\", fontsize=25)\n",
    "plt.ylabel(\"Inercia\", fontsize=25)\n",
    "plt.show()"
   ]
  },
  {
   "cell_type": "markdown",
   "id": "2df48853-7ed3-4b4d-a303-ba83be405803",
   "metadata": {},
   "source": []
  }
 ],
 "metadata": {
  "kernelspec": {
   "display_name": "Python 3 (ipykernel)",
   "language": "python",
   "name": "python3"
  },
  "language_info": {
   "codemirror_mode": {
    "name": "ipython",
    "version": 3
   },
   "file_extension": ".py",
   "mimetype": "text/x-python",
   "name": "python",
   "nbconvert_exporter": "python",
   "pygments_lexer": "ipython3",
   "version": "3.8.8"
  }
 },
 "nbformat": 4,
 "nbformat_minor": 5
}
