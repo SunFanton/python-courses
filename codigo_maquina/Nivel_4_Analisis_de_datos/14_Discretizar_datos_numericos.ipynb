{
 "cells": [
  {
   "cell_type": "markdown",
   "id": "3eff6ef2-5418-44a0-9a79-82bd7a83edcf",
   "metadata": {},
   "source": [
    "# Discretizar Datos Numéricos"
   ]
  },
  {
   "cell_type": "markdown",
   "id": "a3d6d84c-6d8f-4fa7-9646-ffb4c8e056da",
   "metadata": {},
   "source": [
    "El proceso de *discretización* es aquel en el que datos numéricos (ya sean continuos o discretos) se los rtansforma en datos de tipo categóricos. Por ejemplo, supongamos que tenemos una serie de datos de temperaturas, expresadas en valores continuos, y que tenemos distintos rangos para representar una temperatura fría, agradable o cálida. Según el valor de cada dato, lo podremos considerar dentro de una de esas tres categorías de temperatura.\n",
    "\n",
    "Las razones por las cuales se recurra a la discretización pueden ser variadas. Tal vez solo por el hecho de preresentar nuestros datos en tipos diferentes. O bien para convertir modelos de regresión en modelos de clasificación. O bien para que datos de tipo outliers no interfieran erroneamente en los resultados de nuestros modelos.\n",
    "\n",
    "El primer paso para discretizar es categorizar o crear las categorías (también conocidas como contenedores). Librerías como `pandas` o `scikit-learn` ya cuentan con funciones que facilitan esta tarea, y lo hacen en función de la cantidad de categorías que deseamos definir y del rango de valores que poseemos, tomando como referencia el valor mínimo y el máximo."
   ]
  },
  {
   "cell_type": "code",
   "execution_count": 1,
   "id": "05f0d79c-866c-4ad4-bb1f-6cff5b93b162",
   "metadata": {},
   "outputs": [],
   "source": [
    "import pandas as pd\n",
    "import numpy as np"
   ]
  },
  {
   "cell_type": "markdown",
   "id": "6617fcaf-8807-454c-ac1f-d99a98ad5db2",
   "metadata": {},
   "source": [
    "## Contenedores del mismo tamaño de rangos"
   ]
  },
  {
   "cell_type": "code",
   "execution_count": 8,
   "id": "2bc129e4-9b65-45aa-8554-3f7eadc137f7",
   "metadata": {},
   "outputs": [
    {
     "name": "stdout",
     "output_type": "stream",
     "text": [
      "Rangos: [  0.901  34.     67.    100.   ] \n",
      "\n",
      "[0 0 0 0 0 0 1 1 1 2 2 2] \n",
      "\n",
      "Index(['baja', 'media', 'alta'], dtype='object') \n",
      "\n",
      "['baja' 'baja' 'baja' 'baja' 'baja' 'baja' 'media' 'media' 'media' 'alta'\n",
      " 'alta' 'alta'] \n",
      "\n"
     ]
    }
   ],
   "source": [
    "edades = np.array([1, 7, 8, 15, 16, 28, 35, 50, 55, 70, 75, 100])\n",
    "\n",
    "resultado = pd.cut(edades, \n",
    "                  bins=3, # cant de categorias\n",
    "                  labels=[\"baja\", \"media\", \"alta\"], # etiquetas de las categorias\n",
    "                  include_lowest=True, # que incluya en el calculo el valor minimo de nuestros datos\n",
    "                  retbins=True) # que retorne los rangos de las categorias\n",
    "\n",
    "print(\"Rangos:\", resultado[1], \"\\n\") # rangos de nuestras categorias, en este caso: [0.901, 34] (34, 67] (67, 100]\n",
    "print(resultado[0].codes, \"\\n\") # numeros indicativos de a que categoria corresponde cada valor\n",
    "print(resultado[0].categories, \"\\n\") # etiquetas de las categorias\n",
    "print(np.array(resultado[0]), \"\\n\") # nuestros datos etiquetados"
   ]
  },
  {
   "cell_type": "markdown",
   "id": "853a1c61-6e7f-43fa-a925-b17f26329ada",
   "metadata": {},
   "source": [
    "## Contenedores de diferente tamaño de rangos"
   ]
  },
  {
   "cell_type": "code",
   "execution_count": 9,
   "id": "a2ebe012-eac2-4303-8445-b2cc734b93cd",
   "metadata": {},
   "outputs": [
    {
     "name": "stdout",
     "output_type": "stream",
     "text": [
      "Rangos: [ 0. 11. 17. 59. inf] \n",
      "\n",
      "[0 0 0 1 1 2 2 2 2 3 3 3] \n",
      "\n",
      "Index(['infante', 'joven', 'adulto', 'mayor'], dtype='object') \n",
      "\n",
      "['infante' 'infante' 'infante' 'joven' 'joven' 'adulto' 'adulto' 'adulto'\n",
      " 'adulto' 'mayor' 'mayor' 'mayor'] \n",
      "\n"
     ]
    }
   ],
   "source": [
    "edades = np.array([1, 7, 8, 15, 16, 28, 35, 50, 55, 70, 75, 100])\n",
    "\n",
    "resultado = pd.cut(edades, \n",
    "                  bins=[0, 11, 17, 59, np.inf], # establecemos nuestros rangos personalizados ( [0, 11] (11, 17] (17, 59] (59, +inf) )\n",
    "                  labels=[\"infante\", \"joven\", \"adulto\", \"mayor\"], # etiquetas de las categorias\n",
    "                  include_lowest=True, # que incluya en el calculo el valor minimo de nuestros datos\n",
    "                  retbins=True) # que retorne los rangos de las categorias\n",
    "\n",
    "print(\"Rangos:\", resultado[1], \"\\n\") # rangos de nuestras categorias\n",
    "print(resultado[0].codes, \"\\n\") # numeros indicativos de a que categoria corresponde cada valor\n",
    "print(resultado[0].categories, \"\\n\") # etiquetas de las categorias\n",
    "print(np.array(resultado[0]), \"\\n\") # nuestros datos etiquetados"
   ]
  },
  {
   "cell_type": "code",
   "execution_count": null,
   "id": "c41a7d7b-513e-4ff8-bf68-1f2259b43839",
   "metadata": {},
   "outputs": [],
   "source": []
  }
 ],
 "metadata": {
  "kernelspec": {
   "display_name": "Python 3 (ipykernel)",
   "language": "python",
   "name": "python3"
  },
  "language_info": {
   "codemirror_mode": {
    "name": "ipython",
    "version": 3
   },
   "file_extension": ".py",
   "mimetype": "text/x-python",
   "name": "python",
   "nbconvert_exporter": "python",
   "pygments_lexer": "ipython3",
   "version": "3.12.0"
  }
 },
 "nbformat": 4,
 "nbformat_minor": 5
}
