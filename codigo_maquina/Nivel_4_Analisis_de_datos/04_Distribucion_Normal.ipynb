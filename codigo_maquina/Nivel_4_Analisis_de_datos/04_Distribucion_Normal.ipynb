{
 "cells": [
  {
   "cell_type": "markdown",
   "id": "6bbd55e7-5cdf-4797-98d6-7643188d5e6d",
   "metadata": {},
   "source": [
    "# Distribución Normal y regla empírica 68-95-99.7 de la desviación estándar"
   ]
  },
  {
   "cell_type": "markdown",
   "id": "e82c65fd-5806-4dfc-a258-d4ec287b6478",
   "metadata": {},
   "source": [
    "## Introducción"
   ]
  },
  {
   "cell_type": "markdown",
   "id": "e1a23378-84f0-4448-ab4f-79939c6112be",
   "metadata": {},
   "source": [
    "Este es un tipo de distribución de datos, que se utiliza en probabilidad, que establece que la mayoría de los datos (asociados a un análisis de un tema específico) se encuentran cercanos al promedio o media, y que a medida que nos alejamos de dicho promedio, ya sea con valores mayores o menores a éste, hay cada vez menos cantidad de datos asociados a dichos valores."
   ]
  },
  {
   "cell_type": "markdown",
   "id": "1c44b28d-1d46-44b6-b476-bdb9c2ffed0e",
   "metadata": {},
   "source": [
    "Tomemos como ejemplo la altura de las personas (indistinto del género).\n",
    "\n",
    "Si recopilamos una gran cantidad de datos para conocer la altura de muchas personas, nos encontraríamos que la gran mayoría de esos datos se encuentran alrededor del promedio (170cm), y a medida que nos alejamos del promedio, encontramos cada vez menos cantidad de personas con una altura muy pequeña o con una altura muy grande.\n",
    "\n",
    "De allí que este tipo de distribución, gráficamente, posea la forma de una campana, que se conoce como campana de Gauss. Por otro lado, la distribución normal es una distribución simétrica, es decir, tomando como punto medio el promedio, tenemos el 50% de nuestros datos debajo del promedio y el otro 50% de kis datos por encima del promedio."
   ]
  },
  {
   "cell_type": "markdown",
   "id": "dbef5cc3-403b-45e1-a8c4-5a0e589e8ecf",
   "metadata": {},
   "source": [
    "![Normal 1](./img/normal1.png)"
   ]
  },
  {
   "cell_type": "markdown",
   "id": "eac24861-3400-4625-b74d-1fa6b1df12b7",
   "metadata": {},
   "source": [
    "![Normal 1](./img/normal2.png)"
   ]
  },
  {
   "cell_type": "markdown",
   "id": "0ba632e1-e91e-40cb-8761-27ced5c74f31",
   "metadata": {},
   "source": [
    "A su vez, en la distribución normal, encontramos la particularidad de que la media, la mediana y la moda coinciden en el mismo valor."
   ]
  },
  {
   "cell_type": "markdown",
   "id": "51a3cb3d-524f-4601-9ce6-87053aeebe16",
   "metadata": {},
   "source": [
    "![Normal 1](./img/normal3.png)"
   ]
  },
  {
   "cell_type": "markdown",
   "id": "5b92783b-a48c-4e38-bfb9-ca8faf01f359",
   "metadata": {},
   "source": [
    "Existe, además, respecto a la desviación, que es un tipo de medida de dispersión que nos sirve para determinar qué tan dispersos están los datos uno del otro, algo que se conoce como **Regla empírica**.\n",
    "\n",
    "Dicha regla empírica consiste en que entre los valores que se obtienen de hacer:\n",
    "\n",
    "$\\mu$ : media\n",
    "\n",
    "$\\sigma$ : desvío o desviación\n",
    "\n",
    "* Entre $\\mu$ - $\\sigma$ y $\\mu$ + $\\sigma$ tenemos el 68% de los datos\n",
    "* Entre $\\mu$ - 2$\\sigma$ y $\\mu$ + 2$\\sigma$ tenemos el 95% de los datos\n",
    "* Entre $\\mu$ - 3$\\sigma$ y $\\mu$ + 3$\\sigma$ tenemos el 99.7% de los datos"
   ]
  },
  {
   "cell_type": "markdown",
   "id": "d749020c-d90a-475b-8800-06d85c491a7a",
   "metadata": {},
   "source": [
    "![Normal 1](./img/normal4.png)"
   ]
  },
  {
   "cell_type": "markdown",
   "id": "73a133f1-20c4-43c4-b245-432de2413f06",
   "metadata": {},
   "source": [
    "![Normal 1](./img/normal5.png)"
   ]
  },
  {
   "cell_type": "markdown",
   "id": "5e4f2bfc-600d-43bf-98b7-7fe15503eba2",
   "metadata": {},
   "source": [
    "Aplicado a nuestro ejemplo de las alturas de las personas:"
   ]
  },
  {
   "cell_type": "markdown",
   "id": "cedc8aae-def0-46d3-bcae-ac3a548ef687",
   "metadata": {},
   "source": [
    "![Normal 1](./img/normal6.png)"
   ]
  },
  {
   "cell_type": "markdown",
   "id": "dbd57756-3b9b-45e1-a789-f2730980cb3d",
   "metadata": {},
   "source": [
    "Finalmente, otra cuestión a tener en cuenta es que según qué varía, si la media o el desvío, la campana tendrá una forma determinada o se desplazará, gráficamente, a derecha o a izquierda:"
   ]
  },
  {
   "cell_type": "markdown",
   "id": "0813557f-be72-4484-a2d7-789170fe29c9",
   "metadata": {},
   "source": [
    "![Normal 1](./img/normal7.png)"
   ]
  },
  {
   "cell_type": "markdown",
   "id": "ac2d5b43-6727-4764-9ca5-249708893b3f",
   "metadata": {},
   "source": [
    "![Normal 1](./img/normal8.png)"
   ]
  },
  {
   "cell_type": "markdown",
   "id": "7bf63447-0dc8-4522-87dc-7e82c7f0f36e",
   "metadata": {},
   "source": [
    "![Normal 1](./img/normal9.png)"
   ]
  },
  {
   "cell_type": "markdown",
   "id": "e758b922-283b-44fa-8b1c-01d4f7d41492",
   "metadata": {},
   "source": [
    "## Prueba Regla empírica en Python"
   ]
  },
  {
   "cell_type": "code",
   "execution_count": 1,
   "id": "4ec58dea-e282-49ca-aa1c-97b7741ef7b3",
   "metadata": {},
   "outputs": [],
   "source": [
    "import numpy as np\n",
    "import matplotlib.pyplot as plt"
   ]
  },
  {
   "cell_type": "code",
   "execution_count": 2,
   "id": "466c9fea-7689-4cec-836a-ebb202624d14",
   "metadata": {},
   "outputs": [],
   "source": [
    "# altura promedio\n",
    "mu = 170\n",
    "\n",
    "# desviacion estandar\n",
    "sigma = 8\n",
    "\n",
    "# generacion de 100 mil alturas aleatorias\n",
    "n = 100000\n",
    "alturas = np.random.normal(mu, sigma, n)"
   ]
  },
  {
   "cell_type": "code",
   "execution_count": 8,
   "id": "eeca4e9c-87e2-4fd7-86f8-482864480e2d",
   "metadata": {},
   "outputs": [
    {
     "data": {
      "image/png": "[encoded data removed]",
      "text/plain": [
       "<Figure size 640x480 with 1 Axes>"
      ]
     },
     "metadata": {},
     "output_type": "display_data"
    },
    {
     "name": "stdout",
     "output_type": "stream",
     "text": [
      "\n",
      "*** Regla Empírica 68-95-99.7 de la Distribución Normal ***\n",
      "\n",
      "162 - 178 cm\t 154 - 186 cm\t 146 - 194 cm\n",
      "68.253 %\t 95.487 %\t 99.722 %\t\n",
      "\n",
      "[0 0 1 ... 1 1 0]\n"
     ]
    }
   ],
   "source": [
    "# creacion de histograma\n",
    "conteo, x, barras = plt.hist(alturas, 100, density=True, color=\"Pink\", alpha=0.7)\n",
    "\n",
    "# dibujamos el contorno de la campana utilizando la funcion de desnsidad de probabilidad\n",
    "plt.plot(\n",
    "    x,\n",
    "    1/(sigma * np.sqrt(2 * np.pi)) * np.exp(-0.5 * ((x - mu)/sigma)**2),\n",
    "    linewidth=1,\n",
    "    color=\"purple\"\n",
    ")\n",
    "\n",
    "# graficamos como lineas verticales los distintos puntos de la regla empirica\n",
    "sigmas = [mu - 3*sigma, mu - 2*sigma, mu - sigma, mu,\n",
    "          mu + sigma, mu + 2*sigma, mu + 3*sigma]\n",
    "for s in sigmas:\n",
    "    plt.axvline(s, color = \"teal\", linewidth=1.5, linestyle=\"dashed\")\n",
    "\n",
    "plt.yticks([]) \n",
    "plt.xticks([]) \n",
    "plt.box(False)\n",
    "plt.show()\n",
    "\n",
    "print(\"\\n*** Regla Empírica 68-95-99.7 de la Distribución Normal ***\\n\")\n",
    "print(mu - sigma, \"-\", mu + sigma, \"cm\\t\", \n",
    "      mu - 2*sigma, \"-\", mu + 2*sigma, \"cm\\t\",\n",
    "      mu - 3*sigma, \"-\", mu + 3*sigma, \"cm\")\n",
    "print((np.where(((mu - sigma) < alturas) & \n",
    "                (alturas < (mu + sigma)), 1, 0).sum()*100)/n, \"%\\t\",  \n",
    "      (np.where(((mu - 2*sigma) < alturas) & \n",
    "                (alturas < (mu + 2*sigma)), 1, 0).sum()*100)/n, \"%\\t\",  \n",
    "      (np.where(((mu - 3*sigma) < alturas) & \n",
    "                (alturas < (mu + 3*sigma)), 1, 0).sum()*100)/n, \"%\\t\")\n",
    "\n",
    "'''\n",
    "np.where(condition, 1, 0)\n",
    "La función np.where() evalúa una condición. \n",
    "Si la condición es verdadera, devuelve el primer valor (en este caso, 1); \n",
    "si es falsa, devuelve el segundo valor (en este caso, 0).\n",
    "'''\n",
    "print()\n",
    "print(np.where(((mu - sigma) < alturas) & \n",
    "                (alturas < (mu + sigma)), 1, 0))"
   ]
  },
  {
   "cell_type": "code",
   "execution_count": null,
   "id": "0b36d38e-8676-441b-a1bb-20e139c84eec",
   "metadata": {},
   "outputs": [],
   "source": []
  }
 ],
 "metadata": {
  "kernelspec": {
   "display_name": "Python 3 (ipykernel)",
   "language": "python",
   "name": "python3"
  },
  "language_info": {
   "codemirror_mode": {
    "name": "ipython",
    "version": 3
   },
   "file_extension": ".py",
   "mimetype": "text/x-python",
   "name": "python",
   "nbconvert_exporter": "python",
   "pygments_lexer": "ipython3",
   "version": "3.12.0"
  }
 },
 "nbformat": 4,
 "nbformat_minor": 5
}
