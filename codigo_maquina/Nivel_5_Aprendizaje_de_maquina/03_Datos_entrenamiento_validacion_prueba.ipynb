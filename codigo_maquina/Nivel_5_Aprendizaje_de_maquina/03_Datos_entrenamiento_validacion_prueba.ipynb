{
 "cells": [
  {
   "cell_type": "markdown",
   "id": "4ddbf9a8-9c8d-43c3-8749-0f369bdaaa78",
   "metadata": {},
   "source": [
    "# Datos de entrenamiento, validación y prueba"
   ]
  },
  {
   "cell_type": "markdown",
   "id": "2988c482-7324-49b6-81fe-d7694a4177d2",
   "metadata": {},
   "source": [
    "Texto extraído de definiciones aportadas por `ChatGPT`:\n",
    "\n",
    "## Datos de Entrenamiento, Validación y Prueba en Machine Learning\n",
    "\n",
    "En el contexto de **machine learning**, los datos se dividen en tres conjuntos principales: **entrenamiento**, **validación** y **prueba**. Cada uno tiene un propósito específico para asegurar que el modelo sea capaz de generalizar bien a nuevos datos y no solo memorizar (sobreajustar) los datos con los que fue entrenado.\n",
    "\n",
    "### 1. Datos de Entrenamiento\n",
    "Son los datos que se usan para **entrenar** el modelo. El modelo aprende a partir de estos datos, ajustando sus parámetros (por ejemplo, los pesos en redes neuronales) para minimizar el error entre sus predicciones y las respuestas correctas en el conjunto de entrenamiento.\n",
    "\n",
    "- **Propósito**: Enseñar al modelo a reconocer patrones y relaciones dentro de los datos.\n",
    "- **Ejemplo**: En una tarea de clasificación de imágenes, las imágenes etiquetadas con la clase correcta (por ejemplo, \"gato\" o \"perro\") formarían este conjunto.\n",
    "\n",
    "### 2. Datos de Validación\n",
    "Son datos separados del conjunto de entrenamiento que se usan para **ajustar los hiperparámetros** del modelo (como la tasa de aprendizaje, la profundidad de un árbol de decisión, etc.) y para **evaluar el desempeño del modelo** durante el proceso de entrenamiento.\n",
    "\n",
    "- **Propósito**: Evaluar cómo el modelo generaliza a datos no vistos durante el entrenamiento, ajustando parámetros sin usar el conjunto de prueba. Esto ayuda a evitar el sobreajuste.\n",
    "- **Ejemplo**: Durante el entrenamiento de una red neuronal, el rendimiento del modelo en el conjunto de validación puede indicar si el modelo se está ajustando demasiado a los datos de entrenamiento (overfitting) o si está aprendiendo patrones generales.\n",
    "\n",
    "### 3. Datos de Prueba\n",
    "Son datos que el modelo nunca ha visto antes, ni durante el entrenamiento ni durante la validación. Después de que el modelo ha sido entrenado y ajustado, se evalúa en este conjunto para obtener una medida final de su desempeño.\n",
    "\n",
    "- **Propósito**: Evaluar la **generalización** del modelo a datos nuevos, para verificar su capacidad de predecir correctamente sobre datos no vistos en ningún momento del proceso de desarrollo.\n",
    "- **Ejemplo**: En el caso de las imágenes, un conjunto de imágenes que no se usaron en el entrenamiento ni en la validación se usaría para evaluar cuán bien el modelo puede clasificar nuevas imágenes.\n",
    "\n",
    "### Resumen:\n",
    "- **Entrenamiento**: Datos para enseñar al modelo.\n",
    "- **Validación**: Datos para ajustar hiperparámetros y detectar sobreajuste.\n",
    "- **Prueba**: Datos para evaluar el rendimiento final del modelo.\n",
    "\n",
    "### Notas Importantes:\n",
    "- **Sobreajuste (Overfitting)**: Ocurre cuando el modelo aprende demasiado bien los detalles y ruidos de los datos de entrenamiento, lo que hace que tenga un mal desempeño en nuevos datos. La validación ayuda a detectar esto.\n",
    "- **Conjuntos disjuntos**: Los conjuntos de entrenamiento, validación y prueba deben ser mutuamente exclusivos y aleatorios. Esto significa que un dato que aparece en uno no debe aparecer en los otros, para garantizar que las evaluaciones sean justas.\n",
    "\n",
    "En algunos casos, cuando no se dispone de suficientes datos, se puede usar la técnica de **validación cruzada**, que involucra dividir los datos en varios subconjuntos y entrenar/testear el modelo múltiples veces, lo que ayuda a hacer un uso más eficiente de los datos disponibles.\n"
   ]
  },
  {
   "cell_type": "markdown",
   "id": "c8c2ec6f-dcc9-48d5-a0fe-ae2466fe747b",
   "metadata": {},
   "source": [
    "![Datos de entrenamiento, validacion y prueba](./img/entrenamiento_validacion_prueba1.png)"
   ]
  },
  {
   "cell_type": "markdown",
   "id": "0520611a-1f22-485e-a26c-3f1d6fff333b",
   "metadata": {},
   "source": [
    "## Separación de Datos"
   ]
  },
  {
   "cell_type": "code",
   "execution_count": 13,
   "id": "672894e0-7ca5-45ec-bc9f-e29ae54a2894",
   "metadata": {},
   "outputs": [],
   "source": [
    "import pandas as pd\n",
    "from sklearn.model_selection import train_test_split\n",
    "from sklearn.linear_model import LinearRegression\n",
    "from sklearn.metrics import mean_squared_error, r2_score"
   ]
  },
  {
   "cell_type": "markdown",
   "id": "2e4edad5-3553-4aab-818f-90eb8302da66",
   "metadata": {},
   "source": [
    "### 60% Entrenamiento, 20% Validación, 20% Prueba"
   ]
  },
  {
   "cell_type": "code",
   "execution_count": 3,
   "id": "c1f60ab3-219a-4aec-b6df-d37a170bde52",
   "metadata": {},
   "outputs": [
    {
     "data": {
      "text/html": [
       "<div>\n",
       "<style scoped>\n",
       "    .dataframe tbody tr th:only-of-type {\n",
       "        vertical-align: middle;\n",
       "    }\n",
       "\n",
       "    .dataframe tbody tr th {\n",
       "        vertical-align: top;\n",
       "    }\n",
       "\n",
       "    .dataframe thead th {\n",
       "        text-align: right;\n",
       "    }\n",
       "</style>\n",
       "<table border=\"1\" class=\"dataframe\">\n",
       "  <thead>\n",
       "    <tr style=\"text-align: right;\">\n",
       "      <th></th>\n",
       "      <th>edad</th>\n",
       "      <th>genero</th>\n",
       "      <th>presion</th>\n",
       "      <th>colesterol</th>\n",
       "      <th>diabetico</th>\n",
       "      <th>cardiaco</th>\n",
       "    </tr>\n",
       "  </thead>\n",
       "  <tbody>\n",
       "    <tr>\n",
       "      <th>0</th>\n",
       "      <td>53</td>\n",
       "      <td>0</td>\n",
       "      <td>128</td>\n",
       "      <td>216</td>\n",
       "      <td>0</td>\n",
       "      <td>1</td>\n",
       "    </tr>\n",
       "    <tr>\n",
       "      <th>1</th>\n",
       "      <td>53</td>\n",
       "      <td>0</td>\n",
       "      <td>138</td>\n",
       "      <td>234</td>\n",
       "      <td>0</td>\n",
       "      <td>1</td>\n",
       "    </tr>\n",
       "    <tr>\n",
       "      <th>2</th>\n",
       "      <td>51</td>\n",
       "      <td>0</td>\n",
       "      <td>130</td>\n",
       "      <td>256</td>\n",
       "      <td>0</td>\n",
       "      <td>1</td>\n",
       "    </tr>\n",
       "    <tr>\n",
       "      <th>3</th>\n",
       "      <td>66</td>\n",
       "      <td>1</td>\n",
       "      <td>120</td>\n",
       "      <td>302</td>\n",
       "      <td>0</td>\n",
       "      <td>1</td>\n",
       "    </tr>\n",
       "    <tr>\n",
       "      <th>4</th>\n",
       "      <td>62</td>\n",
       "      <td>1</td>\n",
       "      <td>130</td>\n",
       "      <td>231</td>\n",
       "      <td>0</td>\n",
       "      <td>1</td>\n",
       "    </tr>\n",
       "    <tr>\n",
       "      <th>...</th>\n",
       "      <td>...</td>\n",
       "      <td>...</td>\n",
       "      <td>...</td>\n",
       "      <td>...</td>\n",
       "      <td>...</td>\n",
       "      <td>...</td>\n",
       "    </tr>\n",
       "    <tr>\n",
       "      <th>95</th>\n",
       "      <td>57</td>\n",
       "      <td>1</td>\n",
       "      <td>128</td>\n",
       "      <td>229</td>\n",
       "      <td>0</td>\n",
       "      <td>0</td>\n",
       "    </tr>\n",
       "    <tr>\n",
       "      <th>96</th>\n",
       "      <td>61</td>\n",
       "      <td>1</td>\n",
       "      <td>120</td>\n",
       "      <td>260</td>\n",
       "      <td>0</td>\n",
       "      <td>0</td>\n",
       "    </tr>\n",
       "    <tr>\n",
       "      <th>97</th>\n",
       "      <td>39</td>\n",
       "      <td>1</td>\n",
       "      <td>118</td>\n",
       "      <td>219</td>\n",
       "      <td>0</td>\n",
       "      <td>0</td>\n",
       "    </tr>\n",
       "    <tr>\n",
       "      <th>98</th>\n",
       "      <td>61</td>\n",
       "      <td>0</td>\n",
       "      <td>145</td>\n",
       "      <td>307</td>\n",
       "      <td>0</td>\n",
       "      <td>0</td>\n",
       "    </tr>\n",
       "    <tr>\n",
       "      <th>99</th>\n",
       "      <td>56</td>\n",
       "      <td>1</td>\n",
       "      <td>125</td>\n",
       "      <td>249</td>\n",
       "      <td>1</td>\n",
       "      <td>0</td>\n",
       "    </tr>\n",
       "  </tbody>\n",
       "</table>\n",
       "<p>100 rows × 6 columns</p>\n",
       "</div>"
      ],
      "text/plain": [
       "    edad  genero  presion  colesterol  diabetico  cardiaco\n",
       "0     53       0      128         216          0         1\n",
       "1     53       0      138         234          0         1\n",
       "2     51       0      130         256          0         1\n",
       "3     66       1      120         302          0         1\n",
       "4     62       1      130         231          0         1\n",
       "..   ...     ...      ...         ...        ...       ...\n",
       "95    57       1      128         229          0         0\n",
       "96    61       1      120         260          0         0\n",
       "97    39       1      118         219          0         0\n",
       "98    61       0      145         307          0         0\n",
       "99    56       1      125         249          1         0\n",
       "\n",
       "[100 rows x 6 columns]"
      ]
     },
     "execution_count": 3,
     "metadata": {},
     "output_type": "execute_result"
    }
   ],
   "source": [
    "pacientes = pd.read_csv(\"../datos/problemas_del_corazon.csv\")\n",
    "pacientes # variable objetivo/target: cardiaco = 1 -> tiene problemas del corazon, 0 -> no tiene problemas del corazon"
   ]
  },
  {
   "cell_type": "markdown",
   "id": "5007feeb-5a59-4415-b2a3-52f9b29577c2",
   "metadata": {},
   "source": [
    "La siguiente función a utilizar sirve para fragmentar en forma aleatoria los datos en los conjuntos que necesito para entrenar mi modelo. Pero en este caso me devuelve solo dos conjuntos: el de entrenamiento y el de prueba.\n",
    "Lo que se hará es indicar que fracciones los datos para que me devuelva un 20% de los datos para prueba, y el 80% restante luego se dividirá nuevamente para tener e 60% de los datos de entrenamiento y el 20% de los daros de validación."
   ]
  },
  {
   "cell_type": "code",
   "execution_count": 10,
   "id": "ddf0c418-f3f0-40cc-bb57-47ea827526f8",
   "metadata": {},
   "outputs": [],
   "source": [
    "resto, prueba, target_resto, target_prueba = train_test_split(\n",
    "    pacientes[[\"edad\", \"genero\", \"presion\", \"colesterol\", \"diabetico\"]], # variables para var indep\n",
    "    pacientes[\"cardiaco\"], # variable target\n",
    "    test_size=0.2 \n",
    ")\n",
    "\n",
    "#resto\n",
    "#prueba\n",
    "#target_resto\n",
    "#target_prueba"
   ]
  },
  {
   "cell_type": "code",
   "execution_count": null,
   "id": "356659ca-07c2-46f4-b1e1-3ff7d1338a03",
   "metadata": {},
   "outputs": [],
   "source": [
    "# Ahora dividimos los datos de entramiento para obtener los de validacion\n",
    "entrenamiento, validacion, target_entrenamiento, target_validacion = train_test_split(\n",
    "    resto[[\"edad\", \"genero\", \"presion\", \"colesterol\", \"diabetico\"]], # variables para var indep\n",
    "    target_resto, # variable target\n",
    "    test_size=0.25 \n",
    ")"
   ]
  },
  {
   "cell_type": "markdown",
   "id": "ed4da24e-f656-4e81-bde2-56bf76613897",
   "metadata": {},
   "source": [
    "De dónde sale el 0.25?\n",
    "\n",
    "Originalmente teniamos 100 registros\n",
    "60% -> 60 registros\n",
    "20% -> 20 registros\n",
    "20% -> 20 registros\n",
    "\n",
    "El primer 20% ya lo tenemos con los datos de prueba. El otro 20% y el 60% están en el 80% de \"resto\".\n",
    "Para el otro 20% de los 100 registros originales necesito 20 registros.\n",
    "\n",
    "Entonces:\n",
    "\n",
    "80 -> 100%\n",
    "\n",
    "20 -> x = 20 * 100% / 80 = 25% = 0.25"
   ]
  },
  {
   "cell_type": "markdown",
   "id": "30b1bf56-0604-4cd7-a6a8-cc989eaa3ee2",
   "metadata": {},
   "source": [
    "## Agregado extra: entrenamiento y prueba"
   ]
  },
  {
   "cell_type": "markdown",
   "id": "d6d25918-98d0-43d2-858b-b5068f14643c",
   "metadata": {},
   "source": [
    "El siguiente sería un ejemplo de cómo se pueden obtener las métricas para saber qué tan eficiente es nuestro modelo.\n",
    "\n",
    "IMPORTANTE: tener en cuenta que para este ejemplo en particular, por tener una cantidad de datos relativamente pequeña con solo 100 registros, posiblemente las métricas no arrojen los mejores resultados.\n",
    "\n",
    "#### Interpretación de las métricas:\n",
    "\n",
    "* Error Cuadrático Medio (MSE): Es la media de los errores al cuadrar las diferencias entre las predicciones y los valores reales. Un valor más bajo indica un modelo mejor.\n",
    "\n",
    "* $R^2$ (Coeficiente de Determinación): Mide la proporción de la varianza total en los datos que es explicada por el modelo. Un valor cercano a 1 indica que el modelo explica bien los datos, mientras que un valor cercano a 0 sugiere un mal modelo."
   ]
  },
  {
   "cell_type": "code",
   "execution_count": 16,
   "id": "17e05172-4ea5-45ba-85fb-bde35fe99e64",
   "metadata": {},
   "outputs": [],
   "source": [
    "modelo = LinearRegression()\n",
    "regresion = modelo.fit(entrenamiento, target_entrenamiento)"
   ]
  },
  {
   "cell_type": "code",
   "execution_count": 19,
   "id": "e12c8571-3439-475a-b664-3495ca1bc03d",
   "metadata": {},
   "outputs": [
    {
     "name": "stdout",
     "output_type": "stream",
     "text": [
      "Error Cuadrático Medio (MSE) en Validación: 0.27165154717665757\n",
      "R² en Validación: -0.09758200879457579\n"
     ]
    }
   ],
   "source": [
    "# Hacer predicciones con el conjunto de validación\n",
    "y_validacion_pred = modelo.predict(validacion)\n",
    "\n",
    "# Evaluar el rendimiento usando métricas como el error cuadrático medio (MSE) y R²\n",
    "mse_val = mean_squared_error(target_validacion, y_validacion_pred)\n",
    "r2_val = r2_score(target_validacion, y_validacion_pred)\n",
    "\n",
    "print(f'Error Cuadrático Medio (MSE) en Validación: {mse_val}')\n",
    "print(f'R² en Validación: {r2_val}')"
   ]
  },
  {
   "cell_type": "code",
   "execution_count": 20,
   "id": "e21c62bc-634b-4e30-a4f6-6ac92aaf915d",
   "metadata": {},
   "outputs": [
    {
     "name": "stdout",
     "output_type": "stream",
     "text": [
      "Error Cuadrático Medio (MSE) en Prueba: 0.14355409122401702\n",
      "R² en Prueba: 0.40185795323326257\n"
     ]
    }
   ],
   "source": [
    "# Hacer predicciones con el conjunto de prueba\n",
    "y_prueba_pred = modelo.predict(prueba)\n",
    "\n",
    "# Evaluar el rendimiento usando métricas como el error cuadrático medio (MSE) y R²\n",
    "mse_val = mean_squared_error(target_prueba, y_prueba_pred)\n",
    "r2_val = r2_score(target_prueba, y_prueba_pred)\n",
    "\n",
    "print(f'Error Cuadrático Medio (MSE) en Prueba: {mse_val}')\n",
    "print(f'R² en Prueba: {r2_val}')"
   ]
  },
  {
   "cell_type": "code",
   "execution_count": null,
   "id": "5f829435-1280-40b8-abe8-edd387dbd023",
   "metadata": {},
   "outputs": [],
   "source": []
  }
 ],
 "metadata": {
  "kernelspec": {
   "display_name": "Python 3 (ipykernel)",
   "language": "python",
   "name": "python3"
  },
  "language_info": {
   "codemirror_mode": {
    "name": "ipython",
    "version": 3
   },
   "file_extension": ".py",
   "mimetype": "text/x-python",
   "name": "python",
   "nbconvert_exporter": "python",
   "pygments_lexer": "ipython3",
   "version": "3.12.0"
  }
 },
 "nbformat": 4,
 "nbformat_minor": 5
}
