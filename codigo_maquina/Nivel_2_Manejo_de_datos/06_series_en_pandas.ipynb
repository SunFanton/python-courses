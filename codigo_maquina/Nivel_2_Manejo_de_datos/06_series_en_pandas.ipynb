{
 "cells": [
  {
   "cell_type": "markdown",
   "id": "f9401eca-aaf9-4890-9fa4-0b715ca9425a",
   "metadata": {},
   "source": [
    "# Creación y manipulación de Series"
   ]
  },
  {
   "cell_type": "markdown",
   "id": "802bec15-5ce6-40b8-ae43-9e3a2cde744b",
   "metadata": {},
   "source": [
    "## Creación de una serie"
   ]
  },
  {
   "cell_type": "markdown",
   "id": "018d4273-36d7-4b22-84ff-cab90c217b90",
   "metadata": {},
   "source": [
    "Las series en Pandas vendrian a ser algo así como una columna de una tabla. La columna tendrá datos por un lado e indices por el otro. Los indices nos permitirán identificar a qué \"fila\" pertenece cada dato de la serie. Pandas esta construido sobre Numpy"
   ]
  },
  {
   "cell_type": "code",
   "execution_count": 2,
   "id": "eb29249d-b5cc-44e1-bb36-7dac0648d570",
   "metadata": {},
   "outputs": [],
   "source": [
    "import pandas as pd"
   ]
  },
  {
   "cell_type": "code",
   "execution_count": 1,
   "id": "7260aea8-d847-4f25-a05e-5d719bf2211d",
   "metadata": {},
   "outputs": [],
   "source": [
    "indices = [\"Juan\", \"Maria\", \"Francisco\", \"Pedro\", \"Luis\"]\n",
    "datos_lista = [40, 20, 36, 34, 20] # edad de cada persona"
   ]
  },
  {
   "cell_type": "code",
   "execution_count": 5,
   "id": "bcce3476-2aa7-474d-b134-6b330a3d1e3d",
   "metadata": {},
   "outputs": [
    {
     "data": {
      "text/plain": [
       "0    40\n",
       "1    20\n",
       "2    36\n",
       "3    34\n",
       "4    20\n",
       "dtype: int64"
      ]
     },
     "execution_count": 5,
     "metadata": {},
     "output_type": "execute_result"
    }
   ],
   "source": [
    "edades = pd.Series(datos_lista) # el indice por defecto lo coloca numericamente empezando por el indice 0\n",
    "edades"
   ]
  },
  {
   "cell_type": "code",
   "execution_count": 6,
   "id": "e855bd3d-45d1-4e9b-a0ec-ac4dc89d2ef2",
   "metadata": {},
   "outputs": [
    {
     "data": {
      "text/plain": [
       "Juan         40\n",
       "Maria        20\n",
       "Francisco    36\n",
       "Pedro        34\n",
       "Luis         20\n",
       "dtype: int64"
      ]
     },
     "execution_count": 6,
     "metadata": {},
     "output_type": "execute_result"
    }
   ],
   "source": [
    "edades = pd.Series(datos_lista, index=indices)\n",
    "edades"
   ]
  },
  {
   "cell_type": "code",
   "execution_count": 8,
   "id": "e26c09e2-a4d4-45b4-946f-0a7796cf93f2",
   "metadata": {},
   "outputs": [
    {
     "data": {
      "text/plain": [
       "Juan         40\n",
       "Maria        20\n",
       "Francisco    36\n",
       "Pedro        34\n",
       "Luis         20\n",
       "dtype: int64"
      ]
     },
     "execution_count": 8,
     "metadata": {},
     "output_type": "execute_result"
    }
   ],
   "source": [
    "datos = {\n",
    "    \"Juan\": 40, \n",
    "    \"Maria\": 20, \n",
    "    \"Francisco\": 36, \n",
    "    \"Pedro\": 34, \n",
    "    \"Luis\": 20\n",
    "}\n",
    "\n",
    "edades = pd.Series(datos) # si se crea a partir de un diccionario, ya toma cada clave del dccionario como indice\n",
    "edades"
   ]
  },
  {
   "cell_type": "markdown",
   "id": "6cc42c93-cf78-42ca-aff8-f3f5cc029763",
   "metadata": {},
   "source": [
    "## Atributos y acceso a los elementos de una Serie"
   ]
  },
  {
   "cell_type": "code",
   "execution_count": 10,
   "id": "74cbb219-36e5-410c-9a17-c291804994bc",
   "metadata": {},
   "outputs": [
    {
     "data": {
      "text/plain": [
       "(dtype('int64'),\n",
       " 5,\n",
       " Index(['Juan', 'Maria', 'Francisco', 'Pedro', 'Luis'], dtype='object'),\n",
       " array([40, 20, 36, 34, 20]))"
      ]
     },
     "execution_count": 10,
     "metadata": {},
     "output_type": "execute_result"
    }
   ],
   "source": [
    "edades.dtype, edades.size, edades.index, edades.values # igual que en numpy"
   ]
  },
  {
   "cell_type": "code",
   "execution_count": 14,
   "id": "3ee59d11-56b5-4cdb-83d5-6d4533a08df4",
   "metadata": {},
   "outputs": [
    {
     "name": "stdout",
     "output_type": "stream",
     "text": [
      "Juan -> 40\n",
      "Maria -> 20\n",
      "Francisco -> 36\n",
      "Pedro -> 34\n",
      "Luis -> 20\n"
     ]
    }
   ],
   "source": [
    "for idx, elem in zip(edades.index, edades.values):\n",
    "    print(idx, \"->\", elem)"
   ]
  },
  {
   "cell_type": "markdown",
   "id": "e1722da2-9c4a-4774-9d6d-d7ab7570629d",
   "metadata": {},
   "source": [
    "Acceder a un dato en particular con su indice:"
   ]
  },
  {
   "cell_type": "code",
   "execution_count": 16,
   "id": "f32c6c03-e856-4cb5-adc7-74fdfd054bba",
   "metadata": {},
   "outputs": [
    {
     "data": {
      "text/plain": [
       "40"
      ]
     },
     "execution_count": 16,
     "metadata": {},
     "output_type": "execute_result"
    }
   ],
   "source": [
    "edades[\"Juan\"]"
   ]
  },
  {
   "cell_type": "code",
   "execution_count": 17,
   "id": "078778a7-fe3b-4552-a119-9c25c38a93f5",
   "metadata": {},
   "outputs": [
    {
     "data": {
      "text/plain": [
       "Juan         40\n",
       "Francisco    36\n",
       "dtype: int64"
      ]
     },
     "execution_count": 17,
     "metadata": {},
     "output_type": "execute_result"
    }
   ],
   "source": [
    "edades[[\"Juan\", \"Francisco\"]]"
   ]
  },
  {
   "cell_type": "markdown",
   "id": "a106d068-c554-4f9e-878d-b54dbc76391e",
   "metadata": {},
   "source": [
    "Accediendo con indices como las listas, aunque esto esta deprecado:"
   ]
  },
  {
   "cell_type": "code",
   "execution_count": 19,
   "id": "ac842bf1-0e99-4325-aae4-f68667f26ffb",
   "metadata": {},
   "outputs": [
    {
     "name": "stderr",
     "output_type": "stream",
     "text": [
      "/var/folders/f_/3h5g_rx13336x99h7_n9bc9c0000gp/T/ipykernel_12878/3827722765.py:1: FutureWarning: Series.__getitem__ treating keys as positions is deprecated. In a future version, integer keys will always be treated as labels (consistent with DataFrame behavior). To access a value by position, use `ser.iloc[pos]`\n",
      "  edades[0], edades[0:2], edades[[0,2]]\n"
     ]
    },
    {
     "data": {
      "text/plain": [
       "(40,\n",
       " Juan     40\n",
       " Maria    20\n",
       " dtype: int64,\n",
       " Juan         40\n",
       " Francisco    36\n",
       " dtype: int64)"
      ]
     },
     "execution_count": 19,
     "metadata": {},
     "output_type": "execute_result"
    }
   ],
   "source": [
    "edades[0], edades[0:2], edades[[0,2]]"
   ]
  },
  {
   "cell_type": "markdown",
   "id": "4b2a9df2-2852-4f97-b2b6-3d54a80b4928",
   "metadata": {},
   "source": [
    "Esta es la forma mas moderna y aceptada de acceder con indices numericos como las listas:"
   ]
  },
  {
   "cell_type": "code",
   "execution_count": 22,
   "id": "0e43f1e4-54fc-42e0-8d15-00792670a826",
   "metadata": {},
   "outputs": [
    {
     "data": {
      "text/plain": [
       "(40,\n",
       " Juan     40\n",
       " Maria    20\n",
       " dtype: int64,\n",
       " Juan         40\n",
       " Francisco    36\n",
       " dtype: int64)"
      ]
     },
     "execution_count": 22,
     "metadata": {},
     "output_type": "execute_result"
    }
   ],
   "source": [
    "edades.iloc[0], edades.iloc[0:2], edades.iloc[[0, 2]]"
   ]
  },
  {
   "cell_type": "markdown",
   "id": "b2be0ebc-4d2b-4fd4-9b0c-4de62f14d233",
   "metadata": {},
   "source": [
    "## Métodos básicos comunes"
   ]
  },
  {
   "cell_type": "code",
   "execution_count": 24,
   "id": "587975e2-8792-4d22-b14f-a1a06d11e8cf",
   "metadata": {},
   "outputs": [
    {
     "data": {
      "text/plain": [
       "Juan         40\n",
       "Maria        20\n",
       "Francisco    36\n",
       "Pedro        34\n",
       "Luis         20\n",
       "dtype: int16"
      ]
     },
     "execution_count": 24,
     "metadata": {},
     "output_type": "execute_result"
    }
   ],
   "source": [
    "edades.astype(\"i2\") # cambiamos el tipo de dato a int de 2 bytes, como los tipos de numpy"
   ]
  },
  {
   "cell_type": "code",
   "execution_count": 25,
   "id": "7e29a3a0-2d32-404e-9afa-75083c0dbf1e",
   "metadata": {},
   "outputs": [
    {
     "data": {
      "text/plain": [
       "20    2\n",
       "40    1\n",
       "36    1\n",
       "34    1\n",
       "Name: count, dtype: int64"
      ]
     },
     "execution_count": 25,
     "metadata": {},
     "output_type": "execute_result"
    }
   ],
   "source": [
    "edades.value_counts() # cuenta cuantos datos hay de cada valor de la serie"
   ]
  },
  {
   "cell_type": "code",
   "execution_count": 28,
   "id": "0e26103d-558c-4856-926c-4018ec1833a9",
   "metadata": {},
   "outputs": [
    {
     "data": {
      "text/plain": [
       "Maria        20\n",
       "Luis         20\n",
       "Pedro        34\n",
       "Francisco    36\n",
       "Juan         40\n",
       "dtype: int64"
      ]
     },
     "execution_count": 28,
     "metadata": {},
     "output_type": "execute_result"
    }
   ],
   "source": [
    "edades.sort_values(inplace=True) # el parametro inplace es para indicar que ordene la serie original\n",
    "edades"
   ]
  },
  {
   "cell_type": "code",
   "execution_count": 30,
   "id": "42d6be3e-a61a-45ca-b4da-83d7a9726fcc",
   "metadata": {},
   "outputs": [
    {
     "data": {
      "text/plain": [
       "Francisco    36\n",
       "Juan         40\n",
       "Luis         20\n",
       "Maria        20\n",
       "Pedro        34\n",
       "dtype: int64"
      ]
     },
     "execution_count": 30,
     "metadata": {},
     "output_type": "execute_result"
    }
   ],
   "source": [
    "edades.sort_index(inplace=True)\n",
    "edades"
   ]
  },
  {
   "cell_type": "markdown",
   "id": "8e2229cd-712c-4208-a0f3-6605632d097d",
   "metadata": {},
   "source": [
    "## Operaciones vectoriales aritméticas + / - *"
   ]
  },
  {
   "cell_type": "code",
   "execution_count": 31,
   "id": "4dec625d-8e92-41f0-ab3e-7a18142e474e",
   "metadata": {},
   "outputs": [
    {
     "data": {
      "text/plain": [
       "Francisco    37\n",
       "Juan         41\n",
       "Luis         21\n",
       "Maria        21\n",
       "Pedro        35\n",
       "dtype: int64"
      ]
     },
     "execution_count": 31,
     "metadata": {},
     "output_type": "execute_result"
    }
   ],
   "source": [
    "edades + 1"
   ]
  },
  {
   "cell_type": "code",
   "execution_count": 32,
   "id": "7a93e6af-4217-4475-8a38-fa85255684a6",
   "metadata": {},
   "outputs": [
    {
     "data": {
      "text/plain": [
       "Francisco    34\n",
       "Juan         38\n",
       "Luis         18\n",
       "Maria        18\n",
       "Pedro        32\n",
       "dtype: int64"
      ]
     },
     "execution_count": 32,
     "metadata": {},
     "output_type": "execute_result"
    }
   ],
   "source": [
    "edades - 2"
   ]
  },
  {
   "cell_type": "code",
   "execution_count": 33,
   "id": "89cbff80-2428-4359-ab09-20f7887766ec",
   "metadata": {},
   "outputs": [
    {
     "data": {
      "text/plain": [
       "Francisco    18.0\n",
       "Juan         20.0\n",
       "Luis         10.0\n",
       "Maria        10.0\n",
       "Pedro        17.0\n",
       "dtype: float64"
      ]
     },
     "execution_count": 33,
     "metadata": {},
     "output_type": "execute_result"
    }
   ],
   "source": [
    "edades / 2"
   ]
  },
  {
   "cell_type": "code",
   "execution_count": 34,
   "id": "9a89e3f9-049d-4ccc-97b7-dfef12a6fd6c",
   "metadata": {},
   "outputs": [
    {
     "data": {
      "text/plain": [
       "Francisco    72\n",
       "Juan         80\n",
       "Luis         40\n",
       "Maria        40\n",
       "Pedro        68\n",
       "dtype: int64"
      ]
     },
     "execution_count": 34,
     "metadata": {},
     "output_type": "execute_result"
    }
   ],
   "source": [
    "edades * 2"
   ]
  },
  {
   "cell_type": "code",
   "execution_count": 35,
   "id": "c55d2a05-d550-4129-9411-95d734c864b4",
   "metadata": {},
   "outputs": [
    {
     "data": {
      "text/plain": [
       "Francisco    72\n",
       "Juan         80\n",
       "Luis         40\n",
       "Maria        40\n",
       "Pedro        68\n",
       "dtype: int64"
      ]
     },
     "execution_count": 35,
     "metadata": {},
     "output_type": "execute_result"
    }
   ],
   "source": [
    "edades + edades"
   ]
  },
  {
   "cell_type": "markdown",
   "id": "8d7659c7-65f3-4799-a2c4-8db4a7aa228b",
   "metadata": {},
   "source": [
    "## Funciones de estadística y agregación básicas"
   ]
  },
  {
   "cell_type": "code",
   "execution_count": 36,
   "id": "50a1669a-5a35-458a-8dd4-8e8c6fb38bbe",
   "metadata": {},
   "outputs": [
    {
     "data": {
      "text/plain": [
       "Francisco    36\n",
       "Juan         40\n",
       "Luis         20\n",
       "Maria        20\n",
       "Pedro        34\n",
       "dtype: int64"
      ]
     },
     "execution_count": 36,
     "metadata": {},
     "output_type": "execute_result"
    }
   ],
   "source": [
    "edades"
   ]
  },
  {
   "cell_type": "code",
   "execution_count": 44,
   "id": "0352d2f3-8836-41ba-90f7-c2310b42be2c",
   "metadata": {},
   "outputs": [
    {
     "data": {
      "text/plain": [
       "(40, 1, 20, 2)"
      ]
     },
     "execution_count": 44,
     "metadata": {},
     "output_type": "execute_result"
    }
   ],
   "source": [
    "edades.max(), edades.argmax(), edades.min(), edades.argmin()"
   ]
  },
  {
   "cell_type": "code",
   "execution_count": 39,
   "id": "518aeec5-1f76-4e01-9ca6-573a005bec71",
   "metadata": {},
   "outputs": [
    {
     "data": {
      "text/plain": [
       "150"
      ]
     },
     "execution_count": 39,
     "metadata": {},
     "output_type": "execute_result"
    }
   ],
   "source": [
    "edades.sum()"
   ]
  },
  {
   "cell_type": "code",
   "execution_count": 40,
   "id": "d096443c-649a-4fb6-821f-bff3b3cf2a36",
   "metadata": {},
   "outputs": [
    {
     "data": {
      "text/plain": [
       "0    20\n",
       "dtype: int64"
      ]
     },
     "execution_count": 40,
     "metadata": {},
     "output_type": "execute_result"
    }
   ],
   "source": [
    "edades.mode() # Moda: elemento que mas se repite dentro de nuestros datos"
   ]
  },
  {
   "cell_type": "code",
   "execution_count": 41,
   "id": "cca9c404-aae1-463f-bbf7-7fe2cf1224e0",
   "metadata": {},
   "outputs": [
    {
     "data": {
      "text/plain": [
       "30.0"
      ]
     },
     "execution_count": 41,
     "metadata": {},
     "output_type": "execute_result"
    }
   ],
   "source": [
    "edades.mean() # promedio"
   ]
  },
  {
   "cell_type": "code",
   "execution_count": 48,
   "id": "86d705c0-c1ec-429c-8429-98f944dbdb82",
   "metadata": {},
   "outputs": [
    {
     "data": {
      "text/plain": [
       "34.0"
      ]
     },
     "execution_count": 48,
     "metadata": {},
     "output_type": "execute_result"
    }
   ],
   "source": [
    "edades.median() # mediana: se ordenan los datos, y nos devuelve el dato que se encuentra en el medio de los mismos"
   ]
  },
  {
   "cell_type": "code",
   "execution_count": 47,
   "id": "c8d0b3c9-4baa-46dd-8609-59d5fb3baba1",
   "metadata": {},
   "outputs": [
    {
     "data": {
      "text/plain": [
       "9.38083151964686"
      ]
     },
     "execution_count": 47,
     "metadata": {},
     "output_type": "execute_result"
    }
   ],
   "source": [
    "edades.std()"
   ]
  },
  {
   "cell_type": "code",
   "execution_count": 45,
   "id": "279af64a-bebd-42da-96d4-fbdd55558499",
   "metadata": {},
   "outputs": [
    {
     "data": {
      "text/plain": [
       "5"
      ]
     },
     "execution_count": 45,
     "metadata": {},
     "output_type": "execute_result"
    }
   ],
   "source": [
    "edades.count() # cuenta la cantidad de elementos (en este caso nos devuelve lo mismo que edades.size)"
   ]
  },
  {
   "cell_type": "code",
   "execution_count": 49,
   "id": "ae331ac1-5dd0-41b8-85a8-b2025306db0e",
   "metadata": {},
   "outputs": [
    {
     "data": {
      "text/plain": [
       "count     5.000000\n",
       "mean     30.000000\n",
       "std       9.380832\n",
       "min      20.000000\n",
       "25%      20.000000\n",
       "50%      34.000000\n",
       "75%      36.000000\n",
       "max      40.000000\n",
       "dtype: float64"
      ]
     },
     "execution_count": 49,
     "metadata": {},
     "output_type": "execute_result"
    }
   ],
   "source": [
    "edades.describe()"
   ]
  },
  {
   "cell_type": "code",
   "execution_count": 50,
   "id": "b2ac84b8-9533-4704-b9d7-f5b8e61fa1d0",
   "metadata": {},
   "outputs": [
    {
     "data": {
      "text/plain": [
       "20.0"
      ]
     },
     "execution_count": 50,
     "metadata": {},
     "output_type": "execute_result"
    }
   ],
   "source": [
    "edades.quantile(0.25)"
   ]
  },
  {
   "cell_type": "code",
   "execution_count": 51,
   "id": "0e21435e-8f69-42d8-b27f-d10cfb4a0d68",
   "metadata": {},
   "outputs": [
    {
     "data": {
      "text/plain": [
       "34.0"
      ]
     },
     "execution_count": 51,
     "metadata": {},
     "output_type": "execute_result"
    }
   ],
   "source": [
    "edades.quantile(0.5)"
   ]
  },
  {
   "cell_type": "code",
   "execution_count": 52,
   "id": "4db0ec69-7ed8-41af-a6e9-dc01ec5ce28a",
   "metadata": {},
   "outputs": [
    {
     "data": {
      "text/plain": [
       "36.0"
      ]
     },
     "execution_count": 52,
     "metadata": {},
     "output_type": "execute_result"
    }
   ],
   "source": [
    "edades.quantile(0.75)"
   ]
  },
  {
   "cell_type": "code",
   "execution_count": 53,
   "id": "e6646c47-2170-42e0-8f90-cc1e01b5e8c3",
   "metadata": {},
   "outputs": [
    {
     "data": {
      "text/plain": [
       "<Axes: >"
      ]
     },
     "execution_count": 53,
     "metadata": {},
     "output_type": "execute_result"
    },
    {
     "data": {
      "image/png": "[encoded data removed]",
      "text/plain": [
       "<Figure size 640x480 with 1 Axes>"
      ]
     },
     "metadata": {},
     "output_type": "display_data"
    }
   ],
   "source": [
    "edades.plot()"
   ]
  },
  {
   "cell_type": "code",
   "execution_count": null,
   "id": "7646c567-cac0-403b-8c4d-89c1145bf5a7",
   "metadata": {},
   "outputs": [],
   "source": []
  }
 ],
 "metadata": {
  "kernelspec": {
   "display_name": "Python 3 (ipykernel)",
   "language": "python",
   "name": "python3"
  },
  "language_info": {
   "codemirror_mode": {
    "name": "ipython",
    "version": 3
   },
   "file_extension": ".py",
   "mimetype": "text/x-python",
   "name": "python",
   "nbconvert_exporter": "python",
   "pygments_lexer": "ipython3",
   "version": "3.12.0"
  }
 },
 "nbformat": 4,
 "nbformat_minor": 5
}
