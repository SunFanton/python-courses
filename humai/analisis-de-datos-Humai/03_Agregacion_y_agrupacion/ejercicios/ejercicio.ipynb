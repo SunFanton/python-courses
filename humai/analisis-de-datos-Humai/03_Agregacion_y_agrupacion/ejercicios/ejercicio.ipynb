{
 "cells": [
  {
   "cell_type": "markdown",
   "metadata": {
    "id": "QsJ0FUt-d26q"
   },
   "source": [
    "<a href=\"https://colab.research.google.com/github/institutohumai/cursos-python/blob/master/AnalisisDeDatos/3_Agrupacion_y_Agregacion/ejercicio/ejercicio.ipynb\"> <img src='https://colab.research.google.com/assets/colab-badge.svg' /> </a>\n",
    "<div align=\"center\"> Recordá abrir en una nueva pestaña </div>\n",
    "\n",
    "## Parte A\n",
    "Para esta parte vamos a trabajar sobre el mismo DataFrame que usamos en clase pero agrupando a nivel de comunidad autónoma (Cod_CCAA). En este caso vamos a traer también las descripciones y vamos a hacer un join para formar un único data set."
   ]
  },
  {
   "cell_type": "code",
   "execution_count": 2,
   "metadata": {
    "id": "6tETvM6wd26s"
   },
   "outputs": [
    {
     "name": "stderr",
     "output_type": "stream",
     "text": [
      "/var/folders/ph/5sq6jlj161g1_2t838crnx6c0000gp/T/ipykernel_974/2165325793.py:1: DeprecationWarning: \n",
      "Pyarrow will become a required dependency of pandas in the next major release of pandas (pandas 3.0),\n",
      "(to allow more performant data types, such as the Arrow string type, and better interoperability with other libraries)\n",
      "but was not found to be installed on your system.\n",
      "If this would cause problems for you,\n",
      "please provide us feedback at https://github.com/pandas-dev/pandas/issues/54466\n",
      "        \n",
      "  import pandas as pd\n"
     ]
    }
   ],
   "source": [
    "import pandas as pd\n",
    "import plotly.express as px"
   ]
  },
  {
   "cell_type": "code",
   "execution_count": 3,
   "metadata": {
    "id": "-MSacMDQd26t"
   },
   "outputs": [
    {
     "ename": "URLError",
     "evalue": "<urlopen error [SSL: CERTIFICATE_VERIFY_FAILED] certificate verify failed: unable to get local issuer certificate (_ssl.c:1000)>",
     "output_type": "error",
     "traceback": [
      "\u001b[0;31m---------------------------------------------------------------------------\u001b[0m",
      "\u001b[0;31mSSLCertVerificationError\u001b[0m                  Traceback (most recent call last)",
      "File \u001b[0;32m/Library/Frameworks/Python.framework/Versions/3.12/lib/python3.12/urllib/request.py:1344\u001b[0m, in \u001b[0;36mAbstractHTTPHandler.do_open\u001b[0;34m(self, http_class, req, **http_conn_args)\u001b[0m\n\u001b[1;32m   1343\u001b[0m \u001b[38;5;28;01mtry\u001b[39;00m:\n\u001b[0;32m-> 1344\u001b[0m     \u001b[43mh\u001b[49m\u001b[38;5;241;43m.\u001b[39;49m\u001b[43mrequest\u001b[49m\u001b[43m(\u001b[49m\u001b[43mreq\u001b[49m\u001b[38;5;241;43m.\u001b[39;49m\u001b[43mget_method\u001b[49m\u001b[43m(\u001b[49m\u001b[43m)\u001b[49m\u001b[43m,\u001b[49m\u001b[43m \u001b[49m\u001b[43mreq\u001b[49m\u001b[38;5;241;43m.\u001b[39;49m\u001b[43mselector\u001b[49m\u001b[43m,\u001b[49m\u001b[43m \u001b[49m\u001b[43mreq\u001b[49m\u001b[38;5;241;43m.\u001b[39;49m\u001b[43mdata\u001b[49m\u001b[43m,\u001b[49m\u001b[43m \u001b[49m\u001b[43mheaders\u001b[49m\u001b[43m,\u001b[49m\n\u001b[1;32m   1345\u001b[0m \u001b[43m              \u001b[49m\u001b[43mencode_chunked\u001b[49m\u001b[38;5;241;43m=\u001b[39;49m\u001b[43mreq\u001b[49m\u001b[38;5;241;43m.\u001b[39;49m\u001b[43mhas_header\u001b[49m\u001b[43m(\u001b[49m\u001b[38;5;124;43m'\u001b[39;49m\u001b[38;5;124;43mTransfer-encoding\u001b[39;49m\u001b[38;5;124;43m'\u001b[39;49m\u001b[43m)\u001b[49m\u001b[43m)\u001b[49m\n\u001b[1;32m   1346\u001b[0m \u001b[38;5;28;01mexcept\u001b[39;00m \u001b[38;5;167;01mOSError\u001b[39;00m \u001b[38;5;28;01mas\u001b[39;00m err: \u001b[38;5;66;03m# timeout error\u001b[39;00m\n",
      "File \u001b[0;32m/Library/Frameworks/Python.framework/Versions/3.12/lib/python3.12/http/client.py:1319\u001b[0m, in \u001b[0;36mHTTPConnection.request\u001b[0;34m(self, method, url, body, headers, encode_chunked)\u001b[0m\n\u001b[1;32m   1318\u001b[0m \u001b[38;5;250m\u001b[39m\u001b[38;5;124;03m\"\"\"Send a complete request to the server.\"\"\"\u001b[39;00m\n\u001b[0;32m-> 1319\u001b[0m \u001b[38;5;28;43mself\u001b[39;49m\u001b[38;5;241;43m.\u001b[39;49m\u001b[43m_send_request\u001b[49m\u001b[43m(\u001b[49m\u001b[43mmethod\u001b[49m\u001b[43m,\u001b[49m\u001b[43m \u001b[49m\u001b[43murl\u001b[49m\u001b[43m,\u001b[49m\u001b[43m \u001b[49m\u001b[43mbody\u001b[49m\u001b[43m,\u001b[49m\u001b[43m \u001b[49m\u001b[43mheaders\u001b[49m\u001b[43m,\u001b[49m\u001b[43m \u001b[49m\u001b[43mencode_chunked\u001b[49m\u001b[43m)\u001b[49m\n",
      "File \u001b[0;32m/Library/Frameworks/Python.framework/Versions/3.12/lib/python3.12/http/client.py:1365\u001b[0m, in \u001b[0;36mHTTPConnection._send_request\u001b[0;34m(self, method, url, body, headers, encode_chunked)\u001b[0m\n\u001b[1;32m   1364\u001b[0m     body \u001b[38;5;241m=\u001b[39m _encode(body, \u001b[38;5;124m'\u001b[39m\u001b[38;5;124mbody\u001b[39m\u001b[38;5;124m'\u001b[39m)\n\u001b[0;32m-> 1365\u001b[0m \u001b[38;5;28;43mself\u001b[39;49m\u001b[38;5;241;43m.\u001b[39;49m\u001b[43mendheaders\u001b[49m\u001b[43m(\u001b[49m\u001b[43mbody\u001b[49m\u001b[43m,\u001b[49m\u001b[43m \u001b[49m\u001b[43mencode_chunked\u001b[49m\u001b[38;5;241;43m=\u001b[39;49m\u001b[43mencode_chunked\u001b[49m\u001b[43m)\u001b[49m\n",
      "File \u001b[0;32m/Library/Frameworks/Python.framework/Versions/3.12/lib/python3.12/http/client.py:1314\u001b[0m, in \u001b[0;36mHTTPConnection.endheaders\u001b[0;34m(self, message_body, encode_chunked)\u001b[0m\n\u001b[1;32m   1313\u001b[0m     \u001b[38;5;28;01mraise\u001b[39;00m CannotSendHeader()\n\u001b[0;32m-> 1314\u001b[0m \u001b[38;5;28;43mself\u001b[39;49m\u001b[38;5;241;43m.\u001b[39;49m\u001b[43m_send_output\u001b[49m\u001b[43m(\u001b[49m\u001b[43mmessage_body\u001b[49m\u001b[43m,\u001b[49m\u001b[43m \u001b[49m\u001b[43mencode_chunked\u001b[49m\u001b[38;5;241;43m=\u001b[39;49m\u001b[43mencode_chunked\u001b[49m\u001b[43m)\u001b[49m\n",
      "File \u001b[0;32m/Library/Frameworks/Python.framework/Versions/3.12/lib/python3.12/http/client.py:1074\u001b[0m, in \u001b[0;36mHTTPConnection._send_output\u001b[0;34m(self, message_body, encode_chunked)\u001b[0m\n\u001b[1;32m   1073\u001b[0m \u001b[38;5;28;01mdel\u001b[39;00m \u001b[38;5;28mself\u001b[39m\u001b[38;5;241m.\u001b[39m_buffer[:]\n\u001b[0;32m-> 1074\u001b[0m \u001b[38;5;28;43mself\u001b[39;49m\u001b[38;5;241;43m.\u001b[39;49m\u001b[43msend\u001b[49m\u001b[43m(\u001b[49m\u001b[43mmsg\u001b[49m\u001b[43m)\u001b[49m\n\u001b[1;32m   1076\u001b[0m \u001b[38;5;28;01mif\u001b[39;00m message_body \u001b[38;5;129;01mis\u001b[39;00m \u001b[38;5;129;01mnot\u001b[39;00m \u001b[38;5;28;01mNone\u001b[39;00m:\n\u001b[1;32m   1077\u001b[0m \n\u001b[1;32m   1078\u001b[0m     \u001b[38;5;66;03m# create a consistent interface to message_body\u001b[39;00m\n",
      "File \u001b[0;32m/Library/Frameworks/Python.framework/Versions/3.12/lib/python3.12/http/client.py:1018\u001b[0m, in \u001b[0;36mHTTPConnection.send\u001b[0;34m(self, data)\u001b[0m\n\u001b[1;32m   1017\u001b[0m \u001b[38;5;28;01mif\u001b[39;00m \u001b[38;5;28mself\u001b[39m\u001b[38;5;241m.\u001b[39mauto_open:\n\u001b[0;32m-> 1018\u001b[0m     \u001b[38;5;28;43mself\u001b[39;49m\u001b[38;5;241;43m.\u001b[39;49m\u001b[43mconnect\u001b[49m\u001b[43m(\u001b[49m\u001b[43m)\u001b[49m\n\u001b[1;32m   1019\u001b[0m \u001b[38;5;28;01melse\u001b[39;00m:\n",
      "File \u001b[0;32m/Library/Frameworks/Python.framework/Versions/3.12/lib/python3.12/http/client.py:1460\u001b[0m, in \u001b[0;36mHTTPSConnection.connect\u001b[0;34m(self)\u001b[0m\n\u001b[1;32m   1458\u001b[0m     server_hostname \u001b[38;5;241m=\u001b[39m \u001b[38;5;28mself\u001b[39m\u001b[38;5;241m.\u001b[39mhost\n\u001b[0;32m-> 1460\u001b[0m \u001b[38;5;28mself\u001b[39m\u001b[38;5;241m.\u001b[39msock \u001b[38;5;241m=\u001b[39m \u001b[38;5;28;43mself\u001b[39;49m\u001b[38;5;241;43m.\u001b[39;49m\u001b[43m_context\u001b[49m\u001b[38;5;241;43m.\u001b[39;49m\u001b[43mwrap_socket\u001b[49m\u001b[43m(\u001b[49m\u001b[38;5;28;43mself\u001b[39;49m\u001b[38;5;241;43m.\u001b[39;49m\u001b[43msock\u001b[49m\u001b[43m,\u001b[49m\n\u001b[1;32m   1461\u001b[0m \u001b[43m                                      \u001b[49m\u001b[43mserver_hostname\u001b[49m\u001b[38;5;241;43m=\u001b[39;49m\u001b[43mserver_hostname\u001b[49m\u001b[43m)\u001b[49m\n",
      "File \u001b[0;32m/Library/Frameworks/Python.framework/Versions/3.12/lib/python3.12/ssl.py:455\u001b[0m, in \u001b[0;36mSSLContext.wrap_socket\u001b[0;34m(self, sock, server_side, do_handshake_on_connect, suppress_ragged_eofs, server_hostname, session)\u001b[0m\n\u001b[1;32m    449\u001b[0m \u001b[38;5;28;01mdef\u001b[39;00m \u001b[38;5;21mwrap_socket\u001b[39m(\u001b[38;5;28mself\u001b[39m, sock, server_side\u001b[38;5;241m=\u001b[39m\u001b[38;5;28;01mFalse\u001b[39;00m,\n\u001b[1;32m    450\u001b[0m                 do_handshake_on_connect\u001b[38;5;241m=\u001b[39m\u001b[38;5;28;01mTrue\u001b[39;00m,\n\u001b[1;32m    451\u001b[0m                 suppress_ragged_eofs\u001b[38;5;241m=\u001b[39m\u001b[38;5;28;01mTrue\u001b[39;00m,\n\u001b[1;32m    452\u001b[0m                 server_hostname\u001b[38;5;241m=\u001b[39m\u001b[38;5;28;01mNone\u001b[39;00m, session\u001b[38;5;241m=\u001b[39m\u001b[38;5;28;01mNone\u001b[39;00m):\n\u001b[1;32m    453\u001b[0m     \u001b[38;5;66;03m# SSLSocket class handles server_hostname encoding before it calls\u001b[39;00m\n\u001b[1;32m    454\u001b[0m     \u001b[38;5;66;03m# ctx._wrap_socket()\u001b[39;00m\n\u001b[0;32m--> 455\u001b[0m     \u001b[38;5;28;01mreturn\u001b[39;00m \u001b[38;5;28;43mself\u001b[39;49m\u001b[38;5;241;43m.\u001b[39;49m\u001b[43msslsocket_class\u001b[49m\u001b[38;5;241;43m.\u001b[39;49m\u001b[43m_create\u001b[49m\u001b[43m(\u001b[49m\n\u001b[1;32m    456\u001b[0m \u001b[43m        \u001b[49m\u001b[43msock\u001b[49m\u001b[38;5;241;43m=\u001b[39;49m\u001b[43msock\u001b[49m\u001b[43m,\u001b[49m\n\u001b[1;32m    457\u001b[0m \u001b[43m        \u001b[49m\u001b[43mserver_side\u001b[49m\u001b[38;5;241;43m=\u001b[39;49m\u001b[43mserver_side\u001b[49m\u001b[43m,\u001b[49m\n\u001b[1;32m    458\u001b[0m \u001b[43m        \u001b[49m\u001b[43mdo_handshake_on_connect\u001b[49m\u001b[38;5;241;43m=\u001b[39;49m\u001b[43mdo_handshake_on_connect\u001b[49m\u001b[43m,\u001b[49m\n\u001b[1;32m    459\u001b[0m \u001b[43m        \u001b[49m\u001b[43msuppress_ragged_eofs\u001b[49m\u001b[38;5;241;43m=\u001b[39;49m\u001b[43msuppress_ragged_eofs\u001b[49m\u001b[43m,\u001b[49m\n\u001b[1;32m    460\u001b[0m \u001b[43m        \u001b[49m\u001b[43mserver_hostname\u001b[49m\u001b[38;5;241;43m=\u001b[39;49m\u001b[43mserver_hostname\u001b[49m\u001b[43m,\u001b[49m\n\u001b[1;32m    461\u001b[0m \u001b[43m        \u001b[49m\u001b[43mcontext\u001b[49m\u001b[38;5;241;43m=\u001b[39;49m\u001b[38;5;28;43mself\u001b[39;49m\u001b[43m,\u001b[49m\n\u001b[1;32m    462\u001b[0m \u001b[43m        \u001b[49m\u001b[43msession\u001b[49m\u001b[38;5;241;43m=\u001b[39;49m\u001b[43msession\u001b[49m\n\u001b[1;32m    463\u001b[0m \u001b[43m    \u001b[49m\u001b[43m)\u001b[49m\n",
      "File \u001b[0;32m/Library/Frameworks/Python.framework/Versions/3.12/lib/python3.12/ssl.py:1046\u001b[0m, in \u001b[0;36mSSLSocket._create\u001b[0;34m(cls, sock, server_side, do_handshake_on_connect, suppress_ragged_eofs, server_hostname, context, session)\u001b[0m\n\u001b[1;32m   1045\u001b[0m             \u001b[38;5;28;01mraise\u001b[39;00m \u001b[38;5;167;01mValueError\u001b[39;00m(\u001b[38;5;124m\"\u001b[39m\u001b[38;5;124mdo_handshake_on_connect should not be specified for non-blocking sockets\u001b[39m\u001b[38;5;124m\"\u001b[39m)\n\u001b[0;32m-> 1046\u001b[0m         \u001b[38;5;28;43mself\u001b[39;49m\u001b[38;5;241;43m.\u001b[39;49m\u001b[43mdo_handshake\u001b[49m\u001b[43m(\u001b[49m\u001b[43m)\u001b[49m\n\u001b[1;32m   1047\u001b[0m \u001b[38;5;28;01mexcept\u001b[39;00m (\u001b[38;5;167;01mOSError\u001b[39;00m, \u001b[38;5;167;01mValueError\u001b[39;00m):\n",
      "File \u001b[0;32m/Library/Frameworks/Python.framework/Versions/3.12/lib/python3.12/ssl.py:1317\u001b[0m, in \u001b[0;36mSSLSocket.do_handshake\u001b[0;34m(self, block)\u001b[0m\n\u001b[1;32m   1316\u001b[0m         \u001b[38;5;28mself\u001b[39m\u001b[38;5;241m.\u001b[39msettimeout(\u001b[38;5;28;01mNone\u001b[39;00m)\n\u001b[0;32m-> 1317\u001b[0m     \u001b[38;5;28;43mself\u001b[39;49m\u001b[38;5;241;43m.\u001b[39;49m\u001b[43m_sslobj\u001b[49m\u001b[38;5;241;43m.\u001b[39;49m\u001b[43mdo_handshake\u001b[49m\u001b[43m(\u001b[49m\u001b[43m)\u001b[49m\n\u001b[1;32m   1318\u001b[0m \u001b[38;5;28;01mfinally\u001b[39;00m:\n",
      "\u001b[0;31mSSLCertVerificationError\u001b[0m: [SSL: CERTIFICATE_VERIFY_FAILED] certificate verify failed: unable to get local issuer certificate (_ssl.c:1000)",
      "\nDuring handling of the above exception, another exception occurred:\n",
      "\u001b[0;31mURLError\u001b[0m                                  Traceback (most recent call last)",
      "Cell \u001b[0;32mIn[3], line 1\u001b[0m\n\u001b[0;32m----> 1\u001b[0m df \u001b[38;5;241m=\u001b[39m \u001b[43mpd\u001b[49m\u001b[38;5;241;43m.\u001b[39;49m\u001b[43mread_csv\u001b[49m\u001b[43m(\u001b[49m\u001b[38;5;124;43m'\u001b[39;49m\u001b[38;5;124;43mhttps://datasets-humai.s3.amazonaws.com/datasets/parodesprov.csv\u001b[39;49m\u001b[38;5;124;43m'\u001b[39;49m\u001b[43m)\u001b[49m\n",
      "File \u001b[0;32m~/Library/Python/3.12/lib/python/site-packages/pandas/io/parsers/readers.py:1024\u001b[0m, in \u001b[0;36mread_csv\u001b[0;34m(filepath_or_buffer, sep, delimiter, header, names, index_col, usecols, dtype, engine, converters, true_values, false_values, skipinitialspace, skiprows, skipfooter, nrows, na_values, keep_default_na, na_filter, verbose, skip_blank_lines, parse_dates, infer_datetime_format, keep_date_col, date_parser, date_format, dayfirst, cache_dates, iterator, chunksize, compression, thousands, decimal, lineterminator, quotechar, quoting, doublequote, escapechar, comment, encoding, encoding_errors, dialect, on_bad_lines, delim_whitespace, low_memory, memory_map, float_precision, storage_options, dtype_backend)\u001b[0m\n\u001b[1;32m   1011\u001b[0m kwds_defaults \u001b[38;5;241m=\u001b[39m _refine_defaults_read(\n\u001b[1;32m   1012\u001b[0m     dialect,\n\u001b[1;32m   1013\u001b[0m     delimiter,\n\u001b[0;32m   (...)\u001b[0m\n\u001b[1;32m   1020\u001b[0m     dtype_backend\u001b[38;5;241m=\u001b[39mdtype_backend,\n\u001b[1;32m   1021\u001b[0m )\n\u001b[1;32m   1022\u001b[0m kwds\u001b[38;5;241m.\u001b[39mupdate(kwds_defaults)\n\u001b[0;32m-> 1024\u001b[0m \u001b[38;5;28;01mreturn\u001b[39;00m \u001b[43m_read\u001b[49m\u001b[43m(\u001b[49m\u001b[43mfilepath_or_buffer\u001b[49m\u001b[43m,\u001b[49m\u001b[43m \u001b[49m\u001b[43mkwds\u001b[49m\u001b[43m)\u001b[49m\n",
      "File \u001b[0;32m~/Library/Python/3.12/lib/python/site-packages/pandas/io/parsers/readers.py:618\u001b[0m, in \u001b[0;36m_read\u001b[0;34m(filepath_or_buffer, kwds)\u001b[0m\n\u001b[1;32m    615\u001b[0m _validate_names(kwds\u001b[38;5;241m.\u001b[39mget(\u001b[38;5;124m\"\u001b[39m\u001b[38;5;124mnames\u001b[39m\u001b[38;5;124m\"\u001b[39m, \u001b[38;5;28;01mNone\u001b[39;00m))\n\u001b[1;32m    617\u001b[0m \u001b[38;5;66;03m# Create the parser.\u001b[39;00m\n\u001b[0;32m--> 618\u001b[0m parser \u001b[38;5;241m=\u001b[39m \u001b[43mTextFileReader\u001b[49m\u001b[43m(\u001b[49m\u001b[43mfilepath_or_buffer\u001b[49m\u001b[43m,\u001b[49m\u001b[43m \u001b[49m\u001b[38;5;241;43m*\u001b[39;49m\u001b[38;5;241;43m*\u001b[39;49m\u001b[43mkwds\u001b[49m\u001b[43m)\u001b[49m\n\u001b[1;32m    620\u001b[0m \u001b[38;5;28;01mif\u001b[39;00m chunksize \u001b[38;5;129;01mor\u001b[39;00m iterator:\n\u001b[1;32m    621\u001b[0m     \u001b[38;5;28;01mreturn\u001b[39;00m parser\n",
      "File \u001b[0;32m~/Library/Python/3.12/lib/python/site-packages/pandas/io/parsers/readers.py:1618\u001b[0m, in \u001b[0;36mTextFileReader.__init__\u001b[0;34m(self, f, engine, **kwds)\u001b[0m\n\u001b[1;32m   1615\u001b[0m     \u001b[38;5;28mself\u001b[39m\u001b[38;5;241m.\u001b[39moptions[\u001b[38;5;124m\"\u001b[39m\u001b[38;5;124mhas_index_names\u001b[39m\u001b[38;5;124m\"\u001b[39m] \u001b[38;5;241m=\u001b[39m kwds[\u001b[38;5;124m\"\u001b[39m\u001b[38;5;124mhas_index_names\u001b[39m\u001b[38;5;124m\"\u001b[39m]\n\u001b[1;32m   1617\u001b[0m \u001b[38;5;28mself\u001b[39m\u001b[38;5;241m.\u001b[39mhandles: IOHandles \u001b[38;5;241m|\u001b[39m \u001b[38;5;28;01mNone\u001b[39;00m \u001b[38;5;241m=\u001b[39m \u001b[38;5;28;01mNone\u001b[39;00m\n\u001b[0;32m-> 1618\u001b[0m \u001b[38;5;28mself\u001b[39m\u001b[38;5;241m.\u001b[39m_engine \u001b[38;5;241m=\u001b[39m \u001b[38;5;28;43mself\u001b[39;49m\u001b[38;5;241;43m.\u001b[39;49m\u001b[43m_make_engine\u001b[49m\u001b[43m(\u001b[49m\u001b[43mf\u001b[49m\u001b[43m,\u001b[49m\u001b[43m \u001b[49m\u001b[38;5;28;43mself\u001b[39;49m\u001b[38;5;241;43m.\u001b[39;49m\u001b[43mengine\u001b[49m\u001b[43m)\u001b[49m\n",
      "File \u001b[0;32m~/Library/Python/3.12/lib/python/site-packages/pandas/io/parsers/readers.py:1878\u001b[0m, in \u001b[0;36mTextFileReader._make_engine\u001b[0;34m(self, f, engine)\u001b[0m\n\u001b[1;32m   1876\u001b[0m     \u001b[38;5;28;01mif\u001b[39;00m \u001b[38;5;124m\"\u001b[39m\u001b[38;5;124mb\u001b[39m\u001b[38;5;124m\"\u001b[39m \u001b[38;5;129;01mnot\u001b[39;00m \u001b[38;5;129;01min\u001b[39;00m mode:\n\u001b[1;32m   1877\u001b[0m         mode \u001b[38;5;241m+\u001b[39m\u001b[38;5;241m=\u001b[39m \u001b[38;5;124m\"\u001b[39m\u001b[38;5;124mb\u001b[39m\u001b[38;5;124m\"\u001b[39m\n\u001b[0;32m-> 1878\u001b[0m \u001b[38;5;28mself\u001b[39m\u001b[38;5;241m.\u001b[39mhandles \u001b[38;5;241m=\u001b[39m \u001b[43mget_handle\u001b[49m\u001b[43m(\u001b[49m\n\u001b[1;32m   1879\u001b[0m \u001b[43m    \u001b[49m\u001b[43mf\u001b[49m\u001b[43m,\u001b[49m\n\u001b[1;32m   1880\u001b[0m \u001b[43m    \u001b[49m\u001b[43mmode\u001b[49m\u001b[43m,\u001b[49m\n\u001b[1;32m   1881\u001b[0m \u001b[43m    \u001b[49m\u001b[43mencoding\u001b[49m\u001b[38;5;241;43m=\u001b[39;49m\u001b[38;5;28;43mself\u001b[39;49m\u001b[38;5;241;43m.\u001b[39;49m\u001b[43moptions\u001b[49m\u001b[38;5;241;43m.\u001b[39;49m\u001b[43mget\u001b[49m\u001b[43m(\u001b[49m\u001b[38;5;124;43m\"\u001b[39;49m\u001b[38;5;124;43mencoding\u001b[39;49m\u001b[38;5;124;43m\"\u001b[39;49m\u001b[43m,\u001b[49m\u001b[43m \u001b[49m\u001b[38;5;28;43;01mNone\u001b[39;49;00m\u001b[43m)\u001b[49m\u001b[43m,\u001b[49m\n\u001b[1;32m   1882\u001b[0m \u001b[43m    \u001b[49m\u001b[43mcompression\u001b[49m\u001b[38;5;241;43m=\u001b[39;49m\u001b[38;5;28;43mself\u001b[39;49m\u001b[38;5;241;43m.\u001b[39;49m\u001b[43moptions\u001b[49m\u001b[38;5;241;43m.\u001b[39;49m\u001b[43mget\u001b[49m\u001b[43m(\u001b[49m\u001b[38;5;124;43m\"\u001b[39;49m\u001b[38;5;124;43mcompression\u001b[39;49m\u001b[38;5;124;43m\"\u001b[39;49m\u001b[43m,\u001b[49m\u001b[43m \u001b[49m\u001b[38;5;28;43;01mNone\u001b[39;49;00m\u001b[43m)\u001b[49m\u001b[43m,\u001b[49m\n\u001b[1;32m   1883\u001b[0m \u001b[43m    \u001b[49m\u001b[43mmemory_map\u001b[49m\u001b[38;5;241;43m=\u001b[39;49m\u001b[38;5;28;43mself\u001b[39;49m\u001b[38;5;241;43m.\u001b[39;49m\u001b[43moptions\u001b[49m\u001b[38;5;241;43m.\u001b[39;49m\u001b[43mget\u001b[49m\u001b[43m(\u001b[49m\u001b[38;5;124;43m\"\u001b[39;49m\u001b[38;5;124;43mmemory_map\u001b[39;49m\u001b[38;5;124;43m\"\u001b[39;49m\u001b[43m,\u001b[49m\u001b[43m \u001b[49m\u001b[38;5;28;43;01mFalse\u001b[39;49;00m\u001b[43m)\u001b[49m\u001b[43m,\u001b[49m\n\u001b[1;32m   1884\u001b[0m \u001b[43m    \u001b[49m\u001b[43mis_text\u001b[49m\u001b[38;5;241;43m=\u001b[39;49m\u001b[43mis_text\u001b[49m\u001b[43m,\u001b[49m\n\u001b[1;32m   1885\u001b[0m \u001b[43m    \u001b[49m\u001b[43merrors\u001b[49m\u001b[38;5;241;43m=\u001b[39;49m\u001b[38;5;28;43mself\u001b[39;49m\u001b[38;5;241;43m.\u001b[39;49m\u001b[43moptions\u001b[49m\u001b[38;5;241;43m.\u001b[39;49m\u001b[43mget\u001b[49m\u001b[43m(\u001b[49m\u001b[38;5;124;43m\"\u001b[39;49m\u001b[38;5;124;43mencoding_errors\u001b[39;49m\u001b[38;5;124;43m\"\u001b[39;49m\u001b[43m,\u001b[49m\u001b[43m \u001b[49m\u001b[38;5;124;43m\"\u001b[39;49m\u001b[38;5;124;43mstrict\u001b[39;49m\u001b[38;5;124;43m\"\u001b[39;49m\u001b[43m)\u001b[49m\u001b[43m,\u001b[49m\n\u001b[1;32m   1886\u001b[0m \u001b[43m    \u001b[49m\u001b[43mstorage_options\u001b[49m\u001b[38;5;241;43m=\u001b[39;49m\u001b[38;5;28;43mself\u001b[39;49m\u001b[38;5;241;43m.\u001b[39;49m\u001b[43moptions\u001b[49m\u001b[38;5;241;43m.\u001b[39;49m\u001b[43mget\u001b[49m\u001b[43m(\u001b[49m\u001b[38;5;124;43m\"\u001b[39;49m\u001b[38;5;124;43mstorage_options\u001b[39;49m\u001b[38;5;124;43m\"\u001b[39;49m\u001b[43m,\u001b[49m\u001b[43m \u001b[49m\u001b[38;5;28;43;01mNone\u001b[39;49;00m\u001b[43m)\u001b[49m\u001b[43m,\u001b[49m\n\u001b[1;32m   1887\u001b[0m \u001b[43m\u001b[49m\u001b[43m)\u001b[49m\n\u001b[1;32m   1888\u001b[0m \u001b[38;5;28;01massert\u001b[39;00m \u001b[38;5;28mself\u001b[39m\u001b[38;5;241m.\u001b[39mhandles \u001b[38;5;129;01mis\u001b[39;00m \u001b[38;5;129;01mnot\u001b[39;00m \u001b[38;5;28;01mNone\u001b[39;00m\n\u001b[1;32m   1889\u001b[0m f \u001b[38;5;241m=\u001b[39m \u001b[38;5;28mself\u001b[39m\u001b[38;5;241m.\u001b[39mhandles\u001b[38;5;241m.\u001b[39mhandle\n",
      "File \u001b[0;32m~/Library/Python/3.12/lib/python/site-packages/pandas/io/common.py:728\u001b[0m, in \u001b[0;36mget_handle\u001b[0;34m(path_or_buf, mode, encoding, compression, memory_map, is_text, errors, storage_options)\u001b[0m\n\u001b[1;32m    725\u001b[0m     codecs\u001b[38;5;241m.\u001b[39mlookup_error(errors)\n\u001b[1;32m    727\u001b[0m \u001b[38;5;66;03m# open URLs\u001b[39;00m\n\u001b[0;32m--> 728\u001b[0m ioargs \u001b[38;5;241m=\u001b[39m \u001b[43m_get_filepath_or_buffer\u001b[49m\u001b[43m(\u001b[49m\n\u001b[1;32m    729\u001b[0m \u001b[43m    \u001b[49m\u001b[43mpath_or_buf\u001b[49m\u001b[43m,\u001b[49m\n\u001b[1;32m    730\u001b[0m \u001b[43m    \u001b[49m\u001b[43mencoding\u001b[49m\u001b[38;5;241;43m=\u001b[39;49m\u001b[43mencoding\u001b[49m\u001b[43m,\u001b[49m\n\u001b[1;32m    731\u001b[0m \u001b[43m    \u001b[49m\u001b[43mcompression\u001b[49m\u001b[38;5;241;43m=\u001b[39;49m\u001b[43mcompression\u001b[49m\u001b[43m,\u001b[49m\n\u001b[1;32m    732\u001b[0m \u001b[43m    \u001b[49m\u001b[43mmode\u001b[49m\u001b[38;5;241;43m=\u001b[39;49m\u001b[43mmode\u001b[49m\u001b[43m,\u001b[49m\n\u001b[1;32m    733\u001b[0m \u001b[43m    \u001b[49m\u001b[43mstorage_options\u001b[49m\u001b[38;5;241;43m=\u001b[39;49m\u001b[43mstorage_options\u001b[49m\u001b[43m,\u001b[49m\n\u001b[1;32m    734\u001b[0m \u001b[43m\u001b[49m\u001b[43m)\u001b[49m\n\u001b[1;32m    736\u001b[0m handle \u001b[38;5;241m=\u001b[39m ioargs\u001b[38;5;241m.\u001b[39mfilepath_or_buffer\n\u001b[1;32m    737\u001b[0m handles: \u001b[38;5;28mlist\u001b[39m[BaseBuffer]\n",
      "File \u001b[0;32m~/Library/Python/3.12/lib/python/site-packages/pandas/io/common.py:384\u001b[0m, in \u001b[0;36m_get_filepath_or_buffer\u001b[0;34m(filepath_or_buffer, encoding, compression, mode, storage_options)\u001b[0m\n\u001b[1;32m    382\u001b[0m \u001b[38;5;66;03m# assuming storage_options is to be interpreted as headers\u001b[39;00m\n\u001b[1;32m    383\u001b[0m req_info \u001b[38;5;241m=\u001b[39m urllib\u001b[38;5;241m.\u001b[39mrequest\u001b[38;5;241m.\u001b[39mRequest(filepath_or_buffer, headers\u001b[38;5;241m=\u001b[39mstorage_options)\n\u001b[0;32m--> 384\u001b[0m \u001b[38;5;28;01mwith\u001b[39;00m \u001b[43murlopen\u001b[49m\u001b[43m(\u001b[49m\u001b[43mreq_info\u001b[49m\u001b[43m)\u001b[49m \u001b[38;5;28;01mas\u001b[39;00m req:\n\u001b[1;32m    385\u001b[0m     content_encoding \u001b[38;5;241m=\u001b[39m req\u001b[38;5;241m.\u001b[39mheaders\u001b[38;5;241m.\u001b[39mget(\u001b[38;5;124m\"\u001b[39m\u001b[38;5;124mContent-Encoding\u001b[39m\u001b[38;5;124m\"\u001b[39m, \u001b[38;5;28;01mNone\u001b[39;00m)\n\u001b[1;32m    386\u001b[0m     \u001b[38;5;28;01mif\u001b[39;00m content_encoding \u001b[38;5;241m==\u001b[39m \u001b[38;5;124m\"\u001b[39m\u001b[38;5;124mgzip\u001b[39m\u001b[38;5;124m\"\u001b[39m:\n\u001b[1;32m    387\u001b[0m         \u001b[38;5;66;03m# Override compression based on Content-Encoding header\u001b[39;00m\n",
      "File \u001b[0;32m~/Library/Python/3.12/lib/python/site-packages/pandas/io/common.py:289\u001b[0m, in \u001b[0;36murlopen\u001b[0;34m(*args, **kwargs)\u001b[0m\n\u001b[1;32m    283\u001b[0m \u001b[38;5;250m\u001b[39m\u001b[38;5;124;03m\"\"\"\u001b[39;00m\n\u001b[1;32m    284\u001b[0m \u001b[38;5;124;03mLazy-import wrapper for stdlib urlopen, as that imports a big chunk of\u001b[39;00m\n\u001b[1;32m    285\u001b[0m \u001b[38;5;124;03mthe stdlib.\u001b[39;00m\n\u001b[1;32m    286\u001b[0m \u001b[38;5;124;03m\"\"\"\u001b[39;00m\n\u001b[1;32m    287\u001b[0m \u001b[38;5;28;01mimport\u001b[39;00m \u001b[38;5;21;01murllib\u001b[39;00m\u001b[38;5;21;01m.\u001b[39;00m\u001b[38;5;21;01mrequest\u001b[39;00m\n\u001b[0;32m--> 289\u001b[0m \u001b[38;5;28;01mreturn\u001b[39;00m \u001b[43murllib\u001b[49m\u001b[38;5;241;43m.\u001b[39;49m\u001b[43mrequest\u001b[49m\u001b[38;5;241;43m.\u001b[39;49m\u001b[43murlopen\u001b[49m\u001b[43m(\u001b[49m\u001b[38;5;241;43m*\u001b[39;49m\u001b[43margs\u001b[49m\u001b[43m,\u001b[49m\u001b[43m \u001b[49m\u001b[38;5;241;43m*\u001b[39;49m\u001b[38;5;241;43m*\u001b[39;49m\u001b[43mkwargs\u001b[49m\u001b[43m)\u001b[49m\n",
      "File \u001b[0;32m/Library/Frameworks/Python.framework/Versions/3.12/lib/python3.12/urllib/request.py:215\u001b[0m, in \u001b[0;36murlopen\u001b[0;34m(url, data, timeout, cafile, capath, cadefault, context)\u001b[0m\n\u001b[1;32m    213\u001b[0m \u001b[38;5;28;01melse\u001b[39;00m:\n\u001b[1;32m    214\u001b[0m     opener \u001b[38;5;241m=\u001b[39m _opener\n\u001b[0;32m--> 215\u001b[0m \u001b[38;5;28;01mreturn\u001b[39;00m \u001b[43mopener\u001b[49m\u001b[38;5;241;43m.\u001b[39;49m\u001b[43mopen\u001b[49m\u001b[43m(\u001b[49m\u001b[43murl\u001b[49m\u001b[43m,\u001b[49m\u001b[43m \u001b[49m\u001b[43mdata\u001b[49m\u001b[43m,\u001b[49m\u001b[43m \u001b[49m\u001b[43mtimeout\u001b[49m\u001b[43m)\u001b[49m\n",
      "File \u001b[0;32m/Library/Frameworks/Python.framework/Versions/3.12/lib/python3.12/urllib/request.py:515\u001b[0m, in \u001b[0;36mOpenerDirector.open\u001b[0;34m(self, fullurl, data, timeout)\u001b[0m\n\u001b[1;32m    512\u001b[0m     req \u001b[38;5;241m=\u001b[39m meth(req)\n\u001b[1;32m    514\u001b[0m sys\u001b[38;5;241m.\u001b[39maudit(\u001b[38;5;124m'\u001b[39m\u001b[38;5;124murllib.Request\u001b[39m\u001b[38;5;124m'\u001b[39m, req\u001b[38;5;241m.\u001b[39mfull_url, req\u001b[38;5;241m.\u001b[39mdata, req\u001b[38;5;241m.\u001b[39mheaders, req\u001b[38;5;241m.\u001b[39mget_method())\n\u001b[0;32m--> 515\u001b[0m response \u001b[38;5;241m=\u001b[39m \u001b[38;5;28;43mself\u001b[39;49m\u001b[38;5;241;43m.\u001b[39;49m\u001b[43m_open\u001b[49m\u001b[43m(\u001b[49m\u001b[43mreq\u001b[49m\u001b[43m,\u001b[49m\u001b[43m \u001b[49m\u001b[43mdata\u001b[49m\u001b[43m)\u001b[49m\n\u001b[1;32m    517\u001b[0m \u001b[38;5;66;03m# post-process response\u001b[39;00m\n\u001b[1;32m    518\u001b[0m meth_name \u001b[38;5;241m=\u001b[39m protocol\u001b[38;5;241m+\u001b[39m\u001b[38;5;124m\"\u001b[39m\u001b[38;5;124m_response\u001b[39m\u001b[38;5;124m\"\u001b[39m\n",
      "File \u001b[0;32m/Library/Frameworks/Python.framework/Versions/3.12/lib/python3.12/urllib/request.py:532\u001b[0m, in \u001b[0;36mOpenerDirector._open\u001b[0;34m(self, req, data)\u001b[0m\n\u001b[1;32m    529\u001b[0m     \u001b[38;5;28;01mreturn\u001b[39;00m result\n\u001b[1;32m    531\u001b[0m protocol \u001b[38;5;241m=\u001b[39m req\u001b[38;5;241m.\u001b[39mtype\n\u001b[0;32m--> 532\u001b[0m result \u001b[38;5;241m=\u001b[39m \u001b[38;5;28;43mself\u001b[39;49m\u001b[38;5;241;43m.\u001b[39;49m\u001b[43m_call_chain\u001b[49m\u001b[43m(\u001b[49m\u001b[38;5;28;43mself\u001b[39;49m\u001b[38;5;241;43m.\u001b[39;49m\u001b[43mhandle_open\u001b[49m\u001b[43m,\u001b[49m\u001b[43m \u001b[49m\u001b[43mprotocol\u001b[49m\u001b[43m,\u001b[49m\u001b[43m \u001b[49m\u001b[43mprotocol\u001b[49m\u001b[43m \u001b[49m\u001b[38;5;241;43m+\u001b[39;49m\n\u001b[1;32m    533\u001b[0m \u001b[43m                          \u001b[49m\u001b[38;5;124;43m'\u001b[39;49m\u001b[38;5;124;43m_open\u001b[39;49m\u001b[38;5;124;43m'\u001b[39;49m\u001b[43m,\u001b[49m\u001b[43m \u001b[49m\u001b[43mreq\u001b[49m\u001b[43m)\u001b[49m\n\u001b[1;32m    534\u001b[0m \u001b[38;5;28;01mif\u001b[39;00m result:\n\u001b[1;32m    535\u001b[0m     \u001b[38;5;28;01mreturn\u001b[39;00m result\n",
      "File \u001b[0;32m/Library/Frameworks/Python.framework/Versions/3.12/lib/python3.12/urllib/request.py:492\u001b[0m, in \u001b[0;36mOpenerDirector._call_chain\u001b[0;34m(self, chain, kind, meth_name, *args)\u001b[0m\n\u001b[1;32m    490\u001b[0m \u001b[38;5;28;01mfor\u001b[39;00m handler \u001b[38;5;129;01min\u001b[39;00m handlers:\n\u001b[1;32m    491\u001b[0m     func \u001b[38;5;241m=\u001b[39m \u001b[38;5;28mgetattr\u001b[39m(handler, meth_name)\n\u001b[0;32m--> 492\u001b[0m     result \u001b[38;5;241m=\u001b[39m \u001b[43mfunc\u001b[49m\u001b[43m(\u001b[49m\u001b[38;5;241;43m*\u001b[39;49m\u001b[43margs\u001b[49m\u001b[43m)\u001b[49m\n\u001b[1;32m    493\u001b[0m     \u001b[38;5;28;01mif\u001b[39;00m result \u001b[38;5;129;01mis\u001b[39;00m \u001b[38;5;129;01mnot\u001b[39;00m \u001b[38;5;28;01mNone\u001b[39;00m:\n\u001b[1;32m    494\u001b[0m         \u001b[38;5;28;01mreturn\u001b[39;00m result\n",
      "File \u001b[0;32m/Library/Frameworks/Python.framework/Versions/3.12/lib/python3.12/urllib/request.py:1392\u001b[0m, in \u001b[0;36mHTTPSHandler.https_open\u001b[0;34m(self, req)\u001b[0m\n\u001b[1;32m   1391\u001b[0m \u001b[38;5;28;01mdef\u001b[39;00m \u001b[38;5;21mhttps_open\u001b[39m(\u001b[38;5;28mself\u001b[39m, req):\n\u001b[0;32m-> 1392\u001b[0m     \u001b[38;5;28;01mreturn\u001b[39;00m \u001b[38;5;28;43mself\u001b[39;49m\u001b[38;5;241;43m.\u001b[39;49m\u001b[43mdo_open\u001b[49m\u001b[43m(\u001b[49m\u001b[43mhttp\u001b[49m\u001b[38;5;241;43m.\u001b[39;49m\u001b[43mclient\u001b[49m\u001b[38;5;241;43m.\u001b[39;49m\u001b[43mHTTPSConnection\u001b[49m\u001b[43m,\u001b[49m\u001b[43m \u001b[49m\u001b[43mreq\u001b[49m\u001b[43m,\u001b[49m\n\u001b[1;32m   1393\u001b[0m \u001b[43m                        \u001b[49m\u001b[43mcontext\u001b[49m\u001b[38;5;241;43m=\u001b[39;49m\u001b[38;5;28;43mself\u001b[39;49m\u001b[38;5;241;43m.\u001b[39;49m\u001b[43m_context\u001b[49m\u001b[43m)\u001b[49m\n",
      "File \u001b[0;32m/Library/Frameworks/Python.framework/Versions/3.12/lib/python3.12/urllib/request.py:1347\u001b[0m, in \u001b[0;36mAbstractHTTPHandler.do_open\u001b[0;34m(self, http_class, req, **http_conn_args)\u001b[0m\n\u001b[1;32m   1344\u001b[0m         h\u001b[38;5;241m.\u001b[39mrequest(req\u001b[38;5;241m.\u001b[39mget_method(), req\u001b[38;5;241m.\u001b[39mselector, req\u001b[38;5;241m.\u001b[39mdata, headers,\n\u001b[1;32m   1345\u001b[0m                   encode_chunked\u001b[38;5;241m=\u001b[39mreq\u001b[38;5;241m.\u001b[39mhas_header(\u001b[38;5;124m'\u001b[39m\u001b[38;5;124mTransfer-encoding\u001b[39m\u001b[38;5;124m'\u001b[39m))\n\u001b[1;32m   1346\u001b[0m     \u001b[38;5;28;01mexcept\u001b[39;00m \u001b[38;5;167;01mOSError\u001b[39;00m \u001b[38;5;28;01mas\u001b[39;00m err: \u001b[38;5;66;03m# timeout error\u001b[39;00m\n\u001b[0;32m-> 1347\u001b[0m         \u001b[38;5;28;01mraise\u001b[39;00m URLError(err)\n\u001b[1;32m   1348\u001b[0m     r \u001b[38;5;241m=\u001b[39m h\u001b[38;5;241m.\u001b[39mgetresponse()\n\u001b[1;32m   1349\u001b[0m \u001b[38;5;28;01mexcept\u001b[39;00m:\n",
      "\u001b[0;31mURLError\u001b[0m: <urlopen error [SSL: CERTIFICATE_VERIFY_FAILED] certificate verify failed: unable to get local issuer certificate (_ssl.c:1000)>"
     ]
    }
   ],
   "source": [
    "df = pd.read_csv('https://datasets-humai.s3.amazonaws.com/datasets/parodesprov.csv')"
   ]
  },
  {
   "cell_type": "code",
   "execution_count": null,
   "metadata": {
    "id": "gEPFS7qNd26t"
   },
   "outputs": [],
   "source": [
    "df_descripciones = pd.read_csv('https://datasets-humai.s3.amazonaws.com/datasets/comunidades_descripcion.csv')"
   ]
  },
  {
   "cell_type": "markdown",
   "metadata": {
    "id": "ee8XGkDFd26t"
   },
   "source": [
    "Unan ambos DataFrames utilizando la función pd.merge()"
   ]
  },
  {
   "cell_type": "code",
   "execution_count": null,
   "metadata": {
    "id": "nO2_iHyvd26t"
   },
   "outputs": [],
   "source": []
  },
  {
   "cell_type": "markdown",
   "metadata": {
    "id": "ODiYivred26u"
   },
   "source": [
    "Construir el DataFrame de comunidades autónomas, incluyendo la densidad, la proporción de paro y la cantidad de municipios. "
   ]
  },
  {
   "cell_type": "code",
   "execution_count": null,
   "metadata": {
    "id": "NaswBMeod26u"
   },
   "outputs": [],
   "source": []
  },
  {
   "cell_type": "code",
   "execution_count": null,
   "metadata": {
    "id": "-kQbPyoXd26u"
   },
   "outputs": [],
   "source": []
  },
  {
   "cell_type": "code",
   "execution_count": null,
   "metadata": {
    "id": "oB_IQyPvd26u"
   },
   "outputs": [],
   "source": []
  },
  {
   "cell_type": "code",
   "execution_count": null,
   "metadata": {
    "id": "AmH14oDWd26u"
   },
   "outputs": [],
   "source": []
  },
  {
   "cell_type": "code",
   "execution_count": null,
   "metadata": {
    "id": "O7-7jOIcd26u"
   },
   "outputs": [],
   "source": []
  },
  {
   "cell_type": "markdown",
   "metadata": {
    "id": "nc5Q3QNDd26v"
   },
   "source": [
    "Habíamos visto que el promedio de la proporción de paro en los municipios con una densidad menor a la mediana es más bajo.. ¿Se cumple lo mismo para las provincias?"
   ]
  },
  {
   "cell_type": "code",
   "execution_count": null,
   "metadata": {
    "id": "59SobLOVd26v"
   },
   "outputs": [],
   "source": []
  },
  {
   "cell_type": "code",
   "execution_count": null,
   "metadata": {
    "id": "_14sbpywd26v"
   },
   "outputs": [],
   "source": []
  },
  {
   "cell_type": "code",
   "execution_count": null,
   "metadata": {
    "id": "dqT7IH8cd26v"
   },
   "outputs": [],
   "source": []
  },
  {
   "cell_type": "markdown",
   "metadata": {
    "id": "Vzmmnfk4d26v"
   },
   "source": [
    "¿Cuál es la comunidad autónoma con mayor cantidad de municipios?"
   ]
  },
  {
   "cell_type": "code",
   "execution_count": null,
   "metadata": {
    "id": "q4h8RPCed26v"
   },
   "outputs": [],
   "source": []
  },
  {
   "cell_type": "code",
   "execution_count": null,
   "metadata": {
    "id": "vAvXvPtsd26v"
   },
   "outputs": [],
   "source": []
  },
  {
   "cell_type": "code",
   "execution_count": null,
   "metadata": {
    "id": "tC1KAKSfd26v"
   },
   "outputs": [],
   "source": []
  },
  {
   "cell_type": "code",
   "execution_count": null,
   "metadata": {
    "id": "kN-Z-NDId4VE"
   },
   "outputs": [],
   "source": []
  },
  {
   "cell_type": "markdown",
   "metadata": {
    "id": "Gt28B2slcUJe"
   },
   "source": [
    "## Parte B\n",
    "Para esta parte de la práctica usaremos los datos abiertos de CABA, a partir de un relevamiento muestral de los avisos publicados para la venta de departamentos en el año 2020. "
   ]
  },
  {
   "cell_type": "markdown",
   "metadata": {
    "id": "2A85Gdo3cb5N"
   },
   "source": [
    "https://data.buenosaires.gob.ar/dataset/terrenos-valor-oferta"
   ]
  },
  {
   "cell_type": "code",
   "execution_count": 4,
   "metadata": {
    "id": "QlD-3ohYcUJf"
   },
   "outputs": [],
   "source": [
    "import numpy as np\n",
    "import pandas as pd\n",
    "\n",
    "pd.set_option('display.float_format', lambda x: '%.5f' % x)"
   ]
  },
  {
   "cell_type": "code",
   "execution_count": 5,
   "metadata": {
    "id": "IzuED1DUcUJg"
   },
   "outputs": [],
   "source": [
    "df = pd.read_csv(\"../datos/Terrenos-en-venta-2020.csv\", encoding = \"latin1\", sep=\",\")"
   ]
  },
  {
   "cell_type": "markdown",
   "metadata": {
    "id": "QU0P2xFnEERq"
   },
   "source": [
    "Hacer un primer análisis del dataset y analizar nulos."
   ]
  },
  {
   "cell_type": "code",
   "execution_count": 6,
   "metadata": {},
   "outputs": [
    {
     "data": {
      "text/html": [
       "<div>\n",
       "<style scoped>\n",
       "    .dataframe tbody tr th:only-of-type {\n",
       "        vertical-align: middle;\n",
       "    }\n",
       "\n",
       "    .dataframe tbody tr th {\n",
       "        vertical-align: top;\n",
       "    }\n",
       "\n",
       "    .dataframe thead th {\n",
       "        text-align: right;\n",
       "    }\n",
       "</style>\n",
       "<table border=\"1\" class=\"dataframe\">\n",
       "  <thead>\n",
       "    <tr style=\"text-align: right;\">\n",
       "      <th></th>\n",
       "      <th>DIRECCION</th>\n",
       "      <th>PROPIEDADS</th>\n",
       "      <th>PRECIOUSD</th>\n",
       "      <th>PRECIOPESO</th>\n",
       "      <th>DOLARM2</th>\n",
       "      <th>PESOSM2</th>\n",
       "      <th>COTIZACION</th>\n",
       "      <th>TRIMESTRE_</th>\n",
       "      <th>BARRIO</th>\n",
       "      <th>COMUNA_</th>\n",
       "    </tr>\n",
       "  </thead>\n",
       "  <tbody>\n",
       "    <tr>\n",
       "      <th>0</th>\n",
       "      <td>RIVADAVIA 3500</td>\n",
       "      <td>190</td>\n",
       "      <td>150000</td>\n",
       "      <td>12000000</td>\n",
       "      <td>790</td>\n",
       "      <td>63158</td>\n",
       "      <td>80</td>\n",
       "      <td>CUARTO</td>\n",
       "      <td>ALMAGRO</td>\n",
       "      <td>5</td>\n",
       "    </tr>\n",
       "    <tr>\n",
       "      <th>1</th>\n",
       "      <td>PRINGLES 100</td>\n",
       "      <td>242</td>\n",
       "      <td>230000</td>\n",
       "      <td>18400000</td>\n",
       "      <td>950</td>\n",
       "      <td>76033</td>\n",
       "      <td>80</td>\n",
       "      <td>CUARTO</td>\n",
       "      <td>ALMAGRO</td>\n",
       "      <td>5</td>\n",
       "    </tr>\n",
       "    <tr>\n",
       "      <th>2</th>\n",
       "      <td>PERON, JUAN DOMINGO, TTE. 3400</td>\n",
       "      <td>211</td>\n",
       "      <td>265000</td>\n",
       "      <td>21200000</td>\n",
       "      <td>1256</td>\n",
       "      <td>100474</td>\n",
       "      <td>80</td>\n",
       "      <td>CUARTO</td>\n",
       "      <td>ALMAGRO</td>\n",
       "      <td>5</td>\n",
       "    </tr>\n",
       "    <tr>\n",
       "      <th>3</th>\n",
       "      <td>MEXICO 4000</td>\n",
       "      <td>320</td>\n",
       "      <td>300000</td>\n",
       "      <td>24000000</td>\n",
       "      <td>938</td>\n",
       "      <td>75000</td>\n",
       "      <td>80</td>\n",
       "      <td>CUARTO</td>\n",
       "      <td>ALMAGRO</td>\n",
       "      <td>5</td>\n",
       "    </tr>\n",
       "    <tr>\n",
       "      <th>4</th>\n",
       "      <td>VENEZUELA 4067</td>\n",
       "      <td>250</td>\n",
       "      <td>305000</td>\n",
       "      <td>24400000</td>\n",
       "      <td>1220</td>\n",
       "      <td>97600</td>\n",
       "      <td>80</td>\n",
       "      <td>CUARTO</td>\n",
       "      <td>ALMAGRO</td>\n",
       "      <td>5</td>\n",
       "    </tr>\n",
       "  </tbody>\n",
       "</table>\n",
       "</div>"
      ],
      "text/plain": [
       "                        DIRECCION  PROPIEDADS  PRECIOUSD  PRECIOPESO  DOLARM2  \\\n",
       "0                  RIVADAVIA 3500         190     150000    12000000      790   \n",
       "1                    PRINGLES 100         242     230000    18400000      950   \n",
       "2  PERON, JUAN DOMINGO, TTE. 3400         211     265000    21200000     1256   \n",
       "3                     MEXICO 4000         320     300000    24000000      938   \n",
       "4                  VENEZUELA 4067         250     305000    24400000     1220   \n",
       "\n",
       "   PESOSM2  COTIZACION TRIMESTRE_   BARRIO  COMUNA_  \n",
       "0    63158          80     CUARTO  ALMAGRO        5  \n",
       "1    76033          80     CUARTO  ALMAGRO        5  \n",
       "2   100474          80     CUARTO  ALMAGRO        5  \n",
       "3    75000          80     CUARTO  ALMAGRO        5  \n",
       "4    97600          80     CUARTO  ALMAGRO        5  "
      ]
     },
     "execution_count": 6,
     "metadata": {},
     "output_type": "execute_result"
    }
   ],
   "source": [
    "df.head(5)"
   ]
  },
  {
   "cell_type": "code",
   "execution_count": 7,
   "metadata": {},
   "outputs": [],
   "source": [
    "df.dropna(inplace=True)"
   ]
  },
  {
   "cell_type": "code",
   "execution_count": 8,
   "metadata": {},
   "outputs": [
    {
     "data": {
      "text/plain": [
       "(10295, 10)"
      ]
     },
     "execution_count": 8,
     "metadata": {},
     "output_type": "execute_result"
    }
   ],
   "source": [
    "df.shape"
   ]
  },
  {
   "cell_type": "code",
   "execution_count": 9,
   "metadata": {},
   "outputs": [
    {
     "data": {
      "text/html": [
       "<div>\n",
       "<style scoped>\n",
       "    .dataframe tbody tr th:only-of-type {\n",
       "        vertical-align: middle;\n",
       "    }\n",
       "\n",
       "    .dataframe tbody tr th {\n",
       "        vertical-align: top;\n",
       "    }\n",
       "\n",
       "    .dataframe thead th {\n",
       "        text-align: right;\n",
       "    }\n",
       "</style>\n",
       "<table border=\"1\" class=\"dataframe\">\n",
       "  <thead>\n",
       "    <tr style=\"text-align: right;\">\n",
       "      <th></th>\n",
       "      <th>PROPIEDADS</th>\n",
       "      <th>PRECIOUSD</th>\n",
       "      <th>PRECIOPESO</th>\n",
       "      <th>DOLARM2</th>\n",
       "      <th>PESOSM2</th>\n",
       "      <th>COTIZACION</th>\n",
       "      <th>COMUNA_</th>\n",
       "    </tr>\n",
       "  </thead>\n",
       "  <tbody>\n",
       "    <tr>\n",
       "      <th>count</th>\n",
       "      <td>10295.00000</td>\n",
       "      <td>10295.00000</td>\n",
       "      <td>10295.00000</td>\n",
       "      <td>10295.00000</td>\n",
       "      <td>10295.00000</td>\n",
       "      <td>10295.00000</td>\n",
       "      <td>10295.00000</td>\n",
       "    </tr>\n",
       "    <tr>\n",
       "      <th>mean</th>\n",
       "      <td>455.75949</td>\n",
       "      <td>904587.72142</td>\n",
       "      <td>60784664.20583</td>\n",
       "      <td>2357.56824</td>\n",
       "      <td>157850.57261</td>\n",
       "      <td>67.21253</td>\n",
       "      <td>9.25566</td>\n",
       "    </tr>\n",
       "    <tr>\n",
       "      <th>std</th>\n",
       "      <td>766.96855</td>\n",
       "      <td>1131244.57397</td>\n",
       "      <td>78249925.68569</td>\n",
       "      <td>1600.37164</td>\n",
       "      <td>107529.32500</td>\n",
       "      <td>4.01777</td>\n",
       "      <td>4.32894</td>\n",
       "    </tr>\n",
       "    <tr>\n",
       "      <th>min</th>\n",
       "      <td>30.00000</td>\n",
       "      <td>68000.00000</td>\n",
       "      <td>4352000.00000</td>\n",
       "      <td>355.00000</td>\n",
       "      <td>22705.00000</td>\n",
       "      <td>64.00000</td>\n",
       "      <td>1.00000</td>\n",
       "    </tr>\n",
       "    <tr>\n",
       "      <th>25%</th>\n",
       "      <td>200.00000</td>\n",
       "      <td>350000.00000</td>\n",
       "      <td>23520000.00000</td>\n",
       "      <td>1238.00000</td>\n",
       "      <td>83228.00000</td>\n",
       "      <td>64.00000</td>\n",
       "      <td>5.00000</td>\n",
       "    </tr>\n",
       "    <tr>\n",
       "      <th>50%</th>\n",
       "      <td>291.00000</td>\n",
       "      <td>580000.00000</td>\n",
       "      <td>38250000.00000</td>\n",
       "      <td>1918.00000</td>\n",
       "      <td>128321.00000</td>\n",
       "      <td>67.00000</td>\n",
       "      <td>10.00000</td>\n",
       "    </tr>\n",
       "    <tr>\n",
       "      <th>75%</th>\n",
       "      <td>433.00000</td>\n",
       "      <td>980000.00000</td>\n",
       "      <td>64000000.00000</td>\n",
       "      <td>3019.00000</td>\n",
       "      <td>200836.50000</td>\n",
       "      <td>70.00000</td>\n",
       "      <td>13.00000</td>\n",
       "    </tr>\n",
       "    <tr>\n",
       "      <th>max</th>\n",
       "      <td>14303.00000</td>\n",
       "      <td>16000000.00000</td>\n",
       "      <td>1280000000.00000</td>\n",
       "      <td>21429.00000</td>\n",
       "      <td>1714286.00000</td>\n",
       "      <td>80.00000</td>\n",
       "      <td>15.00000</td>\n",
       "    </tr>\n",
       "  </tbody>\n",
       "</table>\n",
       "</div>"
      ],
      "text/plain": [
       "       PROPIEDADS      PRECIOUSD       PRECIOPESO     DOLARM2       PESOSM2  \\\n",
       "count 10295.00000    10295.00000      10295.00000 10295.00000   10295.00000   \n",
       "mean    455.75949   904587.72142   60784664.20583  2357.56824  157850.57261   \n",
       "std     766.96855  1131244.57397   78249925.68569  1600.37164  107529.32500   \n",
       "min      30.00000    68000.00000    4352000.00000   355.00000   22705.00000   \n",
       "25%     200.00000   350000.00000   23520000.00000  1238.00000   83228.00000   \n",
       "50%     291.00000   580000.00000   38250000.00000  1918.00000  128321.00000   \n",
       "75%     433.00000   980000.00000   64000000.00000  3019.00000  200836.50000   \n",
       "max   14303.00000 16000000.00000 1280000000.00000 21429.00000 1714286.00000   \n",
       "\n",
       "       COTIZACION     COMUNA_  \n",
       "count 10295.00000 10295.00000  \n",
       "mean     67.21253     9.25566  \n",
       "std       4.01777     4.32894  \n",
       "min      64.00000     1.00000  \n",
       "25%      64.00000     5.00000  \n",
       "50%      67.00000    10.00000  \n",
       "75%      70.00000    13.00000  \n",
       "max      80.00000    15.00000  "
      ]
     },
     "execution_count": 9,
     "metadata": {},
     "output_type": "execute_result"
    }
   ],
   "source": [
    "df.describe()"
   ]
  },
  {
   "cell_type": "markdown",
   "metadata": {
    "id": "eDrWZhRIcUJh"
   },
   "source": [
    "### Ejercicio 1. \n",
    "¿Cuál es el precio medio del metro cuadrado en la Ciudad de Buenos Aires?"
   ]
  },
  {
   "cell_type": "code",
   "execution_count": 10,
   "metadata": {
    "id": "ZpBQt6NltrOe"
   },
   "outputs": [
    {
     "data": {
      "text/plain": [
       "2357.57"
      ]
     },
     "execution_count": 10,
     "metadata": {},
     "output_type": "execute_result"
    }
   ],
   "source": [
    "round(df[\"DOLARM2\"].mean(), 2)"
   ]
  },
  {
   "cell_type": "code",
   "execution_count": 11,
   "metadata": {},
   "outputs": [
    {
     "data": {
      "text/plain": [
       "157850.57"
      ]
     },
     "execution_count": 11,
     "metadata": {},
     "output_type": "execute_result"
    }
   ],
   "source": [
    "round(df[\"PESOSM2\"].mean(), 2)"
   ]
  },
  {
   "cell_type": "code",
   "execution_count": 12,
   "metadata": {},
   "outputs": [
    {
     "data": {
      "text/plain": [
       "PROPIEDADS        455.75949\n",
       "PRECIOUSD      904587.72142\n",
       "PRECIOPESO   60784664.20583\n",
       "DOLARM2          2357.56824\n",
       "PESOSM2        157850.57261\n",
       "COTIZACION         67.21253\n",
       "COMUNA_             9.25566\n",
       "dtype: float64"
      ]
     },
     "execution_count": 12,
     "metadata": {},
     "output_type": "execute_result"
    }
   ],
   "source": [
    "numeric_cols = df.select_dtypes(include=[int, float])\n",
    "\n",
    "# Calcula la media de cada columna numérica\n",
    "means = numeric_cols.mean()\n",
    "means"
   ]
  },
  {
   "cell_type": "markdown",
   "metadata": {
    "id": "9NG0wlT1cUJi"
   },
   "source": [
    "### Ejercicio 2. \n",
    "a) Dividir las propiedades por cuartiles de precios en dólares. "
   ]
  },
  {
   "cell_type": "code",
   "execution_count": 13,
   "metadata": {
    "id": "EXHzAIygEL--"
   },
   "outputs": [
    {
     "data": {
      "text/html": [
       "<div>\n",
       "<style scoped>\n",
       "    .dataframe tbody tr th:only-of-type {\n",
       "        vertical-align: middle;\n",
       "    }\n",
       "\n",
       "    .dataframe tbody tr th {\n",
       "        vertical-align: top;\n",
       "    }\n",
       "\n",
       "    .dataframe thead th {\n",
       "        text-align: right;\n",
       "    }\n",
       "</style>\n",
       "<table border=\"1\" class=\"dataframe\">\n",
       "  <thead>\n",
       "    <tr style=\"text-align: right;\">\n",
       "      <th></th>\n",
       "      <th>DIRECCION</th>\n",
       "      <th>PROPIEDADS</th>\n",
       "      <th>PRECIOUSD</th>\n",
       "      <th>PRECIOPESO</th>\n",
       "      <th>DOLARM2</th>\n",
       "      <th>PESOSM2</th>\n",
       "      <th>COTIZACION</th>\n",
       "      <th>TRIMESTRE_</th>\n",
       "      <th>BARRIO</th>\n",
       "      <th>COMUNA_</th>\n",
       "      <th>CUARTILES</th>\n",
       "      <th>CUARTILES_CAT</th>\n",
       "    </tr>\n",
       "  </thead>\n",
       "  <tbody>\n",
       "    <tr>\n",
       "      <th>0</th>\n",
       "      <td>RIVADAVIA 3500</td>\n",
       "      <td>190</td>\n",
       "      <td>150000</td>\n",
       "      <td>12000000</td>\n",
       "      <td>790</td>\n",
       "      <td>63158</td>\n",
       "      <td>80</td>\n",
       "      <td>CUARTO</td>\n",
       "      <td>ALMAGRO</td>\n",
       "      <td>5</td>\n",
       "      <td>(67999.999, 350000.0]</td>\n",
       "      <td>Q1</td>\n",
       "    </tr>\n",
       "    <tr>\n",
       "      <th>1</th>\n",
       "      <td>PRINGLES 100</td>\n",
       "      <td>242</td>\n",
       "      <td>230000</td>\n",
       "      <td>18400000</td>\n",
       "      <td>950</td>\n",
       "      <td>76033</td>\n",
       "      <td>80</td>\n",
       "      <td>CUARTO</td>\n",
       "      <td>ALMAGRO</td>\n",
       "      <td>5</td>\n",
       "      <td>(67999.999, 350000.0]</td>\n",
       "      <td>Q1</td>\n",
       "    </tr>\n",
       "    <tr>\n",
       "      <th>2</th>\n",
       "      <td>PERON, JUAN DOMINGO, TTE. 3400</td>\n",
       "      <td>211</td>\n",
       "      <td>265000</td>\n",
       "      <td>21200000</td>\n",
       "      <td>1256</td>\n",
       "      <td>100474</td>\n",
       "      <td>80</td>\n",
       "      <td>CUARTO</td>\n",
       "      <td>ALMAGRO</td>\n",
       "      <td>5</td>\n",
       "      <td>(67999.999, 350000.0]</td>\n",
       "      <td>Q1</td>\n",
       "    </tr>\n",
       "    <tr>\n",
       "      <th>3</th>\n",
       "      <td>MEXICO 4000</td>\n",
       "      <td>320</td>\n",
       "      <td>300000</td>\n",
       "      <td>24000000</td>\n",
       "      <td>938</td>\n",
       "      <td>75000</td>\n",
       "      <td>80</td>\n",
       "      <td>CUARTO</td>\n",
       "      <td>ALMAGRO</td>\n",
       "      <td>5</td>\n",
       "      <td>(67999.999, 350000.0]</td>\n",
       "      <td>Q1</td>\n",
       "    </tr>\n",
       "    <tr>\n",
       "      <th>4</th>\n",
       "      <td>VENEZUELA 4067</td>\n",
       "      <td>250</td>\n",
       "      <td>305000</td>\n",
       "      <td>24400000</td>\n",
       "      <td>1220</td>\n",
       "      <td>97600</td>\n",
       "      <td>80</td>\n",
       "      <td>CUARTO</td>\n",
       "      <td>ALMAGRO</td>\n",
       "      <td>5</td>\n",
       "      <td>(67999.999, 350000.0]</td>\n",
       "      <td>Q1</td>\n",
       "    </tr>\n",
       "  </tbody>\n",
       "</table>\n",
       "</div>"
      ],
      "text/plain": [
       "                        DIRECCION  PROPIEDADS  PRECIOUSD  PRECIOPESO  DOLARM2  \\\n",
       "0                  RIVADAVIA 3500         190     150000    12000000      790   \n",
       "1                    PRINGLES 100         242     230000    18400000      950   \n",
       "2  PERON, JUAN DOMINGO, TTE. 3400         211     265000    21200000     1256   \n",
       "3                     MEXICO 4000         320     300000    24000000      938   \n",
       "4                  VENEZUELA 4067         250     305000    24400000     1220   \n",
       "\n",
       "   PESOSM2  COTIZACION TRIMESTRE_   BARRIO  COMUNA_              CUARTILES  \\\n",
       "0    63158          80     CUARTO  ALMAGRO        5  (67999.999, 350000.0]   \n",
       "1    76033          80     CUARTO  ALMAGRO        5  (67999.999, 350000.0]   \n",
       "2   100474          80     CUARTO  ALMAGRO        5  (67999.999, 350000.0]   \n",
       "3    75000          80     CUARTO  ALMAGRO        5  (67999.999, 350000.0]   \n",
       "4    97600          80     CUARTO  ALMAGRO        5  (67999.999, 350000.0]   \n",
       "\n",
       "  CUARTILES_CAT  \n",
       "0            Q1  \n",
       "1            Q1  \n",
       "2            Q1  \n",
       "3            Q1  \n",
       "4            Q1  "
      ]
     },
     "execution_count": 13,
     "metadata": {},
     "output_type": "execute_result"
    }
   ],
   "source": [
    "df[\"CUARTILES\"] = pd.qcut(df[\"PRECIOUSD\"], q=4)\n",
    "df[\"CUARTILES_CAT\"] = pd.qcut(df[\"PRECIOUSD\"], q=4, labels=[\"Q1\", \"Q2\", \"Q3\", \"Q4\"])\n",
    "df.head(5)"
   ]
  },
  {
   "cell_type": "markdown",
   "metadata": {
    "id": "DyeOsP1sEPLS"
   },
   "source": [
    "\n",
    "b) ¿Cuáles son los barrios con más domicilios en venta dentro del cuartil más barato de CABA? \n",
    "\n",
    "Usar pivot_table"
   ]
  },
  {
   "cell_type": "code",
   "execution_count": 14,
   "metadata": {
    "id": "Tm30_hbfEQVQ"
   },
   "outputs": [
    {
     "name": "stderr",
     "output_type": "stream",
     "text": [
      "/var/folders/ph/5sq6jlj161g1_2t838crnx6c0000gp/T/ipykernel_974/1404307106.py:1: FutureWarning: The default value of observed=False is deprecated and will change to observed=True in a future version of pandas. Specify observed=False to silence this warning and retain the current behavior\n",
      "  barrio = df.pivot_table(index='BARRIO', columns='CUARTILES_CAT', aggfunc='size', fill_value=0)\n"
     ]
    },
    {
     "data": {
      "text/html": [
       "<div>\n",
       "<style scoped>\n",
       "    .dataframe tbody tr th:only-of-type {\n",
       "        vertical-align: middle;\n",
       "    }\n",
       "\n",
       "    .dataframe tbody tr th {\n",
       "        vertical-align: top;\n",
       "    }\n",
       "\n",
       "    .dataframe thead th {\n",
       "        text-align: right;\n",
       "    }\n",
       "</style>\n",
       "<table border=\"1\" class=\"dataframe\">\n",
       "  <thead>\n",
       "    <tr style=\"text-align: right;\">\n",
       "      <th>CUARTILES_CAT</th>\n",
       "      <th>Q1</th>\n",
       "      <th>Q2</th>\n",
       "      <th>Q3</th>\n",
       "      <th>Q4</th>\n",
       "    </tr>\n",
       "    <tr>\n",
       "      <th>BARRIO</th>\n",
       "      <th></th>\n",
       "      <th></th>\n",
       "      <th></th>\n",
       "      <th></th>\n",
       "    </tr>\n",
       "  </thead>\n",
       "  <tbody>\n",
       "    <tr>\n",
       "      <th>AGRONOMIA</th>\n",
       "      <td>13</td>\n",
       "      <td>27</td>\n",
       "      <td>22</td>\n",
       "      <td>17</td>\n",
       "    </tr>\n",
       "    <tr>\n",
       "      <th>ALMAGRO</th>\n",
       "      <td>31</td>\n",
       "      <td>79</td>\n",
       "      <td>184</td>\n",
       "      <td>117</td>\n",
       "    </tr>\n",
       "    <tr>\n",
       "      <th>BALVANERA</th>\n",
       "      <td>77</td>\n",
       "      <td>96</td>\n",
       "      <td>116</td>\n",
       "      <td>140</td>\n",
       "    </tr>\n",
       "    <tr>\n",
       "      <th>BARRACAS ESTE</th>\n",
       "      <td>69</td>\n",
       "      <td>20</td>\n",
       "      <td>20</td>\n",
       "      <td>49</td>\n",
       "    </tr>\n",
       "    <tr>\n",
       "      <th>BARRACAS OESTE</th>\n",
       "      <td>3</td>\n",
       "      <td>0</td>\n",
       "      <td>0</td>\n",
       "      <td>3</td>\n",
       "    </tr>\n",
       "  </tbody>\n",
       "</table>\n",
       "</div>"
      ],
      "text/plain": [
       "CUARTILES_CAT   Q1  Q2   Q3   Q4\n",
       "BARRIO                          \n",
       "AGRONOMIA       13  27   22   17\n",
       "ALMAGRO         31  79  184  117\n",
       "BALVANERA       77  96  116  140\n",
       "BARRACAS ESTE   69  20   20   49\n",
       "BARRACAS OESTE   3   0    0    3"
      ]
     },
     "execution_count": 14,
     "metadata": {},
     "output_type": "execute_result"
    }
   ],
   "source": [
    "barrio = df.pivot_table(index='BARRIO', columns='CUARTILES_CAT', aggfunc='size', fill_value=0)\n",
    "barrio.head()"
   ]
  },
  {
   "cell_type": "code",
   "execution_count": 15,
   "metadata": {},
   "outputs": [
    {
     "data": {
      "text/plain": [
       "'MATADEROS'"
      ]
     },
     "execution_count": 15,
     "metadata": {},
     "output_type": "execute_result"
    }
   ],
   "source": [
    "barrio['Q1'].idxmax()"
   ]
  },
  {
   "cell_type": "markdown",
   "metadata": {
    "id": "KVn9srIAMnKH"
   },
   "source": [
    "¿Y usando groupby?"
   ]
  },
  {
   "cell_type": "code",
   "execution_count": 16,
   "metadata": {
    "id": "gd3P5btrERAM"
   },
   "outputs": [
    {
     "name": "stderr",
     "output_type": "stream",
     "text": [
      "/var/folders/ph/5sq6jlj161g1_2t838crnx6c0000gp/T/ipykernel_974/3688469759.py:1: FutureWarning: The default of observed=False is deprecated and will be changed to True in a future version of pandas. Pass observed=False to retain current behavior or observed=True to adopt the future default and silence this warning.\n",
      "  barrio = df.groupby(\"CUARTILES_CAT\").get_group(\"Q1\")[\"BARRIO\"].value_counts().idxmax()\n"
     ]
    },
    {
     "data": {
      "text/plain": [
       "'MATADEROS'"
      ]
     },
     "execution_count": 16,
     "metadata": {},
     "output_type": "execute_result"
    }
   ],
   "source": [
    "barrio = df.groupby(\"CUARTILES_CAT\").get_group(\"Q1\")[\"BARRIO\"].value_counts().idxmax()\n",
    "barrio"
   ]
  },
  {
   "cell_type": "markdown",
   "metadata": {
    "id": "N1PnJFQhQchP"
   },
   "source": [
    "¿Hay otra forma más sencilla?"
   ]
  },
  {
   "cell_type": "code",
   "execution_count": 17,
   "metadata": {
    "id": "dSQuir9kERik"
   },
   "outputs": [
    {
     "data": {
      "text/plain": [
       "BARRIO\n",
       "MATADEROS             171\n",
       "PARQUE PATRICIOS      119\n",
       "NUEVA POMPEYA         114\n",
       "BOCA                  104\n",
       "SAN CRISTOBAL         104\n",
       "LINIERS                99\n",
       "PARQUE AVELLANEDA      97\n",
       "VELEZ SARSFIELD        96\n",
       "VILLA URQUIZA          92\n",
       "VILLA PUEYRREDON       90\n",
       "SAAVEDRA               85\n",
       "FLORES SUR             84\n",
       "BOEDO                  83\n",
       "VILLA DEL PARQUE       83\n",
       "VILLA LURO             82\n",
       "VILLA GRAL. MITRE      82\n",
       "VILLA CRESPO           81\n",
       "PARQUE CHACABUCO       79\n",
       "BALVANERA              77\n",
       "MONTE CASTRO           76\n",
       "VILLA SANTA RITA       69\n",
       "BARRACAS ESTE          69\n",
       "FLORESTA               62\n",
       "CABALLITO              62\n",
       "CONSTITUCION           49\n",
       "PATERNAL               45\n",
       "VILLA DEVOTO NORTE     41\n",
       "VILLA REAL             41\n",
       "VILLA LUGANO           40\n",
       "VERSALLES              40\n",
       "PARQUE CHAS            39\n",
       "VILLA RIACHUELO        37\n",
       "FLORES NORTE           37\n",
       "VILLA DEVOTO SUR       35\n",
       "ALMAGRO                31\n",
       "CHACARITA              29\n",
       "VILLA ORTUZAR          23\n",
       "VILLA SOLDATI          13\n",
       "AGRONOMIA              13\n",
       "COGHLAN                 9\n",
       "MONTSERRAT              8\n",
       "PALERMO                 7\n",
       "SAN NICOLAS             6\n",
       "NUÃEZ                  5\n",
       "BARRACAS OESTE          3\n",
       "RECOLETA                2\n",
       "COLEGIALES              2\n",
       "BELGRANO                2\n",
       "Name: count, dtype: int64"
      ]
     },
     "execution_count": 17,
     "metadata": {},
     "output_type": "execute_result"
    }
   ],
   "source": [
    "filtro = df[\"CUARTILES_CAT\"] == \"Q1\"\n",
    "barrio = df[filtro][\"BARRIO\"].value_counts()\n",
    "barrio"
   ]
  },
  {
   "cell_type": "markdown",
   "metadata": {
    "id": "LJOWVYXHcUJi"
   },
   "source": [
    "### Ejercicio 3. \n",
    "¿Se puede calcular el tamaño de las propiedades? \n",
    "\n",
    "¿Cuál sería el precio promedio de las propiedades para cada decil, según metros cuadrados? "
   ]
  },
  {
   "cell_type": "code",
   "execution_count": 18,
   "metadata": {
    "id": "ncLUydWKESJF"
   },
   "outputs": [
    {
     "data": {
      "text/html": [
       "<div>\n",
       "<style scoped>\n",
       "    .dataframe tbody tr th:only-of-type {\n",
       "        vertical-align: middle;\n",
       "    }\n",
       "\n",
       "    .dataframe tbody tr th {\n",
       "        vertical-align: top;\n",
       "    }\n",
       "\n",
       "    .dataframe thead th {\n",
       "        text-align: right;\n",
       "    }\n",
       "</style>\n",
       "<table border=\"1\" class=\"dataframe\">\n",
       "  <thead>\n",
       "    <tr style=\"text-align: right;\">\n",
       "      <th></th>\n",
       "      <th>DIRECCION</th>\n",
       "      <th>PROPIEDADS</th>\n",
       "      <th>PRECIOUSD</th>\n",
       "      <th>PRECIOPESO</th>\n",
       "      <th>DOLARM2</th>\n",
       "      <th>PESOSM2</th>\n",
       "      <th>COTIZACION</th>\n",
       "      <th>TRIMESTRE_</th>\n",
       "      <th>BARRIO</th>\n",
       "      <th>COMUNA_</th>\n",
       "      <th>CUARTILES</th>\n",
       "      <th>CUARTILES_CAT</th>\n",
       "      <th>decil</th>\n",
       "    </tr>\n",
       "  </thead>\n",
       "  <tbody>\n",
       "    <tr>\n",
       "      <th>0</th>\n",
       "      <td>RIVADAVIA 3500</td>\n",
       "      <td>190</td>\n",
       "      <td>150000</td>\n",
       "      <td>12000000</td>\n",
       "      <td>790</td>\n",
       "      <td>63158</td>\n",
       "      <td>80</td>\n",
       "      <td>CUARTO</td>\n",
       "      <td>ALMAGRO</td>\n",
       "      <td>5</td>\n",
       "      <td>(67999.999, 350000.0]</td>\n",
       "      <td>Q1</td>\n",
       "      <td>3</td>\n",
       "    </tr>\n",
       "    <tr>\n",
       "      <th>1</th>\n",
       "      <td>PRINGLES 100</td>\n",
       "      <td>242</td>\n",
       "      <td>230000</td>\n",
       "      <td>18400000</td>\n",
       "      <td>950</td>\n",
       "      <td>76033</td>\n",
       "      <td>80</td>\n",
       "      <td>CUARTO</td>\n",
       "      <td>ALMAGRO</td>\n",
       "      <td>5</td>\n",
       "      <td>(67999.999, 350000.0]</td>\n",
       "      <td>Q1</td>\n",
       "      <td>4</td>\n",
       "    </tr>\n",
       "    <tr>\n",
       "      <th>2</th>\n",
       "      <td>PERON, JUAN DOMINGO, TTE. 3400</td>\n",
       "      <td>211</td>\n",
       "      <td>265000</td>\n",
       "      <td>21200000</td>\n",
       "      <td>1256</td>\n",
       "      <td>100474</td>\n",
       "      <td>80</td>\n",
       "      <td>CUARTO</td>\n",
       "      <td>ALMAGRO</td>\n",
       "      <td>5</td>\n",
       "      <td>(67999.999, 350000.0]</td>\n",
       "      <td>Q1</td>\n",
       "      <td>3</td>\n",
       "    </tr>\n",
       "  </tbody>\n",
       "</table>\n",
       "</div>"
      ],
      "text/plain": [
       "                        DIRECCION  PROPIEDADS  PRECIOUSD  PRECIOPESO  DOLARM2  \\\n",
       "0                  RIVADAVIA 3500         190     150000    12000000      790   \n",
       "1                    PRINGLES 100         242     230000    18400000      950   \n",
       "2  PERON, JUAN DOMINGO, TTE. 3400         211     265000    21200000     1256   \n",
       "\n",
       "   PESOSM2  COTIZACION TRIMESTRE_   BARRIO  COMUNA_              CUARTILES  \\\n",
       "0    63158          80     CUARTO  ALMAGRO        5  (67999.999, 350000.0]   \n",
       "1    76033          80     CUARTO  ALMAGRO        5  (67999.999, 350000.0]   \n",
       "2   100474          80     CUARTO  ALMAGRO        5  (67999.999, 350000.0]   \n",
       "\n",
       "  CUARTILES_CAT decil  \n",
       "0            Q1     3  \n",
       "1            Q1     4  \n",
       "2            Q1     3  "
      ]
     },
     "execution_count": 18,
     "metadata": {},
     "output_type": "execute_result"
    }
   ],
   "source": [
    "df[\"decil\"] = pd.qcut(df[\"PROPIEDADS\"], q=10, labels=[i for i in range(1, 11)]) #PROPIEDADS son los M2 de la prop\n",
    "df.head(3)"
   ]
  },
  {
   "cell_type": "code",
   "execution_count": 19,
   "metadata": {},
   "outputs": [
    {
     "name": "stderr",
     "output_type": "stream",
     "text": [
      "/var/folders/ph/5sq6jlj161g1_2t838crnx6c0000gp/T/ipykernel_974/4016094336.py:1: FutureWarning: The default of observed=False is deprecated and will be changed to True in a future version of pandas. Pass observed=False to retain current behavior or observed=True to adopt the future default and silence this warning.\n",
      "  precio_prom = df.groupby(\"decil\").agg({\n"
     ]
    },
    {
     "data": {
      "text/html": [
       "<div>\n",
       "<style scoped>\n",
       "    .dataframe tbody tr th:only-of-type {\n",
       "        vertical-align: middle;\n",
       "    }\n",
       "\n",
       "    .dataframe tbody tr th {\n",
       "        vertical-align: top;\n",
       "    }\n",
       "\n",
       "    .dataframe thead th {\n",
       "        text-align: right;\n",
       "    }\n",
       "</style>\n",
       "<table border=\"1\" class=\"dataframe\">\n",
       "  <thead>\n",
       "    <tr style=\"text-align: right;\">\n",
       "      <th></th>\n",
       "      <th>PRECIOUSD</th>\n",
       "      <th>PRECIOPESO</th>\n",
       "    </tr>\n",
       "    <tr>\n",
       "      <th>decil</th>\n",
       "      <th></th>\n",
       "      <th></th>\n",
       "    </tr>\n",
       "  </thead>\n",
       "  <tbody>\n",
       "    <tr>\n",
       "      <th>1</th>\n",
       "      <td>360674.93000</td>\n",
       "      <td>24394724.47000</td>\n",
       "    </tr>\n",
       "    <tr>\n",
       "      <th>2</th>\n",
       "      <td>431935.34000</td>\n",
       "      <td>28947043.65000</td>\n",
       "    </tr>\n",
       "    <tr>\n",
       "      <th>3</th>\n",
       "      <td>546935.45000</td>\n",
       "      <td>36587155.19000</td>\n",
       "    </tr>\n",
       "    <tr>\n",
       "      <th>4</th>\n",
       "      <td>569111.30000</td>\n",
       "      <td>38004457.36000</td>\n",
       "    </tr>\n",
       "    <tr>\n",
       "      <th>5</th>\n",
       "      <td>652974.36000</td>\n",
       "      <td>43538715.35000</td>\n",
       "    </tr>\n",
       "    <tr>\n",
       "      <th>6</th>\n",
       "      <td>690501.85000</td>\n",
       "      <td>45917493.25000</td>\n",
       "    </tr>\n",
       "    <tr>\n",
       "      <th>7</th>\n",
       "      <td>746102.81000</td>\n",
       "      <td>49641340.24000</td>\n",
       "    </tr>\n",
       "    <tr>\n",
       "      <th>8</th>\n",
       "      <td>897059.65000</td>\n",
       "      <td>59805500.52000</td>\n",
       "    </tr>\n",
       "    <tr>\n",
       "      <th>9</th>\n",
       "      <td>1340582.07000</td>\n",
       "      <td>89449720.59000</td>\n",
       "    </tr>\n",
       "    <tr>\n",
       "      <th>10</th>\n",
       "      <td>2814914.82000</td>\n",
       "      <td>191887251.47000</td>\n",
       "    </tr>\n",
       "  </tbody>\n",
       "</table>\n",
       "</div>"
      ],
      "text/plain": [
       "          PRECIOUSD      PRECIOPESO\n",
       "decil                              \n",
       "1      360674.93000  24394724.47000\n",
       "2      431935.34000  28947043.65000\n",
       "3      546935.45000  36587155.19000\n",
       "4      569111.30000  38004457.36000\n",
       "5      652974.36000  43538715.35000\n",
       "6      690501.85000  45917493.25000\n",
       "7      746102.81000  49641340.24000\n",
       "8      897059.65000  59805500.52000\n",
       "9     1340582.07000  89449720.59000\n",
       "10    2814914.82000 191887251.47000"
      ]
     },
     "execution_count": 19,
     "metadata": {},
     "output_type": "execute_result"
    }
   ],
   "source": [
    "precio_prom = df.groupby(\"decil\").agg({\n",
    "    \"PRECIOUSD\": \"mean\",\n",
    "    \"PRECIOPESO\": \"mean\"\n",
    "}).round(2)\n",
    "precio_prom"
   ]
  },
  {
   "cell_type": "markdown",
   "metadata": {
    "id": "yCb8iB8ccUJj"
   },
   "source": [
    "### Ejercicio 4.\n",
    "\n",
    "¿Cuáles son los barrios más caros en términos de precios por metro cuadrado? ¿Y los más baratos? \n"
   ]
  },
  {
   "cell_type": "code",
   "execution_count": 20,
   "metadata": {
    "id": "ADtRltFbESnC"
   },
   "outputs": [
    {
     "data": {
      "text/html": [
       "<div>\n",
       "<style scoped>\n",
       "    .dataframe tbody tr th:only-of-type {\n",
       "        vertical-align: middle;\n",
       "    }\n",
       "\n",
       "    .dataframe tbody tr th {\n",
       "        vertical-align: top;\n",
       "    }\n",
       "\n",
       "    .dataframe thead th {\n",
       "        text-align: right;\n",
       "    }\n",
       "</style>\n",
       "<table border=\"1\" class=\"dataframe\">\n",
       "  <thead>\n",
       "    <tr style=\"text-align: right;\">\n",
       "      <th></th>\n",
       "      <th>DIRECCION</th>\n",
       "      <th>PROPIEDADS</th>\n",
       "      <th>PRECIOUSD</th>\n",
       "      <th>PRECIOPESO</th>\n",
       "      <th>DOLARM2</th>\n",
       "      <th>PESOSM2</th>\n",
       "      <th>COTIZACION</th>\n",
       "      <th>TRIMESTRE_</th>\n",
       "      <th>BARRIO</th>\n",
       "      <th>COMUNA_</th>\n",
       "      <th>CUARTILES</th>\n",
       "      <th>CUARTILES_CAT</th>\n",
       "      <th>decil</th>\n",
       "    </tr>\n",
       "  </thead>\n",
       "  <tbody>\n",
       "    <tr>\n",
       "      <th>0</th>\n",
       "      <td>RIVADAVIA 3500</td>\n",
       "      <td>190</td>\n",
       "      <td>150000</td>\n",
       "      <td>12000000</td>\n",
       "      <td>790</td>\n",
       "      <td>63158</td>\n",
       "      <td>80</td>\n",
       "      <td>CUARTO</td>\n",
       "      <td>ALMAGRO</td>\n",
       "      <td>5</td>\n",
       "      <td>(67999.999, 350000.0]</td>\n",
       "      <td>Q1</td>\n",
       "      <td>3</td>\n",
       "    </tr>\n",
       "    <tr>\n",
       "      <th>1</th>\n",
       "      <td>PRINGLES 100</td>\n",
       "      <td>242</td>\n",
       "      <td>230000</td>\n",
       "      <td>18400000</td>\n",
       "      <td>950</td>\n",
       "      <td>76033</td>\n",
       "      <td>80</td>\n",
       "      <td>CUARTO</td>\n",
       "      <td>ALMAGRO</td>\n",
       "      <td>5</td>\n",
       "      <td>(67999.999, 350000.0]</td>\n",
       "      <td>Q1</td>\n",
       "      <td>4</td>\n",
       "    </tr>\n",
       "    <tr>\n",
       "      <th>2</th>\n",
       "      <td>PERON, JUAN DOMINGO, TTE. 3400</td>\n",
       "      <td>211</td>\n",
       "      <td>265000</td>\n",
       "      <td>21200000</td>\n",
       "      <td>1256</td>\n",
       "      <td>100474</td>\n",
       "      <td>80</td>\n",
       "      <td>CUARTO</td>\n",
       "      <td>ALMAGRO</td>\n",
       "      <td>5</td>\n",
       "      <td>(67999.999, 350000.0]</td>\n",
       "      <td>Q1</td>\n",
       "      <td>3</td>\n",
       "    </tr>\n",
       "    <tr>\n",
       "      <th>3</th>\n",
       "      <td>MEXICO 4000</td>\n",
       "      <td>320</td>\n",
       "      <td>300000</td>\n",
       "      <td>24000000</td>\n",
       "      <td>938</td>\n",
       "      <td>75000</td>\n",
       "      <td>80</td>\n",
       "      <td>CUARTO</td>\n",
       "      <td>ALMAGRO</td>\n",
       "      <td>5</td>\n",
       "      <td>(67999.999, 350000.0]</td>\n",
       "      <td>Q1</td>\n",
       "      <td>6</td>\n",
       "    </tr>\n",
       "    <tr>\n",
       "      <th>4</th>\n",
       "      <td>VENEZUELA 4067</td>\n",
       "      <td>250</td>\n",
       "      <td>305000</td>\n",
       "      <td>24400000</td>\n",
       "      <td>1220</td>\n",
       "      <td>97600</td>\n",
       "      <td>80</td>\n",
       "      <td>CUARTO</td>\n",
       "      <td>ALMAGRO</td>\n",
       "      <td>5</td>\n",
       "      <td>(67999.999, 350000.0]</td>\n",
       "      <td>Q1</td>\n",
       "      <td>4</td>\n",
       "    </tr>\n",
       "  </tbody>\n",
       "</table>\n",
       "</div>"
      ],
      "text/plain": [
       "                        DIRECCION  PROPIEDADS  PRECIOUSD  PRECIOPESO  DOLARM2  \\\n",
       "0                  RIVADAVIA 3500         190     150000    12000000      790   \n",
       "1                    PRINGLES 100         242     230000    18400000      950   \n",
       "2  PERON, JUAN DOMINGO, TTE. 3400         211     265000    21200000     1256   \n",
       "3                     MEXICO 4000         320     300000    24000000      938   \n",
       "4                  VENEZUELA 4067         250     305000    24400000     1220   \n",
       "\n",
       "   PESOSM2  COTIZACION TRIMESTRE_   BARRIO  COMUNA_              CUARTILES  \\\n",
       "0    63158          80     CUARTO  ALMAGRO        5  (67999.999, 350000.0]   \n",
       "1    76033          80     CUARTO  ALMAGRO        5  (67999.999, 350000.0]   \n",
       "2   100474          80     CUARTO  ALMAGRO        5  (67999.999, 350000.0]   \n",
       "3    75000          80     CUARTO  ALMAGRO        5  (67999.999, 350000.0]   \n",
       "4    97600          80     CUARTO  ALMAGRO        5  (67999.999, 350000.0]   \n",
       "\n",
       "  CUARTILES_CAT decil  \n",
       "0            Q1     3  \n",
       "1            Q1     4  \n",
       "2            Q1     3  \n",
       "3            Q1     6  \n",
       "4            Q1     4  "
      ]
     },
     "execution_count": 20,
     "metadata": {},
     "output_type": "execute_result"
    }
   ],
   "source": [
    "df.head(5)"
   ]
  },
  {
   "cell_type": "code",
   "execution_count": 21,
   "metadata": {},
   "outputs": [
    {
     "data": {
      "text/plain": [
       "'RECOLETA'"
      ]
     },
     "execution_count": 21,
     "metadata": {},
     "output_type": "execute_result"
    }
   ],
   "source": [
    "df.groupby(\"BARRIO\")[\"DOLARM2\"].mean().sort_values().idxmax() # mas caro"
   ]
  },
  {
   "cell_type": "code",
   "execution_count": 22,
   "metadata": {},
   "outputs": [
    {
     "data": {
      "text/plain": [
       "'VILLA SOLDATI'"
      ]
     },
     "execution_count": 22,
     "metadata": {},
     "output_type": "execute_result"
    }
   ],
   "source": [
    "df.groupby(\"BARRIO\")[\"DOLARM2\"].mean().sort_values().idxmin() # mas barato"
   ]
  },
  {
   "cell_type": "markdown",
   "metadata": {
    "id": "dZSN4oBISbgT"
   },
   "source": [
    "### Ejercicio 5\n",
    "\n",
    "Dado el siguiente DataFrame con departamentos en venta en CABA en 2019: https://data.buenosaires.gob.ar/dataset/terrenos-valor-oferta/resource/c9a6fed8-da1d-460e-92a8-e0213d68f59c\n",
    "\n",
    "¿Qué porcentaje de propiedades que estaban en venta durante 2019 siguieron estando en 2020?"
   ]
  },
  {
   "cell_type": "code",
   "execution_count": 59,
   "metadata": {},
   "outputs": [],
   "source": [
    "df2 = pd.read_csv(\"../datos/Terrenos-en-venta-2019.csv\", encoding = \"latin1\", sep=\",\")"
   ]
  },
  {
   "cell_type": "code",
   "execution_count": 60,
   "metadata": {
    "id": "cxyP0Co2fh9y"
   },
   "outputs": [
    {
     "data": {
      "text/html": [
       "<div>\n",
       "<style scoped>\n",
       "    .dataframe tbody tr th:only-of-type {\n",
       "        vertical-align: middle;\n",
       "    }\n",
       "\n",
       "    .dataframe tbody tr th {\n",
       "        vertical-align: top;\n",
       "    }\n",
       "\n",
       "    .dataframe thead th {\n",
       "        text-align: right;\n",
       "    }\n",
       "</style>\n",
       "<table border=\"1\" class=\"dataframe\">\n",
       "  <thead>\n",
       "    <tr style=\"text-align: right;\">\n",
       "      <th></th>\n",
       "      <th>OPERACION</th>\n",
       "      <th>TIPO</th>\n",
       "      <th>LATITUD</th>\n",
       "      <th>LONGITUD</th>\n",
       "      <th>M2TOTAL</th>\n",
       "      <th>DIRECCION</th>\n",
       "      <th>CAMBIO</th>\n",
       "      <th>PRECIOUSD</th>\n",
       "      <th>PRECIOARS</th>\n",
       "      <th>PRECIOUSDM</th>\n",
       "      <th>PRECIOARSM</th>\n",
       "      <th>BARRIOS</th>\n",
       "      <th>COMUNA</th>\n",
       "    </tr>\n",
       "  </thead>\n",
       "  <tbody>\n",
       "    <tr>\n",
       "      <th>0</th>\n",
       "      <td>VTA</td>\n",
       "      <td>TERRENO</td>\n",
       "      <td>-34.6294378</td>\n",
       "      <td>-58.4498948</td>\n",
       "      <td>235.00000</td>\n",
       "      <td>Malvinas Argentinas al 400</td>\n",
       "      <td>45.00</td>\n",
       "      <td>1100000.00000</td>\n",
       "      <td>49500000</td>\n",
       "      <td>4681.00000</td>\n",
       "      <td>210645.00000</td>\n",
       "      <td>CABALLITO</td>\n",
       "      <td>6</td>\n",
       "    </tr>\n",
       "    <tr>\n",
       "      <th>1</th>\n",
       "      <td>VTA</td>\n",
       "      <td>TERRENO</td>\n",
       "      <td>-34.6289663</td>\n",
       "      <td>-58.4483573</td>\n",
       "      <td>1629.00000</td>\n",
       "      <td>Jose Bonifacio 1520</td>\n",
       "      <td>45.00</td>\n",
       "      <td>1400000.00000</td>\n",
       "      <td>63000000</td>\n",
       "      <td>859.00000</td>\n",
       "      <td>38655.00000</td>\n",
       "      <td>CABALLITO</td>\n",
       "      <td>6</td>\n",
       "    </tr>\n",
       "    <tr>\n",
       "      <th>2</th>\n",
       "      <td>VTA</td>\n",
       "      <td>TERRENO</td>\n",
       "      <td>-34.6265344</td>\n",
       "      <td>-58.4326234</td>\n",
       "      <td>438.00000</td>\n",
       "      <td>BONIFACIO  JOSE 400</td>\n",
       "      <td>45.00</td>\n",
       "      <td>2380000.00000</td>\n",
       "      <td>107100000</td>\n",
       "      <td>1062.00000</td>\n",
       "      <td>47790.00000</td>\n",
       "      <td>CABALLITO</td>\n",
       "      <td>6</td>\n",
       "    </tr>\n",
       "    <tr>\n",
       "      <th>3</th>\n",
       "      <td>VTA</td>\n",
       "      <td>TERRENO</td>\n",
       "      <td>-34.6248406</td>\n",
       "      <td>-58.4317985</td>\n",
       "      <td>272.00000</td>\n",
       "      <td>VIEL  al 600</td>\n",
       "      <td>45.00</td>\n",
       "      <td>895000.00000</td>\n",
       "      <td>40275000</td>\n",
       "      <td>3290.00000</td>\n",
       "      <td>148050.00000</td>\n",
       "      <td>CABALLITO</td>\n",
       "      <td>6</td>\n",
       "    </tr>\n",
       "    <tr>\n",
       "      <th>4</th>\n",
       "      <td>VTA</td>\n",
       "      <td>TERRENO</td>\n",
       "      <td>-34.622629</td>\n",
       "      <td>-58.44079</td>\n",
       "      <td>600.00000</td>\n",
       "      <td>Av. Del Barco Centenera 200</td>\n",
       "      <td>45.00</td>\n",
       "      <td>400000.00000</td>\n",
       "      <td>18000000</td>\n",
       "      <td>667.00000</td>\n",
       "      <td>30015.00000</td>\n",
       "      <td>CABALLITO</td>\n",
       "      <td>6</td>\n",
       "    </tr>\n",
       "  </tbody>\n",
       "</table>\n",
       "</div>"
      ],
      "text/plain": [
       "  OPERACION     TIPO      LATITUD     LONGITUD    M2TOTAL  \\\n",
       "0       VTA  TERRENO  -34.6294378  -58.4498948  235.00000   \n",
       "1       VTA  TERRENO  -34.6289663  -58.4483573 1629.00000   \n",
       "2       VTA  TERRENO  -34.6265344  -58.4326234  438.00000   \n",
       "3       VTA  TERRENO  -34.6248406  -58.4317985  272.00000   \n",
       "4       VTA  TERRENO   -34.622629    -58.44079  600.00000   \n",
       "\n",
       "                     DIRECCION CAMBIO     PRECIOUSD  PRECIOARS  PRECIOUSDM  \\\n",
       "0   Malvinas Argentinas al 400  45.00 1100000.00000   49500000  4681.00000   \n",
       "1          Jose Bonifacio 1520  45.00 1400000.00000   63000000   859.00000   \n",
       "2          BONIFACIO  JOSE 400  45.00 2380000.00000  107100000  1062.00000   \n",
       "3                 VIEL  al 600  45.00  895000.00000   40275000  3290.00000   \n",
       "4  Av. Del Barco Centenera 200  45.00  400000.00000   18000000   667.00000   \n",
       "\n",
       "    PRECIOARSM    BARRIOS  COMUNA  \n",
       "0 210645.00000  CABALLITO       6  \n",
       "1  38655.00000  CABALLITO       6  \n",
       "2  47790.00000  CABALLITO       6  \n",
       "3 148050.00000  CABALLITO       6  \n",
       "4  30015.00000  CABALLITO       6  "
      ]
     },
     "execution_count": 60,
     "metadata": {},
     "output_type": "execute_result"
    }
   ],
   "source": [
    "df2.head()"
   ]
  },
  {
   "cell_type": "code",
   "execution_count": 61,
   "metadata": {},
   "outputs": [
    {
     "data": {
      "text/html": [
       "<div>\n",
       "<style scoped>\n",
       "    .dataframe tbody tr th:only-of-type {\n",
       "        vertical-align: middle;\n",
       "    }\n",
       "\n",
       "    .dataframe tbody tr th {\n",
       "        vertical-align: top;\n",
       "    }\n",
       "\n",
       "    .dataframe thead th {\n",
       "        text-align: right;\n",
       "    }\n",
       "</style>\n",
       "<table border=\"1\" class=\"dataframe\">\n",
       "  <thead>\n",
       "    <tr style=\"text-align: right;\">\n",
       "      <th></th>\n",
       "      <th>DIRECCION</th>\n",
       "      <th>PROPIEDADS</th>\n",
       "      <th>PRECIOUSD</th>\n",
       "      <th>PRECIOPESO</th>\n",
       "      <th>DOLARM2</th>\n",
       "      <th>PESOSM2</th>\n",
       "      <th>COTIZACION</th>\n",
       "      <th>TRIMESTRE_</th>\n",
       "      <th>BARRIO</th>\n",
       "      <th>COMUNA_</th>\n",
       "      <th>CUARTILES</th>\n",
       "      <th>CUARTILES_CAT</th>\n",
       "      <th>decil</th>\n",
       "    </tr>\n",
       "  </thead>\n",
       "  <tbody>\n",
       "    <tr>\n",
       "      <th>0</th>\n",
       "      <td>RIVADAVIA 3500</td>\n",
       "      <td>190</td>\n",
       "      <td>150000</td>\n",
       "      <td>12000000</td>\n",
       "      <td>790</td>\n",
       "      <td>63158</td>\n",
       "      <td>80</td>\n",
       "      <td>CUARTO</td>\n",
       "      <td>ALMAGRO</td>\n",
       "      <td>5</td>\n",
       "      <td>(67999.999, 350000.0]</td>\n",
       "      <td>Q1</td>\n",
       "      <td>3</td>\n",
       "    </tr>\n",
       "    <tr>\n",
       "      <th>1</th>\n",
       "      <td>PRINGLES 100</td>\n",
       "      <td>242</td>\n",
       "      <td>230000</td>\n",
       "      <td>18400000</td>\n",
       "      <td>950</td>\n",
       "      <td>76033</td>\n",
       "      <td>80</td>\n",
       "      <td>CUARTO</td>\n",
       "      <td>ALMAGRO</td>\n",
       "      <td>5</td>\n",
       "      <td>(67999.999, 350000.0]</td>\n",
       "      <td>Q1</td>\n",
       "      <td>4</td>\n",
       "    </tr>\n",
       "    <tr>\n",
       "      <th>2</th>\n",
       "      <td>PERON, JUAN DOMINGO, TTE. 3400</td>\n",
       "      <td>211</td>\n",
       "      <td>265000</td>\n",
       "      <td>21200000</td>\n",
       "      <td>1256</td>\n",
       "      <td>100474</td>\n",
       "      <td>80</td>\n",
       "      <td>CUARTO</td>\n",
       "      <td>ALMAGRO</td>\n",
       "      <td>5</td>\n",
       "      <td>(67999.999, 350000.0]</td>\n",
       "      <td>Q1</td>\n",
       "      <td>3</td>\n",
       "    </tr>\n",
       "    <tr>\n",
       "      <th>3</th>\n",
       "      <td>MEXICO 4000</td>\n",
       "      <td>320</td>\n",
       "      <td>300000</td>\n",
       "      <td>24000000</td>\n",
       "      <td>938</td>\n",
       "      <td>75000</td>\n",
       "      <td>80</td>\n",
       "      <td>CUARTO</td>\n",
       "      <td>ALMAGRO</td>\n",
       "      <td>5</td>\n",
       "      <td>(67999.999, 350000.0]</td>\n",
       "      <td>Q1</td>\n",
       "      <td>6</td>\n",
       "    </tr>\n",
       "    <tr>\n",
       "      <th>4</th>\n",
       "      <td>VENEZUELA 4067</td>\n",
       "      <td>250</td>\n",
       "      <td>305000</td>\n",
       "      <td>24400000</td>\n",
       "      <td>1220</td>\n",
       "      <td>97600</td>\n",
       "      <td>80</td>\n",
       "      <td>CUARTO</td>\n",
       "      <td>ALMAGRO</td>\n",
       "      <td>5</td>\n",
       "      <td>(67999.999, 350000.0]</td>\n",
       "      <td>Q1</td>\n",
       "      <td>4</td>\n",
       "    </tr>\n",
       "  </tbody>\n",
       "</table>\n",
       "</div>"
      ],
      "text/plain": [
       "                        DIRECCION  PROPIEDADS  PRECIOUSD  PRECIOPESO  DOLARM2  \\\n",
       "0                  RIVADAVIA 3500         190     150000    12000000      790   \n",
       "1                    PRINGLES 100         242     230000    18400000      950   \n",
       "2  PERON, JUAN DOMINGO, TTE. 3400         211     265000    21200000     1256   \n",
       "3                     MEXICO 4000         320     300000    24000000      938   \n",
       "4                  VENEZUELA 4067         250     305000    24400000     1220   \n",
       "\n",
       "   PESOSM2  COTIZACION TRIMESTRE_   BARRIO  COMUNA_              CUARTILES  \\\n",
       "0    63158          80     CUARTO  ALMAGRO        5  (67999.999, 350000.0]   \n",
       "1    76033          80     CUARTO  ALMAGRO        5  (67999.999, 350000.0]   \n",
       "2   100474          80     CUARTO  ALMAGRO        5  (67999.999, 350000.0]   \n",
       "3    75000          80     CUARTO  ALMAGRO        5  (67999.999, 350000.0]   \n",
       "4    97600          80     CUARTO  ALMAGRO        5  (67999.999, 350000.0]   \n",
       "\n",
       "  CUARTILES_CAT decil  \n",
       "0            Q1     3  \n",
       "1            Q1     4  \n",
       "2            Q1     3  \n",
       "3            Q1     6  \n",
       "4            Q1     4  "
      ]
     },
     "execution_count": 61,
     "metadata": {},
     "output_type": "execute_result"
    }
   ],
   "source": [
    "df.head()"
   ]
  },
  {
   "cell_type": "code",
   "execution_count": 50,
   "metadata": {},
   "outputs": [],
   "source": [
    "df2[\"DIRECCION\"] = df2[\"DIRECCION\"].str.upper()\n",
    "df[\"DIRECCION\"] = df[\"DIRECCION\"].str.upper()\n",
    "\n",
    "df2 = df2.drop_duplicates(subset=\"DIRECCION\")\n",
    "df = df.drop_duplicates(subset= \"DIRECCION\")\n",
    "\n",
    "df2[\"DIRECCION\"] = df2[\"DIRECCION\"].str.replace(\"al \",\"\")\n",
    "df[\"DIRECCION\"] = df[\"DIRECCION\"].str.replace(\"al \",\"\")"
   ]
  },
  {
   "cell_type": "code",
   "execution_count": 51,
   "metadata": {},
   "outputs": [
    {
     "data": {
      "text/plain": [
       "(3445, 13)"
      ]
     },
     "execution_count": 51,
     "metadata": {},
     "output_type": "execute_result"
    }
   ],
   "source": [
    "df.shape"
   ]
  },
  {
   "cell_type": "code",
   "execution_count": 52,
   "metadata": {},
   "outputs": [
    {
     "data": {
      "text/plain": [
       "(3254, 13)"
      ]
     },
     "execution_count": 52,
     "metadata": {},
     "output_type": "execute_result"
    }
   ],
   "source": [
    "df2.shape"
   ]
  },
  {
   "cell_type": "code",
   "execution_count": 57,
   "metadata": {},
   "outputs": [
    {
     "data": {
      "text/html": [
       "<div>\n",
       "<style scoped>\n",
       "    .dataframe tbody tr th:only-of-type {\n",
       "        vertical-align: middle;\n",
       "    }\n",
       "\n",
       "    .dataframe tbody tr th {\n",
       "        vertical-align: top;\n",
       "    }\n",
       "\n",
       "    .dataframe thead th {\n",
       "        text-align: right;\n",
       "    }\n",
       "</style>\n",
       "<table border=\"1\" class=\"dataframe\">\n",
       "  <thead>\n",
       "    <tr style=\"text-align: right;\">\n",
       "      <th></th>\n",
       "      <th>OPERACION</th>\n",
       "      <th>TIPO</th>\n",
       "      <th>LATITUD</th>\n",
       "      <th>LONGITUD</th>\n",
       "      <th>M2TOTAL</th>\n",
       "      <th>DIRECCION</th>\n",
       "      <th>CAMBIO</th>\n",
       "      <th>PRECIOUSD</th>\n",
       "      <th>PRECIOARS</th>\n",
       "      <th>PRECIOUSDM</th>\n",
       "      <th>PRECIOARSM</th>\n",
       "      <th>BARRIOS</th>\n",
       "      <th>COMUNA</th>\n",
       "    </tr>\n",
       "  </thead>\n",
       "  <tbody>\n",
       "    <tr>\n",
       "      <th>0</th>\n",
       "      <td>VTA</td>\n",
       "      <td>TERRENO</td>\n",
       "      <td>-34.6294378</td>\n",
       "      <td>-58.4498948</td>\n",
       "      <td>235.00000</td>\n",
       "      <td>MALVINAS ARGENTINAS AL 400</td>\n",
       "      <td>45.00</td>\n",
       "      <td>1100000.00000</td>\n",
       "      <td>49500000</td>\n",
       "      <td>4681.00000</td>\n",
       "      <td>210645.00000</td>\n",
       "      <td>CABALLITO</td>\n",
       "      <td>6</td>\n",
       "    </tr>\n",
       "    <tr>\n",
       "      <th>1</th>\n",
       "      <td>VTA</td>\n",
       "      <td>TERRENO</td>\n",
       "      <td>-34.6289663</td>\n",
       "      <td>-58.4483573</td>\n",
       "      <td>1629.00000</td>\n",
       "      <td>JOSE BONIFACIO 1520</td>\n",
       "      <td>45.00</td>\n",
       "      <td>1400000.00000</td>\n",
       "      <td>63000000</td>\n",
       "      <td>859.00000</td>\n",
       "      <td>38655.00000</td>\n",
       "      <td>CABALLITO</td>\n",
       "      <td>6</td>\n",
       "    </tr>\n",
       "    <tr>\n",
       "      <th>2</th>\n",
       "      <td>VTA</td>\n",
       "      <td>TERRENO</td>\n",
       "      <td>-34.6265344</td>\n",
       "      <td>-58.4326234</td>\n",
       "      <td>438.00000</td>\n",
       "      <td>BONIFACIO  JOSE 400</td>\n",
       "      <td>45.00</td>\n",
       "      <td>2380000.00000</td>\n",
       "      <td>107100000</td>\n",
       "      <td>1062.00000</td>\n",
       "      <td>47790.00000</td>\n",
       "      <td>CABALLITO</td>\n",
       "      <td>6</td>\n",
       "    </tr>\n",
       "    <tr>\n",
       "      <th>3</th>\n",
       "      <td>VTA</td>\n",
       "      <td>TERRENO</td>\n",
       "      <td>-34.6248406</td>\n",
       "      <td>-58.4317985</td>\n",
       "      <td>272.00000</td>\n",
       "      <td>VIEL  AL 600</td>\n",
       "      <td>45.00</td>\n",
       "      <td>895000.00000</td>\n",
       "      <td>40275000</td>\n",
       "      <td>3290.00000</td>\n",
       "      <td>148050.00000</td>\n",
       "      <td>CABALLITO</td>\n",
       "      <td>6</td>\n",
       "    </tr>\n",
       "    <tr>\n",
       "      <th>4</th>\n",
       "      <td>VTA</td>\n",
       "      <td>TERRENO</td>\n",
       "      <td>-34.622629</td>\n",
       "      <td>-58.44079</td>\n",
       "      <td>600.00000</td>\n",
       "      <td>AV. DEL BARCO CENTENERA 200</td>\n",
       "      <td>45.00</td>\n",
       "      <td>400000.00000</td>\n",
       "      <td>18000000</td>\n",
       "      <td>667.00000</td>\n",
       "      <td>30015.00000</td>\n",
       "      <td>CABALLITO</td>\n",
       "      <td>6</td>\n",
       "    </tr>\n",
       "  </tbody>\n",
       "</table>\n",
       "</div>"
      ],
      "text/plain": [
       "  OPERACION     TIPO      LATITUD     LONGITUD    M2TOTAL  \\\n",
       "0       VTA  TERRENO  -34.6294378  -58.4498948  235.00000   \n",
       "1       VTA  TERRENO  -34.6289663  -58.4483573 1629.00000   \n",
       "2       VTA  TERRENO  -34.6265344  -58.4326234  438.00000   \n",
       "3       VTA  TERRENO  -34.6248406  -58.4317985  272.00000   \n",
       "4       VTA  TERRENO   -34.622629    -58.44079  600.00000   \n",
       "\n",
       "                     DIRECCION CAMBIO     PRECIOUSD  PRECIOARS  PRECIOUSDM  \\\n",
       "0   MALVINAS ARGENTINAS AL 400  45.00 1100000.00000   49500000  4681.00000   \n",
       "1          JOSE BONIFACIO 1520  45.00 1400000.00000   63000000   859.00000   \n",
       "2          BONIFACIO  JOSE 400  45.00 2380000.00000  107100000  1062.00000   \n",
       "3                 VIEL  AL 600  45.00  895000.00000   40275000  3290.00000   \n",
       "4  AV. DEL BARCO CENTENERA 200  45.00  400000.00000   18000000   667.00000   \n",
       "\n",
       "    PRECIOARSM    BARRIOS  COMUNA  \n",
       "0 210645.00000  CABALLITO       6  \n",
       "1  38655.00000  CABALLITO       6  \n",
       "2  47790.00000  CABALLITO       6  \n",
       "3 148050.00000  CABALLITO       6  \n",
       "4  30015.00000  CABALLITO       6  "
      ]
     },
     "execution_count": 57,
     "metadata": {},
     "output_type": "execute_result"
    }
   ],
   "source": [
    "coincidencias = pd.merge(df2, df, on=[\"DIRECCION\"], how=\"inner\")\n",
    "coincidencias = df2[df2[\"OPERACION\"].isin(coincidencias[\"OPERACION\"])]\n",
    "coincidencias.head()"
   ]
  },
  {
   "cell_type": "code",
   "execution_count": 54,
   "metadata": {},
   "outputs": [
    {
     "data": {
      "text/plain": [
       "(3253, 13)"
      ]
     },
     "execution_count": 54,
     "metadata": {},
     "output_type": "execute_result"
    }
   ],
   "source": [
    "coincidencias.shape"
   ]
  },
  {
   "cell_type": "code",
   "execution_count": 58,
   "metadata": {},
   "outputs": [
    {
     "data": {
      "text/plain": [
       "99.97"
      ]
     },
     "execution_count": 58,
     "metadata": {},
     "output_type": "execute_result"
    }
   ],
   "source": [
    "round((coincidencias.shape[0] / df2.shape[0]) * 100, 2)"
   ]
  },
  {
   "cell_type": "markdown",
   "metadata": {
    "id": "if0eJP2MH4Qz"
   },
   "source": [
    "¿Qué modificaciones habría que hacer para encontrar más coincidencias? ¿Qué consideraciones habría que tomar a la hora de analizar el resultado?"
   ]
  }
 ],
 "metadata": {
  "colab": {
   "provenance": []
  },
  "kernelspec": {
   "display_name": "Python 3 (ipykernel)",
   "language": "python",
   "name": "python3"
  },
  "language_info": {
   "codemirror_mode": {
    "name": "ipython",
    "version": 3
   },
   "file_extension": ".py",
   "mimetype": "text/x-python",
   "name": "python",
   "nbconvert_exporter": "python",
   "pygments_lexer": "ipython3",
   "version": "3.12.0"
  }
 },
 "nbformat": 4,
 "nbformat_minor": 4
}
