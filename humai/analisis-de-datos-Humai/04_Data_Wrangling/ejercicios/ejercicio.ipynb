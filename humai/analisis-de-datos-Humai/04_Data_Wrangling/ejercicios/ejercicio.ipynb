{
 "cells": [
  {
   "cell_type": "markdown",
   "metadata": {
    "id": "y2_VayJB6wo9"
   },
   "source": [
    "<a href=\"https://colab.research.google.com/github/institutohumai/cursos-python/blob/master/AnalisisDeDatos/4_Data_Wrangling_Avanzado/ejercicio/ejercicio.ipynb\"> <img src='https://colab.research.google.com/assets/colab-badge.svg' /> </a>\n",
    "<div align=\"center\"> Recordá abrir en una nueva pestaña </div>"
   ]
  },
  {
   "cell_type": "markdown",
   "metadata": {
    "id": "YSQVB-8Y6wpC"
   },
   "source": [
    "# Ejercicio Pandas IV: Informe macroeconómico de Argentina\n",
    "\n",
    "La consultora \"Nuevos Horizontes\" quiere hacer un análisis del mercado argentino para entender como ha evolucionado en los últimos años. Van a analizar dos indicadores macroeconómicos principales: el **IPC: Índice de Precios al Consumidor** (para medir inflación) y el tipo de cambio (**cotización del dólar**).\n",
    "\n",
    "## IPC: Índice de Precios al Consumidor\n",
    "\n",
    "Para más información sobre el IPC pueden visitar la siguiente página del INDEC: https://www.indec.gob.ar/indec/web/Nivel4-Tema-3-5-31\n",
    "\n",
    "La base de IPC a analizar tiene como base diciembre de 2016, al cual le corresponde el índice 100. Los precios se encuentran con cuatro niveles de apertura:\n",
    "\n",
    "* General: Indice de Precios de toda la canasta de bienes y servicios considerada en el análisis\n",
    "\n",
    "* Estacional: Bienes y servicios con comportamiento estacional. Por ejemplo: frutas y verduras\n",
    "\n",
    "* Regulados: Bienes y servicios cuyos precios están sujetos a regulación o tienen alto componente impositivo. Por ejemplo: electricidad\n",
    "\n",
    "* Núcleo: : Resto de los grupos del IPC\n",
    "\n",
    "Su jefa quiere analizar el comportamiento de los cuatro niveles de apertura del indice de precios en los años que componen el dataset. Para eso le pide que obtenga el promedio, mediana e índice máximo anuales para cada nivel de apertura. Luego, de ser posible, graficar la evolución anual del índice medio a nivel general.\n",
    "\n",
    "**Pasos sugeridos:**\n",
    "\n",
    "    1) Leer los datos del IPC.\n",
    "\n",
    "    2) Modificar la tabla para que cumpla con la definición de tidy data: cada variable debe ser una columna (Apertura, Fecha e Indice).\n",
    "\n",
    "    3) Convertir la variable de fecha al formato date-time y extraer el año y el mes.\n",
    "\n",
    "    *Ayuda*: Vas a tener que utilizar el argumento format en la función to_datetime de pandas. En esta página vas a poder encontrar los códigos de formato o directivas necesarios para convertir las fechas: https://docs.python.org/es/3/library/datetime.html#strftime-and-strptime-behavior\n",
    "\n",
    "    4) Calcular el indice promedio, mediano y maximo por año para cada nivel de apertura.\n",
    "\n",
    "    5) Graficar."
   ]
  },
  {
   "cell_type": "code",
   "execution_count": 2,
   "metadata": {
    "id": "pMcBbjfg6wpE"
   },
   "outputs": [],
   "source": [
    "import pandas as pd\n",
    "import numpy as np\n",
    "import matplotlib.pyplot as plt\n",
    "\n",
    "import warnings\n",
    "warnings.filterwarnings('ignore')\n",
    "\n",
    "%matplotlib inline"
   ]
  },
  {
   "cell_type": "markdown",
   "metadata": {
    "id": "DzC7N8yv6wpF"
   },
   "source": [
    "**1) Leer los datos del IPC.**"
   ]
  },
  {
   "cell_type": "code",
   "execution_count": 3,
   "metadata": {
    "id": "j7_DbdGY6wpH"
   },
   "outputs": [],
   "source": [
    "ipc_df = pd.read_csv('./ipc_indec.csv')"
   ]
  },
  {
   "cell_type": "code",
   "execution_count": 4,
   "metadata": {
    "colab": {
     "base_uri": "https://localhost:8080/",
     "height": 241
    },
    "id": "vdQ8uDEs6wpI",
    "outputId": "1d7833e3-5ca1-492c-9884-16f93ce7a1e9"
   },
   "outputs": [
    {
     "data": {
      "text/html": [
       "<div>\n",
       "<style scoped>\n",
       "    .dataframe tbody tr th:only-of-type {\n",
       "        vertical-align: middle;\n",
       "    }\n",
       "\n",
       "    .dataframe tbody tr th {\n",
       "        vertical-align: top;\n",
       "    }\n",
       "\n",
       "    .dataframe thead th {\n",
       "        text-align: right;\n",
       "    }\n",
       "</style>\n",
       "<table border=\"1\" class=\"dataframe\">\n",
       "  <thead>\n",
       "    <tr style=\"text-align: right;\">\n",
       "      <th></th>\n",
       "      <th>Apertura</th>\n",
       "      <th>Dec-16</th>\n",
       "      <th>Jan-17</th>\n",
       "      <th>Feb-17</th>\n",
       "      <th>Mar-17</th>\n",
       "      <th>Apr-17</th>\n",
       "      <th>May-17</th>\n",
       "      <th>Jun-17</th>\n",
       "      <th>Jul-17</th>\n",
       "      <th>Aug-17</th>\n",
       "      <th>...</th>\n",
       "      <th>Sep-19</th>\n",
       "      <th>Oct-19</th>\n",
       "      <th>Nov-19</th>\n",
       "      <th>Dec-19</th>\n",
       "      <th>Jan-20</th>\n",
       "      <th>Feb-20</th>\n",
       "      <th>Mar-20</th>\n",
       "      <th>Apr-20</th>\n",
       "      <th>May-20</th>\n",
       "      <th>Jun-20</th>\n",
       "    </tr>\n",
       "  </thead>\n",
       "  <tbody>\n",
       "    <tr>\n",
       "      <th>0</th>\n",
       "      <td>Nivel general</td>\n",
       "      <td>100.0</td>\n",
       "      <td>101.6</td>\n",
       "      <td>103.7</td>\n",
       "      <td>106.1</td>\n",
       "      <td>109.0</td>\n",
       "      <td>110.5</td>\n",
       "      <td>111.8</td>\n",
       "      <td>113.8</td>\n",
       "      <td>115.4</td>\n",
       "      <td>...</td>\n",
       "      <td>253.7</td>\n",
       "      <td>262.1</td>\n",
       "      <td>273.2</td>\n",
       "      <td>283.4</td>\n",
       "      <td>289.8</td>\n",
       "      <td>295.7</td>\n",
       "      <td>305.6</td>\n",
       "      <td>310.1</td>\n",
       "      <td>314.9</td>\n",
       "      <td>322.0</td>\n",
       "    </tr>\n",
       "    <tr>\n",
       "      <th>1</th>\n",
       "      <td>Estacional</td>\n",
       "      <td>100.0</td>\n",
       "      <td>101.7</td>\n",
       "      <td>102.3</td>\n",
       "      <td>104.8</td>\n",
       "      <td>108.2</td>\n",
       "      <td>109.1</td>\n",
       "      <td>110.1</td>\n",
       "      <td>110.6</td>\n",
       "      <td>111.8</td>\n",
       "      <td>...</td>\n",
       "      <td>217.0</td>\n",
       "      <td>223.2</td>\n",
       "      <td>239.6</td>\n",
       "      <td>244.7</td>\n",
       "      <td>253.6</td>\n",
       "      <td>260.0</td>\n",
       "      <td>272.7</td>\n",
       "      <td>285.9</td>\n",
       "      <td>299.3</td>\n",
       "      <td>313.6</td>\n",
       "    </tr>\n",
       "    <tr>\n",
       "      <th>2</th>\n",
       "      <td>Núcleo</td>\n",
       "      <td>100.0</td>\n",
       "      <td>101.5</td>\n",
       "      <td>103.2</td>\n",
       "      <td>105.2</td>\n",
       "      <td>107.4</td>\n",
       "      <td>109.2</td>\n",
       "      <td>110.7</td>\n",
       "      <td>112.6</td>\n",
       "      <td>114.2</td>\n",
       "      <td>...</td>\n",
       "      <td>250.5</td>\n",
       "      <td>260.0</td>\n",
       "      <td>270.4</td>\n",
       "      <td>280.3</td>\n",
       "      <td>287.2</td>\n",
       "      <td>294.0</td>\n",
       "      <td>303.2</td>\n",
       "      <td>308.4</td>\n",
       "      <td>313.3</td>\n",
       "      <td>320.6</td>\n",
       "    </tr>\n",
       "    <tr>\n",
       "      <th>3</th>\n",
       "      <td>Regulados</td>\n",
       "      <td>100.0</td>\n",
       "      <td>101.8</td>\n",
       "      <td>105.9</td>\n",
       "      <td>110.0</td>\n",
       "      <td>114.5</td>\n",
       "      <td>115.7</td>\n",
       "      <td>116.7</td>\n",
       "      <td>119.4</td>\n",
       "      <td>121.1</td>\n",
       "      <td>...</td>\n",
       "      <td>284.7</td>\n",
       "      <td>290.5</td>\n",
       "      <td>301.6</td>\n",
       "      <td>315.5</td>\n",
       "      <td>319.1</td>\n",
       "      <td>321.3</td>\n",
       "      <td>331.9</td>\n",
       "      <td>329.7</td>\n",
       "      <td>329.4</td>\n",
       "      <td>331.8</td>\n",
       "    </tr>\n",
       "  </tbody>\n",
       "</table>\n",
       "<p>4 rows × 44 columns</p>\n",
       "</div>"
      ],
      "text/plain": [
       "        Apertura  Dec-16  Jan-17  Feb-17  Mar-17  Apr-17  May-17  Jun-17  \\\n",
       "0  Nivel general   100.0   101.6   103.7   106.1   109.0   110.5   111.8   \n",
       "1     Estacional   100.0   101.7   102.3   104.8   108.2   109.1   110.1   \n",
       "2         Núcleo   100.0   101.5   103.2   105.2   107.4   109.2   110.7   \n",
       "3      Regulados   100.0   101.8   105.9   110.0   114.5   115.7   116.7   \n",
       "\n",
       "   Jul-17  Aug-17  ...  Sep-19  Oct-19  Nov-19  Dec-19  Jan-20  Feb-20  \\\n",
       "0   113.8   115.4  ...   253.7   262.1   273.2   283.4   289.8   295.7   \n",
       "1   110.6   111.8  ...   217.0   223.2   239.6   244.7   253.6   260.0   \n",
       "2   112.6   114.2  ...   250.5   260.0   270.4   280.3   287.2   294.0   \n",
       "3   119.4   121.1  ...   284.7   290.5   301.6   315.5   319.1   321.3   \n",
       "\n",
       "   Mar-20  Apr-20  May-20  Jun-20  \n",
       "0   305.6   310.1   314.9   322.0  \n",
       "1   272.7   285.9   299.3   313.6  \n",
       "2   303.2   308.4   313.3   320.6  \n",
       "3   331.9   329.7   329.4   331.8  \n",
       "\n",
       "[4 rows x 44 columns]"
      ]
     },
     "execution_count": 4,
     "metadata": {},
     "output_type": "execute_result"
    }
   ],
   "source": [
    "ipc_df.head()"
   ]
  },
  {
   "cell_type": "code",
   "execution_count": 5,
   "metadata": {
    "colab": {
     "base_uri": "https://localhost:8080/"
    },
    "id": "gQqzYbGo6wpI",
    "outputId": "365602ea-5711-42a6-a5f1-5a44102a30bd"
   },
   "outputs": [
    {
     "data": {
      "text/plain": [
       "(4, 44)"
      ]
     },
     "execution_count": 5,
     "metadata": {},
     "output_type": "execute_result"
    }
   ],
   "source": [
    "ipc_df.shape"
   ]
  },
  {
   "cell_type": "code",
   "execution_count": 6,
   "metadata": {
    "colab": {
     "base_uri": "https://localhost:8080/"
    },
    "id": "cigsMvX66wpJ",
    "outputId": "92909cc3-0215-43fb-fb7c-4bd48ecc9345"
   },
   "outputs": [
    {
     "data": {
      "text/plain": [
       "Index(['Apertura', 'Dec-16', 'Jan-17', 'Feb-17', 'Mar-17', 'Apr-17', 'May-17',\n",
       "       'Jun-17', 'Jul-17', 'Aug-17', 'Sep-17', 'Oct-17', 'Nov-17', 'Dec-17',\n",
       "       'Jan-18', 'Feb-18', 'Mar-18', 'Apr-18', 'May-18', 'Jun-18', 'Jul-18',\n",
       "       'Aug-18', 'Sep-18', 'Oct-18', 'Nov-18', 'Dec-18', 'Jan-19', 'Feb-19',\n",
       "       'Mar-19', 'Apr-19', 'May-19', 'Jun-19', 'Jul-19', 'Aug-19', 'Sep-19',\n",
       "       'Oct-19', 'Nov-19', 'Dec-19', 'Jan-20', 'Feb-20', 'Mar-20', 'Apr-20',\n",
       "       'May-20', 'Jun-20'],\n",
       "      dtype='object')"
      ]
     },
     "execution_count": 6,
     "metadata": {},
     "output_type": "execute_result"
    }
   ],
   "source": [
    "ipc_df.columns"
   ]
  },
  {
   "cell_type": "markdown",
   "metadata": {
    "id": "iWfoI6fK6wpK"
   },
   "source": [
    "**2) Modificar la tabla** para que cumpla con la definición de tidy data: cada variable debe ser una columna (Apertura, Fecha e Indice)."
   ]
  },
  {
   "cell_type": "code",
   "execution_count": 7,
   "metadata": {
    "colab": {
     "base_uri": "https://localhost:8080/",
     "height": 206
    },
    "id": "qR5j5lLk6wpM",
    "outputId": "625802e5-248c-4ba9-f759-0a44a2e681e5"
   },
   "outputs": [
    {
     "data": {
      "text/html": [
       "<div>\n",
       "<style scoped>\n",
       "    .dataframe tbody tr th:only-of-type {\n",
       "        vertical-align: middle;\n",
       "    }\n",
       "\n",
       "    .dataframe tbody tr th {\n",
       "        vertical-align: top;\n",
       "    }\n",
       "\n",
       "    .dataframe thead th {\n",
       "        text-align: right;\n",
       "    }\n",
       "</style>\n",
       "<table border=\"1\" class=\"dataframe\">\n",
       "  <thead>\n",
       "    <tr style=\"text-align: right;\">\n",
       "      <th></th>\n",
       "      <th>Apertura</th>\n",
       "      <th>Fecha</th>\n",
       "      <th>Indice</th>\n",
       "    </tr>\n",
       "  </thead>\n",
       "  <tbody>\n",
       "    <tr>\n",
       "      <th>0</th>\n",
       "      <td>Nivel general</td>\n",
       "      <td>Dec-16</td>\n",
       "      <td>100.0</td>\n",
       "    </tr>\n",
       "    <tr>\n",
       "      <th>1</th>\n",
       "      <td>Estacional</td>\n",
       "      <td>Dec-16</td>\n",
       "      <td>100.0</td>\n",
       "    </tr>\n",
       "    <tr>\n",
       "      <th>2</th>\n",
       "      <td>Núcleo</td>\n",
       "      <td>Dec-16</td>\n",
       "      <td>100.0</td>\n",
       "    </tr>\n",
       "    <tr>\n",
       "      <th>3</th>\n",
       "      <td>Regulados</td>\n",
       "      <td>Dec-16</td>\n",
       "      <td>100.0</td>\n",
       "    </tr>\n",
       "    <tr>\n",
       "      <th>4</th>\n",
       "      <td>Nivel general</td>\n",
       "      <td>Jan-17</td>\n",
       "      <td>101.6</td>\n",
       "    </tr>\n",
       "  </tbody>\n",
       "</table>\n",
       "</div>"
      ],
      "text/plain": [
       "        Apertura   Fecha  Indice\n",
       "0  Nivel general  Dec-16   100.0\n",
       "1     Estacional  Dec-16   100.0\n",
       "2         Núcleo  Dec-16   100.0\n",
       "3      Regulados  Dec-16   100.0\n",
       "4  Nivel general  Jan-17   101.6"
      ]
     },
     "execution_count": 7,
     "metadata": {},
     "output_type": "execute_result"
    }
   ],
   "source": [
    "ipc_df_tidy = pd.melt(ipc_df,\n",
    "        id_vars=[\"Apertura\"],\n",
    "        var_name=\"Fecha\",\n",
    "        value_name=\"Indice\")\n",
    "ipc_df_tidy.head()"
   ]
  },
  {
   "cell_type": "markdown",
   "metadata": {
    "id": "WG2kUDvy6wpN"
   },
   "source": [
    "**3)** Convertir la **variable de fecha** al formato date-time y extraer el año y el mes\n"
   ]
  },
  {
   "cell_type": "code",
   "execution_count": 8,
   "metadata": {
    "id": "Qe8DCp6u6wpO"
   },
   "outputs": [
    {
     "ename": "OutOfBoundsDatetime",
     "evalue": "Out of bounds nanosecond timestamp: Dec-16, at position 0",
     "output_type": "error",
     "traceback": [
      "\u001b[0;31m---------------------------------------------------------------------------\u001b[0m",
      "\u001b[0;31mOverflowError\u001b[0m                             Traceback (most recent call last)",
      "File \u001b[0;32mconversion.pyx:234\u001b[0m, in \u001b[0;36mpandas._libs.tslibs.conversion._TSObject.ensure_reso\u001b[0;34m()\u001b[0m\n",
      "File \u001b[0;32mnp_datetime.pyx:629\u001b[0m, in \u001b[0;36mpandas._libs.tslibs.np_datetime.convert_reso\u001b[0;34m()\u001b[0m\n",
      "\u001b[0;31mOverflowError\u001b[0m: value too large",
      "\nThe above exception was the direct cause of the following exception:\n",
      "\u001b[0;31mOutOfBoundsDatetime\u001b[0m                       Traceback (most recent call last)",
      "Cell \u001b[0;32mIn[8], line 1\u001b[0m\n\u001b[0;32m----> 1\u001b[0m ipc_df_tidy[\u001b[38;5;124m\"\u001b[39m\u001b[38;5;124mFecha\u001b[39m\u001b[38;5;124m\"\u001b[39m] \u001b[38;5;241m=\u001b[39m \u001b[43mpd\u001b[49m\u001b[38;5;241;43m.\u001b[39;49m\u001b[43mto_datetime\u001b[49m\u001b[43m(\u001b[49m\u001b[43mipc_df_tidy\u001b[49m\u001b[43m[\u001b[49m\u001b[38;5;124;43m\"\u001b[39;49m\u001b[38;5;124;43mFecha\u001b[39;49m\u001b[38;5;124;43m\"\u001b[39;49m\u001b[43m]\u001b[49m\u001b[43m)\u001b[49m\n",
      "File \u001b[0;32m/Library/Frameworks/Python.framework/Versions/3.12/lib/python3.12/site-packages/pandas/core/tools/datetimes.py:1108\u001b[0m, in \u001b[0;36mto_datetime\u001b[0;34m(arg, errors, dayfirst, yearfirst, utc, format, exact, unit, infer_datetime_format, origin, cache)\u001b[0m\n\u001b[1;32m   1106\u001b[0m             result \u001b[38;5;241m=\u001b[39m arg\u001b[38;5;241m.\u001b[39mtz_localize(\u001b[38;5;124m\"\u001b[39m\u001b[38;5;124mutc\u001b[39m\u001b[38;5;124m\"\u001b[39m)\n\u001b[1;32m   1107\u001b[0m \u001b[38;5;28;01melif\u001b[39;00m \u001b[38;5;28misinstance\u001b[39m(arg, ABCSeries):\n\u001b[0;32m-> 1108\u001b[0m     cache_array \u001b[38;5;241m=\u001b[39m \u001b[43m_maybe_cache\u001b[49m\u001b[43m(\u001b[49m\u001b[43marg\u001b[49m\u001b[43m,\u001b[49m\u001b[43m \u001b[49m\u001b[38;5;28;43mformat\u001b[39;49m\u001b[43m,\u001b[49m\u001b[43m \u001b[49m\u001b[43mcache\u001b[49m\u001b[43m,\u001b[49m\u001b[43m \u001b[49m\u001b[43mconvert_listlike\u001b[49m\u001b[43m)\u001b[49m\n\u001b[1;32m   1109\u001b[0m     \u001b[38;5;28;01mif\u001b[39;00m \u001b[38;5;129;01mnot\u001b[39;00m cache_array\u001b[38;5;241m.\u001b[39mempty:\n\u001b[1;32m   1110\u001b[0m         result \u001b[38;5;241m=\u001b[39m arg\u001b[38;5;241m.\u001b[39mmap(cache_array)\n",
      "File \u001b[0;32m/Library/Frameworks/Python.framework/Versions/3.12/lib/python3.12/site-packages/pandas/core/tools/datetimes.py:254\u001b[0m, in \u001b[0;36m_maybe_cache\u001b[0;34m(arg, format, cache, convert_listlike)\u001b[0m\n\u001b[1;32m    252\u001b[0m unique_dates \u001b[38;5;241m=\u001b[39m unique(arg)\n\u001b[1;32m    253\u001b[0m \u001b[38;5;28;01mif\u001b[39;00m \u001b[38;5;28mlen\u001b[39m(unique_dates) \u001b[38;5;241m<\u001b[39m \u001b[38;5;28mlen\u001b[39m(arg):\n\u001b[0;32m--> 254\u001b[0m     cache_dates \u001b[38;5;241m=\u001b[39m \u001b[43mconvert_listlike\u001b[49m\u001b[43m(\u001b[49m\u001b[43munique_dates\u001b[49m\u001b[43m,\u001b[49m\u001b[43m \u001b[49m\u001b[38;5;28;43mformat\u001b[39;49m\u001b[43m)\u001b[49m\n\u001b[1;32m    255\u001b[0m     \u001b[38;5;66;03m# GH#45319\u001b[39;00m\n\u001b[1;32m    256\u001b[0m     \u001b[38;5;28;01mtry\u001b[39;00m:\n",
      "File \u001b[0;32m/Library/Frameworks/Python.framework/Versions/3.12/lib/python3.12/site-packages/pandas/core/tools/datetimes.py:490\u001b[0m, in \u001b[0;36m_convert_listlike_datetimes\u001b[0;34m(arg, format, name, utc, unit, errors, dayfirst, yearfirst, exact)\u001b[0m\n\u001b[1;32m    487\u001b[0m \u001b[38;5;28;01mif\u001b[39;00m \u001b[38;5;28mformat\u001b[39m \u001b[38;5;129;01mis\u001b[39;00m \u001b[38;5;129;01mnot\u001b[39;00m \u001b[38;5;28;01mNone\u001b[39;00m \u001b[38;5;129;01mand\u001b[39;00m \u001b[38;5;28mformat\u001b[39m \u001b[38;5;241m!=\u001b[39m \u001b[38;5;124m\"\u001b[39m\u001b[38;5;124mmixed\u001b[39m\u001b[38;5;124m\"\u001b[39m:\n\u001b[1;32m    488\u001b[0m     \u001b[38;5;28;01mreturn\u001b[39;00m _array_strptime_with_fallback(arg, name, utc, \u001b[38;5;28mformat\u001b[39m, exact, errors)\n\u001b[0;32m--> 490\u001b[0m result, tz_parsed \u001b[38;5;241m=\u001b[39m \u001b[43mobjects_to_datetime64ns\u001b[49m\u001b[43m(\u001b[49m\n\u001b[1;32m    491\u001b[0m \u001b[43m    \u001b[49m\u001b[43marg\u001b[49m\u001b[43m,\u001b[49m\n\u001b[1;32m    492\u001b[0m \u001b[43m    \u001b[49m\u001b[43mdayfirst\u001b[49m\u001b[38;5;241;43m=\u001b[39;49m\u001b[43mdayfirst\u001b[49m\u001b[43m,\u001b[49m\n\u001b[1;32m    493\u001b[0m \u001b[43m    \u001b[49m\u001b[43myearfirst\u001b[49m\u001b[38;5;241;43m=\u001b[39;49m\u001b[43myearfirst\u001b[49m\u001b[43m,\u001b[49m\n\u001b[1;32m    494\u001b[0m \u001b[43m    \u001b[49m\u001b[43mutc\u001b[49m\u001b[38;5;241;43m=\u001b[39;49m\u001b[43mutc\u001b[49m\u001b[43m,\u001b[49m\n\u001b[1;32m    495\u001b[0m \u001b[43m    \u001b[49m\u001b[43merrors\u001b[49m\u001b[38;5;241;43m=\u001b[39;49m\u001b[43merrors\u001b[49m\u001b[43m,\u001b[49m\n\u001b[1;32m    496\u001b[0m \u001b[43m    \u001b[49m\u001b[43mallow_object\u001b[49m\u001b[38;5;241;43m=\u001b[39;49m\u001b[38;5;28;43;01mTrue\u001b[39;49;00m\u001b[43m,\u001b[49m\n\u001b[1;32m    497\u001b[0m \u001b[43m\u001b[49m\u001b[43m)\u001b[49m\n\u001b[1;32m    499\u001b[0m \u001b[38;5;28;01mif\u001b[39;00m tz_parsed \u001b[38;5;129;01mis\u001b[39;00m \u001b[38;5;129;01mnot\u001b[39;00m \u001b[38;5;28;01mNone\u001b[39;00m:\n\u001b[1;32m    500\u001b[0m     \u001b[38;5;66;03m# We can take a shortcut since the datetime64 numpy array\u001b[39;00m\n\u001b[1;32m    501\u001b[0m     \u001b[38;5;66;03m# is in UTC\u001b[39;00m\n\u001b[1;32m    502\u001b[0m     dta \u001b[38;5;241m=\u001b[39m DatetimeArray(result, dtype\u001b[38;5;241m=\u001b[39mtz_to_dtype(tz_parsed))\n",
      "File \u001b[0;32m/Library/Frameworks/Python.framework/Versions/3.12/lib/python3.12/site-packages/pandas/core/arrays/datetimes.py:2346\u001b[0m, in \u001b[0;36mobjects_to_datetime64ns\u001b[0;34m(data, dayfirst, yearfirst, utc, errors, allow_object)\u001b[0m\n\u001b[1;32m   2343\u001b[0m \u001b[38;5;66;03m# if str-dtype, convert\u001b[39;00m\n\u001b[1;32m   2344\u001b[0m data \u001b[38;5;241m=\u001b[39m np\u001b[38;5;241m.\u001b[39marray(data, copy\u001b[38;5;241m=\u001b[39m\u001b[38;5;28;01mFalse\u001b[39;00m, dtype\u001b[38;5;241m=\u001b[39mnp\u001b[38;5;241m.\u001b[39mobject_)\n\u001b[0;32m-> 2346\u001b[0m result, tz_parsed \u001b[38;5;241m=\u001b[39m \u001b[43mtslib\u001b[49m\u001b[38;5;241;43m.\u001b[39;49m\u001b[43marray_to_datetime\u001b[49m\u001b[43m(\u001b[49m\n\u001b[1;32m   2347\u001b[0m \u001b[43m    \u001b[49m\u001b[43mdata\u001b[49m\u001b[43m,\u001b[49m\n\u001b[1;32m   2348\u001b[0m \u001b[43m    \u001b[49m\u001b[43merrors\u001b[49m\u001b[38;5;241;43m=\u001b[39;49m\u001b[43merrors\u001b[49m\u001b[43m,\u001b[49m\n\u001b[1;32m   2349\u001b[0m \u001b[43m    \u001b[49m\u001b[43mutc\u001b[49m\u001b[38;5;241;43m=\u001b[39;49m\u001b[43mutc\u001b[49m\u001b[43m,\u001b[49m\n\u001b[1;32m   2350\u001b[0m \u001b[43m    \u001b[49m\u001b[43mdayfirst\u001b[49m\u001b[38;5;241;43m=\u001b[39;49m\u001b[43mdayfirst\u001b[49m\u001b[43m,\u001b[49m\n\u001b[1;32m   2351\u001b[0m \u001b[43m    \u001b[49m\u001b[43myearfirst\u001b[49m\u001b[38;5;241;43m=\u001b[39;49m\u001b[43myearfirst\u001b[49m\u001b[43m,\u001b[49m\n\u001b[1;32m   2352\u001b[0m \u001b[43m\u001b[49m\u001b[43m)\u001b[49m\n\u001b[1;32m   2354\u001b[0m \u001b[38;5;28;01mif\u001b[39;00m tz_parsed \u001b[38;5;129;01mis\u001b[39;00m \u001b[38;5;129;01mnot\u001b[39;00m \u001b[38;5;28;01mNone\u001b[39;00m:\n\u001b[1;32m   2355\u001b[0m     \u001b[38;5;66;03m# We can take a shortcut since the datetime64 numpy array\u001b[39;00m\n\u001b[1;32m   2356\u001b[0m     \u001b[38;5;66;03m#  is in UTC\u001b[39;00m\n\u001b[1;32m   2357\u001b[0m     \u001b[38;5;66;03m# Return i8 values to denote unix timestamps\u001b[39;00m\n\u001b[1;32m   2358\u001b[0m     \u001b[38;5;28;01mreturn\u001b[39;00m result\u001b[38;5;241m.\u001b[39mview(\u001b[38;5;124m\"\u001b[39m\u001b[38;5;124mi8\u001b[39m\u001b[38;5;124m\"\u001b[39m), tz_parsed\n",
      "File \u001b[0;32mtslib.pyx:403\u001b[0m, in \u001b[0;36mpandas._libs.tslib.array_to_datetime\u001b[0;34m()\u001b[0m\n",
      "File \u001b[0;32mtslib.pyx:552\u001b[0m, in \u001b[0;36mpandas._libs.tslib.array_to_datetime\u001b[0;34m()\u001b[0m\n",
      "File \u001b[0;32mtslib.pyx:520\u001b[0m, in \u001b[0;36mpandas._libs.tslib.array_to_datetime\u001b[0;34m()\u001b[0m\n",
      "File \u001b[0;32mconversion.pyx:237\u001b[0m, in \u001b[0;36mpandas._libs.tslibs.conversion._TSObject.ensure_reso\u001b[0;34m()\u001b[0m\n",
      "\u001b[0;31mOutOfBoundsDatetime\u001b[0m: Out of bounds nanosecond timestamp: Dec-16, at position 0"
     ]
    }
   ],
   "source": [
    "ipc_df_tidy[\"Fecha\"] = pd.to_datetime(ipc_df_tidy[\"Fecha\"])"
   ]
  },
  {
   "cell_type": "code",
   "execution_count": null,
   "metadata": {
    "colab": {
     "base_uri": "https://localhost:8080/"
    },
    "id": "E4Cg1AkL8CaN",
    "outputId": "7a5d034a-48b1-4759-978d-016a29eed83f"
   },
   "outputs": [],
   "source": [
    "ipc_df_tidy.info()"
   ]
  },
  {
   "cell_type": "code",
   "execution_count": null,
   "metadata": {
    "colab": {
     "base_uri": "https://localhost:8080/",
     "height": 206
    },
    "id": "_Z0jm9OX8H3c",
    "outputId": "52775e06-322b-4f8a-ffe1-964452c8c63c"
   },
   "outputs": [],
   "source": [
    "ipc_df_tidy.head()"
   ]
  },
  {
   "cell_type": "code",
   "execution_count": null,
   "metadata": {
    "colab": {
     "base_uri": "https://localhost:8080/",
     "height": 237
    },
    "id": "kuCkzkOD9zJ9",
    "outputId": "7221c7fb-b6e2-4218-be28-9cd6d269b7d1"
   },
   "outputs": [],
   "source": [
    "ipc_df_tidy = ipc_df_tidy.set_index(\"Fecha\")\n",
    "ipc_df_tidy.head()"
   ]
  },
  {
   "cell_type": "code",
   "execution_count": null,
   "metadata": {
    "colab": {
     "base_uri": "https://localhost:8080/"
    },
    "id": "JtI5MCf2-oa8",
    "outputId": "5e58274d-143c-4d72-8af1-8a9b7fcd89e2"
   },
   "outputs": [],
   "source": [
    "ipc_df_tidy.index"
   ]
  },
  {
   "cell_type": "code",
   "execution_count": null,
   "metadata": {
    "colab": {
     "base_uri": "https://localhost:8080/",
     "height": 237
    },
    "id": "FYo8YtHr-tza",
    "outputId": "3a0afe29-e847-49d9-bfb2-4c3aa0c24105"
   },
   "outputs": [],
   "source": [
    "ipc_df_tidy[\"Año\"] = ipc_df_tidy.index.year\n",
    "ipc_df_tidy[\"Mes\"] = ipc_df_tidy.index.month\n",
    "ipc_df_tidy.head()"
   ]
  },
  {
   "cell_type": "markdown",
   "metadata": {
    "id": "knQCmH9M6wpP"
   },
   "source": [
    "**4)** Calcular el **indice promedio, mediano y maximo** por año para cada nivel de apertura."
   ]
  },
  {
   "cell_type": "code",
   "execution_count": null,
   "metadata": {
    "colab": {
     "base_uri": "https://localhost:8080/",
     "height": 551
    },
    "id": "N6RHSD0J6wpQ",
    "outputId": "ff6f44c3-1d9f-46f6-a105-cb80c13e34d8",
    "scrolled": true
   },
   "outputs": [],
   "source": [
    "ipc_df_tidy.head(15)"
   ]
  },
  {
   "cell_type": "code",
   "execution_count": null,
   "metadata": {
    "colab": {
     "base_uri": "https://localhost:8080/",
     "height": 708
    },
    "id": "qsGet_2P_vjw",
    "outputId": "ad86252f-27bf-4438-a55c-3168be6db003"
   },
   "outputs": [],
   "source": [
    "resultado = (ipc_df_tidy.groupby([\"Año\", \"Apertura\"])\n",
    "                        .agg({\n",
    "                            \"Indice\": [\"mean\", \"median\", \"max\"]\n",
    "                        }))\n",
    "resultado.columns = [\"Promedio\", \"Mediana\", \"Máximo\"]\n",
    "resultado = resultado.round({'Promedio': 2, 'Mediana': 2, 'Máximo': 2})\n",
    "resultado"
   ]
  },
  {
   "cell_type": "markdown",
   "metadata": {
    "id": "zzTwkSlm6wpQ"
   },
   "source": [
    "**5) Graficar**"
   ]
  },
  {
   "cell_type": "code",
   "execution_count": null,
   "metadata": {
    "colab": {
     "base_uri": "https://localhost:8080/",
     "height": 576
    },
    "id": "nIBdzTtJ6wpQ",
    "outputId": "eb17186e-b378-4af9-d1d6-0682cd88151e"
   },
   "outputs": [],
   "source": [
    "import matplotlib.pyplot as plt\n",
    "\n",
    "ipc_df_tidy[ipc_df_tidy[\"Apertura\"] == \"Nivel general\"][\"Indice\"].plot(figsize=(8,6))"
   ]
  },
  {
   "cell_type": "markdown",
   "metadata": {
    "id": "IdlDiexo6wpR"
   },
   "source": [
    "### Dolar\n",
    "\n",
    "La base de cotización de dolar traer los precios de compra y venta oficiales de la divisa en Argentina desde el 01-06-2015 hasta el 03-08-2020 según el portal Ámbito Financiero.\n",
    "\n",
    "Para proseguir con el informe se quiere obtener la cotización media diaria (promedio entre compra y venta) y obtener la mediana mensual con su respectivo gráfico. Adicionalmente, se quiere encontrar el top 5 de los días con mayores aumentos porcentuales en el tipo de cambio para la misma ventana de tiempo que se analizó el IPC (desde 01-12-2016 hasta el 30-06-2020)\n",
    "\n",
    "**Pasos sugeridos:**\n",
    "\n",
    "    1) Leer los datos de la cotización del dolar\n",
    "\n",
    "    2) Crear una variable que compute el valor promedio entre compra y venta por día\n",
    "\n",
    "    3) Convertir la fecha de un dato tipo string a un objeto datetime (to_datetime). Construir las variables de año y mes.\n",
    "\n",
    "    4) Calcular el promedio mensual y graficar (recordar ordenar en forma ascendente la fecha)\n",
    "\n",
    "    5) Ordenar de manera ascendente por fecha, filtrar las fechas señaladas y calcular la variación porcentual diaria en la cotización\n",
    "\n",
    "    6) Hallar los 5 días con mayor variación en la cotización."
   ]
  },
  {
   "cell_type": "markdown",
   "metadata": {
    "id": "DtkEIwrQ6wpR"
   },
   "source": [
    "**1)** Leer los datos de la cotización del dolar"
   ]
  },
  {
   "cell_type": "code",
   "execution_count": 25,
   "metadata": {
    "id": "iu0hKJSK6wpR"
   },
   "outputs": [],
   "source": [
    "dolar_df = pd.read_csv('./dolar_oficial_ambito.csv')"
   ]
  },
  {
   "cell_type": "code",
   "execution_count": 26,
   "metadata": {
    "colab": {
     "base_uri": "https://localhost:8080/"
    },
    "id": "ZrJShvHUDe0h",
    "outputId": "d7575d8f-4f67-428b-c80d-e514454f8b50"
   },
   "outputs": [
    {
     "data": {
      "text/plain": [
       "(1268, 3)"
      ]
     },
     "execution_count": 26,
     "metadata": {},
     "output_type": "execute_result"
    }
   ],
   "source": [
    "dolar_df.shape"
   ]
  },
  {
   "cell_type": "code",
   "execution_count": 27,
   "metadata": {
    "colab": {
     "base_uri": "https://localhost:8080/",
     "height": 206
    },
    "id": "qrc9r8VKDg6S",
    "outputId": "aa0177ec-e5cd-4980-c35d-c8aef61c6a6d"
   },
   "outputs": [
    {
     "data": {
      "text/html": [
       "<div>\n",
       "<style scoped>\n",
       "    .dataframe tbody tr th:only-of-type {\n",
       "        vertical-align: middle;\n",
       "    }\n",
       "\n",
       "    .dataframe tbody tr th {\n",
       "        vertical-align: top;\n",
       "    }\n",
       "\n",
       "    .dataframe thead th {\n",
       "        text-align: right;\n",
       "    }\n",
       "</style>\n",
       "<table border=\"1\" class=\"dataframe\">\n",
       "  <thead>\n",
       "    <tr style=\"text-align: right;\">\n",
       "      <th></th>\n",
       "      <th>fecha</th>\n",
       "      <th>compra</th>\n",
       "      <th>venta</th>\n",
       "    </tr>\n",
       "  </thead>\n",
       "  <tbody>\n",
       "    <tr>\n",
       "      <th>0</th>\n",
       "      <td>05-08-2020</td>\n",
       "      <td>71.89</td>\n",
       "      <td>76.89</td>\n",
       "    </tr>\n",
       "    <tr>\n",
       "      <th>1</th>\n",
       "      <td>04-08-2020</td>\n",
       "      <td>71.69</td>\n",
       "      <td>76.69</td>\n",
       "    </tr>\n",
       "    <tr>\n",
       "      <th>2</th>\n",
       "      <td>03-08-2020</td>\n",
       "      <td>71.64</td>\n",
       "      <td>76.64</td>\n",
       "    </tr>\n",
       "    <tr>\n",
       "      <th>3</th>\n",
       "      <td>31-07-2020</td>\n",
       "      <td>71.39</td>\n",
       "      <td>76.39</td>\n",
       "    </tr>\n",
       "    <tr>\n",
       "      <th>4</th>\n",
       "      <td>30-07-2020</td>\n",
       "      <td>71.27</td>\n",
       "      <td>76.27</td>\n",
       "    </tr>\n",
       "  </tbody>\n",
       "</table>\n",
       "</div>"
      ],
      "text/plain": [
       "        fecha  compra  venta\n",
       "0  05-08-2020   71.89  76.89\n",
       "1  04-08-2020   71.69  76.69\n",
       "2  03-08-2020   71.64  76.64\n",
       "3  31-07-2020   71.39  76.39\n",
       "4  30-07-2020   71.27  76.27"
      ]
     },
     "execution_count": 27,
     "metadata": {},
     "output_type": "execute_result"
    }
   ],
   "source": [
    "dolar_df.head()"
   ]
  },
  {
   "cell_type": "markdown",
   "metadata": {
    "id": "W6nVBeNL6wpR"
   },
   "source": [
    "**2)** Crear una variable que compute el valor **promedio** entre compra y venta por día"
   ]
  },
  {
   "cell_type": "code",
   "execution_count": 28,
   "metadata": {
    "colab": {
     "base_uri": "https://localhost:8080/",
     "height": 206
    },
    "id": "KVO3LSOM6wpS",
    "outputId": "b2f9f76b-c602-4ce7-d371-c078af083dea"
   },
   "outputs": [
    {
     "data": {
      "text/html": [
       "<div>\n",
       "<style scoped>\n",
       "    .dataframe tbody tr th:only-of-type {\n",
       "        vertical-align: middle;\n",
       "    }\n",
       "\n",
       "    .dataframe tbody tr th {\n",
       "        vertical-align: top;\n",
       "    }\n",
       "\n",
       "    .dataframe thead th {\n",
       "        text-align: right;\n",
       "    }\n",
       "</style>\n",
       "<table border=\"1\" class=\"dataframe\">\n",
       "  <thead>\n",
       "    <tr style=\"text-align: right;\">\n",
       "      <th></th>\n",
       "      <th>fecha</th>\n",
       "      <th>compra</th>\n",
       "      <th>venta</th>\n",
       "      <th>promedio</th>\n",
       "    </tr>\n",
       "  </thead>\n",
       "  <tbody>\n",
       "    <tr>\n",
       "      <th>0</th>\n",
       "      <td>05-08-2020</td>\n",
       "      <td>71.89</td>\n",
       "      <td>76.89</td>\n",
       "      <td>74.39</td>\n",
       "    </tr>\n",
       "    <tr>\n",
       "      <th>1</th>\n",
       "      <td>04-08-2020</td>\n",
       "      <td>71.69</td>\n",
       "      <td>76.69</td>\n",
       "      <td>74.19</td>\n",
       "    </tr>\n",
       "    <tr>\n",
       "      <th>2</th>\n",
       "      <td>03-08-2020</td>\n",
       "      <td>71.64</td>\n",
       "      <td>76.64</td>\n",
       "      <td>74.14</td>\n",
       "    </tr>\n",
       "    <tr>\n",
       "      <th>3</th>\n",
       "      <td>31-07-2020</td>\n",
       "      <td>71.39</td>\n",
       "      <td>76.39</td>\n",
       "      <td>73.89</td>\n",
       "    </tr>\n",
       "    <tr>\n",
       "      <th>4</th>\n",
       "      <td>30-07-2020</td>\n",
       "      <td>71.27</td>\n",
       "      <td>76.27</td>\n",
       "      <td>73.77</td>\n",
       "    </tr>\n",
       "  </tbody>\n",
       "</table>\n",
       "</div>"
      ],
      "text/plain": [
       "        fecha  compra  venta  promedio\n",
       "0  05-08-2020   71.89  76.89     74.39\n",
       "1  04-08-2020   71.69  76.69     74.19\n",
       "2  03-08-2020   71.64  76.64     74.14\n",
       "3  31-07-2020   71.39  76.39     73.89\n",
       "4  30-07-2020   71.27  76.27     73.77"
      ]
     },
     "execution_count": 28,
     "metadata": {},
     "output_type": "execute_result"
    }
   ],
   "source": [
    "dolar_df[\"promedio\"] = dolar_df.loc[:, [\"venta\", \"compra\"]].mean(axis=1)\n",
    "dolar_df = dolar_df.round({\"promedio\": 2})\n",
    "dolar_df.head()"
   ]
  },
  {
   "cell_type": "markdown",
   "metadata": {
    "id": "qeAYtI366wpS"
   },
   "source": [
    "**3)** Convertir la **fecha** de un dato tipo string a un objeto datetime (to_datetime) y construir las variables de año y mes"
   ]
  },
  {
   "cell_type": "code",
   "execution_count": 29,
   "metadata": {
    "id": "iuXEKSSm6wpS"
   },
   "outputs": [],
   "source": [
    "dolar_df[\"fecha\"] = pd.to_datetime(dolar_df[\"fecha\"], format=\"%d-%m-%Y\")"
   ]
  },
  {
   "cell_type": "code",
   "execution_count": 30,
   "metadata": {
    "colab": {
     "base_uri": "https://localhost:8080/"
    },
    "id": "pkNjt0PXE2ve",
    "outputId": "bff35642-b3cf-40b5-fbbc-eab685c01c1d"
   },
   "outputs": [
    {
     "name": "stdout",
     "output_type": "stream",
     "text": [
      "<class 'pandas.core.frame.DataFrame'>\n",
      "RangeIndex: 1268 entries, 0 to 1267\n",
      "Data columns (total 4 columns):\n",
      " #   Column    Non-Null Count  Dtype         \n",
      "---  ------    --------------  -----         \n",
      " 0   fecha     1268 non-null   datetime64[ns]\n",
      " 1   compra    1268 non-null   float64       \n",
      " 2   venta     1268 non-null   float64       \n",
      " 3   promedio  1268 non-null   float64       \n",
      "dtypes: datetime64[ns](1), float64(3)\n",
      "memory usage: 39.8 KB\n"
     ]
    }
   ],
   "source": [
    "dolar_df.info()"
   ]
  },
  {
   "cell_type": "code",
   "execution_count": 31,
   "metadata": {
    "colab": {
     "base_uri": "https://localhost:8080/",
     "height": 237
    },
    "id": "ynIFdG29E6Ik",
    "outputId": "b53e5213-852d-4580-a4f1-1a62c4e44b78"
   },
   "outputs": [
    {
     "data": {
      "text/html": [
       "<div>\n",
       "<style scoped>\n",
       "    .dataframe tbody tr th:only-of-type {\n",
       "        vertical-align: middle;\n",
       "    }\n",
       "\n",
       "    .dataframe tbody tr th {\n",
       "        vertical-align: top;\n",
       "    }\n",
       "\n",
       "    .dataframe thead th {\n",
       "        text-align: right;\n",
       "    }\n",
       "</style>\n",
       "<table border=\"1\" class=\"dataframe\">\n",
       "  <thead>\n",
       "    <tr style=\"text-align: right;\">\n",
       "      <th></th>\n",
       "      <th>compra</th>\n",
       "      <th>venta</th>\n",
       "      <th>promedio</th>\n",
       "      <th>año</th>\n",
       "      <th>mes</th>\n",
       "    </tr>\n",
       "    <tr>\n",
       "      <th>fecha</th>\n",
       "      <th></th>\n",
       "      <th></th>\n",
       "      <th></th>\n",
       "      <th></th>\n",
       "      <th></th>\n",
       "    </tr>\n",
       "  </thead>\n",
       "  <tbody>\n",
       "    <tr>\n",
       "      <th>2020-08-05</th>\n",
       "      <td>71.89</td>\n",
       "      <td>76.89</td>\n",
       "      <td>74.39</td>\n",
       "      <td>2020</td>\n",
       "      <td>8</td>\n",
       "    </tr>\n",
       "    <tr>\n",
       "      <th>2020-08-04</th>\n",
       "      <td>71.69</td>\n",
       "      <td>76.69</td>\n",
       "      <td>74.19</td>\n",
       "      <td>2020</td>\n",
       "      <td>8</td>\n",
       "    </tr>\n",
       "    <tr>\n",
       "      <th>2020-08-03</th>\n",
       "      <td>71.64</td>\n",
       "      <td>76.64</td>\n",
       "      <td>74.14</td>\n",
       "      <td>2020</td>\n",
       "      <td>8</td>\n",
       "    </tr>\n",
       "    <tr>\n",
       "      <th>2020-07-31</th>\n",
       "      <td>71.39</td>\n",
       "      <td>76.39</td>\n",
       "      <td>73.89</td>\n",
       "      <td>2020</td>\n",
       "      <td>7</td>\n",
       "    </tr>\n",
       "    <tr>\n",
       "      <th>2020-07-30</th>\n",
       "      <td>71.27</td>\n",
       "      <td>76.27</td>\n",
       "      <td>73.77</td>\n",
       "      <td>2020</td>\n",
       "      <td>7</td>\n",
       "    </tr>\n",
       "  </tbody>\n",
       "</table>\n",
       "</div>"
      ],
      "text/plain": [
       "            compra  venta  promedio   año  mes\n",
       "fecha                                         \n",
       "2020-08-05   71.89  76.89     74.39  2020    8\n",
       "2020-08-04   71.69  76.69     74.19  2020    8\n",
       "2020-08-03   71.64  76.64     74.14  2020    8\n",
       "2020-07-31   71.39  76.39     73.89  2020    7\n",
       "2020-07-30   71.27  76.27     73.77  2020    7"
      ]
     },
     "execution_count": 31,
     "metadata": {},
     "output_type": "execute_result"
    }
   ],
   "source": [
    "dolar_df = dolar_df.set_index(\"fecha\")\n",
    "dolar_df[\"año\"] = dolar_df.index.year\n",
    "dolar_df[\"mes\"] = dolar_df.index.month\n",
    "dolar_df.head()"
   ]
  },
  {
   "cell_type": "markdown",
   "metadata": {
    "id": "3T4aNgQs6wpT"
   },
   "source": [
    "**4)** Calcular el promedio mensual y graficar."
   ]
  },
  {
   "cell_type": "code",
   "execution_count": 32,
   "metadata": {
    "colab": {
     "base_uri": "https://localhost:8080/",
     "height": 237
    },
    "id": "0Kdd8wgx6wpT",
    "outputId": "76cba8c4-333b-41ba-9635-c9fab914fdf2"
   },
   "outputs": [
    {
     "data": {
      "text/html": [
       "<div>\n",
       "<style scoped>\n",
       "    .dataframe tbody tr th:only-of-type {\n",
       "        vertical-align: middle;\n",
       "    }\n",
       "\n",
       "    .dataframe tbody tr th {\n",
       "        vertical-align: top;\n",
       "    }\n",
       "\n",
       "    .dataframe thead th {\n",
       "        text-align: right;\n",
       "    }\n",
       "</style>\n",
       "<table border=\"1\" class=\"dataframe\">\n",
       "  <thead>\n",
       "    <tr style=\"text-align: right;\">\n",
       "      <th></th>\n",
       "      <th></th>\n",
       "      <th>prom_mensual</th>\n",
       "    </tr>\n",
       "    <tr>\n",
       "      <th>año</th>\n",
       "      <th>mes</th>\n",
       "      <th></th>\n",
       "    </tr>\n",
       "  </thead>\n",
       "  <tbody>\n",
       "    <tr>\n",
       "      <th rowspan=\"5\" valign=\"top\">2015</th>\n",
       "      <th>6</th>\n",
       "      <td>9.031818</td>\n",
       "    </tr>\n",
       "    <tr>\n",
       "      <th>7</th>\n",
       "      <td>9.132727</td>\n",
       "    </tr>\n",
       "    <tr>\n",
       "      <th>8</th>\n",
       "      <td>9.232500</td>\n",
       "    </tr>\n",
       "    <tr>\n",
       "      <th>9</th>\n",
       "      <td>9.355455</td>\n",
       "    </tr>\n",
       "    <tr>\n",
       "      <th>10</th>\n",
       "      <td>9.479048</td>\n",
       "    </tr>\n",
       "  </tbody>\n",
       "</table>\n",
       "</div>"
      ],
      "text/plain": [
       "          prom_mensual\n",
       "año  mes              \n",
       "2015 6        9.031818\n",
       "     7        9.132727\n",
       "     8        9.232500\n",
       "     9        9.355455\n",
       "     10       9.479048"
      ]
     },
     "execution_count": 32,
     "metadata": {},
     "output_type": "execute_result"
    }
   ],
   "source": [
    "resultado = (dolar_df.groupby([\"año\", \"mes\"])\n",
    "                     .agg({\n",
    "                         \"promedio\": \"mean\"\n",
    "                     }))\n",
    "resultado.columns = [\"prom_mensual\"]\n",
    "resultado.head()"
   ]
  },
  {
   "cell_type": "code",
   "execution_count": 18,
   "metadata": {
    "colab": {
     "base_uri": "https://localhost:8080/",
     "height": 406
    },
    "id": "m-umFL6RGHwN",
    "outputId": "4eb4c7db-acfe-4974-8dbc-bcf76194bb1a"
   },
   "outputs": [
    {
     "data": {
      "text/plain": [
       "<Axes: xlabel='año,mes'>"
      ]
     },
     "execution_count": 18,
     "metadata": {},
     "output_type": "execute_result"
    },
    {
     "data": {
      "image/png": "[encoded data removed]",
      "text/plain": [
       "<Figure size 800x400 with 1 Axes>"
      ]
     },
     "metadata": {},
     "output_type": "display_data"
    }
   ],
   "source": [
    "resultado[\"prom_mensual\"].plot(figsize=(8,4), style=\"--\")"
   ]
  },
  {
   "cell_type": "markdown",
   "metadata": {
    "id": "MTdLcApW6wpT"
   },
   "source": [
    "**5)** Ordenar de manera ascendente por fecha, filtrar las fechas señaladas y calcular la variación porcentual diaria en la cotización.\n",
    "\n",
    "Fechas indicadas: \"2016-12-01\" - \"2020-06-30\"\n",
    "\n",
    "Para calcular la variación porcentual debemos realizar la siguiente cuenta:\n",
    "\n",
    "$VariacionPorcentual = \\frac{CotizacionHoy - CotizacionAyer}{CotizacionAyer}*100$"
   ]
  },
  {
   "cell_type": "code",
   "execution_count": 33,
   "metadata": {
    "colab": {
     "base_uri": "https://localhost:8080/",
     "height": 237
    },
    "id": "exfROwin6wpT",
    "outputId": "850ad7c4-3ad2-4012-d378-a3132bf24795"
   },
   "outputs": [
    {
     "data": {
      "text/html": [
       "<div>\n",
       "<style scoped>\n",
       "    .dataframe tbody tr th:only-of-type {\n",
       "        vertical-align: middle;\n",
       "    }\n",
       "\n",
       "    .dataframe tbody tr th {\n",
       "        vertical-align: top;\n",
       "    }\n",
       "\n",
       "    .dataframe thead th {\n",
       "        text-align: right;\n",
       "    }\n",
       "</style>\n",
       "<table border=\"1\" class=\"dataframe\">\n",
       "  <thead>\n",
       "    <tr style=\"text-align: right;\">\n",
       "      <th></th>\n",
       "      <th>compra</th>\n",
       "      <th>venta</th>\n",
       "      <th>promedio</th>\n",
       "      <th>año</th>\n",
       "      <th>mes</th>\n",
       "    </tr>\n",
       "    <tr>\n",
       "      <th>fecha</th>\n",
       "      <th></th>\n",
       "      <th></th>\n",
       "      <th></th>\n",
       "      <th></th>\n",
       "      <th></th>\n",
       "    </tr>\n",
       "  </thead>\n",
       "  <tbody>\n",
       "    <tr>\n",
       "      <th>2015-06-01</th>\n",
       "      <td>8.96</td>\n",
       "      <td>9.01</td>\n",
       "      <td>8.98</td>\n",
       "      <td>2015</td>\n",
       "      <td>6</td>\n",
       "    </tr>\n",
       "    <tr>\n",
       "      <th>2015-06-02</th>\n",
       "      <td>8.97</td>\n",
       "      <td>9.02</td>\n",
       "      <td>9.00</td>\n",
       "      <td>2015</td>\n",
       "      <td>6</td>\n",
       "    </tr>\n",
       "    <tr>\n",
       "      <th>2015-06-03</th>\n",
       "      <td>8.97</td>\n",
       "      <td>9.02</td>\n",
       "      <td>9.00</td>\n",
       "      <td>2015</td>\n",
       "      <td>6</td>\n",
       "    </tr>\n",
       "    <tr>\n",
       "      <th>2015-06-04</th>\n",
       "      <td>8.97</td>\n",
       "      <td>9.02</td>\n",
       "      <td>9.00</td>\n",
       "      <td>2015</td>\n",
       "      <td>6</td>\n",
       "    </tr>\n",
       "    <tr>\n",
       "      <th>2015-06-05</th>\n",
       "      <td>8.98</td>\n",
       "      <td>9.03</td>\n",
       "      <td>9.00</td>\n",
       "      <td>2015</td>\n",
       "      <td>6</td>\n",
       "    </tr>\n",
       "  </tbody>\n",
       "</table>\n",
       "</div>"
      ],
      "text/plain": [
       "            compra  venta  promedio   año  mes\n",
       "fecha                                         \n",
       "2015-06-01    8.96   9.01      8.98  2015    6\n",
       "2015-06-02    8.97   9.02      9.00  2015    6\n",
       "2015-06-03    8.97   9.02      9.00  2015    6\n",
       "2015-06-04    8.97   9.02      9.00  2015    6\n",
       "2015-06-05    8.98   9.03      9.00  2015    6"
      ]
     },
     "execution_count": 33,
     "metadata": {},
     "output_type": "execute_result"
    }
   ],
   "source": [
    "dolar_df.sort_index(ascending=True, inplace=True)\n",
    "dolar_df.head()"
   ]
  },
  {
   "cell_type": "code",
   "execution_count": 34,
   "metadata": {
    "id": "OXT8Dkf2HMqG"
   },
   "outputs": [
    {
     "data": {
      "text/html": [
       "<div>\n",
       "<style scoped>\n",
       "    .dataframe tbody tr th:only-of-type {\n",
       "        vertical-align: middle;\n",
       "    }\n",
       "\n",
       "    .dataframe tbody tr th {\n",
       "        vertical-align: top;\n",
       "    }\n",
       "\n",
       "    .dataframe thead th {\n",
       "        text-align: right;\n",
       "    }\n",
       "</style>\n",
       "<table border=\"1\" class=\"dataframe\">\n",
       "  <thead>\n",
       "    <tr style=\"text-align: right;\">\n",
       "      <th></th>\n",
       "      <th>compra</th>\n",
       "      <th>venta</th>\n",
       "      <th>promedio</th>\n",
       "      <th>año</th>\n",
       "      <th>mes</th>\n",
       "    </tr>\n",
       "    <tr>\n",
       "      <th>fecha</th>\n",
       "      <th></th>\n",
       "      <th></th>\n",
       "      <th></th>\n",
       "      <th></th>\n",
       "      <th></th>\n",
       "    </tr>\n",
       "  </thead>\n",
       "  <tbody>\n",
       "    <tr>\n",
       "      <th>2016-12-01</th>\n",
       "      <td>15.71</td>\n",
       "      <td>16.11</td>\n",
       "      <td>15.91</td>\n",
       "      <td>2016</td>\n",
       "      <td>12</td>\n",
       "    </tr>\n",
       "    <tr>\n",
       "      <th>2016-12-02</th>\n",
       "      <td>15.70</td>\n",
       "      <td>16.10</td>\n",
       "      <td>15.90</td>\n",
       "      <td>2016</td>\n",
       "      <td>12</td>\n",
       "    </tr>\n",
       "    <tr>\n",
       "      <th>2016-12-05</th>\n",
       "      <td>15.75</td>\n",
       "      <td>16.15</td>\n",
       "      <td>15.95</td>\n",
       "      <td>2016</td>\n",
       "      <td>12</td>\n",
       "    </tr>\n",
       "    <tr>\n",
       "      <th>2016-12-06</th>\n",
       "      <td>15.73</td>\n",
       "      <td>16.13</td>\n",
       "      <td>15.93</td>\n",
       "      <td>2016</td>\n",
       "      <td>12</td>\n",
       "    </tr>\n",
       "    <tr>\n",
       "      <th>2016-12-07</th>\n",
       "      <td>15.79</td>\n",
       "      <td>16.19</td>\n",
       "      <td>15.99</td>\n",
       "      <td>2016</td>\n",
       "      <td>12</td>\n",
       "    </tr>\n",
       "  </tbody>\n",
       "</table>\n",
       "</div>"
      ],
      "text/plain": [
       "            compra  venta  promedio   año  mes\n",
       "fecha                                         \n",
       "2016-12-01   15.71  16.11     15.91  2016   12\n",
       "2016-12-02   15.70  16.10     15.90  2016   12\n",
       "2016-12-05   15.75  16.15     15.95  2016   12\n",
       "2016-12-06   15.73  16.13     15.93  2016   12\n",
       "2016-12-07   15.79  16.19     15.99  2016   12"
      ]
     },
     "execution_count": 34,
     "metadata": {},
     "output_type": "execute_result"
    }
   ],
   "source": [
    "dolar_df_filtrado = dolar_df.loc[\"2016-12-01\":\"2020-06-30\"]\n",
    "dolar_df_filtrado.head()"
   ]
  },
  {
   "cell_type": "code",
   "execution_count": 39,
   "metadata": {},
   "outputs": [
    {
     "data": {
      "text/html": [
       "<div>\n",
       "<style scoped>\n",
       "    .dataframe tbody tr th:only-of-type {\n",
       "        vertical-align: middle;\n",
       "    }\n",
       "\n",
       "    .dataframe tbody tr th {\n",
       "        vertical-align: top;\n",
       "    }\n",
       "\n",
       "    .dataframe thead th {\n",
       "        text-align: right;\n",
       "    }\n",
       "</style>\n",
       "<table border=\"1\" class=\"dataframe\">\n",
       "  <thead>\n",
       "    <tr style=\"text-align: right;\">\n",
       "      <th></th>\n",
       "      <th>compra</th>\n",
       "      <th>venta</th>\n",
       "      <th>promedio</th>\n",
       "      <th>año</th>\n",
       "      <th>mes</th>\n",
       "      <th>diferencia_diaria</th>\n",
       "      <th>cotizacion_ayer</th>\n",
       "    </tr>\n",
       "    <tr>\n",
       "      <th>fecha</th>\n",
       "      <th></th>\n",
       "      <th></th>\n",
       "      <th></th>\n",
       "      <th></th>\n",
       "      <th></th>\n",
       "      <th></th>\n",
       "      <th></th>\n",
       "    </tr>\n",
       "  </thead>\n",
       "  <tbody>\n",
       "    <tr>\n",
       "      <th>2016-12-01</th>\n",
       "      <td>15.71</td>\n",
       "      <td>16.11</td>\n",
       "      <td>15.91</td>\n",
       "      <td>2016</td>\n",
       "      <td>12</td>\n",
       "      <td>NaN</td>\n",
       "      <td>0.00</td>\n",
       "    </tr>\n",
       "    <tr>\n",
       "      <th>2016-12-02</th>\n",
       "      <td>15.70</td>\n",
       "      <td>16.10</td>\n",
       "      <td>15.90</td>\n",
       "      <td>2016</td>\n",
       "      <td>12</td>\n",
       "      <td>-0.01</td>\n",
       "      <td>15.91</td>\n",
       "    </tr>\n",
       "    <tr>\n",
       "      <th>2016-12-05</th>\n",
       "      <td>15.75</td>\n",
       "      <td>16.15</td>\n",
       "      <td>15.95</td>\n",
       "      <td>2016</td>\n",
       "      <td>12</td>\n",
       "      <td>0.05</td>\n",
       "      <td>15.90</td>\n",
       "    </tr>\n",
       "    <tr>\n",
       "      <th>2016-12-06</th>\n",
       "      <td>15.73</td>\n",
       "      <td>16.13</td>\n",
       "      <td>15.93</td>\n",
       "      <td>2016</td>\n",
       "      <td>12</td>\n",
       "      <td>-0.02</td>\n",
       "      <td>15.95</td>\n",
       "    </tr>\n",
       "    <tr>\n",
       "      <th>2016-12-07</th>\n",
       "      <td>15.79</td>\n",
       "      <td>16.19</td>\n",
       "      <td>15.99</td>\n",
       "      <td>2016</td>\n",
       "      <td>12</td>\n",
       "      <td>0.06</td>\n",
       "      <td>15.93</td>\n",
       "    </tr>\n",
       "  </tbody>\n",
       "</table>\n",
       "</div>"
      ],
      "text/plain": [
       "            compra  venta  promedio   año  mes  diferencia_diaria  \\\n",
       "fecha                                                               \n",
       "2016-12-01   15.71  16.11     15.91  2016   12                NaN   \n",
       "2016-12-02   15.70  16.10     15.90  2016   12              -0.01   \n",
       "2016-12-05   15.75  16.15     15.95  2016   12               0.05   \n",
       "2016-12-06   15.73  16.13     15.93  2016   12              -0.02   \n",
       "2016-12-07   15.79  16.19     15.99  2016   12               0.06   \n",
       "\n",
       "            cotizacion_ayer  \n",
       "fecha                        \n",
       "2016-12-01             0.00  \n",
       "2016-12-02            15.91  \n",
       "2016-12-05            15.90  \n",
       "2016-12-06            15.95  \n",
       "2016-12-07            15.93  "
      ]
     },
     "execution_count": 39,
     "metadata": {},
     "output_type": "execute_result"
    }
   ],
   "source": [
    "dolar_df_filtrado[\"diferencia_diaria\"] = dolar_df_filtrado[\"promedio\"].diff(1)\n",
    "dolar_df_filtrado.head()"
   ]
  },
  {
   "cell_type": "code",
   "execution_count": 40,
   "metadata": {},
   "outputs": [
    {
     "data": {
      "text/html": [
       "<div>\n",
       "<style scoped>\n",
       "    .dataframe tbody tr th:only-of-type {\n",
       "        vertical-align: middle;\n",
       "    }\n",
       "\n",
       "    .dataframe tbody tr th {\n",
       "        vertical-align: top;\n",
       "    }\n",
       "\n",
       "    .dataframe thead th {\n",
       "        text-align: right;\n",
       "    }\n",
       "</style>\n",
       "<table border=\"1\" class=\"dataframe\">\n",
       "  <thead>\n",
       "    <tr style=\"text-align: right;\">\n",
       "      <th></th>\n",
       "      <th>compra</th>\n",
       "      <th>venta</th>\n",
       "      <th>promedio</th>\n",
       "      <th>año</th>\n",
       "      <th>mes</th>\n",
       "      <th>diferencia_diaria</th>\n",
       "      <th>cotizacion_ayer</th>\n",
       "    </tr>\n",
       "    <tr>\n",
       "      <th>fecha</th>\n",
       "      <th></th>\n",
       "      <th></th>\n",
       "      <th></th>\n",
       "      <th></th>\n",
       "      <th></th>\n",
       "      <th></th>\n",
       "      <th></th>\n",
       "    </tr>\n",
       "  </thead>\n",
       "  <tbody>\n",
       "    <tr>\n",
       "      <th>2016-12-01</th>\n",
       "      <td>15.71</td>\n",
       "      <td>16.11</td>\n",
       "      <td>15.91</td>\n",
       "      <td>2016</td>\n",
       "      <td>12</td>\n",
       "      <td>NaN</td>\n",
       "      <td>NaN</td>\n",
       "    </tr>\n",
       "    <tr>\n",
       "      <th>2016-12-02</th>\n",
       "      <td>15.70</td>\n",
       "      <td>16.10</td>\n",
       "      <td>15.90</td>\n",
       "      <td>2016</td>\n",
       "      <td>12</td>\n",
       "      <td>-0.01</td>\n",
       "      <td>15.91</td>\n",
       "    </tr>\n",
       "    <tr>\n",
       "      <th>2016-12-05</th>\n",
       "      <td>15.75</td>\n",
       "      <td>16.15</td>\n",
       "      <td>15.95</td>\n",
       "      <td>2016</td>\n",
       "      <td>12</td>\n",
       "      <td>0.05</td>\n",
       "      <td>15.90</td>\n",
       "    </tr>\n",
       "    <tr>\n",
       "      <th>2016-12-06</th>\n",
       "      <td>15.73</td>\n",
       "      <td>16.13</td>\n",
       "      <td>15.93</td>\n",
       "      <td>2016</td>\n",
       "      <td>12</td>\n",
       "      <td>-0.02</td>\n",
       "      <td>15.95</td>\n",
       "    </tr>\n",
       "    <tr>\n",
       "      <th>2016-12-07</th>\n",
       "      <td>15.79</td>\n",
       "      <td>16.19</td>\n",
       "      <td>15.99</td>\n",
       "      <td>2016</td>\n",
       "      <td>12</td>\n",
       "      <td>0.06</td>\n",
       "      <td>15.93</td>\n",
       "    </tr>\n",
       "  </tbody>\n",
       "</table>\n",
       "</div>"
      ],
      "text/plain": [
       "            compra  venta  promedio   año  mes  diferencia_diaria  \\\n",
       "fecha                                                               \n",
       "2016-12-01   15.71  16.11     15.91  2016   12                NaN   \n",
       "2016-12-02   15.70  16.10     15.90  2016   12              -0.01   \n",
       "2016-12-05   15.75  16.15     15.95  2016   12               0.05   \n",
       "2016-12-06   15.73  16.13     15.93  2016   12              -0.02   \n",
       "2016-12-07   15.79  16.19     15.99  2016   12               0.06   \n",
       "\n",
       "            cotizacion_ayer  \n",
       "fecha                        \n",
       "2016-12-01              NaN  \n",
       "2016-12-02            15.91  \n",
       "2016-12-05            15.90  \n",
       "2016-12-06            15.95  \n",
       "2016-12-07            15.93  "
      ]
     },
     "execution_count": 40,
     "metadata": {},
     "output_type": "execute_result"
    }
   ],
   "source": [
    "dolar_df_filtrado[\"cotizacion_ayer\"] = dolar_df_filtrado[\"promedio\"].shift(periods=1)\n",
    "dolar_df_filtrado.head()"
   ]
  },
  {
   "cell_type": "code",
   "execution_count": 41,
   "metadata": {},
   "outputs": [],
   "source": [
    "dolar_df_filtrado[\"variacion_porcentual\"] = round(\n",
    "    dolar_df_filtrado[\"diferencia_diaria\"] / dolar_df_filtrado[\"cotizacion_ayer\"]*100, 2)\n",
    "# Reemplazamos el valor NA del primer día de la serie con 0\n",
    "dolar_df_filtrado = dolar_df_filtrado.fillna(0)"
   ]
  },
  {
   "cell_type": "code",
   "execution_count": 42,
   "metadata": {},
   "outputs": [
    {
     "data": {
      "text/html": [
       "<div>\n",
       "<style scoped>\n",
       "    .dataframe tbody tr th:only-of-type {\n",
       "        vertical-align: middle;\n",
       "    }\n",
       "\n",
       "    .dataframe tbody tr th {\n",
       "        vertical-align: top;\n",
       "    }\n",
       "\n",
       "    .dataframe thead th {\n",
       "        text-align: right;\n",
       "    }\n",
       "</style>\n",
       "<table border=\"1\" class=\"dataframe\">\n",
       "  <thead>\n",
       "    <tr style=\"text-align: right;\">\n",
       "      <th></th>\n",
       "      <th>compra</th>\n",
       "      <th>venta</th>\n",
       "      <th>promedio</th>\n",
       "      <th>año</th>\n",
       "      <th>mes</th>\n",
       "      <th>diferencia_diaria</th>\n",
       "      <th>cotizacion_ayer</th>\n",
       "      <th>variacion_porcentual</th>\n",
       "    </tr>\n",
       "    <tr>\n",
       "      <th>fecha</th>\n",
       "      <th></th>\n",
       "      <th></th>\n",
       "      <th></th>\n",
       "      <th></th>\n",
       "      <th></th>\n",
       "      <th></th>\n",
       "      <th></th>\n",
       "      <th></th>\n",
       "    </tr>\n",
       "  </thead>\n",
       "  <tbody>\n",
       "    <tr>\n",
       "      <th>2016-12-01</th>\n",
       "      <td>15.71</td>\n",
       "      <td>16.11</td>\n",
       "      <td>15.91</td>\n",
       "      <td>2016</td>\n",
       "      <td>12</td>\n",
       "      <td>0.00</td>\n",
       "      <td>0.00</td>\n",
       "      <td>0.00</td>\n",
       "    </tr>\n",
       "    <tr>\n",
       "      <th>2016-12-02</th>\n",
       "      <td>15.70</td>\n",
       "      <td>16.10</td>\n",
       "      <td>15.90</td>\n",
       "      <td>2016</td>\n",
       "      <td>12</td>\n",
       "      <td>-0.01</td>\n",
       "      <td>15.91</td>\n",
       "      <td>-0.06</td>\n",
       "    </tr>\n",
       "    <tr>\n",
       "      <th>2016-12-05</th>\n",
       "      <td>15.75</td>\n",
       "      <td>16.15</td>\n",
       "      <td>15.95</td>\n",
       "      <td>2016</td>\n",
       "      <td>12</td>\n",
       "      <td>0.05</td>\n",
       "      <td>15.90</td>\n",
       "      <td>0.31</td>\n",
       "    </tr>\n",
       "    <tr>\n",
       "      <th>2016-12-06</th>\n",
       "      <td>15.73</td>\n",
       "      <td>16.13</td>\n",
       "      <td>15.93</td>\n",
       "      <td>2016</td>\n",
       "      <td>12</td>\n",
       "      <td>-0.02</td>\n",
       "      <td>15.95</td>\n",
       "      <td>-0.13</td>\n",
       "    </tr>\n",
       "    <tr>\n",
       "      <th>2016-12-07</th>\n",
       "      <td>15.79</td>\n",
       "      <td>16.19</td>\n",
       "      <td>15.99</td>\n",
       "      <td>2016</td>\n",
       "      <td>12</td>\n",
       "      <td>0.06</td>\n",
       "      <td>15.93</td>\n",
       "      <td>0.38</td>\n",
       "    </tr>\n",
       "  </tbody>\n",
       "</table>\n",
       "</div>"
      ],
      "text/plain": [
       "            compra  venta  promedio   año  mes  diferencia_diaria  \\\n",
       "fecha                                                               \n",
       "2016-12-01   15.71  16.11     15.91  2016   12               0.00   \n",
       "2016-12-02   15.70  16.10     15.90  2016   12              -0.01   \n",
       "2016-12-05   15.75  16.15     15.95  2016   12               0.05   \n",
       "2016-12-06   15.73  16.13     15.93  2016   12              -0.02   \n",
       "2016-12-07   15.79  16.19     15.99  2016   12               0.06   \n",
       "\n",
       "            cotizacion_ayer  variacion_porcentual  \n",
       "fecha                                              \n",
       "2016-12-01             0.00                  0.00  \n",
       "2016-12-02            15.91                 -0.06  \n",
       "2016-12-05            15.90                  0.31  \n",
       "2016-12-06            15.95                 -0.13  \n",
       "2016-12-07            15.93                  0.38  "
      ]
     },
     "execution_count": 42,
     "metadata": {},
     "output_type": "execute_result"
    }
   ],
   "source": [
    "dolar_df_filtrado.head()"
   ]
  },
  {
   "cell_type": "markdown",
   "metadata": {
    "id": "1RE9H1vw6wpU"
   },
   "source": [
    "**6)** Hallar los 5 días con mayor variación en la cotización."
   ]
  },
  {
   "cell_type": "code",
   "execution_count": 46,
   "metadata": {
    "id": "bVcUWGGC6wpU"
   },
   "outputs": [
    {
     "data": {
      "text/plain": [
       "pandas.core.series.Series"
      ]
     },
     "execution_count": 46,
     "metadata": {},
     "output_type": "execute_result"
    }
   ],
   "source": [
    "mayor_variacion = dolar_df_filtrado[\"variacion_porcentual\"].nlargest(5)\n",
    "type(mayor_variacion)"
   ]
  },
  {
   "cell_type": "code",
   "execution_count": 47,
   "metadata": {},
   "outputs": [
    {
     "data": {
      "text/plain": [
       "fecha\n",
       "2019-08-12    19.38\n",
       "2018-08-30    14.73\n",
       "2019-08-14     8.31\n",
       "2018-08-29     7.32\n",
       "2018-05-03     6.94\n",
       "Name: variacion_porcentual, dtype: float64"
      ]
     },
     "execution_count": 47,
     "metadata": {},
     "output_type": "execute_result"
    }
   ],
   "source": [
    "mayor_variacion"
   ]
  }
 ],
 "metadata": {
  "colab": {
   "provenance": []
  },
  "kernelspec": {
   "display_name": "Python 3 (ipykernel)",
   "language": "python",
   "name": "python3"
  },
  "language_info": {
   "codemirror_mode": {
    "name": "ipython",
    "version": 3
   },
   "file_extension": ".py",
   "mimetype": "text/x-python",
   "name": "python",
   "nbconvert_exporter": "python",
   "pygments_lexer": "ipython3",
   "version": "3.12.0"
  },
  "varInspector": {
   "cols": {
    "lenName": 16,
    "lenType": 16,
    "lenVar": 40
   },
   "kernels_config": {
    "python": {
     "delete_cmd_postfix": "",
     "delete_cmd_prefix": "del ",
     "library": "var_list.py",
     "varRefreshCmd": "print(var_dic_list())"
    },
    "r": {
     "delete_cmd_postfix": ") ",
     "delete_cmd_prefix": "rm(",
     "library": "var_list.r",
     "varRefreshCmd": "cat(var_dic_list()) "
    }
   },
   "types_to_exclude": [
    "module",
    "function",
    "builtin_function_or_method",
    "instance",
    "_Feature"
   ],
   "window_display": false
  }
 },
 "nbformat": 4,
 "nbformat_minor": 4
}
