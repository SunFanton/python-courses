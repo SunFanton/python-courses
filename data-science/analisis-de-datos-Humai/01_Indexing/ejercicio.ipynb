{
 "cells": [
  {
   "cell_type": "markdown",
   "metadata": {
    "id": "2-AVula0MvK8"
   },
   "source": [
    "<a href=\"https://colab.research.google.com/github/institutohumai/cursos-python/blob/master/AnalisisDeDatos/1_Indexing/ejercicio/ejercicio.ipynb\"> <img src='https://colab.research.google.com/assets/colab-badge.svg' /> </a>\n",
    "<div align=\"center\"> Recordá abrir en una nueva pestaña </div>\n",
    "\n",
    "\n",
    "Para este ejercicio vamos a importar un conjunto de datos con el listado de colegios públicos de Bogotá del año 2016"
   ]
  },
  {
   "cell_type": "markdown",
   "metadata": {
    "id": "LPYG850vM4LR"
   },
   "source": [
    "# Ejercicio I: base de Colegios de Bogotá."
   ]
  },
  {
   "cell_type": "code",
   "execution_count": 1,
   "metadata": {
    "id": "rAD3x2WMMvK9"
   },
   "outputs": [
    {
     "name": "stderr",
     "output_type": "stream",
     "text": [
      "/var/folders/ph/5sq6jlj161g1_2t838crnx6c0000gp/T/ipykernel_1740/2162656668.py:1: DeprecationWarning: \n",
      "Pyarrow will become a required dependency of pandas in the next major release of pandas (pandas 3.0),\n",
      "(to allow more performant data types, such as the Arrow string type, and better interoperability with other libraries)\n",
      "but was not found to be installed on your system.\n",
      "If this would cause problems for you,\n",
      "please provide us feedback at https://github.com/pandas-dev/pandas/issues/54466\n",
      "        \n",
      "  import pandas as pd\n"
     ]
    }
   ],
   "source": [
    "import pandas as pd\n",
    "import numpy as np"
   ]
  },
  {
   "cell_type": "code",
   "execution_count": 3,
   "metadata": {
    "id": "e-GeDWXsMvK9"
   },
   "outputs": [],
   "source": [
    "df_colegios = pd.read_csv('./csv_ejemplo/LISTADO_COLEGIOS_BOGOTA.csv')"
   ]
  },
  {
   "cell_type": "code",
   "execution_count": 4,
   "metadata": {},
   "outputs": [
    {
     "data": {
      "text/html": [
       "<div>\n",
       "<style scoped>\n",
       "    .dataframe tbody tr th:only-of-type {\n",
       "        vertical-align: middle;\n",
       "    }\n",
       "\n",
       "    .dataframe tbody tr th {\n",
       "        vertical-align: top;\n",
       "    }\n",
       "\n",
       "    .dataframe thead th {\n",
       "        text-align: right;\n",
       "    }\n",
       "</style>\n",
       "<table border=\"1\" class=\"dataframe\">\n",
       "  <thead>\n",
       "    <tr style=\"text-align: right;\">\n",
       "      <th></th>\n",
       "      <th>año</th>\n",
       "      <th>secretaria</th>\n",
       "      <th>nombreestablecimiento</th>\n",
       "      <th>zona</th>\n",
       "      <th>direccion</th>\n",
       "      <th>telefono</th>\n",
       "      <th>nombre_Rector</th>\n",
       "      <th>tipo_Establecimiento</th>\n",
       "      <th>etnias</th>\n",
       "      <th>sector</th>\n",
       "      <th>...</th>\n",
       "      <th>numero_de_Sedes</th>\n",
       "      <th>estado</th>\n",
       "      <th>prestador_de_Servicio</th>\n",
       "      <th>propiedad_Planta_Fisica</th>\n",
       "      <th>resguardo</th>\n",
       "      <th>matricula_Contratada</th>\n",
       "      <th>calendario</th>\n",
       "      <th>internado</th>\n",
       "      <th>estrato_Socio_Economico</th>\n",
       "      <th>correo_Electronico</th>\n",
       "    </tr>\n",
       "  </thead>\n",
       "  <tbody>\n",
       "    <tr>\n",
       "      <th>0</th>\n",
       "      <td>2016</td>\n",
       "      <td>BOGOTA</td>\n",
       "      <td>INST DE BTO TEC COMERCIAL PITAGORAS           ...</td>\n",
       "      <td>URBANA</td>\n",
       "      <td>KR 5 11 67</td>\n",
       "      <td>5665677   / 3429092</td>\n",
       "      <td>YOLANDA ARIAS CRUZ</td>\n",
       "      <td>INSTITUCION EDUCATIVA</td>\n",
       "      <td>NaN</td>\n",
       "      <td>NaN</td>\n",
       "      <td>...</td>\n",
       "      <td>1</td>\n",
       "      <td>NaN</td>\n",
       "      <td>PERSONA NATURAL</td>\n",
       "      <td>PERSONA NATURAL</td>\n",
       "      <td>NO APLICA</td>\n",
       "      <td>NO</td>\n",
       "      <td>A</td>\n",
       "      <td>NaN</td>\n",
       "      <td>NaN</td>\n",
       "      <td>pitagoras@pitagoras.edu.co</td>\n",
       "    </tr>\n",
       "    <tr>\n",
       "      <th>1</th>\n",
       "      <td>2016</td>\n",
       "      <td>BOGOTA</td>\n",
       "      <td>GIMNASIO INFANTIL FEDERICO FROEBEL</td>\n",
       "      <td>URBANA</td>\n",
       "      <td>CL 32 SUR 52 A 54</td>\n",
       "      <td>7100349</td>\n",
       "      <td>SANDRA MILENA MENDEZ</td>\n",
       "      <td>CENTRO EDUCATIVO</td>\n",
       "      <td>NaN</td>\n",
       "      <td>NaN</td>\n",
       "      <td>...</td>\n",
       "      <td>1</td>\n",
       "      <td>NaN</td>\n",
       "      <td>PERSONA NATURAL</td>\n",
       "      <td>PERSONA NATURAL</td>\n",
       "      <td>NO APLICA</td>\n",
       "      <td>NO</td>\n",
       "      <td>A</td>\n",
       "      <td>NaN</td>\n",
       "      <td>NaN</td>\n",
       "      <td>gimfedebel@hotmail.com</td>\n",
       "    </tr>\n",
       "    <tr>\n",
       "      <th>2</th>\n",
       "      <td>2016</td>\n",
       "      <td>BOGOTA</td>\n",
       "      <td>GIMNASIO INFANTIL LOS NIÑOS DEL MAÑANA</td>\n",
       "      <td>URBANA</td>\n",
       "      <td>CL 134 D 47 27</td>\n",
       "      <td>6010350</td>\n",
       "      <td>CLAUDIA BOCACHICA SAENZ</td>\n",
       "      <td>INSTITUCION EDUCATIVA</td>\n",
       "      <td>NaN</td>\n",
       "      <td>NaN</td>\n",
       "      <td>...</td>\n",
       "      <td>1</td>\n",
       "      <td>NaN</td>\n",
       "      <td>PERSONA NATURAL</td>\n",
       "      <td>PERSONA NATURAL</td>\n",
       "      <td>NO APLICA</td>\n",
       "      <td>NO</td>\n",
       "      <td>A</td>\n",
       "      <td>NaN</td>\n",
       "      <td>NaN</td>\n",
       "      <td>claudialindenibocachica@hotmail.com</td>\n",
       "    </tr>\n",
       "    <tr>\n",
       "      <th>3</th>\n",
       "      <td>2016</td>\n",
       "      <td>BOGOTA</td>\n",
       "      <td>COLEGIO FRANCISCO PRIMERO S.S. (IED)</td>\n",
       "      <td>URBANA</td>\n",
       "      <td>KR 28 63 64</td>\n",
       "      <td>2126019 -- 2481271</td>\n",
       "      <td>JOSE CUSTODIO GALARZA MORENO</td>\n",
       "      <td>INSTITUCION EDUCATIVA</td>\n",
       "      <td>NaN</td>\n",
       "      <td>NaN</td>\n",
       "      <td>...</td>\n",
       "      <td>4</td>\n",
       "      <td>NaN</td>\n",
       "      <td>OFICIAL</td>\n",
       "      <td>OFICIAL</td>\n",
       "      <td>NO APLICA</td>\n",
       "      <td>NO</td>\n",
       "      <td>A</td>\n",
       "      <td>NaN</td>\n",
       "      <td>NaN</td>\n",
       "      <td>cedalemania12@redp.edu.co</td>\n",
       "    </tr>\n",
       "    <tr>\n",
       "      <th>4</th>\n",
       "      <td>2016</td>\n",
       "      <td>BOGOTA</td>\n",
       "      <td>COL SAN JUAN VIANETH                          ...</td>\n",
       "      <td>URBANA</td>\n",
       "      <td>KR 2 C 3 18 SUR</td>\n",
       "      <td>2804738 -- 4714934</td>\n",
       "      <td>GLORIA ESPERANZA CHUQUIN LAISECA</td>\n",
       "      <td>CENTRO EDUCATIVO</td>\n",
       "      <td>NaN</td>\n",
       "      <td>NaN</td>\n",
       "      <td>...</td>\n",
       "      <td>1</td>\n",
       "      <td>NaN</td>\n",
       "      <td>PERSONA NATURAL</td>\n",
       "      <td>PERSONA NATURAL</td>\n",
       "      <td>NO APLICA</td>\n",
       "      <td>NO</td>\n",
       "      <td>A</td>\n",
       "      <td>NaN</td>\n",
       "      <td>NaN</td>\n",
       "      <td>colegiosanjuanviateh@hotmail.com -- colegiosan...</td>\n",
       "    </tr>\n",
       "  </tbody>\n",
       "</table>\n",
       "<p>5 rows × 30 columns</p>\n",
       "</div>"
      ],
      "text/plain": [
       "    año secretaria                              nombreestablecimiento    zona  \\\n",
       "0  2016     BOGOTA  INST DE BTO TEC COMERCIAL PITAGORAS           ...  URBANA   \n",
       "1  2016     BOGOTA                 GIMNASIO INFANTIL FEDERICO FROEBEL  URBANA   \n",
       "2  2016     BOGOTA             GIMNASIO INFANTIL LOS NIÑOS DEL MAÑANA  URBANA   \n",
       "3  2016     BOGOTA               COLEGIO FRANCISCO PRIMERO S.S. (IED)  URBANA   \n",
       "4  2016     BOGOTA  COL SAN JUAN VIANETH                          ...  URBANA   \n",
       "\n",
       "           direccion             telefono                     nombre_Rector  \\\n",
       "0         KR 5 11 67  5665677   / 3429092                YOLANDA ARIAS CRUZ   \n",
       "1  CL 32 SUR 52 A 54              7100349              SANDRA MILENA MENDEZ   \n",
       "2     CL 134 D 47 27              6010350           CLAUDIA BOCACHICA SAENZ   \n",
       "3        KR 28 63 64   2126019 -- 2481271      JOSE CUSTODIO GALARZA MORENO   \n",
       "4    KR 2 C 3 18 SUR   2804738 -- 4714934  GLORIA ESPERANZA CHUQUIN LAISECA   \n",
       "\n",
       "    tipo_Establecimiento etnias  sector  ...  numero_de_Sedes estado  \\\n",
       "0  INSTITUCION EDUCATIVA    NaN     NaN  ...                1    NaN   \n",
       "1       CENTRO EDUCATIVO    NaN     NaN  ...                1    NaN   \n",
       "2  INSTITUCION EDUCATIVA    NaN     NaN  ...                1    NaN   \n",
       "3  INSTITUCION EDUCATIVA    NaN     NaN  ...                4    NaN   \n",
       "4       CENTRO EDUCATIVO    NaN     NaN  ...                1    NaN   \n",
       "\n",
       "  prestador_de_Servicio  propiedad_Planta_Fisica  resguardo  \\\n",
       "0       PERSONA NATURAL          PERSONA NATURAL  NO APLICA   \n",
       "1       PERSONA NATURAL          PERSONA NATURAL  NO APLICA   \n",
       "2       PERSONA NATURAL          PERSONA NATURAL  NO APLICA   \n",
       "3               OFICIAL                  OFICIAL  NO APLICA   \n",
       "4       PERSONA NATURAL          PERSONA NATURAL  NO APLICA   \n",
       "\n",
       "  matricula_Contratada calendario internado estrato_Socio_Economico  \\\n",
       "0                   NO          A       NaN                     NaN   \n",
       "1                   NO          A       NaN                     NaN   \n",
       "2                   NO          A       NaN                     NaN   \n",
       "3                   NO          A       NaN                     NaN   \n",
       "4                   NO          A       NaN                     NaN   \n",
       "\n",
       "                                  correo_Electronico  \n",
       "0                         pitagoras@pitagoras.edu.co  \n",
       "1                             gimfedebel@hotmail.com  \n",
       "2                claudialindenibocachica@hotmail.com  \n",
       "3                          cedalemania12@redp.edu.co  \n",
       "4  colegiosanjuanviateh@hotmail.com -- colegiosan...  \n",
       "\n",
       "[5 rows x 30 columns]"
      ]
     },
     "execution_count": 4,
     "metadata": {},
     "output_type": "execute_result"
    }
   ],
   "source": [
    "df_colegios.head()"
   ]
  },
  {
   "cell_type": "markdown",
   "metadata": {
    "id": "zMKPtDY-MvK9"
   },
   "source": [
    "¿Cuáles son las columnas? ¿Cuántas filas tiene?"
   ]
  },
  {
   "cell_type": "code",
   "execution_count": 6,
   "metadata": {
    "id": "WZyOH-eQW50v"
   },
   "outputs": [
    {
     "data": {
      "text/plain": [
       "Index(['año', 'secretaria', 'nombreestablecimiento', 'zona', 'direccion',\n",
       "       'telefono', 'nombre_Rector', 'tipo_Establecimiento', 'etnias', 'sector',\n",
       "       'genero', 'niveles', 'jornadas', 'caracter', 'especialidad', 'grados',\n",
       "       'modelos_Educativos', 'capacidades_Excepcionales', 'discapacidades',\n",
       "       'idiomas', 'numero_de_Sedes', 'estado', 'prestador_de_Servicio',\n",
       "       'propiedad_Planta_Fisica', 'resguardo', 'matricula_Contratada',\n",
       "       'calendario', 'internado', 'estrato_Socio_Economico',\n",
       "       'correo_Electronico'],\n",
       "      dtype='object')"
      ]
     },
     "execution_count": 6,
     "metadata": {},
     "output_type": "execute_result"
    }
   ],
   "source": [
    "df_colegios.columns"
   ]
  },
  {
   "cell_type": "code",
   "execution_count": 7,
   "metadata": {},
   "outputs": [
    {
     "data": {
      "text/plain": [
       "(2404, 30)"
      ]
     },
     "execution_count": 7,
     "metadata": {},
     "output_type": "execute_result"
    }
   ],
   "source": [
    "df_colegios.shape"
   ]
  },
  {
   "cell_type": "markdown",
   "metadata": {
    "id": "W13iqV9JMvK-"
   },
   "source": [
    "Seleccionen los colegios donde la propiedad de la planta física sea de una persona natural o comunidad religiosa."
   ]
  },
  {
   "cell_type": "code",
   "execution_count": 20,
   "metadata": {
    "id": "5tRsx_G5W6k6"
   },
   "outputs": [],
   "source": [
    "df_prop_pfisica = df_colegios.query('propiedad_Planta_Fisica == \"PERSONA NATURAL\" | propiedad_Planta_Fisica == \"COMUNIDAD RELIGIOSA\"')"
   ]
  },
  {
   "cell_type": "code",
   "execution_count": 21,
   "metadata": {},
   "outputs": [
    {
     "data": {
      "text/plain": [
       "(1878, 30)"
      ]
     },
     "execution_count": 21,
     "metadata": {},
     "output_type": "execute_result"
    }
   ],
   "source": [
    "df_prop_pfisica.shape"
   ]
  },
  {
   "cell_type": "code",
   "execution_count": 22,
   "metadata": {},
   "outputs": [
    {
     "data": {
      "text/html": [
       "<div>\n",
       "<style scoped>\n",
       "    .dataframe tbody tr th:only-of-type {\n",
       "        vertical-align: middle;\n",
       "    }\n",
       "\n",
       "    .dataframe tbody tr th {\n",
       "        vertical-align: top;\n",
       "    }\n",
       "\n",
       "    .dataframe thead th {\n",
       "        text-align: right;\n",
       "    }\n",
       "</style>\n",
       "<table border=\"1\" class=\"dataframe\">\n",
       "  <thead>\n",
       "    <tr style=\"text-align: right;\">\n",
       "      <th></th>\n",
       "      <th>año</th>\n",
       "      <th>secretaria</th>\n",
       "      <th>nombreestablecimiento</th>\n",
       "      <th>zona</th>\n",
       "      <th>direccion</th>\n",
       "      <th>telefono</th>\n",
       "      <th>nombre_Rector</th>\n",
       "      <th>tipo_Establecimiento</th>\n",
       "      <th>etnias</th>\n",
       "      <th>sector</th>\n",
       "      <th>...</th>\n",
       "      <th>numero_de_Sedes</th>\n",
       "      <th>estado</th>\n",
       "      <th>prestador_de_Servicio</th>\n",
       "      <th>propiedad_Planta_Fisica</th>\n",
       "      <th>resguardo</th>\n",
       "      <th>matricula_Contratada</th>\n",
       "      <th>calendario</th>\n",
       "      <th>internado</th>\n",
       "      <th>estrato_Socio_Economico</th>\n",
       "      <th>correo_Electronico</th>\n",
       "    </tr>\n",
       "  </thead>\n",
       "  <tbody>\n",
       "    <tr>\n",
       "      <th>0</th>\n",
       "      <td>2016</td>\n",
       "      <td>BOGOTA</td>\n",
       "      <td>INST DE BTO TEC COMERCIAL PITAGORAS           ...</td>\n",
       "      <td>URBANA</td>\n",
       "      <td>KR 5 11 67</td>\n",
       "      <td>5665677   / 3429092</td>\n",
       "      <td>YOLANDA ARIAS CRUZ</td>\n",
       "      <td>INSTITUCION EDUCATIVA</td>\n",
       "      <td>NaN</td>\n",
       "      <td>NaN</td>\n",
       "      <td>...</td>\n",
       "      <td>1</td>\n",
       "      <td>NaN</td>\n",
       "      <td>PERSONA NATURAL</td>\n",
       "      <td>PERSONA NATURAL</td>\n",
       "      <td>NO APLICA</td>\n",
       "      <td>NO</td>\n",
       "      <td>A</td>\n",
       "      <td>NaN</td>\n",
       "      <td>NaN</td>\n",
       "      <td>pitagoras@pitagoras.edu.co</td>\n",
       "    </tr>\n",
       "    <tr>\n",
       "      <th>1</th>\n",
       "      <td>2016</td>\n",
       "      <td>BOGOTA</td>\n",
       "      <td>GIMNASIO INFANTIL FEDERICO FROEBEL</td>\n",
       "      <td>URBANA</td>\n",
       "      <td>CL 32 SUR 52 A 54</td>\n",
       "      <td>7100349</td>\n",
       "      <td>SANDRA MILENA MENDEZ</td>\n",
       "      <td>CENTRO EDUCATIVO</td>\n",
       "      <td>NaN</td>\n",
       "      <td>NaN</td>\n",
       "      <td>...</td>\n",
       "      <td>1</td>\n",
       "      <td>NaN</td>\n",
       "      <td>PERSONA NATURAL</td>\n",
       "      <td>PERSONA NATURAL</td>\n",
       "      <td>NO APLICA</td>\n",
       "      <td>NO</td>\n",
       "      <td>A</td>\n",
       "      <td>NaN</td>\n",
       "      <td>NaN</td>\n",
       "      <td>gimfedebel@hotmail.com</td>\n",
       "    </tr>\n",
       "    <tr>\n",
       "      <th>2</th>\n",
       "      <td>2016</td>\n",
       "      <td>BOGOTA</td>\n",
       "      <td>GIMNASIO INFANTIL LOS NIÑOS DEL MAÑANA</td>\n",
       "      <td>URBANA</td>\n",
       "      <td>CL 134 D 47 27</td>\n",
       "      <td>6010350</td>\n",
       "      <td>CLAUDIA BOCACHICA SAENZ</td>\n",
       "      <td>INSTITUCION EDUCATIVA</td>\n",
       "      <td>NaN</td>\n",
       "      <td>NaN</td>\n",
       "      <td>...</td>\n",
       "      <td>1</td>\n",
       "      <td>NaN</td>\n",
       "      <td>PERSONA NATURAL</td>\n",
       "      <td>PERSONA NATURAL</td>\n",
       "      <td>NO APLICA</td>\n",
       "      <td>NO</td>\n",
       "      <td>A</td>\n",
       "      <td>NaN</td>\n",
       "      <td>NaN</td>\n",
       "      <td>claudialindenibocachica@hotmail.com</td>\n",
       "    </tr>\n",
       "    <tr>\n",
       "      <th>4</th>\n",
       "      <td>2016</td>\n",
       "      <td>BOGOTA</td>\n",
       "      <td>COL SAN JUAN VIANETH                          ...</td>\n",
       "      <td>URBANA</td>\n",
       "      <td>KR 2 C 3 18 SUR</td>\n",
       "      <td>2804738 -- 4714934</td>\n",
       "      <td>GLORIA ESPERANZA CHUQUIN LAISECA</td>\n",
       "      <td>CENTRO EDUCATIVO</td>\n",
       "      <td>NaN</td>\n",
       "      <td>NaN</td>\n",
       "      <td>...</td>\n",
       "      <td>1</td>\n",
       "      <td>NaN</td>\n",
       "      <td>PERSONA NATURAL</td>\n",
       "      <td>PERSONA NATURAL</td>\n",
       "      <td>NO APLICA</td>\n",
       "      <td>NO</td>\n",
       "      <td>A</td>\n",
       "      <td>NaN</td>\n",
       "      <td>NaN</td>\n",
       "      <td>colegiosanjuanviateh@hotmail.com -- colegiosan...</td>\n",
       "    </tr>\n",
       "    <tr>\n",
       "      <th>5</th>\n",
       "      <td>2016</td>\n",
       "      <td>BOGOTA</td>\n",
       "      <td>COL SAN PATRICIO                              ...</td>\n",
       "      <td>URBANA</td>\n",
       "      <td>KR 80 137 02</td>\n",
       "      <td>6838640 -- 6815357</td>\n",
       "      <td>PAULINA ENCINALES DE SANJINES</td>\n",
       "      <td>INSTITUCION EDUCATIVA</td>\n",
       "      <td>NaN</td>\n",
       "      <td>NaN</td>\n",
       "      <td>...</td>\n",
       "      <td>1</td>\n",
       "      <td>NaN</td>\n",
       "      <td>PERSONA NATURAL</td>\n",
       "      <td>PERSONA NATURAL</td>\n",
       "      <td>NO APLICA</td>\n",
       "      <td>NO</td>\n",
       "      <td>A</td>\n",
       "      <td>NaN</td>\n",
       "      <td>NaN</td>\n",
       "      <td>correo@colegiodesanpatricio.edu.co</td>\n",
       "    </tr>\n",
       "  </tbody>\n",
       "</table>\n",
       "<p>5 rows × 30 columns</p>\n",
       "</div>"
      ],
      "text/plain": [
       "    año secretaria                              nombreestablecimiento    zona  \\\n",
       "0  2016     BOGOTA  INST DE BTO TEC COMERCIAL PITAGORAS           ...  URBANA   \n",
       "1  2016     BOGOTA                 GIMNASIO INFANTIL FEDERICO FROEBEL  URBANA   \n",
       "2  2016     BOGOTA             GIMNASIO INFANTIL LOS NIÑOS DEL MAÑANA  URBANA   \n",
       "4  2016     BOGOTA  COL SAN JUAN VIANETH                          ...  URBANA   \n",
       "5  2016     BOGOTA  COL SAN PATRICIO                              ...  URBANA   \n",
       "\n",
       "           direccion             telefono                     nombre_Rector  \\\n",
       "0         KR 5 11 67  5665677   / 3429092                YOLANDA ARIAS CRUZ   \n",
       "1  CL 32 SUR 52 A 54              7100349              SANDRA MILENA MENDEZ   \n",
       "2     CL 134 D 47 27              6010350           CLAUDIA BOCACHICA SAENZ   \n",
       "4    KR 2 C 3 18 SUR   2804738 -- 4714934  GLORIA ESPERANZA CHUQUIN LAISECA   \n",
       "5       KR 80 137 02   6838640 -- 6815357     PAULINA ENCINALES DE SANJINES   \n",
       "\n",
       "    tipo_Establecimiento etnias  sector  ...  numero_de_Sedes estado  \\\n",
       "0  INSTITUCION EDUCATIVA    NaN     NaN  ...                1    NaN   \n",
       "1       CENTRO EDUCATIVO    NaN     NaN  ...                1    NaN   \n",
       "2  INSTITUCION EDUCATIVA    NaN     NaN  ...                1    NaN   \n",
       "4       CENTRO EDUCATIVO    NaN     NaN  ...                1    NaN   \n",
       "5  INSTITUCION EDUCATIVA    NaN     NaN  ...                1    NaN   \n",
       "\n",
       "  prestador_de_Servicio  propiedad_Planta_Fisica  resguardo  \\\n",
       "0       PERSONA NATURAL          PERSONA NATURAL  NO APLICA   \n",
       "1       PERSONA NATURAL          PERSONA NATURAL  NO APLICA   \n",
       "2       PERSONA NATURAL          PERSONA NATURAL  NO APLICA   \n",
       "4       PERSONA NATURAL          PERSONA NATURAL  NO APLICA   \n",
       "5       PERSONA NATURAL          PERSONA NATURAL  NO APLICA   \n",
       "\n",
       "  matricula_Contratada calendario internado estrato_Socio_Economico  \\\n",
       "0                   NO          A       NaN                     NaN   \n",
       "1                   NO          A       NaN                     NaN   \n",
       "2                   NO          A       NaN                     NaN   \n",
       "4                   NO          A       NaN                     NaN   \n",
       "5                   NO          A       NaN                     NaN   \n",
       "\n",
       "                                  correo_Electronico  \n",
       "0                         pitagoras@pitagoras.edu.co  \n",
       "1                             gimfedebel@hotmail.com  \n",
       "2                claudialindenibocachica@hotmail.com  \n",
       "4  colegiosanjuanviateh@hotmail.com -- colegiosan...  \n",
       "5                 correo@colegiodesanpatricio.edu.co  \n",
       "\n",
       "[5 rows x 30 columns]"
      ]
     },
     "execution_count": 22,
     "metadata": {},
     "output_type": "execute_result"
    }
   ],
   "source": [
    "df_prop_pfisica.head()"
   ]
  },
  {
   "cell_type": "markdown",
   "metadata": {
    "id": "ZguyMl06MvK-"
   },
   "source": [
    "¿Hay alguno de estos colegios que sea para capacidades excepcionales?"
   ]
  },
  {
   "cell_type": "code",
   "execution_count": 29,
   "metadata": {
    "id": "hdZM-ASGW7IE"
   },
   "outputs": [
    {
     "data": {
      "text/html": [
       "<div>\n",
       "<style scoped>\n",
       "    .dataframe tbody tr th:only-of-type {\n",
       "        vertical-align: middle;\n",
       "    }\n",
       "\n",
       "    .dataframe tbody tr th {\n",
       "        vertical-align: top;\n",
       "    }\n",
       "\n",
       "    .dataframe thead th {\n",
       "        text-align: right;\n",
       "    }\n",
       "</style>\n",
       "<table border=\"1\" class=\"dataframe\">\n",
       "  <thead>\n",
       "    <tr style=\"text-align: right;\">\n",
       "      <th></th>\n",
       "      <th>año</th>\n",
       "      <th>secretaria</th>\n",
       "      <th>nombreestablecimiento</th>\n",
       "      <th>zona</th>\n",
       "      <th>direccion</th>\n",
       "      <th>telefono</th>\n",
       "      <th>nombre_Rector</th>\n",
       "      <th>tipo_Establecimiento</th>\n",
       "      <th>etnias</th>\n",
       "      <th>sector</th>\n",
       "      <th>...</th>\n",
       "      <th>numero_de_Sedes</th>\n",
       "      <th>estado</th>\n",
       "      <th>prestador_de_Servicio</th>\n",
       "      <th>propiedad_Planta_Fisica</th>\n",
       "      <th>resguardo</th>\n",
       "      <th>matricula_Contratada</th>\n",
       "      <th>calendario</th>\n",
       "      <th>internado</th>\n",
       "      <th>estrato_Socio_Economico</th>\n",
       "      <th>correo_Electronico</th>\n",
       "    </tr>\n",
       "  </thead>\n",
       "  <tbody>\n",
       "    <tr>\n",
       "      <th>263</th>\n",
       "      <td>2016</td>\n",
       "      <td>BOGOTA</td>\n",
       "      <td>COL CAMPESTRE MAXIMINO POITIERS               ...</td>\n",
       "      <td>URBANA</td>\n",
       "      <td>KR 92 148 51</td>\n",
       "      <td>6835013 / 6841539                             ...</td>\n",
       "      <td>KILIAN ALEXANDER ARENAS SANABRIA</td>\n",
       "      <td>INSTITUCION EDUCATIVA</td>\n",
       "      <td>AMORÚA</td>\n",
       "      <td>NaN</td>\n",
       "      <td>...</td>\n",
       "      <td>1</td>\n",
       "      <td>NaN</td>\n",
       "      <td>PERSONA NATURAL</td>\n",
       "      <td>PERSONA NATURAL</td>\n",
       "      <td>NO APLICA</td>\n",
       "      <td>NO</td>\n",
       "      <td>A</td>\n",
       "      <td>NaN</td>\n",
       "      <td>NaN</td>\n",
       "      <td>kilanarenas@hotmail.com                       ...</td>\n",
       "    </tr>\n",
       "    <tr>\n",
       "      <th>507</th>\n",
       "      <td>2016</td>\n",
       "      <td>BOGOTA</td>\n",
       "      <td>LIC VAL (VIDA-AMOR-LUZ)                       ...</td>\n",
       "      <td>URBANA</td>\n",
       "      <td>CL 71 C 51 31</td>\n",
       "      <td>2251109 -- 2401331 -- 2502167</td>\n",
       "      <td>LUZ ESPERANZA MORALES SARMIENTO</td>\n",
       "      <td>INSTITUCION EDUCATIVA</td>\n",
       "      <td>NaN</td>\n",
       "      <td>NaN</td>\n",
       "      <td>...</td>\n",
       "      <td>1</td>\n",
       "      <td>NaN</td>\n",
       "      <td>PERSONA NATURAL</td>\n",
       "      <td>PERSONA NATURAL</td>\n",
       "      <td>NO APLICA</td>\n",
       "      <td>NO</td>\n",
       "      <td>A</td>\n",
       "      <td>NaN</td>\n",
       "      <td>NaN</td>\n",
       "      <td>liceo.vida.amor.luz.2@gmail.com</td>\n",
       "    </tr>\n",
       "    <tr>\n",
       "      <th>1012</th>\n",
       "      <td>2016</td>\n",
       "      <td>BOGOTA</td>\n",
       "      <td>LIC ECOLOGICO DEL NORTE                       ...</td>\n",
       "      <td>URBANA</td>\n",
       "      <td>CR. 98A NO.156D-26</td>\n",
       "      <td>6822591 / 6839957                             ...</td>\n",
       "      <td>JULIA ALICIA PELAEZ CASTILLO</td>\n",
       "      <td>INSTITUCION EDUCATIVA</td>\n",
       "      <td>NaN</td>\n",
       "      <td>NaN</td>\n",
       "      <td>...</td>\n",
       "      <td>1</td>\n",
       "      <td>NaN</td>\n",
       "      <td>PERSONA NATURAL</td>\n",
       "      <td>PERSONA NATURAL</td>\n",
       "      <td>NO APLICA</td>\n",
       "      <td>NO</td>\n",
       "      <td>A</td>\n",
       "      <td>NaN</td>\n",
       "      <td>NaN</td>\n",
       "      <td>semillasverdes@hotmail.com                    ...</td>\n",
       "    </tr>\n",
       "    <tr>\n",
       "      <th>1367</th>\n",
       "      <td>2016</td>\n",
       "      <td>BOGOTA</td>\n",
       "      <td>GIMNASIO CAMPESTRE STEPHEN HAWKING</td>\n",
       "      <td>URBANA</td>\n",
       "      <td>KR 68 173 A 50</td>\n",
       "      <td>6718575 -- 3005581260</td>\n",
       "      <td>DORA ASTRID PARDO AVILA</td>\n",
       "      <td>INSTITUCION EDUCATIVA</td>\n",
       "      <td>NaN</td>\n",
       "      <td>NaN</td>\n",
       "      <td>...</td>\n",
       "      <td>1</td>\n",
       "      <td>NaN</td>\n",
       "      <td>PERSONA NATURAL</td>\n",
       "      <td>PERSONA NATURAL</td>\n",
       "      <td>NO APLICA</td>\n",
       "      <td>SI</td>\n",
       "      <td>A</td>\n",
       "      <td>NaN</td>\n",
       "      <td>NaN</td>\n",
       "      <td>gcstephenhawking@gmail.com</td>\n",
       "    </tr>\n",
       "    <tr>\n",
       "      <th>1964</th>\n",
       "      <td>2016</td>\n",
       "      <td>BOGOTA</td>\n",
       "      <td>COL JONATHAN SWIFT                            ...</td>\n",
       "      <td>URBANA</td>\n",
       "      <td>KR 90 163 30</td>\n",
       "      <td>6818191</td>\n",
       "      <td>DIANA J.  MARQUEZ S.</td>\n",
       "      <td>INSTITUCION EDUCATIVA</td>\n",
       "      <td>NaN</td>\n",
       "      <td>NaN</td>\n",
       "      <td>...</td>\n",
       "      <td>1</td>\n",
       "      <td>NaN</td>\n",
       "      <td>PERSONA NATURAL</td>\n",
       "      <td>PERSONA NATURAL</td>\n",
       "      <td>NO APLICA</td>\n",
       "      <td>NO</td>\n",
       "      <td>A</td>\n",
       "      <td>NaN</td>\n",
       "      <td>NaN</td>\n",
       "      <td>COLEGIOJONTHANSWIFT@YAHOO.COM.CO              ...</td>\n",
       "    </tr>\n",
       "    <tr>\n",
       "      <th>2282</th>\n",
       "      <td>2016</td>\n",
       "      <td>BOGOTA</td>\n",
       "      <td>COL CALATRAVA</td>\n",
       "      <td>URBANA</td>\n",
       "      <td>KR 80 156 95</td>\n",
       "      <td>6847860</td>\n",
       "      <td>CONSUELO VALDERRAMA MORALES</td>\n",
       "      <td>INSTITUCION EDUCATIVA</td>\n",
       "      <td>NaN</td>\n",
       "      <td>NaN</td>\n",
       "      <td>...</td>\n",
       "      <td>1</td>\n",
       "      <td>NaN</td>\n",
       "      <td>PERSONA NATURAL</td>\n",
       "      <td>PERSONA NATURAL</td>\n",
       "      <td>NO APLICA</td>\n",
       "      <td>NO</td>\n",
       "      <td>B</td>\n",
       "      <td>NaN</td>\n",
       "      <td>NaN</td>\n",
       "      <td>info@colegiocalatrava.edu.co - rectoria@colegi...</td>\n",
       "    </tr>\n",
       "    <tr>\n",
       "      <th>2341</th>\n",
       "      <td>2016</td>\n",
       "      <td>BOGOTA</td>\n",
       "      <td>INST DE PEDAG AUTOACTIVA DE GRUPOS (IPAG)     ...</td>\n",
       "      <td>URBANA</td>\n",
       "      <td>KR 8 C 183 32</td>\n",
       "      <td>6711029 -- 6701198</td>\n",
       "      <td>CARMEN TULIA CORDOBA ACOSTA</td>\n",
       "      <td>INSTITUCION EDUCATIVA</td>\n",
       "      <td>NaN</td>\n",
       "      <td>NaN</td>\n",
       "      <td>...</td>\n",
       "      <td>1</td>\n",
       "      <td>NaN</td>\n",
       "      <td>PERSONA NATURAL</td>\n",
       "      <td>PERSONA NATURAL</td>\n",
       "      <td>NO APLICA</td>\n",
       "      <td>NO</td>\n",
       "      <td>A</td>\n",
       "      <td>NaN</td>\n",
       "      <td>NaN</td>\n",
       "      <td>colegioipag@gmail.com</td>\n",
       "    </tr>\n",
       "  </tbody>\n",
       "</table>\n",
       "<p>7 rows × 30 columns</p>\n",
       "</div>"
      ],
      "text/plain": [
       "       año secretaria                              nombreestablecimiento  \\\n",
       "263   2016     BOGOTA  COL CAMPESTRE MAXIMINO POITIERS               ...   \n",
       "507   2016     BOGOTA  LIC VAL (VIDA-AMOR-LUZ)                       ...   \n",
       "1012  2016     BOGOTA  LIC ECOLOGICO DEL NORTE                       ...   \n",
       "1367  2016     BOGOTA                 GIMNASIO CAMPESTRE STEPHEN HAWKING   \n",
       "1964  2016     BOGOTA  COL JONATHAN SWIFT                            ...   \n",
       "2282  2016     BOGOTA                                      COL CALATRAVA   \n",
       "2341  2016     BOGOTA  INST DE PEDAG AUTOACTIVA DE GRUPOS (IPAG)     ...   \n",
       "\n",
       "        zona           direccion  \\\n",
       "263   URBANA        KR 92 148 51   \n",
       "507   URBANA       CL 71 C 51 31   \n",
       "1012  URBANA  CR. 98A NO.156D-26   \n",
       "1367  URBANA      KR 68 173 A 50   \n",
       "1964  URBANA        KR 90 163 30   \n",
       "2282  URBANA        KR 80 156 95   \n",
       "2341  URBANA       KR 8 C 183 32   \n",
       "\n",
       "                                               telefono  \\\n",
       "263   6835013 / 6841539                             ...   \n",
       "507                       2251109 -- 2401331 -- 2502167   \n",
       "1012  6822591 / 6839957                             ...   \n",
       "1367                              6718575 -- 3005581260   \n",
       "1964                                            6818191   \n",
       "2282                                            6847860   \n",
       "2341                                 6711029 -- 6701198   \n",
       "\n",
       "                         nombre_Rector   tipo_Establecimiento  etnias  sector  \\\n",
       "263   KILIAN ALEXANDER ARENAS SANABRIA  INSTITUCION EDUCATIVA  AMORÚA     NaN   \n",
       "507    LUZ ESPERANZA MORALES SARMIENTO  INSTITUCION EDUCATIVA     NaN     NaN   \n",
       "1012      JULIA ALICIA PELAEZ CASTILLO  INSTITUCION EDUCATIVA     NaN     NaN   \n",
       "1367           DORA ASTRID PARDO AVILA  INSTITUCION EDUCATIVA     NaN     NaN   \n",
       "1964              DIANA J.  MARQUEZ S.  INSTITUCION EDUCATIVA     NaN     NaN   \n",
       "2282       CONSUELO VALDERRAMA MORALES  INSTITUCION EDUCATIVA     NaN     NaN   \n",
       "2341       CARMEN TULIA CORDOBA ACOSTA  INSTITUCION EDUCATIVA     NaN     NaN   \n",
       "\n",
       "      ...  numero_de_Sedes estado prestador_de_Servicio  \\\n",
       "263   ...                1    NaN       PERSONA NATURAL   \n",
       "507   ...                1    NaN       PERSONA NATURAL   \n",
       "1012  ...                1    NaN       PERSONA NATURAL   \n",
       "1367  ...                1    NaN       PERSONA NATURAL   \n",
       "1964  ...                1    NaN       PERSONA NATURAL   \n",
       "2282  ...                1    NaN       PERSONA NATURAL   \n",
       "2341  ...                1    NaN       PERSONA NATURAL   \n",
       "\n",
       "      propiedad_Planta_Fisica  resguardo matricula_Contratada calendario  \\\n",
       "263           PERSONA NATURAL  NO APLICA                   NO          A   \n",
       "507           PERSONA NATURAL  NO APLICA                   NO          A   \n",
       "1012          PERSONA NATURAL  NO APLICA                   NO          A   \n",
       "1367          PERSONA NATURAL  NO APLICA                   SI          A   \n",
       "1964          PERSONA NATURAL  NO APLICA                   NO          A   \n",
       "2282          PERSONA NATURAL  NO APLICA                   NO          B   \n",
       "2341          PERSONA NATURAL  NO APLICA                   NO          A   \n",
       "\n",
       "     internado estrato_Socio_Economico  \\\n",
       "263        NaN                     NaN   \n",
       "507        NaN                     NaN   \n",
       "1012       NaN                     NaN   \n",
       "1367       NaN                     NaN   \n",
       "1964       NaN                     NaN   \n",
       "2282       NaN                     NaN   \n",
       "2341       NaN                     NaN   \n",
       "\n",
       "                                     correo_Electronico  \n",
       "263   kilanarenas@hotmail.com                       ...  \n",
       "507                     liceo.vida.amor.luz.2@gmail.com  \n",
       "1012  semillasverdes@hotmail.com                    ...  \n",
       "1367                         gcstephenhawking@gmail.com  \n",
       "1964  COLEGIOJONTHANSWIFT@YAHOO.COM.CO              ...  \n",
       "2282  info@colegiocalatrava.edu.co - rectoria@colegi...  \n",
       "2341                              colegioipag@gmail.com  \n",
       "\n",
       "[7 rows x 30 columns]"
      ]
     },
     "execution_count": 29,
     "metadata": {},
     "output_type": "execute_result"
    }
   ],
   "source": [
    "df_prop_pfisica[df_prop_pfisica['capacidades_Excepcionales'].notna()]"
   ]
  },
  {
   "cell_type": "markdown",
   "metadata": {
    "id": "hv6j47_pMvK_"
   },
   "source": [
    "¿Cuáles son los colegios que ofrecen todos los niveles educativos? ¿Qué idiomas ofrecen?"
   ]
  },
  {
   "cell_type": "code",
   "execution_count": 30,
   "metadata": {
    "id": "VVfZqjfdW7h2"
   },
   "outputs": [
    {
     "data": {
      "text/plain": [
       "niveles\n",
       "PREESCOLAR,MEDIA,BÁSICA SECUNDARIA,BÁSICA PRIMARIA                     1068\n",
       "PREESCOLAR,BÁSICA PRIMARIA                                              491\n",
       "PREESCOLAR                                                              456\n",
       "MEDIA,BÁSICA SECUNDARIA,BÁSICA PRIMARIA                                 135\n",
       "PREESCOLAR,BÁSICA SECUNDARIA,BÁSICA PRIMARIA                             95\n",
       "MEDIA,BÁSICA SECUNDARIA                                                  81\n",
       "BÁSICA PRIMARIA                                                          26\n",
       "PREESCOLAR,BÁSICA SECUNDARIA,MEDIA,BÁSICA PRIMARIA                        9\n",
       "MEDIA                                                                     6\n",
       "PREESCOLAR,MEDIA,BÁSICA SECUNDARIA,BÁSICA PRIMARIA,PRIMERA INFANCIA       5\n",
       "PREESCOLAR,MEDIA,BÁSICA PRIMARIA                                          4\n",
       "PREESCOLAR,MEDIA,BÁSICA SECUNDARIA                                        3\n",
       "PREESCOLAR,BÁSICA SECUNDARIA                                              3\n",
       "BÁSICA SECUNDARIA,MEDIA,BÁSICA PRIMARIA                                   2\n",
       "BÁSICA SECUNDARIA,MEDIA                                                   1\n",
       "BÁSICA SECUNDARIA,BÁSICA PRIMARIA                                         1\n",
       "PREESCOLAR,MEDIA                                                          1\n",
       "MEDIA,BÁSICA SECUNDARIA,BÁSICA PRIMARIA,PRIMERA INFANCIA                  1\n",
       "Name: count, dtype: int64"
      ]
     },
     "execution_count": 30,
     "metadata": {},
     "output_type": "execute_result"
    }
   ],
   "source": [
    "df_colegios[\"niveles\"].value_counts()"
   ]
  },
  {
   "cell_type": "code",
   "execution_count": 34,
   "metadata": {},
   "outputs": [],
   "source": [
    "df_todos_niveles = df_colegios.query('niveles == \"PREESCOLAR,MEDIA,BÁSICA SECUNDARIA,BÁSICA PRIMARIA,PRIMERA INFANCIA\"')"
   ]
  },
  {
   "cell_type": "code",
   "execution_count": 39,
   "metadata": {},
   "outputs": [
    {
     "name": "stdout",
     "output_type": "stream",
     "text": [
      "Cantidad de colegios que ofrecen todos los niveles: 5\n"
     ]
    }
   ],
   "source": [
    "print(\"Cantidad de colegios que ofrecen todos los niveles:\", df_todos_niveles.shape[0])"
   ]
  },
  {
   "cell_type": "markdown",
   "metadata": {
    "id": "nEPohKg0MvK_"
   },
   "source": [
    "# Ejercicio II: PyEPH"
   ]
  },
  {
   "cell_type": "markdown",
   "metadata": {
    "id": "2agC2cqgMvK_"
   },
   "source": [
    "### PyEPH"
   ]
  },
  {
   "cell_type": "markdown",
   "metadata": {
    "id": "9gSIo2ClMvK_"
   },
   "source": [
    "La librería Pyeph tiene como objetivo facilitar el procesamiento en Python de las Encuesta Permanente de Hogares (eph) publicadas por INDEC de forma periódica. Está pensada como un espacio donde se nuclean y centralizan los cálculos vinculados a las mismas para posteriormente ser utilizadas en investigaciones, artículos, publicaciones, etc. Es una librería que hace principal hincapié en la transparencia metodológica utilizando licencias de código abierto y que promueve la colaboración de las comunidades de cientístas de datos, sociales, investigadorxs, desarrolladorxs, periodistas y demás curiosxs.\n",
    "\n",
    "https://github.com/institutohumai/pyeph"
   ]
  },
  {
   "cell_type": "markdown",
   "metadata": {
    "id": "k_BSKhk9MvK_"
   },
   "source": [
    "Para entender qué representan las columnas ver documentación:\n",
    "\n",
    "\n",
    "https://www.indec.gob.ar/ftp/cuadros/menusuperior/eph/EPH_diseno_reg_t414.pdf"
   ]
  },
  {
   "cell_type": "code",
   "execution_count": null,
   "metadata": {
    "id": "iCFePuybMvK_"
   },
   "outputs": [
    {
     "name": "stdout",
     "output_type": "stream",
     "text": [
      "Defaulting to user installation because normal site-packages is not writeable\n",
      "Collecting pyeph\n",
      "  Using cached pyeph-1.2.0-py3-none-any.whl.metadata (5.9 kB)\n",
      "Requirement already satisfied: ipykernel<7.0.0,>=6.13.0 in /Users/Loli/Library/Python/3.12/lib/python/site-packages (from pyeph) (6.27.1)\n",
      "Collecting openpyxl<4.0.0,>=3.0.10 (from pyeph)\n",
      "  Using cached openpyxl-3.1.2-py2.py3-none-any.whl.metadata (2.5 kB)\n",
      "Collecting pandas<2.0.0,>=1.1.5 (from pyeph)\n",
      "  Using cached pandas-1.5.3.tar.gz (5.2 MB)\n",
      "  Installing build dependencies ... \u001b[?25ldone\n",
      "\u001b[?25h  Getting requirements to build wheel ... \u001b[?25l\\"
     ]
    }
   ],
   "source": [
    "# Instalamos la librería.\n",
    "\n",
    "!pip install pyeph"
   ]
  },
  {
   "cell_type": "code",
   "execution_count": null,
   "metadata": {
    "id": "LI37cJnaMvK_"
   },
   "outputs": [],
   "source": [
    "import pyeph"
   ]
  },
  {
   "cell_type": "code",
   "execution_count": null,
   "metadata": {
    "colab": {
     "base_uri": "https://localhost:8080/"
    },
    "id": "sZ2bdBMrMvK_",
    "outputId": "add611cb-8a0a-4dc1-fe91-85291645099b"
   },
   "outputs": [
    {
     "name": "stdout",
     "output_type": "stream",
     "text": [
      "\n",
      "Obtenido con exito: base_individual_2021T2.zip \n"
     ]
    }
   ],
   "source": [
    "# Ejemplo: traemos el 2do trimestre del 2021\n",
    "eph = pyeph.get(data=\"eph\", year=2021, period=2, base_type='individual') # EPH individual"
   ]
  },
  {
   "cell_type": "code",
   "execution_count": null,
   "metadata": {
    "colab": {
     "base_uri": "https://localhost:8080/"
    },
    "id": "gd6AJ6DvMvK_",
    "outputId": "9a11a6c7-5527-47c6-e6c3-f9f0a6a5a8a5"
   },
   "outputs": [
    {
     "data": {
      "text/plain": [
       "Index(['CODUSU', 'ANO4', 'TRIMESTRE', 'NRO_HOGAR', 'COMPONENTE', 'H15',\n",
       "       'REGION', 'MAS_500', 'AGLOMERADO', 'PONDERA',\n",
       "       ...\n",
       "       'PDECIFR', 'ADECIFR', 'IPCF', 'DECCFR', 'IDECCFR', 'RDECCFR', 'GDECCFR',\n",
       "       'PDECCFR', 'ADECCFR', 'PONDIH'],\n",
       "      dtype='object', length=177)"
      ]
     },
     "execution_count": 7,
     "metadata": {},
     "output_type": "execute_result"
    }
   ],
   "source": [
    "eph.columns"
   ]
  },
  {
   "cell_type": "markdown",
   "metadata": {
    "id": "bcD-tpowMvK_"
   },
   "source": [
    "**Primer paso.** Crear una variable llamada eph_2 que contenga las siguientes columnas para realizar el siguiente análisis:\n",
    "\n",
    "Edad (**CH_06**), Sexo (**CH_04**), Ingreso de la ocupación principal (**P21**), Categoría ocupacional (**CAT_OCUP**), Condición de actividad (ESTADO), Ponderación (**PONDERA**)\n",
    "\n",
    "Referencias:\n",
    "\n",
    "Sexo:\n",
    "*   01 = Varón \n",
    "*   02 = Mujer\n",
    "\n",
    "Categoría ocupacional (para ocupados y desocupados con\n",
    "ocupación anterior):\n",
    "*   1 = Patrón\n",
    "*   2 = Cuenta propia\n",
    "*   3 = Obrero o empleado\n",
    "*   4 = Trabajador familiar sin remuneración\n",
    "*   9 = Ns/Nr\n",
    "\n",
    "Estado - Condición de actividad:\n",
    "*   0 = Entrevista individual no realizada\n",
    "*   1 = Ocupado \n",
    "*   2 = Descoupado\n",
    "*   3 = Inactivo\n",
    "*   4 = menor de 10 años"
   ]
  },
  {
   "cell_type": "code",
   "execution_count": null,
   "metadata": {
    "id": "QZqi2Km0MvLA"
   },
   "outputs": [],
   "source": [
    "#Filtramos por columnas\n",
    "eph_2=eph[[\"CH06\", \"CH04\", \"P21\", \"CAT_OCUP\", \"ESTADO\", \"PONDERA\"]]"
   ]
  },
  {
   "cell_type": "code",
   "execution_count": null,
   "metadata": {
    "id": "A7fkT2SCMvLA"
   },
   "outputs": [],
   "source": [
    "#Renombramos columnas\n",
    "eph_2.columns=[\"edad\", \"sexo\", \"ingreso\", \"cat_ocup\", \"estado\", \"pondera\"]"
   ]
  },
  {
   "cell_type": "markdown",
   "metadata": {
    "id": "JVlWfpBfMvLA"
   },
   "source": [
    "La columna **pondera** representa un estimado poblacional de las personas que representa cada fila. Por lo tanto, para cada cálculo es necesario operar con esa columna. Por ejemplo, la fila 0 representa a 214 personas de 58 años de sexo masculino, que tienen $50.000 de ingreso de la ocupación principal, su categoría es cuentapropista y pertenecen al segmento de ocupados.   "
   ]
  },
  {
   "cell_type": "code",
   "execution_count": null,
   "metadata": {
    "colab": {
     "base_uri": "https://localhost:8080/",
     "height": 206
    },
    "id": "9ioQSsZjMvLA",
    "outputId": "4cb66e9b-f2ef-4a9b-bd45-e00b11973eda"
   },
   "outputs": [
    {
     "data": {
      "text/html": [
       "\n",
       "  <div id=\"df-6c513274-4b00-4def-a343-2141d8dc5405\">\n",
       "    <div class=\"colab-df-container\">\n",
       "      <div>\n",
       "<style scoped>\n",
       "    .dataframe tbody tr th:only-of-type {\n",
       "        vertical-align: middle;\n",
       "    }\n",
       "\n",
       "    .dataframe tbody tr th {\n",
       "        vertical-align: top;\n",
       "    }\n",
       "\n",
       "    .dataframe thead th {\n",
       "        text-align: right;\n",
       "    }\n",
       "</style>\n",
       "<table border=\"1\" class=\"dataframe\">\n",
       "  <thead>\n",
       "    <tr style=\"text-align: right;\">\n",
       "      <th></th>\n",
       "      <th>edad</th>\n",
       "      <th>sexo</th>\n",
       "      <th>ingreso</th>\n",
       "      <th>cat_ocup</th>\n",
       "      <th>estado</th>\n",
       "      <th>pondera</th>\n",
       "    </tr>\n",
       "  </thead>\n",
       "  <tbody>\n",
       "    <tr>\n",
       "      <th>0</th>\n",
       "      <td>58</td>\n",
       "      <td>1</td>\n",
       "      <td>50000</td>\n",
       "      <td>2</td>\n",
       "      <td>1</td>\n",
       "      <td>214</td>\n",
       "    </tr>\n",
       "    <tr>\n",
       "      <th>1</th>\n",
       "      <td>24</td>\n",
       "      <td>1</td>\n",
       "      <td>0</td>\n",
       "      <td>3</td>\n",
       "      <td>2</td>\n",
       "      <td>214</td>\n",
       "    </tr>\n",
       "    <tr>\n",
       "      <th>2</th>\n",
       "      <td>51</td>\n",
       "      <td>2</td>\n",
       "      <td>0</td>\n",
       "      <td>4</td>\n",
       "      <td>1</td>\n",
       "      <td>192</td>\n",
       "    </tr>\n",
       "    <tr>\n",
       "      <th>3</th>\n",
       "      <td>27</td>\n",
       "      <td>1</td>\n",
       "      <td>4000</td>\n",
       "      <td>2</td>\n",
       "      <td>1</td>\n",
       "      <td>192</td>\n",
       "    </tr>\n",
       "    <tr>\n",
       "      <th>4</th>\n",
       "      <td>18</td>\n",
       "      <td>1</td>\n",
       "      <td>0</td>\n",
       "      <td>0</td>\n",
       "      <td>3</td>\n",
       "      <td>192</td>\n",
       "    </tr>\n",
       "  </tbody>\n",
       "</table>\n",
       "</div>\n",
       "      <button class=\"colab-df-convert\" onclick=\"convertToInteractive('df-6c513274-4b00-4def-a343-2141d8dc5405')\"\n",
       "              title=\"Convert this dataframe to an interactive table.\"\n",
       "              style=\"display:none;\">\n",
       "        \n",
       "  <svg xmlns=\"http://www.w3.org/2000/svg\" height=\"24px\"viewBox=\"0 0 24 24\"\n",
       "       width=\"24px\">\n",
       "    <path d=\"M0 0h24v24H0V0z\" fill=\"none\"/>\n",
       "    <path d=\"M18.56 5.44l.94 2.06.94-2.06 2.06-.94-2.06-.94-.94-2.06-.94 2.06-2.06.94zm-11 1L8.5 8.5l.94-2.06 2.06-.94-2.06-.94L8.5 2.5l-.94 2.06-2.06.94zm10 10l.94 2.06.94-2.06 2.06-.94-2.06-.94-.94-2.06-.94 2.06-2.06.94z\"/><path d=\"M17.41 7.96l-1.37-1.37c-.4-.4-.92-.59-1.43-.59-.52 0-1.04.2-1.43.59L10.3 9.45l-7.72 7.72c-.78.78-.78 2.05 0 2.83L4 21.41c.39.39.9.59 1.41.59.51 0 1.02-.2 1.41-.59l7.78-7.78 2.81-2.81c.8-.78.8-2.07 0-2.86zM5.41 20L4 18.59l7.72-7.72 1.47 1.35L5.41 20z\"/>\n",
       "  </svg>\n",
       "      </button>\n",
       "      \n",
       "  <style>\n",
       "    .colab-df-container {\n",
       "      display:flex;\n",
       "      flex-wrap:wrap;\n",
       "      gap: 12px;\n",
       "    }\n",
       "\n",
       "    .colab-df-convert {\n",
       "      background-color: #E8F0FE;\n",
       "      border: none;\n",
       "      border-radius: 50%;\n",
       "      cursor: pointer;\n",
       "      display: none;\n",
       "      fill: #1967D2;\n",
       "      height: 32px;\n",
       "      padding: 0 0 0 0;\n",
       "      width: 32px;\n",
       "    }\n",
       "\n",
       "    .colab-df-convert:hover {\n",
       "      background-color: #E2EBFA;\n",
       "      box-shadow: 0px 1px 2px rgba(60, 64, 67, 0.3), 0px 1px 3px 1px rgba(60, 64, 67, 0.15);\n",
       "      fill: #174EA6;\n",
       "    }\n",
       "\n",
       "    [theme=dark] .colab-df-convert {\n",
       "      background-color: #3B4455;\n",
       "      fill: #D2E3FC;\n",
       "    }\n",
       "\n",
       "    [theme=dark] .colab-df-convert:hover {\n",
       "      background-color: #434B5C;\n",
       "      box-shadow: 0px 1px 3px 1px rgba(0, 0, 0, 0.15);\n",
       "      filter: drop-shadow(0px 1px 2px rgba(0, 0, 0, 0.3));\n",
       "      fill: #FFFFFF;\n",
       "    }\n",
       "  </style>\n",
       "\n",
       "      <script>\n",
       "        const buttonEl =\n",
       "          document.querySelector('#df-6c513274-4b00-4def-a343-2141d8dc5405 button.colab-df-convert');\n",
       "        buttonEl.style.display =\n",
       "          google.colab.kernel.accessAllowed ? 'block' : 'none';\n",
       "\n",
       "        async function convertToInteractive(key) {\n",
       "          const element = document.querySelector('#df-6c513274-4b00-4def-a343-2141d8dc5405');\n",
       "          const dataTable =\n",
       "            await google.colab.kernel.invokeFunction('convertToInteractive',\n",
       "                                                     [key], {});\n",
       "          if (!dataTable) return;\n",
       "\n",
       "          const docLinkHtml = 'Like what you see? Visit the ' +\n",
       "            '<a target=\"_blank\" href=https://colab.research.google.com/notebooks/data_table.ipynb>data table notebook</a>'\n",
       "            + ' to learn more about interactive tables.';\n",
       "          element.innerHTML = '';\n",
       "          dataTable['output_type'] = 'display_data';\n",
       "          await google.colab.output.renderOutput(dataTable, element);\n",
       "          const docLink = document.createElement('div');\n",
       "          docLink.innerHTML = docLinkHtml;\n",
       "          element.appendChild(docLink);\n",
       "        }\n",
       "      </script>\n",
       "    </div>\n",
       "  </div>\n",
       "  "
      ],
      "text/plain": [
       "   edad  sexo  ingreso  cat_ocup  estado  pondera\n",
       "0    58     1    50000         2       1      214\n",
       "1    24     1        0         3       2      214\n",
       "2    51     2        0         4       1      192\n",
       "3    27     1     4000         2       1      192\n",
       "4    18     1        0         0       3      192"
      ]
     },
     "execution_count": 11,
     "metadata": {},
     "output_type": "execute_result"
    }
   ],
   "source": [
    "eph_2.head()"
   ]
  },
  {
   "cell_type": "markdown",
   "metadata": {
    "id": "GeXu1j1bMvLA"
   },
   "source": [
    "a) Traer un dataframe que filtre solo a las personas que tengan 21 años o menos. "
   ]
  },
  {
   "cell_type": "code",
   "execution_count": null,
   "metadata": {
    "id": "mN5fKUt4W9f4"
   },
   "outputs": [],
   "source": []
  },
  {
   "cell_type": "markdown",
   "metadata": {
    "id": "Ql5W8xHRMvLA"
   },
   "source": [
    "b) Traer un dataframe que filtre a las personas desocupadas de más de 40 años. "
   ]
  },
  {
   "cell_type": "code",
   "execution_count": null,
   "metadata": {
    "id": "1Y1D9WylW91P"
   },
   "outputs": [],
   "source": []
  },
  {
   "cell_type": "markdown",
   "metadata": {
    "id": "H2TFzkYXMvLB"
   },
   "source": [
    "c) ¿Cuántas mujeres hay en la base de datos? ¿Y hombres?"
   ]
  },
  {
   "cell_type": "code",
   "execution_count": null,
   "metadata": {
    "id": "fiWgLS66W-PB"
   },
   "outputs": [],
   "source": []
  },
  {
   "cell_type": "markdown",
   "metadata": {
    "id": "1NVlqGyaMvLB"
   },
   "source": [
    "d) ¿Cuál era la tasa de desocupación en el período seleccionado para las mujeres? ¿Era más alta o más baja que la de los hombres? (Extra: pensar el resultado usando una función)\n",
    "\n",
    "Nota: la tasa se calcula como Desocupados / (Ocupados + Desocupados)"
   ]
  },
  {
   "cell_type": "code",
   "execution_count": null,
   "metadata": {
    "id": "PXPt61vQW-uy"
   },
   "outputs": [],
   "source": []
  }
 ],
 "metadata": {
  "colab": {
   "collapsed_sections": [],
   "name": "ejercicio.ipynb",
   "provenance": []
  },
  "kernelspec": {
   "display_name": "Python 3 (ipykernel)",
   "language": "python",
   "name": "python3"
  },
  "language_info": {
   "codemirror_mode": {
    "name": "ipython",
    "version": 3
   },
   "file_extension": ".py",
   "mimetype": "text/x-python",
   "name": "python",
   "nbconvert_exporter": "python",
   "pygments_lexer": "ipython3",
   "version": "3.12.0"
  },
  "vscode": {
   "interpreter": {
    "hash": "f40b5ec51608688695ff6eacfbfd97600e453560f55d9818c49e934cb28338b9"
   }
  }
 },
 "nbformat": 4,
 "nbformat_minor": 4
}
