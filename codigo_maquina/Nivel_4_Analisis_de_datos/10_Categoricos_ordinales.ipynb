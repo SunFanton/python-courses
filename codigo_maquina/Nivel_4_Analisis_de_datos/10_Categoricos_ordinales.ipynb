{
 "cells": [
  {
   "cell_type": "markdown",
   "source": [
    "# Datos categóricos ordinales"
   ],
   "metadata": {}
  },
  {
   "cell_type": "markdown",
   "source": [
    "Para comprender qué son los datos categóricos, remitirse al archivo `09_Categoricos_nominales` de esta misma carpeta."
   ],
   "metadata": {}
  },
  {
   "cell_type": "markdown",
   "source": [
    "En particular, los datos **categóricos ordinales** son aquellos que poseen estas características (texto extraído de ChatGPT):\n",
    "\n",
    "Los **datos ordinales** tienen un orden o jerarquía inherente entre las categorías, pero la diferencia entre las categorías no es necesariamente igual o medible.\n",
    "\n",
    "#### Ejemplos:\n",
    "- Nivel educativo (primaria, secundaria, terciaria, universitaria)\n",
    "- Clasificación en una competencia (1er lugar, 2do lugar, 3er lugar)\n",
    "- Escala de satisfacción (muy insatisfecho, insatisfecho, neutral, satisfecho, muy satisfecho)\n",
    "\n",
    "En los datos **ordinales**, existe un orden claro, pero no se puede medir la distancia exacta entre las categorías. Por ejemplo, la diferencia entre \"satisfecho\" y \"muy satisfecho\" no es necesariamente igual a la diferencia entre \"neutral\" y \"insatisfecho\"."
   ],
   "metadata": {}
  },
  {
   "cell_type": "markdown",
   "source": [
    "Al igual que en el caso de los datos categóricos nominales, para que los algoritmos de análisis de datos y de aprendizaje de máquina puedan procesar estos tipos de datos, se hace necesario hacer una transformación de los categóricos ordinales a datos numéricos.\n",
    "\n",
    "A continuación, veremos las técnicas para lograr este objetivo:"
   ],
   "metadata": {}
  },
  {
   "cell_type": "markdown",
   "source": [
    "## Datos categóricos ordinales: contexto"
   ],
   "metadata": {}
  },
  {
   "cell_type": "markdown",
   "source": [
    "### ¿Qué tan satisfecha está con el servicio?\n",
    "\n",
    "* Muy insatisfecho\n",
    "* Insatisfecho\n",
    "* Neutral\n",
    "* Satisfecho\n",
    "* Muy satisfecho\n",
    "\n",
    "### ¿Cómo calificaría la calidad de los alimentos?\n",
    "\n",
    "* Mala\n",
    "* Buena\n",
    "* Muy buena\n",
    "* Excelente"
   ],
   "metadata": {}
  },
  {
   "cell_type": "code",
   "execution_count": 1,
   "source": [
    "import pandas as pd \n",
    "import numpy as np"
   ],
   "outputs": [
    {
     "output_type": "stream",
     "name": "stderr",
     "text": [
      "/var/folders/ph/5sq6jlj161g1_2t838crnx6c0000gp/T/ipykernel_1106/4018586642.py:1: DeprecationWarning: \n",
      "Pyarrow will become a required dependency of pandas in the next major release of pandas (pandas 3.0),\n",
      "(to allow more performant data types, such as the Arrow string type, and better interoperability with other libraries)\n",
      "but was not found to be installed on your system.\n",
      "If this would cause problems for you,\n",
      "please provide us feedback at https://github.com/pandas-dev/pandas/issues/54466\n",
      "        \n",
      "  import pandas as pd\n"
     ]
    }
   ],
   "metadata": {}
  },
  {
   "cell_type": "code",
   "execution_count": 7,
   "source": [
    "categorias_servicio = [\"Muy insatisfecho\", \"Insatisfecho\", \"Neutral\", \"Satisfecho\", \"Muy satisfecho\"]\n",
    "\n",
    "categorias_calidad = [\"Mala\", \"Buena\", \"Muy Buena\", \"Excelente\"]\n",
    "\n",
    "encuesta = {\n",
    "    \"servicio\": [\"Muy insatisfecho\", \"Insatisfecho\", \"Neutral\", \"Satisfecho\", \"Muy satisfecho\", \"Muy insatisfecho\"],\n",
    "\n",
    "    \"alimentos\": [\"Mala\", \"Buena\", \"Muy Buena\", \"Excelente\", \"Mala\", \"Buena\"]\n",
    "}\n",
    "\n",
    "# 0: cliente esporadico, 1: cliente frecuente\n",
    "tipo_cliente = [0, 0, 1, 1, 0, 1]"
   ],
   "outputs": [],
   "metadata": {}
  },
  {
   "cell_type": "markdown",
   "source": [],
   "metadata": {}
  },
  {
   "cell_type": "code",
   "execution_count": 8,
   "source": [
    "datos = pd.DataFrame(encuesta)\n",
    "datos"
   ],
   "outputs": [
    {
     "output_type": "execute_result",
     "data": {
      "text/plain": [
       "           servicio  alimentos\n",
       "0  Muy insatisfecho       Mala\n",
       "1      Insatisfecho      Buena\n",
       "2           Neutral  Muy Buena\n",
       "3        Satisfecho  Excelente\n",
       "4    Muy satisfecho       Mala\n",
       "5  Muy insatisfecho      Buena"
      ],
      "text/html": [
       "<div>\n",
       "<style scoped>\n",
       "    .dataframe tbody tr th:only-of-type {\n",
       "        vertical-align: middle;\n",
       "    }\n",
       "\n",
       "    .dataframe tbody tr th {\n",
       "        vertical-align: top;\n",
       "    }\n",
       "\n",
       "    .dataframe thead th {\n",
       "        text-align: right;\n",
       "    }\n",
       "</style>\n",
       "<table border=\"1\" class=\"dataframe\">\n",
       "  <thead>\n",
       "    <tr style=\"text-align: right;\">\n",
       "      <th></th>\n",
       "      <th>servicio</th>\n",
       "      <th>alimentos</th>\n",
       "    </tr>\n",
       "  </thead>\n",
       "  <tbody>\n",
       "    <tr>\n",
       "      <th>0</th>\n",
       "      <td>Muy insatisfecho</td>\n",
       "      <td>Mala</td>\n",
       "    </tr>\n",
       "    <tr>\n",
       "      <th>1</th>\n",
       "      <td>Insatisfecho</td>\n",
       "      <td>Buena</td>\n",
       "    </tr>\n",
       "    <tr>\n",
       "      <th>2</th>\n",
       "      <td>Neutral</td>\n",
       "      <td>Muy Buena</td>\n",
       "    </tr>\n",
       "    <tr>\n",
       "      <th>3</th>\n",
       "      <td>Satisfecho</td>\n",
       "      <td>Excelente</td>\n",
       "    </tr>\n",
       "    <tr>\n",
       "      <th>4</th>\n",
       "      <td>Muy satisfecho</td>\n",
       "      <td>Mala</td>\n",
       "    </tr>\n",
       "    <tr>\n",
       "      <th>5</th>\n",
       "      <td>Muy insatisfecho</td>\n",
       "      <td>Buena</td>\n",
       "    </tr>\n",
       "  </tbody>\n",
       "</table>\n",
       "</div>"
      ]
     },
     "metadata": {},
     "execution_count": 8
    }
   ],
   "metadata": {}
  },
  {
   "cell_type": "markdown",
   "source": [
    "## Codificador ordinal"
   ],
   "metadata": {}
  },
  {
   "cell_type": "markdown",
   "source": [
    "Este tipo de codificador de datos categóricos a numéricos tiene una ventaja y una desventaja:\n",
    "\n",
    "* La ventaja es que no genera una nueva columna por cada categoría, lo que evita la llamada **maldición de la dimensionalidad** que puede complejizar la tarea del procesamiento de los datos para nuestros algoritmos. Esto es lo que hace el codificador llamado **OneHotEncoder**, que se verá más abajo.\n",
    "\n",
    "* La desventaja es que, en función del orden que le pasemos de nuestras categorías, este algoritmo les brindará un orden numérico *equidistante*. Por ejemplo, la categoría Mala sería el 0, Buena sería el 1, Muy Buena el 2 y Excelente el 3. El problema aquí radica en que según el contexto, puede que no sea correcto asumir equidistancia entre las categorías. En nuestro ejemplo, tal vez Buena y Muy Buena no pueden considerarse \"alejadas\" en la misma distancia que entre Mala y Buena."
   ],
   "metadata": {}
  },
  {
   "cell_type": "code",
   "execution_count": 4,
   "source": [
    "from sklearn.preprocessing import OrdinalEncoder"
   ],
   "outputs": [],
   "metadata": {}
  },
  {
   "cell_type": "markdown",
   "source": [
    "Le pasamos el parametro `categories` al constructor con la lista de las categorias ordenadas como nosotros esperamos que estén ordenadas o jerarquizadas porque si no lo pasamos, el codificador les dara un orden arbitrario"
   ],
   "metadata": {}
  },
  {
   "cell_type": "code",
   "execution_count": 11,
   "source": [
    "codificador = OrdinalEncoder(categories=[categorias_servicio, categorias_calidad])\n",
    "\n",
    "datos_ord = pd.DataFrame(codificador.fit_transform(datos[[\"servicio\", \"alimentos\"]]), columns=[\"servicio\", \"alimentos\"])\n",
    "\n",
    "print(datos_ord)\n",
    "print(codificador.categories_)\n"
   ],
   "outputs": [
    {
     "output_type": "stream",
     "name": "stdout",
     "text": [
      "   servicio  alimentos\n",
      "0       0.0        0.0\n",
      "1       1.0        1.0\n",
      "2       2.0        2.0\n",
      "3       3.0        3.0\n",
      "4       4.0        0.0\n",
      "5       0.0        1.0\n",
      "[array(['Muy insatisfecho', 'Insatisfecho', 'Neutral', 'Satisfecho',\n",
      "       'Muy satisfecho'], dtype=object), array(['Mala', 'Buena', 'Muy Buena', 'Excelente'], dtype=object)]\n"
     ]
    }
   ],
   "metadata": {}
  },
  {
   "cell_type": "markdown",
   "source": [
    "## Codificador OneHotEncoder"
   ],
   "metadata": {}
  },
  {
   "cell_type": "code",
   "execution_count": 12,
   "source": [
    "from sklearn.preprocessing import OneHotEncoder"
   ],
   "outputs": [],
   "metadata": {}
  },
  {
   "cell_type": "markdown",
   "source": [
    "Este tipo de codificador nos generará una matriz con una columna por cada categoría, y en función de las observaciones, la columna de una categoría específica tendrá un 1 en una fila si esa observación coresponde con esa categoría.\n",
    "\n",
    "La ventaja de este codificador es que no asume una equidistancia específica entre las categorías, pero al generar una nueva columna por cada categoría, nos puede llegar a quedar un dataframe muy *ancho* y con muchas dimensiones, complejizando la lectura de nuestros datos.\n",
    "\n",
    "De allí que el uso de la codificación ordinal o la codificación OneHotEncoder dependerá del contexto en el que necesitemos aplicarlos.\n",
    "\n",
    "Por lo general, el OneHotEncoder se utiliza para datos nominales y la codificación ordinal, como su mismo nombre lo indica, para los ordinales."
   ],
   "metadata": {}
  },
  {
   "cell_type": "code",
   "execution_count": 17,
   "source": [
    "codificador_one = OneHotEncoder()\n",
    "\n",
    "#print(codificador_one.fit_transform(datos[[\"servicio\", \"alimentos\"]]).toarray())\n",
    "#print(np.concatenate(codificador_one.categories_))\n",
    "\n",
    "datos_one = pd.DataFrame(codificador_one.fit_transform(datos[[\"servicio\", \"alimentos\"]]).toarray(),                        columns=np.concatenate(codificador_one.categories_))\n",
    "\n",
    "datos_one"
   ],
   "outputs": [
    {
     "output_type": "execute_result",
     "data": {
      "text/plain": [
       "   Insatisfecho  Muy insatisfecho  Muy satisfecho  Neutral  Satisfecho  Buena  \\\n",
       "0           0.0               1.0             0.0      0.0         0.0    0.0   \n",
       "1           1.0               0.0             0.0      0.0         0.0    1.0   \n",
       "2           0.0               0.0             0.0      1.0         0.0    0.0   \n",
       "3           0.0               0.0             0.0      0.0         1.0    0.0   \n",
       "4           0.0               0.0             1.0      0.0         0.0    0.0   \n",
       "5           0.0               1.0             0.0      0.0         0.0    1.0   \n",
       "\n",
       "   Excelente  Mala  Muy Buena  \n",
       "0        0.0   1.0        0.0  \n",
       "1        0.0   0.0        0.0  \n",
       "2        0.0   0.0        1.0  \n",
       "3        1.0   0.0        0.0  \n",
       "4        0.0   1.0        0.0  \n",
       "5        0.0   0.0        0.0  "
      ],
      "text/html": [
       "<div>\n",
       "<style scoped>\n",
       "    .dataframe tbody tr th:only-of-type {\n",
       "        vertical-align: middle;\n",
       "    }\n",
       "\n",
       "    .dataframe tbody tr th {\n",
       "        vertical-align: top;\n",
       "    }\n",
       "\n",
       "    .dataframe thead th {\n",
       "        text-align: right;\n",
       "    }\n",
       "</style>\n",
       "<table border=\"1\" class=\"dataframe\">\n",
       "  <thead>\n",
       "    <tr style=\"text-align: right;\">\n",
       "      <th></th>\n",
       "      <th>Insatisfecho</th>\n",
       "      <th>Muy insatisfecho</th>\n",
       "      <th>Muy satisfecho</th>\n",
       "      <th>Neutral</th>\n",
       "      <th>Satisfecho</th>\n",
       "      <th>Buena</th>\n",
       "      <th>Excelente</th>\n",
       "      <th>Mala</th>\n",
       "      <th>Muy Buena</th>\n",
       "    </tr>\n",
       "  </thead>\n",
       "  <tbody>\n",
       "    <tr>\n",
       "      <th>0</th>\n",
       "      <td>0.0</td>\n",
       "      <td>1.0</td>\n",
       "      <td>0.0</td>\n",
       "      <td>0.0</td>\n",
       "      <td>0.0</td>\n",
       "      <td>0.0</td>\n",
       "      <td>0.0</td>\n",
       "      <td>1.0</td>\n",
       "      <td>0.0</td>\n",
       "    </tr>\n",
       "    <tr>\n",
       "      <th>1</th>\n",
       "      <td>1.0</td>\n",
       "      <td>0.0</td>\n",
       "      <td>0.0</td>\n",
       "      <td>0.0</td>\n",
       "      <td>0.0</td>\n",
       "      <td>1.0</td>\n",
       "      <td>0.0</td>\n",
       "      <td>0.0</td>\n",
       "      <td>0.0</td>\n",
       "    </tr>\n",
       "    <tr>\n",
       "      <th>2</th>\n",
       "      <td>0.0</td>\n",
       "      <td>0.0</td>\n",
       "      <td>0.0</td>\n",
       "      <td>1.0</td>\n",
       "      <td>0.0</td>\n",
       "      <td>0.0</td>\n",
       "      <td>0.0</td>\n",
       "      <td>0.0</td>\n",
       "      <td>1.0</td>\n",
       "    </tr>\n",
       "    <tr>\n",
       "      <th>3</th>\n",
       "      <td>0.0</td>\n",
       "      <td>0.0</td>\n",
       "      <td>0.0</td>\n",
       "      <td>0.0</td>\n",
       "      <td>1.0</td>\n",
       "      <td>0.0</td>\n",
       "      <td>1.0</td>\n",
       "      <td>0.0</td>\n",
       "      <td>0.0</td>\n",
       "    </tr>\n",
       "    <tr>\n",
       "      <th>4</th>\n",
       "      <td>0.0</td>\n",
       "      <td>0.0</td>\n",
       "      <td>1.0</td>\n",
       "      <td>0.0</td>\n",
       "      <td>0.0</td>\n",
       "      <td>0.0</td>\n",
       "      <td>0.0</td>\n",
       "      <td>1.0</td>\n",
       "      <td>0.0</td>\n",
       "    </tr>\n",
       "    <tr>\n",
       "      <th>5</th>\n",
       "      <td>0.0</td>\n",
       "      <td>1.0</td>\n",
       "      <td>0.0</td>\n",
       "      <td>0.0</td>\n",
       "      <td>0.0</td>\n",
       "      <td>1.0</td>\n",
       "      <td>0.0</td>\n",
       "      <td>0.0</td>\n",
       "      <td>0.0</td>\n",
       "    </tr>\n",
       "  </tbody>\n",
       "</table>\n",
       "</div>"
      ]
     },
     "metadata": {},
     "execution_count": 17
    }
   ],
   "metadata": {}
  },
  {
   "cell_type": "markdown",
   "source": [
    "## Comparación de las codificaciones "
   ],
   "metadata": {}
  },
  {
   "cell_type": "markdown",
   "source": [],
   "metadata": {}
  },
  {
   "cell_type": "markdown",
   "source": [
    "### Ejemplo con regresión logística"
   ],
   "metadata": {}
  },
  {
   "cell_type": "markdown",
   "source": [
    "En este ejemplo, lo que nos debe importar es cómo según qué tipo de codificación usemos esto puede alterar el tipo de predicciones que realice nuestro modelo de aprendizaje de máquina. En este caso, se trata de un modelo que predice qué tipo de cliente (esporárico o frecuente) puede ser el que emita su opinión respecto a la calidad de un servicio y a la calidad de los alimentos. Dicho modelo lo entrenaremos con estos datos de \"juguete\" con los que estuvimos trabajando, con lo cual tengamos en cuenta que por la cantidad de dichos datos, que es muy reducida, no necesariamente sea un modelo que puede llegar a ser certero, pero a modo de ejemplo es suficiente.\n",
    "\n",
    "Por este motivo, obviemos los detalles específicos de qué es la regresión logística.\n",
    "\n",
    "Lo que sí podemos mencionar es que además estamos usando para este ejemplo lo que se conoce como escalamiento que es pasar los datos ordinales (ya tranformados en numéricos con la codificación ordinal) a una escala que va del 0 al 1, y no del 0 a x, como teníamos antes."
   ],
   "metadata": {}
  },
  {
   "cell_type": "code",
   "execution_count": 18,
   "source": [
    "from sklearn.linear_model import LogisticRegression\n",
    "from sklearn.preprocessing import MinMaxScaler"
   ],
   "outputs": [],
   "metadata": {}
  },
  {
   "cell_type": "code",
   "execution_count": 19,
   "source": [
    "print(\"\\n*** Datos Escalados de la codificación ordinal\")\n",
    "escalador = MinMaxScaler()\n",
    "print(datos_ord)\n",
    "datos_ord = escalador.fit_transform(datos_ord)\n",
    "print(datos_ord)\n",
    "\n",
    "print(\"\\n*** Clasificación con Datos codificados con OrdinalEncoder\")\n",
    "modelo = LogisticRegression().fit(datos_ord, tipo_cliente) # x = datos_ord, y = tipo_cliente\n",
    "print(\"Predicciones:\", modelo.predict(datos_ord))\n",
    "print(\"Clases correctas:\", tipo_cliente)\n",
    "print(modelo.predict_proba(datos_ord))\n",
    "\n",
    "print(\"\\n*** Clasificación con Datos codificados con OneHotEncoder\")\n",
    "modelo = LogisticRegression().fit(datos_one, tipo_cliente) # x = datos_ord, y = tipo_cliente\n",
    "print(\"Predicciones:\", modelo.predict(datos_one))\n",
    "print(\"Clases correctas:\", tipo_cliente)\n",
    "print(modelo.predict_proba(datos_one))"
   ],
   "outputs": [
    {
     "output_type": "stream",
     "name": "stdout",
     "text": [
      "\n",
      "*** Datos Escalados de la codificación ordinal\n",
      "   servicio  alimentos\n",
      "0       0.0        0.0\n",
      "1       1.0        1.0\n",
      "2       2.0        2.0\n",
      "3       3.0        3.0\n",
      "4       4.0        0.0\n",
      "5       0.0        1.0\n",
      "[[0.         0.        ]\n",
      " [0.25       0.33333333]\n",
      " [0.5        0.66666667]\n",
      " [0.75       1.        ]\n",
      " [1.         0.        ]\n",
      " [0.         0.33333333]]\n",
      "\n",
      "*** Clasificación con Datos codificados con OrdinalEncoder\n",
      "Predicciones: [0 0 1 1 0 0]\n",
      "Clases correctas: [0, 0, 1, 1, 0, 1]\n",
      "[[0.56489598 0.43510402]\n",
      " [0.50845928 0.49154072]\n",
      " [0.45180614 0.54819386]\n",
      " [0.39637512 0.60362488]\n",
      " [0.57175647 0.42824353]\n",
      " [0.50671189 0.49328811]]\n",
      "\n",
      "*** Clasificación con Datos codificados con OneHotEncoder\n",
      "Predicciones: [0 0 1 1 0 1]\n",
      "Clases correctas: [0, 0, 1, 1, 0, 1]\n",
      "[[0.62301432 0.37698568]\n",
      " [0.57519021 0.42480979]\n",
      " [0.32279763 0.67720237]\n",
      " [0.32279763 0.67720237]\n",
      " [0.70505958 0.29494042]\n",
      " [0.45116842 0.54883158]]\n"
     ]
    }
   ],
   "metadata": {}
  },
  {
   "cell_type": "code",
   "execution_count": null,
   "source": [],
   "outputs": [],
   "metadata": {}
  }
 ],
 "metadata": {
  "orig_nbformat": 4,
  "language_info": {
   "name": "python",
   "version": "3.12.0",
   "mimetype": "text/x-python",
   "codemirror_mode": {
    "name": "ipython",
    "version": 3
   },
   "pygments_lexer": "ipython3",
   "nbconvert_exporter": "python",
   "file_extension": ".py"
  },
  "kernelspec": {
   "name": "python3",
   "display_name": "Python 3.12.0 64-bit"
  },
  "interpreter": {
   "hash": "aee8b7b246df8f9039afb4144a1f6fd8d2ca17a180786b69acc140d282b71a49"
  }
 },
 "nbformat": 4,
 "nbformat_minor": 2
}