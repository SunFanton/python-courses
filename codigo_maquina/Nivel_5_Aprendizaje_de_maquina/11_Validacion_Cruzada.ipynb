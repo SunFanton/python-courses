{
 "cells": [
  {
   "cell_type": "markdown",
   "id": "863e641f-0163-4eae-b506-08e6469a6433",
   "metadata": {},
   "source": [
    "# Validación cruzada (Cross Validation)"
   ]
  },
  {
   "cell_type": "markdown",
   "id": "f76e6a85-3c43-45a4-99fc-0855f45e0649",
   "metadata": {},
   "source": [
    "Explicación extraída de `ChatGPT`:"
   ]
  },
  {
   "cell_type": "markdown",
   "id": "40f5deb5-bcd8-4f08-9e81-5eb4c229d7c0",
   "metadata": {},
   "source": [
    "La **validación cruzada (cross-validation)** es una técnica utilizada en el aprendizaje automático para evaluar la capacidad de generalización de un modelo. Específicamente, mide cómo se desempeñará el modelo en datos no vistos al dividir el conjunto de datos en partes y realizar múltiples iteraciones de entrenamiento y prueba. Esto ayuda a reducir el riesgo de sobreajuste (overfitting) y subajuste (underfitting).\n",
    "\n",
    "## ¿Cómo funciona?\n",
    "\n",
    "1. División del conjunto de datos:\n",
    "\n",
    "    * El conjunto de datos se divide en varias partes o \"pliegues\" (folds). Por ejemplo, si utilizas una validación cruzada de 5 pliegues (5-fold cross-validation), el conjunto de datos se divide en 5 partes aproximadamente iguales.\n",
    "\n",
    "2. Iteraciones de entrenamiento y prueba:\n",
    "\n",
    "    * En cada iteración, se utiliza uno de los pliegues como conjunto de prueba, y los restantes como conjunto de entrenamiento.\n",
    "    * Este proceso se repite tantas veces como pliegues existan, asegurando que cada pliegue se utilice exactamente una vez como conjunto de prueba.\n",
    "\n",
    "3. Promedio del desempeño:\n",
    "\n",
    "    * Una vez completadas todas las iteraciones, se calcula el promedio de las métricas de evaluación (como precisión, F1-score, error cuadrático medio, etc.). Este promedio proporciona una estimación más confiable del desempeño del modelo.\n"
   ]
  },
  {
   "cell_type": "markdown",
   "id": "55b2e079-72fa-446e-b35e-0c7e5995fea0",
   "metadata": {},
   "source": [
    "## Ejemplo de validación cruzada en un contexto cotidiano\n",
    "\n",
    "Imagina que eres un maestro y quieres evaluar si tus estudiantes entienden un tema. Tienes un conjunto de preguntas (equivalente al conjunto de datos) y decides hacer múltiples pruebas para obtener una evaluación precisa.\n",
    "\n",
    "### 1. Dividir el conjunto de datos\n",
    "Supongamos que tienes 10 preguntas. Divides estas preguntas en 5 grupos de 2 preguntas cada uno. Cada grupo representa un \"pliegue\" (*fold*).\n",
    "\n",
    "- **Grupo 1**: Pregunta 1 y Pregunta 2  \n",
    "- **Grupo 2**: Pregunta 3 y Pregunta 4  \n",
    "- **Grupo 3**: Pregunta 5 y Pregunta 6  \n",
    "- **Grupo 4**: Pregunta 7 y Pregunta 8  \n",
    "- **Grupo 5**: Pregunta 9 y Pregunta 10  \n",
    "\n",
    "### 2. Entrenamiento y prueba en iteraciones\n",
    "Ahora, haces 5 evaluaciones. En cada evaluación:\n",
    "\n",
    "- Tomas 8 preguntas para \"enseñar\" a los estudiantes (equivalente al entrenamiento del modelo).\n",
    "- Usas las 2 preguntas restantes para \"probar\" a los estudiantes (equivalente al conjunto de prueba).\n",
    "\n",
    "Por ejemplo:\n",
    "\n",
    "- **Primera evaluación**:\n",
    "  - Enseñas con las preguntas de los Grupos 2, 3, 4 y 5.\n",
    "  - Evalúas con las preguntas del Grupo 1.\n",
    "  \n",
    "- **Segunda evaluación**:\n",
    "  - Enseñas con las preguntas de los Grupos 1, 3, 4 y 5.\n",
    "  - Evalúas con las preguntas del Grupo 2.\n",
    "\n",
    "Repite este proceso hasta que cada grupo haya sido utilizado como conjunto de prueba una vez.\n",
    "\n",
    "### 3. Promediar los resultados\n",
    "Después de las 5 evaluaciones, observas el desempeño de los estudiantes en cada grupo de prueba y calculas el promedio. Esto te da una idea más precisa de cuánto han aprendido, ya que cada pregunta fue evaluada en un contexto diferente.\n",
    "\n",
    "---\n",
    "\n",
    "### ¿Qué logramos con esto?\n",
    "\n",
    "1. **Menos sesgo**:  \n",
    "   Si usaras siempre el mismo conjunto de preguntas para evaluar (como usar siempre el Grupo 1), podrías sobreestimar o subestimar lo aprendido, dependiendo de la dificultad de esas preguntas.\n",
    "\n",
    "2. **Evaluación completa**:  \n",
    "   Cada pregunta tuvo la oportunidad de ser parte del conjunto de prueba, asegurando que todas contribuyan a evaluar el entendimiento general.\n",
    "\n",
    "Esto es exactamente lo que hace la validación cruzada en aprendizaje automático: entrena y prueba un modelo en diferentes subconjuntos del conjunto de datos para garantizar que se evalúe su capacidad de generalización de manera justa y precisa.\n"
   ]
  },
  {
   "cell_type": "markdown",
   "id": "a9c13592-ebe7-4cf3-82eb-da3acae8b49c",
   "metadata": {},
   "source": [
    "## Ejemplo con Python"
   ]
  },
  {
   "cell_type": "code",
   "execution_count": 1,
   "id": "75c6662e-2663-4e70-968c-035bef8d880c",
   "metadata": {},
   "outputs": [],
   "source": [
    "import pandas as pd\n",
    "from sklearn.ensemble import RandomForestClassifier # podemos usar cualquier otro modelo de regresion o clasificacion\n",
    "from sklearn.model_selection import cross_val_score"
   ]
  },
  {
   "cell_type": "code",
   "execution_count": 4,
   "id": "279c0b39-720e-4d27-accd-87e06764eb30",
   "metadata": {},
   "outputs": [
    {
     "name": "stdout",
     "output_type": "stream",
     "text": [
      "(100, 3)\n"
     ]
    },
    {
     "data": {
      "text/html": [
       "<div>\n",
       "<style scoped>\n",
       "    .dataframe tbody tr th:only-of-type {\n",
       "        vertical-align: middle;\n",
       "    }\n",
       "\n",
       "    .dataframe tbody tr th {\n",
       "        vertical-align: top;\n",
       "    }\n",
       "\n",
       "    .dataframe thead th {\n",
       "        text-align: right;\n",
       "    }\n",
       "</style>\n",
       "<table border=\"1\" class=\"dataframe\">\n",
       "  <thead>\n",
       "    <tr style=\"text-align: right;\">\n",
       "      <th></th>\n",
       "      <th>edad</th>\n",
       "      <th>estudio</th>\n",
       "      <th>ingreso</th>\n",
       "    </tr>\n",
       "  </thead>\n",
       "  <tbody>\n",
       "    <tr>\n",
       "      <th>0</th>\n",
       "      <td>27</td>\n",
       "      <td>9</td>\n",
       "      <td>0</td>\n",
       "    </tr>\n",
       "    <tr>\n",
       "      <th>1</th>\n",
       "      <td>30</td>\n",
       "      <td>9</td>\n",
       "      <td>0</td>\n",
       "    </tr>\n",
       "    <tr>\n",
       "      <th>2</th>\n",
       "      <td>34</td>\n",
       "      <td>8</td>\n",
       "      <td>0</td>\n",
       "    </tr>\n",
       "    <tr>\n",
       "      <th>3</th>\n",
       "      <td>26</td>\n",
       "      <td>13</td>\n",
       "      <td>0</td>\n",
       "    </tr>\n",
       "    <tr>\n",
       "      <th>4</th>\n",
       "      <td>23</td>\n",
       "      <td>4</td>\n",
       "      <td>0</td>\n",
       "    </tr>\n",
       "  </tbody>\n",
       "</table>\n",
       "</div>"
      ],
      "text/plain": [
       "   edad  estudio  ingreso\n",
       "0    27        9        0\n",
       "1    30        9        0\n",
       "2    34        8        0\n",
       "3    26       13        0\n",
       "4    23        4        0"
      ]
     },
     "execution_count": 4,
     "metadata": {},
     "output_type": "execute_result"
    }
   ],
   "source": [
    "personas = pd.read_csv(\"../datos/salario.csv\")\n",
    "print(personas.shape)\n",
    "personas.head()"
   ]
  },
  {
   "cell_type": "code",
   "execution_count": 9,
   "id": "6a67c928-ccd6-459a-ad25-4082acb20071",
   "metadata": {},
   "outputs": [
    {
     "name": "stdout",
     "output_type": "stream",
     "text": [
      "0.97\n",
      "0.78\n"
     ]
    }
   ],
   "source": [
    "bosque = RandomForestClassifier()\n",
    "bosque.fit(personas[[\"edad\", \"estudio\"]].values, personas[\"ingreso\"].values)\n",
    "\n",
    "# validacion o score poco representativo y no muy real\n",
    "print(bosque.score(personas[[\"edad\", \"estudio\"]].values, personas[\"ingreso\"].values))\n",
    "\n",
    "# validacion mas acertada con la realidad\n",
    "print(cross_val_score(bosque, \n",
    "                      personas[[\"edad\", \"estudio\"]].values, \n",
    "                      personas[\"ingreso\"].values,\n",
    "                      cv=5) # cantidad de pliegues o subgrupos\n",
    "                      .mean())"
   ]
  },
  {
   "cell_type": "code",
   "execution_count": null,
   "id": "022b3449-9760-401a-8d56-7c84bda97f42",
   "metadata": {},
   "outputs": [],
   "source": []
  }
 ],
 "metadata": {
  "kernelspec": {
   "display_name": "Python 3 (ipykernel)",
   "language": "python",
   "name": "python3"
  },
  "language_info": {
   "codemirror_mode": {
    "name": "ipython",
    "version": 3
   },
   "file_extension": ".py",
   "mimetype": "text/x-python",
   "name": "python",
   "nbconvert_exporter": "python",
   "pygments_lexer": "ipython3",
   "version": "3.12.0"
  }
 },
 "nbformat": 4,
 "nbformat_minor": 5
}
