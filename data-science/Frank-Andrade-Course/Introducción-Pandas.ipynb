{
 "cells": [
  {
   "cell_type": "markdown",
   "id": "41ef72ec-8d97-48c6-a0af-30d778c5cd3f",
   "metadata": {},
   "source": [
    "# Introducción a Pandas"
   ]
  },
  {
   "cell_type": "markdown",
   "id": "c4bc1a67-6da1-4c81-9bc2-49fe1215c4e2",
   "metadata": {},
   "source": [
    "<div style=\"text-align: justify; font-size: 1.1rem;\">\n",
    "El presente Notebook abordará conceptos básicos del uso de Pandas en Python para análisis y ciencia de datos.\n",
    "\n",
    "Todo el material aquí recopilado corresponde al curso introductorio de Data Science de YouTube de Frank Andrade.\n",
    "\n",
    "Link al curso:\n",
    "<a href=\"https://www.youtube.com/watch?v=zAIWnwqHGok\" target=\"_blank\">Curso de Data Science en Python Desde Cero</a>\n",
    "\n",
    "</div>"
   ]
  },
  {
   "cell_type": "markdown",
   "id": "f25f9ffe-2743-4125-8a58-7a1e111ffbde",
   "metadata": {},
   "source": [
    "## Pandas vs Excel y Terminología"
   ]
  },
  {
   "cell_type": "markdown",
   "id": "96b3f00c-00f6-481e-ab0f-7e70434f8547",
   "metadata": {},
   "source": [
    "<div style=\"text-align: justify; font-size: 1.1rem;\">\n",
    "Imágenes con contenido teórico sinóptico tomadas del curso de Frank Andrade\n",
    "</div>"
   ]
  },
  {
   "cell_type": "markdown",
   "id": "ef7210d0-4a88-4507-a29b-9c1aceb730dc",
   "metadata": {},
   "source": [
    "![Image 1](./images/image1.png)"
   ]
  },
  {
   "cell_type": "markdown",
   "id": "3ae0444c-f86a-4482-a3f2-acb1ae50cbd3",
   "metadata": {},
   "source": [
    "![Image 2](./images/image2.png)"
   ]
  },
  {
   "cell_type": "markdown",
   "id": "e547c1fd-f213-4d11-98d7-34c4e8d8e242",
   "metadata": {},
   "source": [
    "![Image 3](./images/image3.png)"
   ]
  },
  {
   "cell_type": "markdown",
   "id": "42b2a44f-29b1-444b-98f7-dc5ada6da1ae",
   "metadata": {},
   "source": [
    "![Image 4](./images/image4.png)"
   ]
  },
  {
   "cell_type": "markdown",
   "id": "01b0839b-f99b-4692-b353-b771866ff8aa",
   "metadata": {},
   "source": [
    "![Image 5](./images/image5.png)"
   ]
  },
  {
   "cell_type": "markdown",
   "id": "7c1b2bd8-27f1-4371-a8d6-7155351c9b68",
   "metadata": {},
   "source": [
    "## Crear DataFrames"
   ]
  },
  {
   "cell_type": "markdown",
   "id": "1f82296c-f8f1-43ae-9e4d-24350bb4b58f",
   "metadata": {},
   "source": [
    "![Image 7](./images/image7.png)"
   ]
  },
  {
   "cell_type": "markdown",
   "id": "3b4cefaa-a1cd-435f-a1ef-689ecb5bb19e",
   "metadata": {},
   "source": [
    "![Image 8](./images/image8.png)"
   ]
  },
  {
   "cell_type": "markdown",
   "id": "34987f0b-685b-4806-9ae7-4ae1be8e11dd",
   "metadata": {},
   "source": [
    "![Image 9](./images/image9.png)"
   ]
  },
  {
   "cell_type": "code",
   "execution_count": 1,
   "id": "b2baadd7-9754-4cbc-9e5d-aba96bdf2f11",
   "metadata": {},
   "outputs": [],
   "source": [
    "import pandas as pd\n",
    "import numpy as np"
   ]
  },
  {
   "cell_type": "markdown",
   "id": "167588d0-b300-4d77-9b22-d2a1ec66afc4",
   "metadata": {},
   "source": [
    "### Con arrays"
   ]
  },
  {
   "cell_type": "code",
   "execution_count": 13,
   "id": "3435e5c5-47c6-4366-a1aa-c05b1bbe63aa",
   "metadata": {},
   "outputs": [],
   "source": [
    "def createIdxAndFeaturesNames(rowNum, colNum):\n",
    "    indexes = []\n",
    "    features = []\n",
    "    for col in range(1, colNum+1, 1):\n",
    "        features.append(\"Col\" + str(col))\n",
    "    for row in range(1, rowNum+1, 1):\n",
    "        indexes.append(\"Id\" + str(row))\n",
    "    return (indexes, features)"
   ]
  },
  {
   "cell_type": "markdown",
   "id": "f8a3bc60-77a6-4033-b600-b6092377461a",
   "metadata": {},
   "source": [
    "#### Lista"
   ]
  },
  {
   "cell_type": "code",
   "execution_count": 14,
   "id": "0c29af3c-b4dd-40df-83a9-2b863a40337c",
   "metadata": {},
   "outputs": [],
   "source": [
    "# creando el array\n",
    "data_list = [\n",
    "    [1, 4], # fila 1\n",
    "    [2, 5], # fila 2\n",
    "    [3, 4] # fila 3\n",
    "]"
   ]
  },
  {
   "cell_type": "code",
   "execution_count": 15,
   "id": "9ac1c423-0791-4ef5-a4b1-d0958b243f18",
   "metadata": {},
   "outputs": [],
   "source": [
    "# creando el dataframe\n",
    "list_cols = len(data_list[0])\n",
    "list_rows = len(data_list)\n",
    "\n",
    "indexes, features = createIdxAndFeaturesNames(list_rows, list_cols)\n",
    "\n",
    "# si no aportamos nombres a indices y columnas, pandas los asignara con numeros a partir del 0 en adelante automaticamente\n",
    "df_list = pd.DataFrame(data_list, index=indexes, columns=features)"
   ]
  },
  {
   "cell_type": "code",
   "execution_count": 16,
   "id": "912fa27c-906e-4322-9e46-46acfe1ff0e3",
   "metadata": {},
   "outputs": [
    {
     "data": {
      "text/html": [
       "<div>\n",
       "<style scoped>\n",
       "    .dataframe tbody tr th:only-of-type {\n",
       "        vertical-align: middle;\n",
       "    }\n",
       "\n",
       "    .dataframe tbody tr th {\n",
       "        vertical-align: top;\n",
       "    }\n",
       "\n",
       "    .dataframe thead th {\n",
       "        text-align: right;\n",
       "    }\n",
       "</style>\n",
       "<table border=\"1\" class=\"dataframe\">\n",
       "  <thead>\n",
       "    <tr style=\"text-align: right;\">\n",
       "      <th></th>\n",
       "      <th>Col1</th>\n",
       "      <th>Col2</th>\n",
       "    </tr>\n",
       "  </thead>\n",
       "  <tbody>\n",
       "    <tr>\n",
       "      <th>Id1</th>\n",
       "      <td>1</td>\n",
       "      <td>4</td>\n",
       "    </tr>\n",
       "    <tr>\n",
       "      <th>Id2</th>\n",
       "      <td>2</td>\n",
       "      <td>5</td>\n",
       "    </tr>\n",
       "    <tr>\n",
       "      <th>Id3</th>\n",
       "      <td>3</td>\n",
       "      <td>4</td>\n",
       "    </tr>\n",
       "  </tbody>\n",
       "</table>\n",
       "</div>"
      ],
      "text/plain": [
       "     Col1  Col2\n",
       "Id1     1     4\n",
       "Id2     2     5\n",
       "Id3     3     4"
      ]
     },
     "execution_count": 16,
     "metadata": {},
     "output_type": "execute_result"
    }
   ],
   "source": [
    "# mostrando el dataframe\n",
    "df_list"
   ]
  },
  {
   "cell_type": "markdown",
   "id": "36254ad8-00af-4b40-8d01-35acca43940e",
   "metadata": {},
   "source": [
    "#### Numpy"
   ]
  },
  {
   "cell_type": "code",
   "execution_count": 17,
   "id": "c87c84e4-47fa-45f0-923b-dcbe46690488",
   "metadata": {},
   "outputs": [],
   "source": [
    "# creando el array (tener en cuenta que en numpy solo podemos crear array con numeros)\n",
    "data = np.array([\n",
    "    [1, 4], # fila 1\n",
    "    [2, 5], # fila 2\n",
    "    [3, 4] # fila 3\n",
    "])"
   ]
  },
  {
   "cell_type": "code",
   "execution_count": 18,
   "id": "0bc47de6-1e52-475b-9ac3-09f56ae62b3f",
   "metadata": {},
   "outputs": [],
   "source": [
    "# creando el dataframe\n",
    "rows, cols = data.shape\n",
    "\n",
    "indexes, features = createIdxAndFeaturesNames(rows, cols)\n",
    "\n",
    "# si no aportamos nombres a indices y columnas, pandas los asignara con numeros a partir del 0 en adelante automaticamente\n",
    "df = pd.DataFrame(data, index=indexes, columns=features)"
   ]
  },
  {
   "cell_type": "code",
   "execution_count": 19,
   "id": "813237df-539d-427f-a474-f797c83562f3",
   "metadata": {},
   "outputs": [
    {
     "data": {
      "text/html": [
       "<div>\n",
       "<style scoped>\n",
       "    .dataframe tbody tr th:only-of-type {\n",
       "        vertical-align: middle;\n",
       "    }\n",
       "\n",
       "    .dataframe tbody tr th {\n",
       "        vertical-align: top;\n",
       "    }\n",
       "\n",
       "    .dataframe thead th {\n",
       "        text-align: right;\n",
       "    }\n",
       "</style>\n",
       "<table border=\"1\" class=\"dataframe\">\n",
       "  <thead>\n",
       "    <tr style=\"text-align: right;\">\n",
       "      <th></th>\n",
       "      <th>Col1</th>\n",
       "      <th>Col2</th>\n",
       "    </tr>\n",
       "  </thead>\n",
       "  <tbody>\n",
       "    <tr>\n",
       "      <th>Id1</th>\n",
       "      <td>1</td>\n",
       "      <td>4</td>\n",
       "    </tr>\n",
       "    <tr>\n",
       "      <th>Id2</th>\n",
       "      <td>2</td>\n",
       "      <td>5</td>\n",
       "    </tr>\n",
       "    <tr>\n",
       "      <th>Id3</th>\n",
       "      <td>3</td>\n",
       "      <td>4</td>\n",
       "    </tr>\n",
       "  </tbody>\n",
       "</table>\n",
       "</div>"
      ],
      "text/plain": [
       "     Col1  Col2\n",
       "Id1     1     4\n",
       "Id2     2     5\n",
       "Id3     3     4"
      ]
     },
     "execution_count": 19,
     "metadata": {},
     "output_type": "execute_result"
    }
   ],
   "source": [
    "# mostrando el dataframe\n",
    "df"
   ]
  },
  {
   "cell_type": "markdown",
   "id": "7f5eaeca-5d9e-4558-8888-e5b1adce5a75",
   "metadata": {},
   "source": [
    "### Con diccionarios"
   ]
  },
  {
   "cell_type": "code",
   "execution_count": 20,
   "id": "e3c6ec61-95ab-4d88-ba85-206af649a9fe",
   "metadata": {},
   "outputs": [],
   "source": [
    "# creando las listas. cada lista contendra los valores de toda una columna del dataframe\n",
    "states = [\"California\", \"Texas\", \"Florida\", \"New York\"]\n",
    "population = [39098766, 12563789, 34987232, 19875378]"
   ]
  },
  {
   "cell_type": "code",
   "execution_count": 21,
   "id": "a0d31116-6bea-4486-8416-92b4836352a2",
   "metadata": {},
   "outputs": [],
   "source": [
    "# creando el diccionario\n",
    "dict_states = {\n",
    "    \"State\": states, \n",
    "    \"Population\": population\n",
    "}"
   ]
  },
  {
   "cell_type": "code",
   "execution_count": 22,
   "id": "e61c9a6f-7f04-4c90-9966-d103b2afe21b",
   "metadata": {},
   "outputs": [],
   "source": [
    "# creando el dataframe, en este caso tomara como nombres d elas columnas las keys del diccionario\n",
    "df_states = pd.DataFrame(dict_states) "
   ]
  },
  {
   "cell_type": "code",
   "execution_count": 23,
   "id": "73829261-29ef-4497-a207-8070ff8a8285",
   "metadata": {},
   "outputs": [
    {
     "data": {
      "text/html": [
       "<div>\n",
       "<style scoped>\n",
       "    .dataframe tbody tr th:only-of-type {\n",
       "        vertical-align: middle;\n",
       "    }\n",
       "\n",
       "    .dataframe tbody tr th {\n",
       "        vertical-align: top;\n",
       "    }\n",
       "\n",
       "    .dataframe thead th {\n",
       "        text-align: right;\n",
       "    }\n",
       "</style>\n",
       "<table border=\"1\" class=\"dataframe\">\n",
       "  <thead>\n",
       "    <tr style=\"text-align: right;\">\n",
       "      <th></th>\n",
       "      <th>State</th>\n",
       "      <th>Population</th>\n",
       "    </tr>\n",
       "  </thead>\n",
       "  <tbody>\n",
       "    <tr>\n",
       "      <th>0</th>\n",
       "      <td>California</td>\n",
       "      <td>39098766</td>\n",
       "    </tr>\n",
       "    <tr>\n",
       "      <th>1</th>\n",
       "      <td>Texas</td>\n",
       "      <td>12563789</td>\n",
       "    </tr>\n",
       "    <tr>\n",
       "      <th>2</th>\n",
       "      <td>Florida</td>\n",
       "      <td>34987232</td>\n",
       "    </tr>\n",
       "    <tr>\n",
       "      <th>3</th>\n",
       "      <td>New York</td>\n",
       "      <td>19875378</td>\n",
       "    </tr>\n",
       "  </tbody>\n",
       "</table>\n",
       "</div>"
      ],
      "text/plain": [
       "        State  Population\n",
       "0  California    39098766\n",
       "1       Texas    12563789\n",
       "2     Florida    34987232\n",
       "3    New York    19875378"
      ]
     },
     "execution_count": 23,
     "metadata": {},
     "output_type": "execute_result"
    }
   ],
   "source": [
    "# mostrando el dtaframe\n",
    "df_states"
   ]
  },
  {
   "cell_type": "markdown",
   "id": "08cf2425-0ba6-41c4-b0c8-ab87f2e3e550",
   "metadata": {},
   "source": [
    "### Con archivo CSV"
   ]
  },
  {
   "cell_type": "code",
   "execution_count": 24,
   "id": "bbd3de8f-397b-4021-adcf-2b45fa499345",
   "metadata": {},
   "outputs": [],
   "source": [
    "# leyendo el archivo csv\n",
    "df_csv = pd.read_csv(\"./datasets/StudentsPerformance.csv\")"
   ]
  },
  {
   "cell_type": "code",
   "execution_count": 25,
   "id": "39c9d02a-3721-47d2-a28e-a2c6506d16ca",
   "metadata": {},
   "outputs": [
    {
     "data": {
      "text/html": [
       "<div>\n",
       "<style scoped>\n",
       "    .dataframe tbody tr th:only-of-type {\n",
       "        vertical-align: middle;\n",
       "    }\n",
       "\n",
       "    .dataframe tbody tr th {\n",
       "        vertical-align: top;\n",
       "    }\n",
       "\n",
       "    .dataframe thead th {\n",
       "        text-align: right;\n",
       "    }\n",
       "</style>\n",
       "<table border=\"1\" class=\"dataframe\">\n",
       "  <thead>\n",
       "    <tr style=\"text-align: right;\">\n",
       "      <th></th>\n",
       "      <th>gender</th>\n",
       "      <th>race/ethnicity</th>\n",
       "      <th>parental level of education</th>\n",
       "      <th>lunch</th>\n",
       "      <th>test preparation course</th>\n",
       "      <th>math score</th>\n",
       "      <th>reading score</th>\n",
       "      <th>writing score</th>\n",
       "    </tr>\n",
       "  </thead>\n",
       "  <tbody>\n",
       "    <tr>\n",
       "      <th>0</th>\n",
       "      <td>female</td>\n",
       "      <td>group B</td>\n",
       "      <td>bachelor's degree</td>\n",
       "      <td>standard</td>\n",
       "      <td>none</td>\n",
       "      <td>72</td>\n",
       "      <td>72</td>\n",
       "      <td>74</td>\n",
       "    </tr>\n",
       "    <tr>\n",
       "      <th>1</th>\n",
       "      <td>female</td>\n",
       "      <td>group C</td>\n",
       "      <td>some college</td>\n",
       "      <td>standard</td>\n",
       "      <td>completed</td>\n",
       "      <td>69</td>\n",
       "      <td>90</td>\n",
       "      <td>88</td>\n",
       "    </tr>\n",
       "    <tr>\n",
       "      <th>2</th>\n",
       "      <td>female</td>\n",
       "      <td>group B</td>\n",
       "      <td>master's degree</td>\n",
       "      <td>standard</td>\n",
       "      <td>none</td>\n",
       "      <td>90</td>\n",
       "      <td>95</td>\n",
       "      <td>93</td>\n",
       "    </tr>\n",
       "    <tr>\n",
       "      <th>3</th>\n",
       "      <td>male</td>\n",
       "      <td>group A</td>\n",
       "      <td>associate's degree</td>\n",
       "      <td>free/reduced</td>\n",
       "      <td>none</td>\n",
       "      <td>47</td>\n",
       "      <td>57</td>\n",
       "      <td>44</td>\n",
       "    </tr>\n",
       "    <tr>\n",
       "      <th>4</th>\n",
       "      <td>male</td>\n",
       "      <td>group C</td>\n",
       "      <td>some college</td>\n",
       "      <td>standard</td>\n",
       "      <td>none</td>\n",
       "      <td>76</td>\n",
       "      <td>78</td>\n",
       "      <td>75</td>\n",
       "    </tr>\n",
       "    <tr>\n",
       "      <th>...</th>\n",
       "      <td>...</td>\n",
       "      <td>...</td>\n",
       "      <td>...</td>\n",
       "      <td>...</td>\n",
       "      <td>...</td>\n",
       "      <td>...</td>\n",
       "      <td>...</td>\n",
       "      <td>...</td>\n",
       "    </tr>\n",
       "    <tr>\n",
       "      <th>995</th>\n",
       "      <td>female</td>\n",
       "      <td>group E</td>\n",
       "      <td>master's degree</td>\n",
       "      <td>standard</td>\n",
       "      <td>completed</td>\n",
       "      <td>88</td>\n",
       "      <td>99</td>\n",
       "      <td>95</td>\n",
       "    </tr>\n",
       "    <tr>\n",
       "      <th>996</th>\n",
       "      <td>male</td>\n",
       "      <td>group C</td>\n",
       "      <td>high school</td>\n",
       "      <td>free/reduced</td>\n",
       "      <td>none</td>\n",
       "      <td>62</td>\n",
       "      <td>55</td>\n",
       "      <td>55</td>\n",
       "    </tr>\n",
       "    <tr>\n",
       "      <th>997</th>\n",
       "      <td>female</td>\n",
       "      <td>group C</td>\n",
       "      <td>high school</td>\n",
       "      <td>free/reduced</td>\n",
       "      <td>completed</td>\n",
       "      <td>59</td>\n",
       "      <td>71</td>\n",
       "      <td>65</td>\n",
       "    </tr>\n",
       "    <tr>\n",
       "      <th>998</th>\n",
       "      <td>female</td>\n",
       "      <td>group D</td>\n",
       "      <td>some college</td>\n",
       "      <td>standard</td>\n",
       "      <td>completed</td>\n",
       "      <td>68</td>\n",
       "      <td>78</td>\n",
       "      <td>77</td>\n",
       "    </tr>\n",
       "    <tr>\n",
       "      <th>999</th>\n",
       "      <td>female</td>\n",
       "      <td>group D</td>\n",
       "      <td>some college</td>\n",
       "      <td>free/reduced</td>\n",
       "      <td>none</td>\n",
       "      <td>77</td>\n",
       "      <td>86</td>\n",
       "      <td>86</td>\n",
       "    </tr>\n",
       "  </tbody>\n",
       "</table>\n",
       "<p>1000 rows × 8 columns</p>\n",
       "</div>"
      ],
      "text/plain": [
       "     gender race/ethnicity parental level of education         lunch  \\\n",
       "0    female        group B           bachelor's degree      standard   \n",
       "1    female        group C                some college      standard   \n",
       "2    female        group B             master's degree      standard   \n",
       "3      male        group A          associate's degree  free/reduced   \n",
       "4      male        group C                some college      standard   \n",
       "..      ...            ...                         ...           ...   \n",
       "995  female        group E             master's degree      standard   \n",
       "996    male        group C                 high school  free/reduced   \n",
       "997  female        group C                 high school  free/reduced   \n",
       "998  female        group D                some college      standard   \n",
       "999  female        group D                some college  free/reduced   \n",
       "\n",
       "    test preparation course  math score  reading score  writing score  \n",
       "0                      none          72             72             74  \n",
       "1                 completed          69             90             88  \n",
       "2                      none          90             95             93  \n",
       "3                      none          47             57             44  \n",
       "4                      none          76             78             75  \n",
       "..                      ...         ...            ...            ...  \n",
       "995               completed          88             99             95  \n",
       "996                    none          62             55             55  \n",
       "997               completed          59             71             65  \n",
       "998               completed          68             78             77  \n",
       "999                    none          77             86             86  \n",
       "\n",
       "[1000 rows x 8 columns]"
      ]
     },
     "execution_count": 25,
     "metadata": {},
     "output_type": "execute_result"
    }
   ],
   "source": [
    "# mostrando el dataframe\n",
    "df_csv"
   ]
  },
  {
   "cell_type": "code",
   "execution_count": null,
   "id": "ba8a9fa0-a934-4fbf-bc20-7da1978836e0",
   "metadata": {},
   "outputs": [],
   "source": []
  }
 ],
 "metadata": {
  "kernelspec": {
   "display_name": "Python 3 (ipykernel)",
   "language": "python",
   "name": "python3"
  },
  "language_info": {
   "codemirror_mode": {
    "name": "ipython",
    "version": 3
   },
   "file_extension": ".py",
   "mimetype": "text/x-python",
   "name": "python",
   "nbconvert_exporter": "python",
   "pygments_lexer": "ipython3",
   "version": "3.12.0"
  }
 },
 "nbformat": 4,
 "nbformat_minor": 5
}
