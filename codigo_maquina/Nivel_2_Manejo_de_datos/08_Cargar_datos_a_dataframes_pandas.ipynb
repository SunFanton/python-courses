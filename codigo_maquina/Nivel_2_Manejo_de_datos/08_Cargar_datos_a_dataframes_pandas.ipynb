{
 "cells": [
  {
   "cell_type": "markdown",
   "id": "9209392b-be4d-452f-a08f-d2a52c80ed01",
   "metadata": {},
   "source": [
    "# Cargar Datos en DataFrames"
   ]
  },
  {
   "cell_type": "code",
   "execution_count": 1,
   "id": "4e87ee80-ade1-4335-afc3-754d0324d6e4",
   "metadata": {},
   "outputs": [
    {
     "name": "stderr",
     "output_type": "stream",
     "text": [
      "/var/folders/ph/5sq6jlj161g1_2t838crnx6c0000gp/T/ipykernel_1084/4080736814.py:1: DeprecationWarning: \n",
      "Pyarrow will become a required dependency of pandas in the next major release of pandas (pandas 3.0),\n",
      "(to allow more performant data types, such as the Arrow string type, and better interoperability with other libraries)\n",
      "but was not found to be installed on your system.\n",
      "If this would cause problems for you,\n",
      "please provide us feedback at https://github.com/pandas-dev/pandas/issues/54466\n",
      "        \n",
      "  import pandas as pd\n"
     ]
    }
   ],
   "source": [
    "import pandas as pd"
   ]
  },
  {
   "cell_type": "markdown",
   "id": "7b7ade0b-e98d-4e07-9839-72cdded400ab",
   "metadata": {},
   "source": [
    "## Cargar desde CSV"
   ]
  },
  {
   "cell_type": "code",
   "execution_count": 7,
   "id": "ed6e364f-9cd8-4228-94c6-062e6a9c1f34",
   "metadata": {},
   "outputs": [
    {
     "data": {
      "text/html": [
       "<div>\n",
       "<style scoped>\n",
       "    .dataframe tbody tr th:only-of-type {\n",
       "        vertical-align: middle;\n",
       "    }\n",
       "\n",
       "    .dataframe tbody tr th {\n",
       "        vertical-align: top;\n",
       "    }\n",
       "\n",
       "    .dataframe thead th {\n",
       "        text-align: right;\n",
       "    }\n",
       "</style>\n",
       "<table border=\"1\" class=\"dataframe\">\n",
       "  <thead>\n",
       "    <tr style=\"text-align: right;\">\n",
       "      <th></th>\n",
       "      <th>Trimestre 1</th>\n",
       "      <th>Trimestre 4</th>\n",
       "    </tr>\n",
       "  </thead>\n",
       "  <tbody>\n",
       "    <tr>\n",
       "      <th>Sucursal Norte</th>\n",
       "      <td>1001</td>\n",
       "      <td>1004</td>\n",
       "    </tr>\n",
       "    <tr>\n",
       "      <th>Sucursal Este</th>\n",
       "      <td>2001</td>\n",
       "      <td>2004</td>\n",
       "    </tr>\n",
       "    <tr>\n",
       "      <th>Sucursal Oeste</th>\n",
       "      <td>3001</td>\n",
       "      <td>3004</td>\n",
       "    </tr>\n",
       "    <tr>\n",
       "      <th>Sucursal Sur</th>\n",
       "      <td>4001</td>\n",
       "      <td>4004</td>\n",
       "    </tr>\n",
       "  </tbody>\n",
       "</table>\n",
       "</div>"
      ],
      "text/plain": [
       "                Trimestre 1  Trimestre 4\n",
       "Sucursal Norte         1001         1004\n",
       "Sucursal Este          2001         2004\n",
       "Sucursal Oeste         3001         3004\n",
       "Sucursal Sur           4001         4004"
      ]
     },
     "execution_count": 7,
     "metadata": {},
     "output_type": "execute_result"
    }
   ],
   "source": [
    "ventas = pd.read_csv(\"../datos/ventas.csv\", \n",
    "                     index_col=0, \n",
    "                     usecols=[0,1,4])\n",
    "ventas"
   ]
  },
  {
   "cell_type": "code",
   "execution_count": 8,
   "id": "f917f412-7e3f-434d-b76a-fe266bf3c7fd",
   "metadata": {},
   "outputs": [
    {
     "data": {
      "text/html": [
       "<div>\n",
       "<style scoped>\n",
       "    .dataframe tbody tr th:only-of-type {\n",
       "        vertical-align: middle;\n",
       "    }\n",
       "\n",
       "    .dataframe tbody tr th {\n",
       "        vertical-align: top;\n",
       "    }\n",
       "\n",
       "    .dataframe thead th {\n",
       "        text-align: right;\n",
       "    }\n",
       "</style>\n",
       "<table border=\"1\" class=\"dataframe\">\n",
       "  <thead>\n",
       "    <tr style=\"text-align: right;\">\n",
       "      <th></th>\n",
       "      <th>Trimestre 1</th>\n",
       "      <th>Trimestre 2</th>\n",
       "      <th>Trimestre 3</th>\n",
       "      <th>Trimestre 4</th>\n",
       "    </tr>\n",
       "  </thead>\n",
       "  <tbody>\n",
       "    <tr>\n",
       "      <th>Sucursal Norte</th>\n",
       "      <td>1001</td>\n",
       "      <td>1002</td>\n",
       "      <td>1003</td>\n",
       "      <td>1004</td>\n",
       "    </tr>\n",
       "    <tr>\n",
       "      <th>Sucursal Este</th>\n",
       "      <td>2001</td>\n",
       "      <td>2002</td>\n",
       "      <td>2003</td>\n",
       "      <td>2004</td>\n",
       "    </tr>\n",
       "    <tr>\n",
       "      <th>Sucursal Oeste</th>\n",
       "      <td>3001</td>\n",
       "      <td>3002</td>\n",
       "      <td>3003</td>\n",
       "      <td>3004</td>\n",
       "    </tr>\n",
       "  </tbody>\n",
       "</table>\n",
       "</div>"
      ],
      "text/plain": [
       "                Trimestre 1  Trimestre 2  Trimestre 3  Trimestre 4\n",
       "Sucursal Norte         1001         1002         1003         1004\n",
       "Sucursal Este          2001         2002         2003         2004\n",
       "Sucursal Oeste         3001         3002         3003         3004"
      ]
     },
     "execution_count": 8,
     "metadata": {},
     "output_type": "execute_result"
    }
   ],
   "source": [
    "ventas = pd.read_csv(\"../datos/ventas.csv\", \n",
    "                     index_col=0, \n",
    "                     nrows=3)\n",
    "ventas"
   ]
  },
  {
   "cell_type": "code",
   "execution_count": 9,
   "id": "c6eeeec4-487f-4983-a5ed-cdb97e4f8624",
   "metadata": {},
   "outputs": [
    {
     "data": {
      "text/html": [
       "<div>\n",
       "<style scoped>\n",
       "    .dataframe tbody tr th:only-of-type {\n",
       "        vertical-align: middle;\n",
       "    }\n",
       "\n",
       "    .dataframe tbody tr th {\n",
       "        vertical-align: top;\n",
       "    }\n",
       "\n",
       "    .dataframe thead th {\n",
       "        text-align: right;\n",
       "    }\n",
       "</style>\n",
       "<table border=\"1\" class=\"dataframe\">\n",
       "  <thead>\n",
       "    <tr style=\"text-align: right;\">\n",
       "      <th></th>\n",
       "      <th>Trimestre 1</th>\n",
       "      <th>Trimestre 2</th>\n",
       "      <th>Trimestre 3</th>\n",
       "      <th>Trimestre 4</th>\n",
       "    </tr>\n",
       "  </thead>\n",
       "  <tbody>\n",
       "    <tr>\n",
       "      <th>Sucursal Norte</th>\n",
       "      <td>1001</td>\n",
       "      <td>1002</td>\n",
       "      <td>1003</td>\n",
       "      <td>1004</td>\n",
       "    </tr>\n",
       "    <tr>\n",
       "      <th>Sucursal Este</th>\n",
       "      <td>2001</td>\n",
       "      <td>2002</td>\n",
       "      <td>2003</td>\n",
       "      <td>2004</td>\n",
       "    </tr>\n",
       "    <tr>\n",
       "      <th>Sucursal Oeste</th>\n",
       "      <td>3001</td>\n",
       "      <td>3002</td>\n",
       "      <td>3003</td>\n",
       "      <td>3004</td>\n",
       "    </tr>\n",
       "    <tr>\n",
       "      <th>Sucursal Sur</th>\n",
       "      <td>4001</td>\n",
       "      <td>4002</td>\n",
       "      <td>4003</td>\n",
       "      <td>4004</td>\n",
       "    </tr>\n",
       "  </tbody>\n",
       "</table>\n",
       "</div>"
      ],
      "text/plain": [
       "                Trimestre 1  Trimestre 2  Trimestre 3  Trimestre 4\n",
       "Sucursal Norte         1001         1002         1003         1004\n",
       "Sucursal Este          2001         2002         2003         2004\n",
       "Sucursal Oeste         3001         3002         3003         3004\n",
       "Sucursal Sur           4001         4002         4003         4004"
      ]
     },
     "execution_count": 9,
     "metadata": {},
     "output_type": "execute_result"
    }
   ],
   "source": [
    "ventas = pd.read_csv(\"../datos/ventas_con_simbolo.csv\", \n",
    "                     index_col=0, \n",
    "                     sep=\"$\")\n",
    "ventas"
   ]
  },
  {
   "cell_type": "code",
   "execution_count": 14,
   "id": "ffa26704-56bc-4be9-8382-b185b8b9f8db",
   "metadata": {},
   "outputs": [
    {
     "data": {
      "text/html": [
       "<div>\n",
       "<style scoped>\n",
       "    .dataframe tbody tr th:only-of-type {\n",
       "        vertical-align: middle;\n",
       "    }\n",
       "\n",
       "    .dataframe tbody tr th {\n",
       "        vertical-align: top;\n",
       "    }\n",
       "\n",
       "    .dataframe thead th {\n",
       "        text-align: right;\n",
       "    }\n",
       "</style>\n",
       "<table border=\"1\" class=\"dataframe\">\n",
       "  <thead>\n",
       "    <tr style=\"text-align: right;\">\n",
       "      <th></th>\n",
       "      <th>T1</th>\n",
       "      <th>T2</th>\n",
       "      <th>T3</th>\n",
       "      <th>T4</th>\n",
       "    </tr>\n",
       "  </thead>\n",
       "  <tbody>\n",
       "    <tr>\n",
       "      <th>Sucursal Norte</th>\n",
       "      <td>1001</td>\n",
       "      <td>1002</td>\n",
       "      <td>1003</td>\n",
       "      <td>1004</td>\n",
       "    </tr>\n",
       "    <tr>\n",
       "      <th>Sucursal Este</th>\n",
       "      <td>2001</td>\n",
       "      <td>2002</td>\n",
       "      <td>2003</td>\n",
       "      <td>2004</td>\n",
       "    </tr>\n",
       "    <tr>\n",
       "      <th>Sucursal Oeste</th>\n",
       "      <td>3001</td>\n",
       "      <td>3002</td>\n",
       "      <td>3003</td>\n",
       "      <td>3004</td>\n",
       "    </tr>\n",
       "    <tr>\n",
       "      <th>Sucursal Sur</th>\n",
       "      <td>4001</td>\n",
       "      <td>4002</td>\n",
       "      <td>4003</td>\n",
       "      <td>4004</td>\n",
       "    </tr>\n",
       "  </tbody>\n",
       "</table>\n",
       "</div>"
      ],
      "text/plain": [
       "                  T1    T2    T3    T4\n",
       "Sucursal Norte  1001  1002  1003  1004\n",
       "Sucursal Este   2001  2002  2003  2004\n",
       "Sucursal Oeste  3001  3002  3003  3004\n",
       "Sucursal Sur    4001  4002  4003  4004"
      ]
     },
     "execution_count": 14,
     "metadata": {},
     "output_type": "execute_result"
    }
   ],
   "source": [
    "ventas = pd.read_csv(\"../datos/ventas_sin_encabezado.csv\", \n",
    "                     index_col=0, \n",
    "                     header=None, \n",
    "                     names=[\"T1\", \"T2\", \"T3\", \"T4\"])\n",
    "ventas"
   ]
  },
  {
   "cell_type": "code",
   "execution_count": 18,
   "id": "e6359ec4-a4bf-48cd-8e62-c8abd73ad782",
   "metadata": {},
   "outputs": [
    {
     "data": {
      "text/html": [
       "<div>\n",
       "<style scoped>\n",
       "    .dataframe tbody tr th:only-of-type {\n",
       "        vertical-align: middle;\n",
       "    }\n",
       "\n",
       "    .dataframe tbody tr th {\n",
       "        vertical-align: top;\n",
       "    }\n",
       "\n",
       "    .dataframe thead th {\n",
       "        text-align: right;\n",
       "    }\n",
       "</style>\n",
       "<table border=\"1\" class=\"dataframe\">\n",
       "  <thead>\n",
       "    <tr style=\"text-align: right;\">\n",
       "      <th></th>\n",
       "      <th>Trimestre 1</th>\n",
       "      <th>Trimestre 2</th>\n",
       "      <th>Trimestre 3</th>\n",
       "      <th>Trimestre 4</th>\n",
       "    </tr>\n",
       "  </thead>\n",
       "  <tbody>\n",
       "    <tr>\n",
       "      <th>Sucursal Norte</th>\n",
       "      <td>1001</td>\n",
       "      <td>1002</td>\n",
       "      <td>1003</td>\n",
       "      <td>1004</td>\n",
       "    </tr>\n",
       "    <tr>\n",
       "      <th>Sucursal Este</th>\n",
       "      <td>2001</td>\n",
       "      <td>2002</td>\n",
       "      <td>2003</td>\n",
       "      <td>2004</td>\n",
       "    </tr>\n",
       "    <tr>\n",
       "      <th>Sucursal Oeste</th>\n",
       "      <td>3001</td>\n",
       "      <td>3002</td>\n",
       "      <td>3003</td>\n",
       "      <td>3004</td>\n",
       "    </tr>\n",
       "    <tr>\n",
       "      <th>Sucursal Sur</th>\n",
       "      <td>4001</td>\n",
       "      <td>4002</td>\n",
       "      <td>4003</td>\n",
       "      <td>4004</td>\n",
       "    </tr>\n",
       "  </tbody>\n",
       "</table>\n",
       "</div>"
      ],
      "text/plain": [
       "                Trimestre 1  Trimestre 2  Trimestre 3  Trimestre 4\n",
       "Sucursal Norte         1001         1002         1003         1004\n",
       "Sucursal Este          2001         2002         2003         2004\n",
       "Sucursal Oeste         3001         3002         3003         3004\n",
       "Sucursal Sur           4001         4002         4003         4004"
      ]
     },
     "execution_count": 18,
     "metadata": {},
     "output_type": "execute_result"
    }
   ],
   "source": [
    "ventas = pd.read_csv(\"../datos/ventas_con_basura.csv\", \n",
    "                     index_col=0,\n",
    "                     skiprows=1,\n",
    "                     skipfooter=1,\n",
    "                     engine=\"python\")\n",
    "ventas"
   ]
  },
  {
   "cell_type": "markdown",
   "id": "4282410b-5774-44db-b0bf-be7eb1877740",
   "metadata": {},
   "source": [
    "## Cargar desde Excel"
   ]
  },
  {
   "cell_type": "code",
   "execution_count": 21,
   "id": "78c48357-7fb8-4be5-9570-9ca5701b1b30",
   "metadata": {},
   "outputs": [
    {
     "data": {
      "text/plain": [
       "{'2020':                 Trimestre 1  Trimestre 2  Trimestre 3  Trimestre 4\n",
       " Sucursal Norte         1001         1002         1003         1004\n",
       " Sucursal Este          2001         2002         2003         2004\n",
       " Sucursal Oeste         3001         3002         3003         3004\n",
       " Sucursal Sur           4001         4002         4003         4004,\n",
       " '2021':                 Trimestre 1  Trimestre 2  Trimestre 3  Trimestre 4\n",
       " Sucursal Norte         2001         2002         2003         2004\n",
       " Sucursal Este          4001         4002         4003         4004\n",
       " Sucursal Oeste         6001         6002         6003         6004\n",
       " Sucursal Sur           8001         8002         8003         8004}"
      ]
     },
     "execution_count": 21,
     "metadata": {},
     "output_type": "execute_result"
    }
   ],
   "source": [
    "ventas_anuales = pd.read_excel(\"../datos/ventas_anuales.xlsx\",\n",
    "                              index_col=0,\n",
    "                              skiprows=1,\n",
    "                              sheet_name=None) # carga todas las pestañas\n",
    "ventas_anuales # cada pestaña se carga, y esto termina siendo un diccionario de Dataframes"
   ]
  },
  {
   "cell_type": "code",
   "execution_count": 23,
   "id": "5f05cc78-cb3c-4734-9f81-a96858296dae",
   "metadata": {},
   "outputs": [
    {
     "data": {
      "text/plain": [
       "pandas.core.frame.DataFrame"
      ]
     },
     "execution_count": 23,
     "metadata": {},
     "output_type": "execute_result"
    }
   ],
   "source": [
    "type(ventas_anuales[\"2020\"]) # veo el dataframe que era de la primer pestaña"
   ]
  },
  {
   "cell_type": "code",
   "execution_count": null,
   "id": "2bef8147-991b-46b6-97dc-2bb9655952f6",
   "metadata": {},
   "outputs": [],
   "source": []
  }
 ],
 "metadata": {
  "kernelspec": {
   "display_name": "Python 3 (ipykernel)",
   "language": "python",
   "name": "python3"
  },
  "language_info": {
   "codemirror_mode": {
    "name": "ipython",
    "version": 3
   },
   "file_extension": ".py",
   "mimetype": "text/x-python",
   "name": "python",
   "nbconvert_exporter": "python",
   "pygments_lexer": "ipython3",
   "version": "3.12.0"
  }
 },
 "nbformat": 4,
 "nbformat_minor": 5
}
